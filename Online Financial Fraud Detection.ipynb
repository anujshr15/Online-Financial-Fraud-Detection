{
 "cells": [
  {
   "cell_type": "code",
   "execution_count": 1,
   "metadata": {},
   "outputs": [],
   "source": [
    "import numpy as np\n",
    "import pandas as pd\n",
    "\n",
    "from imblearn.under_sampling import RandomUnderSampler\n",
    "from sklearn.svm import SVC \n",
    "from sklearn.naive_bayes import GaussianNB \n",
    "from sklearn import tree\n",
    "from sklearn.model_selection import cross_val_score\n",
    "from sklearn.neighbors import KNeighborsClassifier\n",
    "from sklearn.linear_model import LogisticRegression\n",
    "from sklearn.ensemble import VotingClassifier\n",
    "from sklearn.ensemble import RandomForestClassifier\n",
    "from sklearn import metrics\n",
    "from collections import Counter\n",
    "from sklearn.model_selection import train_test_split\n",
    "from sklearn.preprocessing import RobustScaler,StandardScaler\n",
    "from imblearn.over_sampling import RandomOverSampler\n",
    "from mlxtend.feature_selection import SequentialFeatureSelector as sfs\n",
    "from sklearn.feature_selection import SelectKBest\n",
    "from sklearn.feature_selection import f_classif"
   ]
  },
  {
   "cell_type": "code",
   "execution_count": 2,
   "metadata": {},
   "outputs": [
    {
     "name": "stdout",
     "output_type": "stream",
     "text": [
      "percentage of fraudulent data instances: 0.1727485630620034\n",
      "percentage of normal data instances: 99.827251436938\n",
      "(227845, 30) (227845,)\n",
      "0    227451\n",
      "1       394\n",
      "Name: Class, dtype: int64\n"
     ]
    }
   ],
   "source": [
    "data = pd.read_csv(\"creditcard.csv\")\n",
    "\n",
    "data.head()\n",
    "\n",
    "data['Class'].value_counts()\n",
    "\n",
    "len(data['Class'])\n",
    "\n",
    "print(\"percentage of fraudulent data instances: {}\".format(data['Class'].value_counts()[1] *100 /len(data['Class'])))\n",
    "print(\"percentage of normal data instances: {}\".format(data['Class'].value_counts()[0] *100 /len(data['Class'])))\n",
    "\n",
    "# Rescaling the data\n",
    "\n",
    "\n",
    "\n",
    "rs = RobustScaler()\n",
    "\n",
    "data['scaled_amount'] = rs.fit_transform(data['Amount'].values.reshape(-1, 1))\n",
    "data['scaled_time'] = rs.fit_transform(data['Time'].values.reshape(-1, 1))\n",
    "\n",
    "data.drop(['Amount', 'Time'], axis = 1, inplace = True)\n",
    "\n",
    "\n",
    "# from sklearn.linear_model import LogisticRegression\n",
    "\n",
    "X = data.drop(['Class'], axis = 1)\n",
    "y = data['Class']\n",
    "\n",
    "X_train, X_test, y_train, y_test = train_test_split(X, y, test_size = 0.20, random_state = 0, \n",
    "                                                    stratify = y)\n",
    "\n",
    "print(X_train.shape, y_train.shape)\n",
    "print(y_train.value_counts())\n",
    "\n"
   ]
  },
  {
   "cell_type": "code",
   "execution_count": 2,
   "metadata": {},
   "outputs": [],
   "source": [
    "all_results=[]\n",
    "all_dataset=dict()"
   ]
  },
  {
   "cell_type": "code",
   "execution_count": 3,
   "metadata": {},
   "outputs": [],
   "source": [
    " def training_testing_function(X,y,name):\n",
    "        \n",
    "        #removing highly correlated features\n",
    "        corr = X.corr()\n",
    "        columns = np.full((corr.shape[0],), True, dtype=bool)\n",
    "        for i in range(corr.shape[0]):\n",
    "            for j in range(i+1, corr.shape[0]):\n",
    "                if corr.iloc[i,j] >= 0.8:\n",
    "                    if columns[j]:\n",
    "                        columns[j] = False\n",
    "        selected_columns = X.columns[columns]\n",
    "        X1 = X[selected_columns]\n",
    "        \n",
    "         # Train KNeighborsClassifier Model\n",
    "        KNN_Classifier = KNeighborsClassifier(n_jobs=-1)\n",
    "        \n",
    "        # Train LogisticRegression Model\n",
    "        LGR_Classifier = LogisticRegression(multi_class='auto', random_state=1,solver='lbfgs',max_iter=400)\n",
    "\n",
    "        # Train Gaussian Naive Baye Model\n",
    "        GNB_Classifier = GaussianNB()\n",
    "\n",
    "        # Train Decision Tree Model\n",
    "        DTC_Classifier = tree.DecisionTreeClassifier(criterion='entropy', random_state=0)\n",
    "        # DTC_Classifier.fit(X_train_random_oversampled, y_train_random_oversampled.values.ravel());\n",
    "\n",
    "        ## Train Ensemble Model (This method combines all the individual models above except RandomForest)\n",
    "        combined_model = [('Naive Baye Classifier', GNB_Classifier), \n",
    "                         ('Decision Tree Classifier', DTC_Classifier), \n",
    "                         ('KNeighborsClassifier', KNN_Classifier), \n",
    "                         ('LogisticRegression', LGR_Classifier)\n",
    "                        ]\n",
    "        VC =  VotingClassifier(estimators = combined_model,voting = 'soft')\n",
    "        VC.fit(X1, y.values.ravel());\n",
    "\n",
    "        models = []\n",
    "        models.append(('VotingClassifier', VC))\n",
    "\n",
    "        for i, v in models:\n",
    "            accuracy = metrics.accuracy_score(y_test.values.ravel(), v.predict(X_test[selected_columns]))\n",
    "    #         confusion_matrix = metrics.confusion_matrix(y_test.values.ravel(), v.predict(X_test[final_features]))\n",
    "    #         classification = metrics.classification_report(y_test.values.ravel(), v.predict(X_test[final_features]))\n",
    "            f1 = metrics.f1_score(y_test.values.ravel(),v.predict(X_test[selected_columns]))\n",
    "            auc_score = metrics.roc_auc_score(y_test.values.ravel(),v.predict(X_test[selected_columns]))\n",
    "            \n",
    "            all_results.append((name+str(\" RCF\"),accuracy,f1,auc_score)) #RCF = Removing correlated features\n",
    "            print(\"{} Completed\".format(name + str(\" RCF\")))\n",
    "        \n",
    "        \n",
    "        \n",
    "        \n",
    "      \n",
    "\n",
    "        rfc = RandomForestClassifier();\n",
    "\n",
    "        # fit random forest classifier on the training set\n",
    "        rfc.fit(X, y.values.ravel());\n",
    "        # extract important features\n",
    "        score = np.round(rfc.feature_importances_,3)\n",
    "\n",
    "        importances = pd.DataFrame({'feature':X.columns,'importance':score})\n",
    "        importances = importances.sort_values('importance',ascending=False).set_index('feature')\n",
    "\n",
    "        min_features=min(len(importances),20)\n",
    "        \n",
    "        final_features=list(importances[:20].index)\n",
    "\n",
    "        X2=X[final_features]\n",
    "\n",
    "        # Train KNeighborsClassifier Model\n",
    "        KNN_Classifier = KNeighborsClassifier(n_jobs=-1)\n",
    "        # KNN_Classifier.fit(X_train_random_oversampled, y_train_random_oversampled.values.ravel()); \n",
    "\n",
    "        # Train LogisticRegression Model\n",
    "        LGR_Classifier = LogisticRegression(multi_class='auto', random_state=1,solver='lbfgs',max_iter=400)\n",
    "        # LGR_Classifier.fit(X_train_random_oversampled, y_train_random_oversampled.values.ravel());\n",
    "\n",
    "        # Train Gaussian Naive Baye Model\n",
    "        GNB_Classifier = GaussianNB()\n",
    "        # GNB_Classifier.fit(X_train_random_oversampled, y_train_random_oversampled.values.ravel())\n",
    "\n",
    "        # Train Decision Tree Model\n",
    "        DTC_Classifier = tree.DecisionTreeClassifier(criterion='entropy', random_state=0)\n",
    "        # DTC_Classifier.fit(X_train_random_oversampled, y_train_random_oversampled.values.ravel());\n",
    "\n",
    "        ## Train Ensemble Model (This method combines all the individual models above except RandomForest)\n",
    "        combined_model = [('Naive Baye Classifier', GNB_Classifier), \n",
    "                         ('Decision Tree Classifier', DTC_Classifier), \n",
    "                         ('KNeighborsClassifier', KNN_Classifier), \n",
    "                         ('LogisticRegression', LGR_Classifier)\n",
    "                        ]\n",
    "        VC =  VotingClassifier(estimators = combined_model,voting = 'soft')\n",
    "        VC.fit(X2, y.values.ravel());\n",
    "\n",
    "        models = []\n",
    "\n",
    "        models.append(('VotingClassifier', VC))\n",
    "\n",
    "        for i, v in models:\n",
    "            accuracy = metrics.accuracy_score(y_test.values.ravel(), v.predict(X_test[final_features]))\n",
    "    #         confusion_matrix = metrics.confusion_matrix(y_test.values.ravel(), v.predict(X_test[final_features]))\n",
    "    #         classification = metrics.classification_report(y_test.values.ravel(), v.predict(X_test[final_features]))\n",
    "            f1 = metrics.f1_score(y_test.values.ravel(),v.predict(X_test[final_features]))\n",
    "            auc_score = metrics.roc_auc_score(y_test.values.ravel(),v.predict(X_test[final_features]))\n",
    "        \n",
    "            all_results.append((name+str(\" Random Forest  Selection\"),accuracy,f1,auc_score))\n",
    "            print(\"{} Completed\".format(name+str(\" Random Forest Selection\")))\n",
    "    #         print('============================== {} Model Test Results =============================='.format(i))\n",
    "    #         print()\n",
    "    #         print (\"Model Accuracy:\" \"\\n\", accuracy)\n",
    "    #         print()\n",
    "    #         print(\"Confusion matrix:\" \"\\n\", confusion_matrix)\n",
    "    #         print()\n",
    "    #         print(\"Classification report:\" \"\\n\", classification) \n",
    "    #         print()     \n",
    "        \n",
    "#         clf = RandomForestClassifier(n_estimators=100, n_jobs=-1)\n",
    "\n",
    "#         # Build step forward feature selection\n",
    "#         sfs1 = sfs(clf,\n",
    "#            k_features=5,\n",
    "#            forward=True,\n",
    "#            floating=False,\n",
    "#            verbose=2,\n",
    "#            scoring='f1',\n",
    "#            cv=5)\n",
    "\n",
    "#         # Perform SFFS\n",
    "#         sfs1 = sfs1.fit(X, y.values.ravel())\n",
    "        \n",
    "#         feat_cols = np.array(sfs1.k_feature_idx_) - 1\n",
    "        fs = SelectKBest(score_func=f_classif, k=5)\n",
    "        # apply feature selection\n",
    "        X3 = fs.fit_transform(X, y)\n",
    "        \n",
    "        X3_test = fs.transform(X_test)\n",
    "\n",
    "                  \n",
    "     # Train KNeighborsClassifier Model\n",
    "        KNN_Classifier = KNeighborsClassifier(n_jobs=-1)\n",
    "        # KNN_Classifier.fit(X_train_random_oversampled, y_train_random_oversampled.values.ravel()); \n",
    "\n",
    "        # Train LogisticRegression Model\n",
    "        LGR_Classifier = LogisticRegression(multi_class='auto', random_state=1,solver='lbfgs',max_iter=400)\n",
    "        # LGR_Classifier.fit(X_train_random_oversampled, y_train_random_oversampled.values.ravel());\n",
    "\n",
    "        # Train Gaussian Naive Baye Model\n",
    "        GNB_Classifier = GaussianNB()\n",
    "        # GNB_Classifier.fit(X_train_random_oversampled, y_train_random_oversampled.values.ravel())\n",
    "\n",
    "        # Train Decision Tree Model\n",
    "        DTC_Classifier = tree.DecisionTreeClassifier(criterion='entropy', random_state=0)\n",
    "        # DTC_Classifier.fit(X_train_random_oversampled, y_train_random_oversampled.values.ravel());\n",
    "\n",
    "        ## Train Ensemble Model (This method combines all the individual models above except RandomForest)\n",
    "        combined_model = [('Naive Baye Classifier', GNB_Classifier), \n",
    "                         ('Decision Tree Classifier', DTC_Classifier), \n",
    "                         ('KNeighborsClassifier', KNN_Classifier), \n",
    "                         ('LogisticRegression', LGR_Classifier)\n",
    "                        ]\n",
    "        VC =  VotingClassifier(estimators = combined_model,voting = 'soft')\n",
    "        VC.fit(X3, y.values.ravel());\n",
    "\n",
    "        models = []\n",
    "\n",
    "        models.append(('VotingClassifier', VC))\n",
    "\n",
    "        for i, v in models:\n",
    "            accuracy = metrics.accuracy_score(y_test.values.ravel(), v.predict(X3_test))\n",
    "    #         confusion_matrix = metrics.confusion_matrix(y_test.values.ravel(), v.predict(X_test[final_features]))\n",
    "    #         classification = metrics.classification_report(y_test.values.ravel(), v.predict(X_test[final_features]))\n",
    "            f1 = metrics.f1_score(y_test.values.ravel(),v.predict(X3_test))\n",
    "            auc_score = metrics.roc_auc_score(y_test.values.ravel(),v.predict(X3_test))\n",
    "        \n",
    "            all_results.append((name+str(\" Forward feature selection\"),accuracy,f1,auc_score))\n",
    "            print(\"{} Completed\".format(name+str(\" Forward feature selection\")))\n",
    "    #         print('============================== {} Model Test Results =============================='.format(i))\n",
    "    #         print()\n",
    "    #         print (\"Model Accuracy:\" \"\\n\", accuracy)\n",
    "    #         print()\n",
    "    #         print(\"Confusion matrix:\" \"\\n\", confusion_matrix)\n",
    "    #         print()\n",
    "    #         print(\"Classification report:\" \"\\n\", classification) \n",
    "    #         print()     \n",
    "            \n",
    "\n",
    "\n",
    "\n",
    "\n"
   ]
  },
  {
   "cell_type": "markdown",
   "metadata": {},
   "source": [
    "#### 1. Random Undersample"
   ]
  },
  {
   "cell_type": "code",
   "execution_count": 34,
   "metadata": {},
   "outputs": [
    {
     "name": "stdout",
     "output_type": "stream",
     "text": [
      "Counter({0: 394, 1: 394})\n"
     ]
    }
   ],
   "source": [
    "undersample = RandomUnderSampler(sampling_strategy='majority')\n",
    "# fit and apply the transform\n",
    "all_dataset[\"X_train_undersample\"], all_dataset[\"y_train_undersample\"] = undersample.fit_resample(X_train, y_train)\n",
    "# summarize class distribution\n",
    "print(Counter(all_dataset[\"y_train_undersample\"]))"
   ]
  },
  {
   "cell_type": "code",
   "execution_count": 35,
   "metadata": {},
   "outputs": [
    {
     "name": "stdout",
     "output_type": "stream",
     "text": [
      "Random Undersample RCF Completed\n",
      "Random Undersample Random Forest Selection Completed\n"
     ]
    },
    {
     "name": "stderr",
     "output_type": "stream",
     "text": [
      "[Parallel(n_jobs=1)]: Using backend SequentialBackend with 1 concurrent workers.\n",
      "[Parallel(n_jobs=1)]: Done   1 out of   1 | elapsed:    1.3s remaining:    0.0s\n",
      "[Parallel(n_jobs=1)]: Done  30 out of  30 | elapsed:   40.1s finished\n",
      "\n",
      "[2021-03-23 12:36:49] Features: 1/5 -- score: 0.871118295201924[Parallel(n_jobs=1)]: Using backend SequentialBackend with 1 concurrent workers.\n",
      "[Parallel(n_jobs=1)]: Done   1 out of   1 | elapsed:    1.2s remaining:    0.0s\n",
      "[Parallel(n_jobs=1)]: Done  29 out of  29 | elapsed:   37.4s finished\n",
      "\n",
      "[2021-03-23 12:37:26] Features: 2/5 -- score: 0.9229159825883422[Parallel(n_jobs=1)]: Using backend SequentialBackend with 1 concurrent workers.\n",
      "[Parallel(n_jobs=1)]: Done   1 out of   1 | elapsed:    1.2s remaining:    0.0s\n",
      "[Parallel(n_jobs=1)]: Done  28 out of  28 | elapsed:   36.6s finished\n",
      "\n",
      "[2021-03-23 12:38:03] Features: 3/5 -- score: 0.9319451559996944[Parallel(n_jobs=1)]: Using backend SequentialBackend with 1 concurrent workers.\n",
      "[Parallel(n_jobs=1)]: Done   1 out of   1 | elapsed:    1.3s remaining:    0.0s\n",
      "[Parallel(n_jobs=1)]: Done  27 out of  27 | elapsed:   35.9s finished\n",
      "\n",
      "[2021-03-23 12:38:39] Features: 4/5 -- score: 0.9349434369804897[Parallel(n_jobs=1)]: Using backend SequentialBackend with 1 concurrent workers.\n",
      "[Parallel(n_jobs=1)]: Done   1 out of   1 | elapsed:    1.2s remaining:    0.0s\n",
      "[Parallel(n_jobs=1)]: Done  26 out of  26 | elapsed:   34.8s finished\n",
      "\n",
      "[2021-03-23 12:39:14] Features: 5/5 -- score: 0.9387910651440062"
     ]
    },
    {
     "name": "stdout",
     "output_type": "stream",
     "text": [
      "Random Undersample Forward feature selection Completed\n"
     ]
    }
   ],
   "source": [
    "training_testing_function(all_dataset[\"X_train_undersample\"],all_dataset[\"y_train_undersample\"],\"Random Undersample\")"
   ]
  },
  {
   "cell_type": "code",
   "execution_count": 47,
   "metadata": {},
   "outputs": [
    {
     "data": {
      "text/plain": [
       "[('Random Undersample RCF',\n",
       "  0.9735086548927355,\n",
       "  0.1001788908765653,\n",
       "  0.9154260290216255),\n",
       " ('Random Undersample Random Forest  Selection',\n",
       "  0.9836031038236017,\n",
       "  0.1539855072463768,\n",
       "  0.9255751998323245),\n",
       " ('Random Undersample Forward feature selection',\n",
       "  0.9614128717390541,\n",
       "  0.06785411365564037,\n",
       "  0.8889947228187842),\n",
       " ('IHT RCF', 0.9990344440153085, 0.7417840375586854, 0.9027446797514729),\n",
       " ('IHT Random Forest  Selection',\n",
       "  0.9989291106351603,\n",
       "  0.7214611872146119,\n",
       "  0.9026919222950857),\n",
       " ('IHT Forward feature selection',\n",
       "  0.9988588883817282,\n",
       "  0.5962732919254659,\n",
       "  0.7447660655427055),\n",
       " ('IHT RCF', 0.9990344440153085, 0.7417840375586854, 0.9027446797514729),\n",
       " ('IHT Random Forest  Selection',\n",
       "  0.9990168884519505,\n",
       "  0.7383177570093458,\n",
       "  0.9027358868420752),\n",
       " ('IHT Forward feature selection',\n",
       "  0.9987711105649381,\n",
       "  0.5454545454545454,\n",
       "  0.7141626135541442)]"
      ]
     },
     "execution_count": 47,
     "metadata": {},
     "output_type": "execute_result"
    }
   ],
   "source": [
    "all_results"
   ]
  },
  {
   "cell_type": "markdown",
   "metadata": {},
   "source": [
    "#### 2. Instance Hardness Threshold"
   ]
  },
  {
   "cell_type": "code",
   "execution_count": 43,
   "metadata": {},
   "outputs": [],
   "source": [
    "from imblearn.under_sampling import InstanceHardnessThreshold"
   ]
  },
  {
   "cell_type": "code",
   "execution_count": 62,
   "metadata": {},
   "outputs": [
    {
     "name": "stdout",
     "output_type": "stream",
     "text": [
      "Resampled dataset shape Counter({0: 222288, 1: 394})\n"
     ]
    }
   ],
   "source": [
    "iht = InstanceHardnessThreshold(sampling_strategy='majority', random_state=42)\n",
    "all_dataset[\"X_train_res\"], all_dataset[\"y_train_res\"] = iht.fit_resample(X_train, y_train)\n",
    "print('Resampled dataset shape %s' % Counter(all_dataset[\"y_train_res\"]))"
   ]
  },
  {
   "cell_type": "code",
   "execution_count": 63,
   "metadata": {},
   "outputs": [
    {
     "name": "stdout",
     "output_type": "stream",
     "text": [
      "IHT RCF Completed\n",
      "IHT Random Forest Selection Completed\n",
      "IHT Forward feature selection Completed\n"
     ]
    }
   ],
   "source": [
    "training_testing_function(all_dataset[\"X_train_res\"],all_dataset[\"y_train_res\"],\"IHT\")"
   ]
  },
  {
   "cell_type": "code",
   "execution_count": 64,
   "metadata": {},
   "outputs": [
    {
     "data": {
      "text/plain": [
       "[('IHT RCF', 0.9990344440153085, 0.7417840375586854, 0.9027446797514729),\n",
       " ('IHT Random Forest  Selection',\n",
       "  0.9990344440153085,\n",
       "  0.7417840375586854,\n",
       "  0.9027446797514729),\n",
       " ('IHT Forward feature selection',\n",
       "  0.9991046662687406,\n",
       "  0.7582938388625592,\n",
       "  0.907873099295993)]"
      ]
     },
     "execution_count": 64,
     "metadata": {},
     "output_type": "execute_result"
    }
   ],
   "source": [
    "all_results"
   ]
  },
  {
   "cell_type": "markdown",
   "metadata": {},
   "source": [
    "#### 3. Cluster Centroid"
   ]
  },
  {
   "cell_type": "code",
   "execution_count": 5,
   "metadata": {},
   "outputs": [],
   "source": [
    "from imblearn.under_sampling import ClusterCentroids"
   ]
  },
  {
   "cell_type": "code",
   "execution_count": 6,
   "metadata": {},
   "outputs": [],
   "source": [
    "all_dataset[\"X_cluster_centroids\"],all_dataset[\"y_cluster_centroids\"]  = ClusterCentroids().fit_resample(X_train,y_train)"
   ]
  },
  {
   "cell_type": "code",
   "execution_count": 7,
   "metadata": {},
   "outputs": [
    {
     "name": "stdout",
     "output_type": "stream",
     "text": [
      "Cluster centroids RCF Completed\n",
      "Cluster centroids Random Forest Selection Completed\n",
      "Cluster centroids Forward feature selection Completed\n"
     ]
    }
   ],
   "source": [
    "training_testing_function(all_dataset[\"X_cluster_centroids\"],all_dataset[\"y_cluster_centroids\"],\"Cluster centroids\")"
   ]
  },
  {
   "cell_type": "code",
   "execution_count": 8,
   "metadata": {},
   "outputs": [
    {
     "data": {
      "text/plain": [
       "[('Cluster centroids RCF',\n",
       "  0.9212984094659598,\n",
       "  0.036949516648764766,\n",
       "  0.8994624122862425),\n",
       " ('Cluster centroids Random Forest  Selection',\n",
       "  0.9923106632491837,\n",
       "  0.2819672131147541,\n",
       "  0.9350297308005926),\n",
       " ('Cluster centroids Forward feature selection',\n",
       "  0.9918015519118009,\n",
       "  0.26917057902973396,\n",
       "  0.9347747364280545)]"
      ]
     },
     "execution_count": 8,
     "metadata": {},
     "output_type": "execute_result"
    }
   ],
   "source": [
    "all_results"
   ]
  },
  {
   "cell_type": "markdown",
   "metadata": {},
   "source": [
    "#### 4. Near Miss"
   ]
  },
  {
   "cell_type": "code",
   "execution_count": 9,
   "metadata": {},
   "outputs": [],
   "source": [
    "from imblearn.under_sampling import NearMiss"
   ]
  },
  {
   "cell_type": "code",
   "execution_count": 10,
   "metadata": {},
   "outputs": [
    {
     "name": "stdout",
     "output_type": "stream",
     "text": [
      "Near Miss RCF Completed\n",
      "Near Miss Random Forest Selection Completed\n",
      "Near Miss Forward feature selection Completed\n"
     ]
    }
   ],
   "source": [
    "all_dataset['X_near_miss'],all_dataset['y_near_miss'] = NearMiss().fit_resample(X_train,y_train)\n",
    "training_testing_function(all_dataset['X_near_miss'],all_dataset['y_near_miss'],\"Near Miss\")"
   ]
  },
  {
   "cell_type": "code",
   "execution_count": 11,
   "metadata": {},
   "outputs": [
    {
     "data": {
      "text/plain": [
       "[('Cluster centroids RCF',\n",
       "  0.9212984094659598,\n",
       "  0.036949516648764766,\n",
       "  0.8994624122862425),\n",
       " ('Cluster centroids Random Forest  Selection',\n",
       "  0.9923106632491837,\n",
       "  0.2819672131147541,\n",
       "  0.9350297308005926),\n",
       " ('Cluster centroids Forward feature selection',\n",
       "  0.9918015519118009,\n",
       "  0.26917057902973396,\n",
       "  0.9347747364280545),\n",
       " ('Near Miss RCF',\n",
       "  0.5980653769179453,\n",
       "  0.007456539645380847,\n",
       "  0.7375673644528155),\n",
       " ('Near Miss Random Forest  Selection',\n",
       "  0.6635300726800323,\n",
       "  0.008996897621509825,\n",
       "  0.7754493715043699),\n",
       " ('Near Miss Forward feature selection',\n",
       "  0.6825778589234929,\n",
       "  0.009857072449482503,\n",
       "  0.8002694219218356)]"
      ]
     },
     "execution_count": 11,
     "metadata": {},
     "output_type": "execute_result"
    }
   ],
   "source": [
    "all_results"
   ]
  },
  {
   "cell_type": "markdown",
   "metadata": {},
   "source": [
    "#### 5. One Sided Selection"
   ]
  },
  {
   "cell_type": "code",
   "execution_count": 12,
   "metadata": {},
   "outputs": [],
   "source": [
    "from imblearn.under_sampling import OneSidedSelection"
   ]
  },
  {
   "cell_type": "code",
   "execution_count": 13,
   "metadata": {},
   "outputs": [
    {
     "name": "stdout",
     "output_type": "stream",
     "text": [
      "One Sided Selection RCF Completed\n",
      "One Sided Selection Random Forest Selection Completed\n",
      "One Sided Selection Forward feature selection Completed\n"
     ]
    }
   ],
   "source": [
    "all_dataset['X_one_sided_selection'],all_dataset['y_one_sided_selection'] = OneSidedSelection().fit_resample(X_train,y_train)\n",
    "training_testing_function(all_dataset['X_one_sided_selection'],all_dataset['y_one_sided_selection'],\"One Sided Selection\")"
   ]
  },
  {
   "cell_type": "code",
   "execution_count": 14,
   "metadata": {},
   "outputs": [
    {
     "data": {
      "text/plain": [
       "[('Cluster centroids RCF',\n",
       "  0.9212984094659598,\n",
       "  0.036949516648764766,\n",
       "  0.8994624122862425),\n",
       " ('Cluster centroids Random Forest  Selection',\n",
       "  0.9923106632491837,\n",
       "  0.2819672131147541,\n",
       "  0.9350297308005926),\n",
       " ('Cluster centroids Forward feature selection',\n",
       "  0.9918015519118009,\n",
       "  0.26917057902973396,\n",
       "  0.9347747364280545),\n",
       " ('Near Miss RCF',\n",
       "  0.5980653769179453,\n",
       "  0.007456539645380847,\n",
       "  0.7375673644528155),\n",
       " ('Near Miss Random Forest  Selection',\n",
       "  0.6635300726800323,\n",
       "  0.008996897621509825,\n",
       "  0.7754493715043699),\n",
       " ('Near Miss Forward feature selection',\n",
       "  0.6825778589234929,\n",
       "  0.009857072449482503,\n",
       "  0.8002694219218356),\n",
       " ('One Sided Selection RCF',\n",
       "  0.9993679997191109,\n",
       "  0.8085106382978723,\n",
       "  0.8876320013092462),\n",
       " ('One Sided Selection Random Forest  Selection',\n",
       "  0.9993153330290369,\n",
       "  0.7914438502673796,\n",
       "  0.8774191267671952),\n",
       " ('One Sided Selection Forward feature selection',\n",
       "  0.9993679997191109,\n",
       "  0.8064516129032258,\n",
       "  0.8825387534023176)]"
      ]
     },
     "execution_count": 14,
     "metadata": {},
     "output_type": "execute_result"
    }
   ],
   "source": [
    "all_results"
   ]
  },
  {
   "cell_type": "markdown",
   "metadata": {},
   "source": [
    "#### 6. Tomek Links"
   ]
  },
  {
   "cell_type": "code",
   "execution_count": 15,
   "metadata": {},
   "outputs": [],
   "source": [
    "from imblearn.under_sampling import TomekLinks"
   ]
  },
  {
   "cell_type": "code",
   "execution_count": 16,
   "metadata": {},
   "outputs": [],
   "source": [
    "all_dataset['X_tomek_links'],all_dataset['y_tomek_links'] = TomekLinks().fit_resample(X_train,y_train)\n"
   ]
  },
  {
   "cell_type": "code",
   "execution_count": 17,
   "metadata": {},
   "outputs": [
    {
     "name": "stdout",
     "output_type": "stream",
     "text": [
      "Tomek Links RCF Completed\n",
      "Tomek Links Random Forest Selection Completed\n",
      "Tomek Links Forward feature selection Completed\n"
     ]
    }
   ],
   "source": [
    "training_testing_function(all_dataset['X_tomek_links'],all_dataset['y_tomek_links'],\"Tomek Links\")"
   ]
  },
  {
   "cell_type": "code",
   "execution_count": 18,
   "metadata": {},
   "outputs": [
    {
     "data": {
      "text/plain": [
       "[('Cluster centroids RCF',\n",
       "  0.9212984094659598,\n",
       "  0.036949516648764766,\n",
       "  0.8994624122862425),\n",
       " ('Cluster centroids Random Forest  Selection',\n",
       "  0.9923106632491837,\n",
       "  0.2819672131147541,\n",
       "  0.9350297308005926),\n",
       " ('Cluster centroids Forward feature selection',\n",
       "  0.9918015519118009,\n",
       "  0.26917057902973396,\n",
       "  0.9347747364280545),\n",
       " ('Near Miss RCF',\n",
       "  0.5980653769179453,\n",
       "  0.007456539645380847,\n",
       "  0.7375673644528155),\n",
       " ('Near Miss Random Forest  Selection',\n",
       "  0.6635300726800323,\n",
       "  0.008996897621509825,\n",
       "  0.7754493715043699),\n",
       " ('Near Miss Forward feature selection',\n",
       "  0.6825778589234929,\n",
       "  0.009857072449482503,\n",
       "  0.8002694219218356),\n",
       " ('One Sided Selection RCF',\n",
       "  0.9993679997191109,\n",
       "  0.8085106382978723,\n",
       "  0.8876320013092462),\n",
       " ('One Sided Selection Random Forest  Selection',\n",
       "  0.9993153330290369,\n",
       "  0.7914438502673796,\n",
       "  0.8774191267671952),\n",
       " ('One Sided Selection Forward feature selection',\n",
       "  0.9993679997191109,\n",
       "  0.8064516129032258,\n",
       "  0.8825387534023176),\n",
       " ('Tomek Links RCF',\n",
       "  0.9993679997191109,\n",
       "  0.8085106382978723,\n",
       "  0.8876320013092462),\n",
       " ('Tomek Links Random Forest  Selection',\n",
       "  0.9992802219023208,\n",
       "  0.783068783068783,\n",
       "  0.8774015409483996),\n",
       " ('Tomek Links Forward feature selection',\n",
       "  0.9993679997191109,\n",
       "  0.8064516129032258,\n",
       "  0.8825387534023176)]"
      ]
     },
     "execution_count": 18,
     "metadata": {},
     "output_type": "execute_result"
    }
   ],
   "source": [
    "all_results"
   ]
  },
  {
   "cell_type": "markdown",
   "metadata": {},
   "source": [
    "### Oversampling data"
   ]
  },
  {
   "cell_type": "markdown",
   "metadata": {},
   "source": [
    "#### 1. Random Oversampling"
   ]
  },
  {
   "cell_type": "code",
   "execution_count": 19,
   "metadata": {},
   "outputs": [
    {
     "name": "stdout",
     "output_type": "stream",
     "text": [
      "[(0, 227451), (1, 227451)]\n"
     ]
    }
   ],
   "source": [
    "ros = RandomOverSampler(random_state=0)\n",
    "all_dataset[\"X_train_random_oversampled\"], all_dataset[\"y_train_random_oversampled\"] = ros.fit_resample(X_train, y_train)\n",
    "from collections import Counter\n",
    "print(sorted(Counter(all_dataset[\"y_train_random_oversampled\"]).items()))"
   ]
  },
  {
   "cell_type": "code",
   "execution_count": 20,
   "metadata": {},
   "outputs": [
    {
     "name": "stdout",
     "output_type": "stream",
     "text": [
      "Random Oversampled RCF Completed\n",
      "Random Oversampled Random Forest Selection Completed\n",
      "Random Oversampled Forward feature selection Completed\n"
     ]
    }
   ],
   "source": [
    "training_testing_function(all_dataset[\"X_train_random_oversampled\"],all_dataset[\"y_train_random_oversampled\"],\"Random Oversampled\")"
   ]
  },
  {
   "cell_type": "code",
   "execution_count": 21,
   "metadata": {},
   "outputs": [
    {
     "data": {
      "text/plain": [
       "[('Cluster centroids RCF',\n",
       "  0.9212984094659598,\n",
       "  0.036949516648764766,\n",
       "  0.8994624122862425),\n",
       " ('Cluster centroids Random Forest  Selection',\n",
       "  0.9923106632491837,\n",
       "  0.2819672131147541,\n",
       "  0.9350297308005926),\n",
       " ('Cluster centroids Forward feature selection',\n",
       "  0.9918015519118009,\n",
       "  0.26917057902973396,\n",
       "  0.9347747364280545),\n",
       " ('Near Miss RCF',\n",
       "  0.5980653769179453,\n",
       "  0.007456539645380847,\n",
       "  0.7375673644528155),\n",
       " ('Near Miss Random Forest  Selection',\n",
       "  0.6635300726800323,\n",
       "  0.008996897621509825,\n",
       "  0.7754493715043699),\n",
       " ('Near Miss Forward feature selection',\n",
       "  0.6825778589234929,\n",
       "  0.009857072449482503,\n",
       "  0.8002694219218356),\n",
       " ('One Sided Selection RCF',\n",
       "  0.9993679997191109,\n",
       "  0.8085106382978723,\n",
       "  0.8876320013092462),\n",
       " ('One Sided Selection Random Forest  Selection',\n",
       "  0.9993153330290369,\n",
       "  0.7914438502673796,\n",
       "  0.8774191267671952),\n",
       " ('One Sided Selection Forward feature selection',\n",
       "  0.9993679997191109,\n",
       "  0.8064516129032258,\n",
       "  0.8825387534023176),\n",
       " ('Tomek Links RCF',\n",
       "  0.9993679997191109,\n",
       "  0.8085106382978723,\n",
       "  0.8876320013092462),\n",
       " ('Tomek Links Random Forest  Selection',\n",
       "  0.9992802219023208,\n",
       "  0.783068783068783,\n",
       "  0.8774015409483996),\n",
       " ('Tomek Links Forward feature selection',\n",
       "  0.9993679997191109,\n",
       "  0.8064516129032258,\n",
       "  0.8825387534023176),\n",
       " ('Random Oversampled RCF',\n",
       "  0.9991222218320986,\n",
       "  0.7395833333333335,\n",
       "  0.8620426610430328),\n",
       " ('Random Oversampled Random Forest  Selection',\n",
       "  0.9992802219023208,\n",
       "  0.7939698492462313,\n",
       "  0.902867780483043),\n",
       " ('Random Oversampled Forward feature selection',\n",
       "  0.9990519995786665,\n",
       "  0.7428571428571428,\n",
       "  0.8976602247539421)]"
      ]
     },
     "execution_count": 21,
     "metadata": {},
     "output_type": "execute_result"
    }
   ],
   "source": [
    "all_results"
   ]
  },
  {
   "cell_type": "markdown",
   "metadata": {},
   "source": [
    "#### 2. SMOTE"
   ]
  },
  {
   "cell_type": "code",
   "execution_count": 22,
   "metadata": {},
   "outputs": [
    {
     "name": "stdout",
     "output_type": "stream",
     "text": [
      "[(0, 227451), (1, 227451)]\n"
     ]
    }
   ],
   "source": [
    "from imblearn.over_sampling import SMOTE, ADASYN\n",
    "all_dataset[\"X_smote\"], all_dataset[\"y_smote\"] = SMOTE().fit_resample(X_train, y_train)\n",
    "print(sorted(Counter(all_dataset[\"y_smote\"]).items()))\n",
    "\n"
   ]
  },
  {
   "cell_type": "code",
   "execution_count": 23,
   "metadata": {},
   "outputs": [
    {
     "name": "stdout",
     "output_type": "stream",
     "text": [
      "SMOTE RCF Completed\n",
      "SMOTE Random Forest Selection Completed\n",
      "SMOTE Forward feature selection Completed\n"
     ]
    }
   ],
   "source": [
    "training_testing_function(all_dataset['X_smote'],all_dataset['y_smote'],\"SMOTE\")"
   ]
  },
  {
   "cell_type": "code",
   "execution_count": 24,
   "metadata": {},
   "outputs": [
    {
     "data": {
      "text/plain": [
       "[('Cluster centroids RCF',\n",
       "  0.9212984094659598,\n",
       "  0.036949516648764766,\n",
       "  0.8994624122862425),\n",
       " ('Cluster centroids Random Forest  Selection',\n",
       "  0.9923106632491837,\n",
       "  0.2819672131147541,\n",
       "  0.9350297308005926),\n",
       " ('Cluster centroids Forward feature selection',\n",
       "  0.9918015519118009,\n",
       "  0.26917057902973396,\n",
       "  0.9347747364280545),\n",
       " ('Near Miss RCF',\n",
       "  0.5980653769179453,\n",
       "  0.007456539645380847,\n",
       "  0.7375673644528155),\n",
       " ('Near Miss Random Forest  Selection',\n",
       "  0.6635300726800323,\n",
       "  0.008996897621509825,\n",
       "  0.7754493715043699),\n",
       " ('Near Miss Forward feature selection',\n",
       "  0.6825778589234929,\n",
       "  0.009857072449482503,\n",
       "  0.8002694219218356),\n",
       " ('One Sided Selection RCF',\n",
       "  0.9993679997191109,\n",
       "  0.8085106382978723,\n",
       "  0.8876320013092462),\n",
       " ('One Sided Selection Random Forest  Selection',\n",
       "  0.9993153330290369,\n",
       "  0.7914438502673796,\n",
       "  0.8774191267671952),\n",
       " ('One Sided Selection Forward feature selection',\n",
       "  0.9993679997191109,\n",
       "  0.8064516129032258,\n",
       "  0.8825387534023176),\n",
       " ('Tomek Links RCF',\n",
       "  0.9993679997191109,\n",
       "  0.8085106382978723,\n",
       "  0.8876320013092462),\n",
       " ('Tomek Links Random Forest  Selection',\n",
       "  0.9992802219023208,\n",
       "  0.783068783068783,\n",
       "  0.8774015409483996),\n",
       " ('Tomek Links Forward feature selection',\n",
       "  0.9993679997191109,\n",
       "  0.8064516129032258,\n",
       "  0.8825387534023176),\n",
       " ('Random Oversampled RCF',\n",
       "  0.9991222218320986,\n",
       "  0.7395833333333335,\n",
       "  0.8620426610430328),\n",
       " ('Random Oversampled Random Forest  Selection',\n",
       "  0.9992802219023208,\n",
       "  0.7939698492462313,\n",
       "  0.902867780483043),\n",
       " ('Random Oversampled Forward feature selection',\n",
       "  0.9990519995786665,\n",
       "  0.7428571428571428,\n",
       "  0.8976602247539421),\n",
       " ('SMOTE RCF', 0.9978757768336786, 0.5468164794007491, 0.871604860289642),\n",
       " ('SMOTE Random Forest  Selection',\n",
       "  0.9989642217618764,\n",
       "  0.7377777777777779,\n",
       "  0.9230824997415963),\n",
       " ('SMOTE Forward feature selection',\n",
       "  0.9963835539482462,\n",
       "  0.4371584699453552,\n",
       "  0.9065101983393244)]"
      ]
     },
     "execution_count": 24,
     "metadata": {},
     "output_type": "execute_result"
    }
   ],
   "source": [
    "all_results"
   ]
  },
  {
   "cell_type": "markdown",
   "metadata": {},
   "source": [
    "#### 3. ADASYN"
   ]
  },
  {
   "cell_type": "code",
   "execution_count": 25,
   "metadata": {},
   "outputs": [
    {
     "name": "stdout",
     "output_type": "stream",
     "text": [
      "[(0, 227451), (1, 227448)]\n"
     ]
    }
   ],
   "source": [
    "all_dataset['X_adasyn'],all_dataset['y_adasyn'] = ADASYN().fit_resample(X_train, y_train)\n",
    "print(sorted(Counter(all_dataset[\"y_adasyn\"]).items()))"
   ]
  },
  {
   "cell_type": "code",
   "execution_count": 26,
   "metadata": {},
   "outputs": [
    {
     "name": "stdout",
     "output_type": "stream",
     "text": [
      "ADASYN RCF Completed\n",
      "ADASYN Random Forest Selection Completed\n",
      "ADASYN Forward feature selection Completed\n"
     ]
    }
   ],
   "source": [
    "training_testing_function(all_dataset['X_adasyn'],all_dataset['y_adasyn'],\"ADASYN\")"
   ]
  },
  {
   "cell_type": "code",
   "execution_count": 27,
   "metadata": {},
   "outputs": [
    {
     "data": {
      "text/plain": [
       "[('Cluster centroids RCF',\n",
       "  0.9212984094659598,\n",
       "  0.036949516648764766,\n",
       "  0.8994624122862425),\n",
       " ('Cluster centroids Random Forest  Selection',\n",
       "  0.9923106632491837,\n",
       "  0.2819672131147541,\n",
       "  0.9350297308005926),\n",
       " ('Cluster centroids Forward feature selection',\n",
       "  0.9918015519118009,\n",
       "  0.26917057902973396,\n",
       "  0.9347747364280545),\n",
       " ('Near Miss RCF',\n",
       "  0.5980653769179453,\n",
       "  0.007456539645380847,\n",
       "  0.7375673644528155),\n",
       " ('Near Miss Random Forest  Selection',\n",
       "  0.6635300726800323,\n",
       "  0.008996897621509825,\n",
       "  0.7754493715043699),\n",
       " ('Near Miss Forward feature selection',\n",
       "  0.6825778589234929,\n",
       "  0.009857072449482503,\n",
       "  0.8002694219218356),\n",
       " ('One Sided Selection RCF',\n",
       "  0.9993679997191109,\n",
       "  0.8085106382978723,\n",
       "  0.8876320013092462),\n",
       " ('One Sided Selection Random Forest  Selection',\n",
       "  0.9993153330290369,\n",
       "  0.7914438502673796,\n",
       "  0.8774191267671952),\n",
       " ('One Sided Selection Forward feature selection',\n",
       "  0.9993679997191109,\n",
       "  0.8064516129032258,\n",
       "  0.8825387534023176),\n",
       " ('Tomek Links RCF',\n",
       "  0.9993679997191109,\n",
       "  0.8085106382978723,\n",
       "  0.8876320013092462),\n",
       " ('Tomek Links Random Forest  Selection',\n",
       "  0.9992802219023208,\n",
       "  0.783068783068783,\n",
       "  0.8774015409483996),\n",
       " ('Tomek Links Forward feature selection',\n",
       "  0.9993679997191109,\n",
       "  0.8064516129032258,\n",
       "  0.8825387534023176),\n",
       " ('Random Oversampled RCF',\n",
       "  0.9991222218320986,\n",
       "  0.7395833333333335,\n",
       "  0.8620426610430328),\n",
       " ('Random Oversampled Random Forest  Selection',\n",
       "  0.9992802219023208,\n",
       "  0.7939698492462313,\n",
       "  0.902867780483043),\n",
       " ('Random Oversampled Forward feature selection',\n",
       "  0.9990519995786665,\n",
       "  0.7428571428571428,\n",
       "  0.8976602247539421),\n",
       " ('SMOTE RCF', 0.9978757768336786, 0.5468164794007491, 0.871604860289642),\n",
       " ('SMOTE Random Forest  Selection',\n",
       "  0.9989642217618764,\n",
       "  0.7377777777777779,\n",
       "  0.9230824997415963),\n",
       " ('SMOTE Forward feature selection',\n",
       "  0.9963835539482462,\n",
       "  0.4371584699453552,\n",
       "  0.9065101983393244),\n",
       " ('ADASYN RCF', 0.9984375548611355, 0.6454183266932271, 0.9126322166458029),\n",
       " ('ADASYN Random Forest  Selection',\n",
       "  0.9985955549313578,\n",
       "  0.6721311475409836,\n",
       "  0.9178046007373124),\n",
       " ('ADASYN Forward feature selection',\n",
       "  0.9948562199360977,\n",
       "  0.3644251626898048,\n",
       "  0.9261182068494253)]"
      ]
     },
     "execution_count": 27,
     "metadata": {},
     "output_type": "execute_result"
    }
   ],
   "source": [
    "all_results"
   ]
  },
  {
   "cell_type": "markdown",
   "metadata": {},
   "source": [
    "#### 4. Variations of SMOTE"
   ]
  },
  {
   "cell_type": "code",
   "execution_count": 28,
   "metadata": {},
   "outputs": [],
   "source": [
    "from imblearn.over_sampling import BorderlineSMOTE,SVMSMOTE,KMeansSMOTE"
   ]
  },
  {
   "cell_type": "code",
   "execution_count": 29,
   "metadata": {},
   "outputs": [
    {
     "name": "stdout",
     "output_type": "stream",
     "text": [
      "Borderline SMOTE RCF Completed\n",
      "Borderline SMOTE Random Forest Selection Completed\n",
      "Borderline SMOTE Forward feature selection Completed\n",
      "SVM SMOTE RCF Completed\n",
      "SVM SMOTE Random Forest Selection Completed\n",
      "SVM SMOTE Forward feature selection Completed\n"
     ]
    }
   ],
   "source": [
    "all_dataset[\"X_borderline_smote\"],all_dataset[\"y_borderline_smote\"] = BorderlineSMOTE().fit_resample(X_train,y_train)\n",
    "all_dataset[\"X_svm_smote\"],all_dataset[\"y_svm_smote\"] = SVMSMOTE().fit_resample(X_train,y_train)\n",
    "\n",
    "# X_kmeans_smote,y_kmeans_smote = KMeansSMOTE().fit_resample(X_train,y_train)\n",
    "\n",
    "\n",
    "# all_dataset[\"X_kmeans_smote\"],all_dataset[\"y_kmeans_smote\"]= X_kmeans_smote,y_kmeans_smote\n",
    "\n",
    "training_testing_function(all_dataset[\"X_borderline_smote\"],all_dataset[\"y_borderline_smote\"],\"Borderline SMOTE\")\n",
    "training_testing_function(all_dataset[\"X_svm_smote\"],all_dataset[\"y_svm_smote\"],\"SVM SMOTE\")\n",
    "\n",
    "# training_testing_function(all_dataset[\"X_kmeans_smote\"],all_dataset[\"y_kmeans_smote\"],\"KMeans SMOTE\")\n",
    "\n"
   ]
  },
  {
   "cell_type": "code",
   "execution_count": 30,
   "metadata": {},
   "outputs": [
    {
     "data": {
      "text/plain": [
       "[('Cluster centroids RCF',\n",
       "  0.9212984094659598,\n",
       "  0.036949516648764766,\n",
       "  0.8994624122862425),\n",
       " ('Cluster centroids Random Forest  Selection',\n",
       "  0.9923106632491837,\n",
       "  0.2819672131147541,\n",
       "  0.9350297308005926),\n",
       " ('Cluster centroids Forward feature selection',\n",
       "  0.9918015519118009,\n",
       "  0.26917057902973396,\n",
       "  0.9347747364280545),\n",
       " ('Near Miss RCF',\n",
       "  0.5980653769179453,\n",
       "  0.007456539645380847,\n",
       "  0.7375673644528155),\n",
       " ('Near Miss Random Forest  Selection',\n",
       "  0.6635300726800323,\n",
       "  0.008996897621509825,\n",
       "  0.7754493715043699),\n",
       " ('Near Miss Forward feature selection',\n",
       "  0.6825778589234929,\n",
       "  0.009857072449482503,\n",
       "  0.8002694219218356),\n",
       " ('One Sided Selection RCF',\n",
       "  0.9993679997191109,\n",
       "  0.8085106382978723,\n",
       "  0.8876320013092462),\n",
       " ('One Sided Selection Random Forest  Selection',\n",
       "  0.9993153330290369,\n",
       "  0.7914438502673796,\n",
       "  0.8774191267671952),\n",
       " ('One Sided Selection Forward feature selection',\n",
       "  0.9993679997191109,\n",
       "  0.8064516129032258,\n",
       "  0.8825387534023176),\n",
       " ('Tomek Links RCF',\n",
       "  0.9993679997191109,\n",
       "  0.8085106382978723,\n",
       "  0.8876320013092462),\n",
       " ('Tomek Links Random Forest  Selection',\n",
       "  0.9992802219023208,\n",
       "  0.783068783068783,\n",
       "  0.8774015409483996),\n",
       " ('Tomek Links Forward feature selection',\n",
       "  0.9993679997191109,\n",
       "  0.8064516129032258,\n",
       "  0.8825387534023176),\n",
       " ('Random Oversampled RCF',\n",
       "  0.9991222218320986,\n",
       "  0.7395833333333335,\n",
       "  0.8620426610430328),\n",
       " ('Random Oversampled Random Forest  Selection',\n",
       "  0.9992802219023208,\n",
       "  0.7939698492462313,\n",
       "  0.902867780483043),\n",
       " ('Random Oversampled Forward feature selection',\n",
       "  0.9990519995786665,\n",
       "  0.7428571428571428,\n",
       "  0.8976602247539421),\n",
       " ('SMOTE RCF', 0.9978757768336786, 0.5468164794007491, 0.871604860289642),\n",
       " ('SMOTE Random Forest  Selection',\n",
       "  0.9989642217618764,\n",
       "  0.7377777777777779,\n",
       "  0.9230824997415963),\n",
       " ('SMOTE Forward feature selection',\n",
       "  0.9963835539482462,\n",
       "  0.4371584699453552,\n",
       "  0.9065101983393244),\n",
       " ('ADASYN RCF', 0.9984375548611355, 0.6454183266932271, 0.9126322166458029),\n",
       " ('ADASYN Random Forest  Selection',\n",
       "  0.9985955549313578,\n",
       "  0.6721311475409836,\n",
       "  0.9178046007373124),\n",
       " ('ADASYN Forward feature selection',\n",
       "  0.9948562199360977,\n",
       "  0.3644251626898048,\n",
       "  0.9261182068494253),\n",
       " ('Borderline SMOTE RCF',\n",
       "  0.9991748885221726,\n",
       "  0.7614213197969544,\n",
       "  0.8824420313989412),\n",
       " ('Borderline SMOTE Random Forest  Selection',\n",
       "  0.9992275552122467,\n",
       "  0.7864077669902914,\n",
       "  0.9130278975687067),\n",
       " ('Borderline SMOTE Forward feature selection',\n",
       "  0.9982795547909132,\n",
       "  0.6230769230769231,\n",
       "  0.9125530804612222),\n",
       " ('SVM SMOTE RCF', 0.9989291106351603, 0.6995073891625616, 0.8619459390396564),\n",
       " ('SVM SMOTE Random Forest  Selection',\n",
       "  0.9992099996488887,\n",
       "  0.7804878048780487,\n",
       "  0.9079258567523802),\n",
       " ('SVM SMOTE Forward feature selection',\n",
       "  0.9983322214809873,\n",
       "  0.6215139442231076,\n",
       "  0.8972997154686297)]"
      ]
     },
     "execution_count": 30,
     "metadata": {},
     "output_type": "execute_result"
    }
   ],
   "source": [
    "all_results"
   ]
  },
  {
   "cell_type": "markdown",
   "metadata": {},
   "source": [
    "### Combination of Undersampling and Oversampling"
   ]
  },
  {
   "cell_type": "markdown",
   "metadata": {},
   "source": [
    "#### 1. SMOTETomek"
   ]
  },
  {
   "cell_type": "code",
   "execution_count": 5,
   "metadata": {},
   "outputs": [],
   "source": [
    "from imblearn.combine import SMOTETomek"
   ]
  },
  {
   "cell_type": "code",
   "execution_count": 6,
   "metadata": {},
   "outputs": [
    {
     "name": "stdout",
     "output_type": "stream",
     "text": [
      "SMOTE Tomek RCF Completed\n",
      "SMOTE Tomek Random Forest Selection Completed\n",
      "SMOTE Tomek Forward feature selection Completed\n"
     ]
    }
   ],
   "source": [
    "all_dataset['X_smote_tomek'],all_dataset['y_smote_tomek'] = SMOTETomek().fit_resample(X_train,y_train)\n",
    "training_testing_function(all_dataset['X_smote_tomek'],all_dataset['y_smote_tomek'],\"SMOTE Tomek\")"
   ]
  },
  {
   "cell_type": "code",
   "execution_count": 7,
   "metadata": {},
   "outputs": [
    {
     "data": {
      "text/plain": [
       "[('SMOTE Tomek RCF',\n",
       "  0.9976651100733822,\n",
       "  0.5128205128205129,\n",
       "  0.8562196016560818),\n",
       " ('SMOTE Tomek Random Forest  Selection',\n",
       "  0.9991046662687406,\n",
       "  0.767123287671233,\n",
       "  0.9282460909237077),\n",
       " ('SMOTE Tomek Forward feature selection',\n",
       "  0.9966468873986166,\n",
       "  0.4558404558404559,\n",
       "  0.9066420919802924)]"
      ]
     },
     "execution_count": 7,
     "metadata": {},
     "output_type": "execute_result"
    }
   ],
   "source": [
    "all_results"
   ]
  },
  {
   "cell_type": "markdown",
   "metadata": {},
   "source": [
    "## Working with different dataset"
   ]
  },
  {
   "cell_type": "code",
   "execution_count": 6,
   "metadata": {
    "scrolled": true
   },
   "outputs": [
    {
     "data": {
      "text/html": [
       "<div>\n",
       "<style scoped>\n",
       "    .dataframe tbody tr th:only-of-type {\n",
       "        vertical-align: middle;\n",
       "    }\n",
       "\n",
       "    .dataframe tbody tr th {\n",
       "        vertical-align: top;\n",
       "    }\n",
       "\n",
       "    .dataframe thead th {\n",
       "        text-align: right;\n",
       "    }\n",
       "</style>\n",
       "<table border=\"1\" class=\"dataframe\">\n",
       "  <thead>\n",
       "    <tr style=\"text-align: right;\">\n",
       "      <th></th>\n",
       "      <th>step</th>\n",
       "      <th>type</th>\n",
       "      <th>amount</th>\n",
       "      <th>nameOrig</th>\n",
       "      <th>oldbalanceOrg</th>\n",
       "      <th>newbalanceOrig</th>\n",
       "      <th>nameDest</th>\n",
       "      <th>oldbalanceDest</th>\n",
       "      <th>newbalanceDest</th>\n",
       "      <th>isFraud</th>\n",
       "      <th>isFlaggedFraud</th>\n",
       "    </tr>\n",
       "  </thead>\n",
       "  <tbody>\n",
       "    <tr>\n",
       "      <th>0</th>\n",
       "      <td>1</td>\n",
       "      <td>PAYMENT</td>\n",
       "      <td>9839.64</td>\n",
       "      <td>C1231006815</td>\n",
       "      <td>170136.0</td>\n",
       "      <td>160296.36</td>\n",
       "      <td>M1979787155</td>\n",
       "      <td>0.0</td>\n",
       "      <td>0.0</td>\n",
       "      <td>0</td>\n",
       "      <td>0</td>\n",
       "    </tr>\n",
       "    <tr>\n",
       "      <th>1</th>\n",
       "      <td>1</td>\n",
       "      <td>PAYMENT</td>\n",
       "      <td>1864.28</td>\n",
       "      <td>C1666544295</td>\n",
       "      <td>21249.0</td>\n",
       "      <td>19384.72</td>\n",
       "      <td>M2044282225</td>\n",
       "      <td>0.0</td>\n",
       "      <td>0.0</td>\n",
       "      <td>0</td>\n",
       "      <td>0</td>\n",
       "    </tr>\n",
       "    <tr>\n",
       "      <th>2</th>\n",
       "      <td>1</td>\n",
       "      <td>TRANSFER</td>\n",
       "      <td>181.00</td>\n",
       "      <td>C1305486145</td>\n",
       "      <td>181.0</td>\n",
       "      <td>0.00</td>\n",
       "      <td>C553264065</td>\n",
       "      <td>0.0</td>\n",
       "      <td>0.0</td>\n",
       "      <td>1</td>\n",
       "      <td>0</td>\n",
       "    </tr>\n",
       "    <tr>\n",
       "      <th>3</th>\n",
       "      <td>1</td>\n",
       "      <td>CASH_OUT</td>\n",
       "      <td>181.00</td>\n",
       "      <td>C840083671</td>\n",
       "      <td>181.0</td>\n",
       "      <td>0.00</td>\n",
       "      <td>C38997010</td>\n",
       "      <td>21182.0</td>\n",
       "      <td>0.0</td>\n",
       "      <td>1</td>\n",
       "      <td>0</td>\n",
       "    </tr>\n",
       "    <tr>\n",
       "      <th>4</th>\n",
       "      <td>1</td>\n",
       "      <td>PAYMENT</td>\n",
       "      <td>11668.14</td>\n",
       "      <td>C2048537720</td>\n",
       "      <td>41554.0</td>\n",
       "      <td>29885.86</td>\n",
       "      <td>M1230701703</td>\n",
       "      <td>0.0</td>\n",
       "      <td>0.0</td>\n",
       "      <td>0</td>\n",
       "      <td>0</td>\n",
       "    </tr>\n",
       "  </tbody>\n",
       "</table>\n",
       "</div>"
      ],
      "text/plain": [
       "   step      type    amount     nameOrig  oldbalanceOrg  newbalanceOrig  \\\n",
       "0     1   PAYMENT   9839.64  C1231006815       170136.0       160296.36   \n",
       "1     1   PAYMENT   1864.28  C1666544295        21249.0        19384.72   \n",
       "2     1  TRANSFER    181.00  C1305486145          181.0            0.00   \n",
       "3     1  CASH_OUT    181.00   C840083671          181.0            0.00   \n",
       "4     1   PAYMENT  11668.14  C2048537720        41554.0        29885.86   \n",
       "\n",
       "      nameDest  oldbalanceDest  newbalanceDest  isFraud  isFlaggedFraud  \n",
       "0  M1979787155             0.0             0.0        0               0  \n",
       "1  M2044282225             0.0             0.0        0               0  \n",
       "2   C553264065             0.0             0.0        1               0  \n",
       "3    C38997010         21182.0             0.0        1               0  \n",
       "4  M1230701703             0.0             0.0        0               0  "
      ]
     },
     "execution_count": 6,
     "metadata": {},
     "output_type": "execute_result"
    }
   ],
   "source": [
    "dataset2 = pd.read_csv(\"dataset2.csv\")\n",
    "dataset2.head()"
   ]
  },
  {
   "cell_type": "code",
   "execution_count": 7,
   "metadata": {},
   "outputs": [
    {
     "data": {
      "text/plain": [
       "(6362620, 11)"
      ]
     },
     "execution_count": 7,
     "metadata": {},
     "output_type": "execute_result"
    }
   ],
   "source": [
    "dataset2.shape"
   ]
  },
  {
   "cell_type": "code",
   "execution_count": 8,
   "metadata": {},
   "outputs": [
    {
     "data": {
      "text/plain": [
       "False"
      ]
     },
     "execution_count": 8,
     "metadata": {},
     "output_type": "execute_result"
    }
   ],
   "source": [
    "dataset2.isnull().values.any()"
   ]
  },
  {
   "cell_type": "code",
   "execution_count": 9,
   "metadata": {},
   "outputs": [],
   "source": [
    "dataset2.drop(\"isFlaggedFraud\",axis=1,inplace=True)\n"
   ]
  },
  {
   "cell_type": "code",
   "execution_count": 10,
   "metadata": {},
   "outputs": [],
   "source": [
    "all_zero=list(dataset2.loc[dataset2[\"isFraud\"]==0].index)"
   ]
  },
  {
   "cell_type": "code",
   "execution_count": 11,
   "metadata": {},
   "outputs": [],
   "source": [
    "sample_zero = np.random.choice(all_zero,200000,replace=False)"
   ]
  },
  {
   "cell_type": "code",
   "execution_count": 12,
   "metadata": {},
   "outputs": [],
   "source": [
    "all_one=list(dataset2.loc[dataset2[\"isFraud\"]==1].index)"
   ]
  },
  {
   "cell_type": "code",
   "execution_count": 13,
   "metadata": {},
   "outputs": [],
   "source": [
    "selected_sample = np.concatenate([sample_zero,all_one])"
   ]
  },
  {
   "cell_type": "code",
   "execution_count": 14,
   "metadata": {},
   "outputs": [
    {
     "data": {
      "text/plain": [
       "208213"
      ]
     },
     "execution_count": 14,
     "metadata": {},
     "output_type": "execute_result"
    }
   ],
   "source": [
    "len(selected_sample)"
   ]
  },
  {
   "cell_type": "code",
   "execution_count": 15,
   "metadata": {},
   "outputs": [],
   "source": [
    "new_dataset2 = dataset2.loc[selected_sample]"
   ]
  },
  {
   "cell_type": "code",
   "execution_count": 16,
   "metadata": {},
   "outputs": [
    {
     "data": {
      "text/html": [
       "<div>\n",
       "<style scoped>\n",
       "    .dataframe tbody tr th:only-of-type {\n",
       "        vertical-align: middle;\n",
       "    }\n",
       "\n",
       "    .dataframe tbody tr th {\n",
       "        vertical-align: top;\n",
       "    }\n",
       "\n",
       "    .dataframe thead th {\n",
       "        text-align: right;\n",
       "    }\n",
       "</style>\n",
       "<table border=\"1\" class=\"dataframe\">\n",
       "  <thead>\n",
       "    <tr style=\"text-align: right;\">\n",
       "      <th></th>\n",
       "      <th>step</th>\n",
       "      <th>type</th>\n",
       "      <th>amount</th>\n",
       "      <th>nameOrig</th>\n",
       "      <th>oldbalanceOrg</th>\n",
       "      <th>newbalanceOrig</th>\n",
       "      <th>nameDest</th>\n",
       "      <th>oldbalanceDest</th>\n",
       "      <th>newbalanceDest</th>\n",
       "      <th>isFraud</th>\n",
       "    </tr>\n",
       "  </thead>\n",
       "  <tbody>\n",
       "    <tr>\n",
       "      <th>410191</th>\n",
       "      <td>18</td>\n",
       "      <td>PAYMENT</td>\n",
       "      <td>22850.78</td>\n",
       "      <td>C710129801</td>\n",
       "      <td>12573.00</td>\n",
       "      <td>0.00</td>\n",
       "      <td>M1501898196</td>\n",
       "      <td>0.00</td>\n",
       "      <td>0.00</td>\n",
       "      <td>0</td>\n",
       "    </tr>\n",
       "    <tr>\n",
       "      <th>3194556</th>\n",
       "      <td>249</td>\n",
       "      <td>PAYMENT</td>\n",
       "      <td>11295.63</td>\n",
       "      <td>C483785706</td>\n",
       "      <td>22971.00</td>\n",
       "      <td>11675.37</td>\n",
       "      <td>M775004462</td>\n",
       "      <td>0.00</td>\n",
       "      <td>0.00</td>\n",
       "      <td>0</td>\n",
       "    </tr>\n",
       "    <tr>\n",
       "      <th>6142488</th>\n",
       "      <td>545</td>\n",
       "      <td>CASH_IN</td>\n",
       "      <td>301213.13</td>\n",
       "      <td>C1969014000</td>\n",
       "      <td>10921773.42</td>\n",
       "      <td>11222986.55</td>\n",
       "      <td>C569154124</td>\n",
       "      <td>10232881.64</td>\n",
       "      <td>9931668.52</td>\n",
       "      <td>0</td>\n",
       "    </tr>\n",
       "    <tr>\n",
       "      <th>3563767</th>\n",
       "      <td>260</td>\n",
       "      <td>CASH_OUT</td>\n",
       "      <td>163724.20</td>\n",
       "      <td>C1782582199</td>\n",
       "      <td>22244.00</td>\n",
       "      <td>0.00</td>\n",
       "      <td>C699092914</td>\n",
       "      <td>1688281.41</td>\n",
       "      <td>1852005.60</td>\n",
       "      <td>0</td>\n",
       "    </tr>\n",
       "    <tr>\n",
       "      <th>692185</th>\n",
       "      <td>36</td>\n",
       "      <td>PAYMENT</td>\n",
       "      <td>15829.25</td>\n",
       "      <td>C1586700803</td>\n",
       "      <td>490.00</td>\n",
       "      <td>0.00</td>\n",
       "      <td>M1373803299</td>\n",
       "      <td>0.00</td>\n",
       "      <td>0.00</td>\n",
       "      <td>0</td>\n",
       "    </tr>\n",
       "  </tbody>\n",
       "</table>\n",
       "</div>"
      ],
      "text/plain": [
       "         step      type     amount     nameOrig  oldbalanceOrg  \\\n",
       "410191     18   PAYMENT   22850.78   C710129801       12573.00   \n",
       "3194556   249   PAYMENT   11295.63   C483785706       22971.00   \n",
       "6142488   545   CASH_IN  301213.13  C1969014000    10921773.42   \n",
       "3563767   260  CASH_OUT  163724.20  C1782582199       22244.00   \n",
       "692185     36   PAYMENT   15829.25  C1586700803         490.00   \n",
       "\n",
       "         newbalanceOrig     nameDest  oldbalanceDest  newbalanceDest  isFraud  \n",
       "410191             0.00  M1501898196            0.00            0.00        0  \n",
       "3194556        11675.37   M775004462            0.00            0.00        0  \n",
       "6142488     11222986.55   C569154124     10232881.64      9931668.52        0  \n",
       "3563767            0.00   C699092914      1688281.41      1852005.60        0  \n",
       "692185             0.00  M1373803299            0.00            0.00        0  "
      ]
     },
     "execution_count": 16,
     "metadata": {},
     "output_type": "execute_result"
    }
   ],
   "source": [
    "new_dataset2.head()"
   ]
  },
  {
   "cell_type": "code",
   "execution_count": 17,
   "metadata": {},
   "outputs": [],
   "source": [
    "y=new_dataset2['isFraud']\n",
    "new_dataset2.drop('isFraud',axis=1,inplace=True)\n",
    "X=new_dataset2"
   ]
  },
  {
   "cell_type": "markdown",
   "metadata": {},
   "source": [
    "Since the destination account balances being zero is a strong indicator of fraud, we do not impute the account balance (before the transaction is made) with a statistic or from a distribution with a subsequent adjustment for the amount transacted. Doing so would mask this indicator of fraud and make fraudulent transactions appear genuine. Instead, below we replace the value of 0 with -1 which will be more useful to a suitable machine-learning (ML) algorithm detecting fraud."
   ]
  },
  {
   "cell_type": "code",
   "execution_count": 18,
   "metadata": {},
   "outputs": [],
   "source": [
    "X.loc[(X.oldbalanceDest == 0) & (X.newbalanceDest == 0) & (X.amount != 0), ['oldbalanceDest', 'newbalanceDest']] = - 1"
   ]
  },
  {
   "cell_type": "markdown",
   "metadata": {},
   "source": [
    "The data also has several transactions with zero balances in the originating account both before and after a non-zero amount is transacted. In this case, the fraction of such transactions is much smaller in fraudulent (0.3%) compared to genuine transactions (47%). Once again, from similar reasoning as above, instead of imputing a numerical value we replace the value of 0 with a null value."
   ]
  },
  {
   "cell_type": "code",
   "execution_count": 19,
   "metadata": {},
   "outputs": [],
   "source": [
    "# X.loc[(X.oldbalanceOrg == 0) & (X.newbalanceOrig == 0) & (X.amount != 0),['oldbalanceOrg', 'newbalanceOrig']] = np.nan"
   ]
  },
  {
   "cell_type": "markdown",
   "metadata": {},
   "source": [
    "Motivated by the possibility of zero-balances serving to differentiate between fraudulent and genuine transactions, we create 2 new features (columns) recording errors in the originating and destination accounts for each transaction. These new features turn out to be important in obtaining the best performance from the ML algorithm that we will finally use."
   ]
  },
  {
   "cell_type": "code",
   "execution_count": 20,
   "metadata": {},
   "outputs": [],
   "source": [
    "X['errorbalanceOrg'] = X.newbalanceOrig + X.amount - X.oldbalanceOrg\n",
    "X['errorbalanceDest'] = X.oldbalanceDest + X.amount - X.newbalanceDest"
   ]
  },
  {
   "cell_type": "code",
   "execution_count": 21,
   "metadata": {},
   "outputs": [],
   "source": [
    "# log transformed amount\n",
    "X['ln_amount'] = np.log1p(X['amount'])"
   ]
  },
  {
   "cell_type": "code",
   "execution_count": 22,
   "metadata": {},
   "outputs": [],
   "source": [
    "# correcting few negative errors\n",
    "X['errorbalanceOrg'] = X['errorbalanceOrg'].apply(lambda x: 0 if x < 0 else x)\n",
    "\n",
    "# log transformed origin account balance error\n",
    "X['ln_errorBalanceOrig'] = np.log1p(X['errorbalanceOrg'])"
   ]
  },
  {
   "cell_type": "code",
   "execution_count": 23,
   "metadata": {},
   "outputs": [],
   "source": [
    "X['errorbalanceDest'] = X['errorbalanceDest'].apply(lambda x: 0 if x < 0 else x)\n",
    "\n",
    "# log transformed origin account balance error\n",
    "X['ln_errorBalanceDest'] = np.log1p(X['errorbalanceDest'])"
   ]
  },
  {
   "cell_type": "code",
   "execution_count": 24,
   "metadata": {},
   "outputs": [
    {
     "data": {
      "text/plain": [
       "CASH_OUT    74504\n",
       "PAYMENT     67545\n",
       "CASH_IN     44130\n",
       "TRANSFER    20684\n",
       "DEBIT        1350\n",
       "Name: type, dtype: int64"
      ]
     },
     "execution_count": 24,
     "metadata": {},
     "output_type": "execute_result"
    }
   ],
   "source": [
    "X[\"type\"].value_counts()"
   ]
  },
  {
   "cell_type": "code",
   "execution_count": 25,
   "metadata": {},
   "outputs": [],
   "source": [
    "X[\"type_transfer\"]=X[\"type\"].replace({'CASH_OUT':0,'PAYMENT':1,'CASH_IN':2,'TRANSFER':3,'DEBIT':4})"
   ]
  },
  {
   "cell_type": "code",
   "execution_count": 26,
   "metadata": {},
   "outputs": [],
   "source": [
    "X.drop(\"type\",axis=1,inplace=True)"
   ]
  },
  {
   "cell_type": "code",
   "execution_count": 27,
   "metadata": {},
   "outputs": [
    {
     "data": {
      "text/html": [
       "<div>\n",
       "<style scoped>\n",
       "    .dataframe tbody tr th:only-of-type {\n",
       "        vertical-align: middle;\n",
       "    }\n",
       "\n",
       "    .dataframe tbody tr th {\n",
       "        vertical-align: top;\n",
       "    }\n",
       "\n",
       "    .dataframe thead th {\n",
       "        text-align: right;\n",
       "    }\n",
       "</style>\n",
       "<table border=\"1\" class=\"dataframe\">\n",
       "  <thead>\n",
       "    <tr style=\"text-align: right;\">\n",
       "      <th></th>\n",
       "      <th>step</th>\n",
       "      <th>amount</th>\n",
       "      <th>nameOrig</th>\n",
       "      <th>oldbalanceOrg</th>\n",
       "      <th>newbalanceOrig</th>\n",
       "      <th>nameDest</th>\n",
       "      <th>oldbalanceDest</th>\n",
       "      <th>newbalanceDest</th>\n",
       "      <th>errorbalanceOrg</th>\n",
       "      <th>errorbalanceDest</th>\n",
       "      <th>ln_amount</th>\n",
       "      <th>ln_errorBalanceOrig</th>\n",
       "      <th>ln_errorBalanceDest</th>\n",
       "      <th>type_transfer</th>\n",
       "    </tr>\n",
       "  </thead>\n",
       "  <tbody>\n",
       "    <tr>\n",
       "      <th>410191</th>\n",
       "      <td>18</td>\n",
       "      <td>22850.78</td>\n",
       "      <td>C710129801</td>\n",
       "      <td>12573.00</td>\n",
       "      <td>0.00</td>\n",
       "      <td>M1501898196</td>\n",
       "      <td>-1.00</td>\n",
       "      <td>-1.00</td>\n",
       "      <td>10277.78</td>\n",
       "      <td>22850.78</td>\n",
       "      <td>10.036784</td>\n",
       "      <td>9.237837</td>\n",
       "      <td>10.036784</td>\n",
       "      <td>1</td>\n",
       "    </tr>\n",
       "    <tr>\n",
       "      <th>3194556</th>\n",
       "      <td>249</td>\n",
       "      <td>11295.63</td>\n",
       "      <td>C483785706</td>\n",
       "      <td>22971.00</td>\n",
       "      <td>11675.37</td>\n",
       "      <td>M775004462</td>\n",
       "      <td>-1.00</td>\n",
       "      <td>-1.00</td>\n",
       "      <td>0.00</td>\n",
       "      <td>11295.63</td>\n",
       "      <td>9.332260</td>\n",
       "      <td>0.000000</td>\n",
       "      <td>9.332260</td>\n",
       "      <td>1</td>\n",
       "    </tr>\n",
       "    <tr>\n",
       "      <th>6142488</th>\n",
       "      <td>545</td>\n",
       "      <td>301213.13</td>\n",
       "      <td>C1969014000</td>\n",
       "      <td>10921773.42</td>\n",
       "      <td>11222986.55</td>\n",
       "      <td>C569154124</td>\n",
       "      <td>10232881.64</td>\n",
       "      <td>9931668.52</td>\n",
       "      <td>602426.26</td>\n",
       "      <td>602426.25</td>\n",
       "      <td>12.615577</td>\n",
       "      <td>13.308722</td>\n",
       "      <td>13.308722</td>\n",
       "      <td>2</td>\n",
       "    </tr>\n",
       "    <tr>\n",
       "      <th>3563767</th>\n",
       "      <td>260</td>\n",
       "      <td>163724.20</td>\n",
       "      <td>C1782582199</td>\n",
       "      <td>22244.00</td>\n",
       "      <td>0.00</td>\n",
       "      <td>C699092914</td>\n",
       "      <td>1688281.41</td>\n",
       "      <td>1852005.60</td>\n",
       "      <td>141480.20</td>\n",
       "      <td>0.01</td>\n",
       "      <td>12.005945</td>\n",
       "      <td>11.859922</td>\n",
       "      <td>0.009950</td>\n",
       "      <td>0</td>\n",
       "    </tr>\n",
       "    <tr>\n",
       "      <th>692185</th>\n",
       "      <td>36</td>\n",
       "      <td>15829.25</td>\n",
       "      <td>C1586700803</td>\n",
       "      <td>490.00</td>\n",
       "      <td>0.00</td>\n",
       "      <td>M1373803299</td>\n",
       "      <td>-1.00</td>\n",
       "      <td>-1.00</td>\n",
       "      <td>15339.25</td>\n",
       "      <td>15829.25</td>\n",
       "      <td>9.669678</td>\n",
       "      <td>9.638235</td>\n",
       "      <td>9.669678</td>\n",
       "      <td>1</td>\n",
       "    </tr>\n",
       "  </tbody>\n",
       "</table>\n",
       "</div>"
      ],
      "text/plain": [
       "         step     amount     nameOrig  oldbalanceOrg  newbalanceOrig  \\\n",
       "410191     18   22850.78   C710129801       12573.00            0.00   \n",
       "3194556   249   11295.63   C483785706       22971.00        11675.37   \n",
       "6142488   545  301213.13  C1969014000    10921773.42     11222986.55   \n",
       "3563767   260  163724.20  C1782582199       22244.00            0.00   \n",
       "692185     36   15829.25  C1586700803         490.00            0.00   \n",
       "\n",
       "            nameDest  oldbalanceDest  newbalanceDest  errorbalanceOrg  \\\n",
       "410191   M1501898196           -1.00           -1.00         10277.78   \n",
       "3194556   M775004462           -1.00           -1.00             0.00   \n",
       "6142488   C569154124     10232881.64      9931668.52        602426.26   \n",
       "3563767   C699092914      1688281.41      1852005.60        141480.20   \n",
       "692185   M1373803299           -1.00           -1.00         15339.25   \n",
       "\n",
       "         errorbalanceDest  ln_amount  ln_errorBalanceOrig  \\\n",
       "410191           22850.78  10.036784             9.237837   \n",
       "3194556          11295.63   9.332260             0.000000   \n",
       "6142488         602426.25  12.615577            13.308722   \n",
       "3563767              0.01  12.005945            11.859922   \n",
       "692185           15829.25   9.669678             9.638235   \n",
       "\n",
       "         ln_errorBalanceDest  type_transfer  \n",
       "410191             10.036784              1  \n",
       "3194556             9.332260              1  \n",
       "6142488            13.308722              2  \n",
       "3563767             0.009950              0  \n",
       "692185              9.669678              1  "
      ]
     },
     "execution_count": 27,
     "metadata": {},
     "output_type": "execute_result"
    }
   ],
   "source": [
    "X.head()"
   ]
  },
  {
   "cell_type": "code",
   "execution_count": 28,
   "metadata": {},
   "outputs": [],
   "source": [
    "X.drop([\"amount\",\"errorbalanceOrg\",\"errorbalanceDest\"],axis=1,inplace=True)\n"
   ]
  },
  {
   "cell_type": "code",
   "execution_count": 29,
   "metadata": {},
   "outputs": [
    {
     "data": {
      "text/html": [
       "<div>\n",
       "<style scoped>\n",
       "    .dataframe tbody tr th:only-of-type {\n",
       "        vertical-align: middle;\n",
       "    }\n",
       "\n",
       "    .dataframe tbody tr th {\n",
       "        vertical-align: top;\n",
       "    }\n",
       "\n",
       "    .dataframe thead th {\n",
       "        text-align: right;\n",
       "    }\n",
       "</style>\n",
       "<table border=\"1\" class=\"dataframe\">\n",
       "  <thead>\n",
       "    <tr style=\"text-align: right;\">\n",
       "      <th></th>\n",
       "      <th>step</th>\n",
       "      <th>nameOrig</th>\n",
       "      <th>oldbalanceOrg</th>\n",
       "      <th>newbalanceOrig</th>\n",
       "      <th>nameDest</th>\n",
       "      <th>oldbalanceDest</th>\n",
       "      <th>newbalanceDest</th>\n",
       "      <th>ln_amount</th>\n",
       "      <th>ln_errorBalanceOrig</th>\n",
       "      <th>ln_errorBalanceDest</th>\n",
       "      <th>type_transfer</th>\n",
       "    </tr>\n",
       "  </thead>\n",
       "  <tbody>\n",
       "    <tr>\n",
       "      <th>410191</th>\n",
       "      <td>18</td>\n",
       "      <td>C710129801</td>\n",
       "      <td>12573.00</td>\n",
       "      <td>0.00</td>\n",
       "      <td>M1501898196</td>\n",
       "      <td>-1.00</td>\n",
       "      <td>-1.00</td>\n",
       "      <td>10.036784</td>\n",
       "      <td>9.237837</td>\n",
       "      <td>10.036784</td>\n",
       "      <td>1</td>\n",
       "    </tr>\n",
       "    <tr>\n",
       "      <th>3194556</th>\n",
       "      <td>249</td>\n",
       "      <td>C483785706</td>\n",
       "      <td>22971.00</td>\n",
       "      <td>11675.37</td>\n",
       "      <td>M775004462</td>\n",
       "      <td>-1.00</td>\n",
       "      <td>-1.00</td>\n",
       "      <td>9.332260</td>\n",
       "      <td>0.000000</td>\n",
       "      <td>9.332260</td>\n",
       "      <td>1</td>\n",
       "    </tr>\n",
       "    <tr>\n",
       "      <th>6142488</th>\n",
       "      <td>545</td>\n",
       "      <td>C1969014000</td>\n",
       "      <td>10921773.42</td>\n",
       "      <td>11222986.55</td>\n",
       "      <td>C569154124</td>\n",
       "      <td>10232881.64</td>\n",
       "      <td>9931668.52</td>\n",
       "      <td>12.615577</td>\n",
       "      <td>13.308722</td>\n",
       "      <td>13.308722</td>\n",
       "      <td>2</td>\n",
       "    </tr>\n",
       "    <tr>\n",
       "      <th>3563767</th>\n",
       "      <td>260</td>\n",
       "      <td>C1782582199</td>\n",
       "      <td>22244.00</td>\n",
       "      <td>0.00</td>\n",
       "      <td>C699092914</td>\n",
       "      <td>1688281.41</td>\n",
       "      <td>1852005.60</td>\n",
       "      <td>12.005945</td>\n",
       "      <td>11.859922</td>\n",
       "      <td>0.009950</td>\n",
       "      <td>0</td>\n",
       "    </tr>\n",
       "    <tr>\n",
       "      <th>692185</th>\n",
       "      <td>36</td>\n",
       "      <td>C1586700803</td>\n",
       "      <td>490.00</td>\n",
       "      <td>0.00</td>\n",
       "      <td>M1373803299</td>\n",
       "      <td>-1.00</td>\n",
       "      <td>-1.00</td>\n",
       "      <td>9.669678</td>\n",
       "      <td>9.638235</td>\n",
       "      <td>9.669678</td>\n",
       "      <td>1</td>\n",
       "    </tr>\n",
       "  </tbody>\n",
       "</table>\n",
       "</div>"
      ],
      "text/plain": [
       "         step     nameOrig  oldbalanceOrg  newbalanceOrig     nameDest  \\\n",
       "410191     18   C710129801       12573.00            0.00  M1501898196   \n",
       "3194556   249   C483785706       22971.00        11675.37   M775004462   \n",
       "6142488   545  C1969014000    10921773.42     11222986.55   C569154124   \n",
       "3563767   260  C1782582199       22244.00            0.00   C699092914   \n",
       "692185     36  C1586700803         490.00            0.00  M1373803299   \n",
       "\n",
       "         oldbalanceDest  newbalanceDest  ln_amount  ln_errorBalanceOrig  \\\n",
       "410191            -1.00           -1.00  10.036784             9.237837   \n",
       "3194556           -1.00           -1.00   9.332260             0.000000   \n",
       "6142488     10232881.64      9931668.52  12.615577            13.308722   \n",
       "3563767      1688281.41      1852005.60  12.005945            11.859922   \n",
       "692185            -1.00           -1.00   9.669678             9.638235   \n",
       "\n",
       "         ln_errorBalanceDest  type_transfer  \n",
       "410191             10.036784              1  \n",
       "3194556             9.332260              1  \n",
       "6142488            13.308722              2  \n",
       "3563767             0.009950              0  \n",
       "692185              9.669678              1  "
      ]
     },
     "execution_count": 29,
     "metadata": {},
     "output_type": "execute_result"
    }
   ],
   "source": [
    "X.head()"
   ]
  },
  {
   "cell_type": "code",
   "execution_count": 30,
   "metadata": {},
   "outputs": [],
   "source": [
    "X[\"type_name\"]=X.step"
   ]
  },
  {
   "cell_type": "code",
   "execution_count": 31,
   "metadata": {},
   "outputs": [],
   "source": [
    "X.loc[(X.nameOrig.str.contains(\"C\")) & (X.nameDest.str.contains(\"C\")),\"type_name\"]=0\n",
    "X.loc[(X.nameOrig.str.contains(\"C\")) & (X.nameDest.str.contains(\"M\")),\"type_name\"]=1\n",
    "X.loc[(X.nameOrig.str.contains(\"M\")) & (X.nameDest.str.contains(\"C\")),\"type_name\"]=2\n",
    "X.loc[(X.nameOrig.str.contains(\"M\")) & (X.nameDest.str.contains(\"M\")),\"type_name\"]=3"
   ]
  },
  {
   "cell_type": "code",
   "execution_count": 32,
   "metadata": {},
   "outputs": [
    {
     "data": {
      "text/html": [
       "<div>\n",
       "<style scoped>\n",
       "    .dataframe tbody tr th:only-of-type {\n",
       "        vertical-align: middle;\n",
       "    }\n",
       "\n",
       "    .dataframe tbody tr th {\n",
       "        vertical-align: top;\n",
       "    }\n",
       "\n",
       "    .dataframe thead th {\n",
       "        text-align: right;\n",
       "    }\n",
       "</style>\n",
       "<table border=\"1\" class=\"dataframe\">\n",
       "  <thead>\n",
       "    <tr style=\"text-align: right;\">\n",
       "      <th></th>\n",
       "      <th>step</th>\n",
       "      <th>nameOrig</th>\n",
       "      <th>oldbalanceOrg</th>\n",
       "      <th>newbalanceOrig</th>\n",
       "      <th>nameDest</th>\n",
       "      <th>oldbalanceDest</th>\n",
       "      <th>newbalanceDest</th>\n",
       "      <th>ln_amount</th>\n",
       "      <th>ln_errorBalanceOrig</th>\n",
       "      <th>ln_errorBalanceDest</th>\n",
       "      <th>type_transfer</th>\n",
       "      <th>type_name</th>\n",
       "    </tr>\n",
       "  </thead>\n",
       "  <tbody>\n",
       "    <tr>\n",
       "      <th>6362615</th>\n",
       "      <td>743</td>\n",
       "      <td>C786484425</td>\n",
       "      <td>339682.13</td>\n",
       "      <td>0.0</td>\n",
       "      <td>C776919290</td>\n",
       "      <td>0.00</td>\n",
       "      <td>339682.13</td>\n",
       "      <td>12.735768</td>\n",
       "      <td>0.0</td>\n",
       "      <td>0.000000e+00</td>\n",
       "      <td>0</td>\n",
       "      <td>0</td>\n",
       "    </tr>\n",
       "    <tr>\n",
       "      <th>6362616</th>\n",
       "      <td>743</td>\n",
       "      <td>C1529008245</td>\n",
       "      <td>6311409.28</td>\n",
       "      <td>0.0</td>\n",
       "      <td>C1881841831</td>\n",
       "      <td>-1.00</td>\n",
       "      <td>-1.00</td>\n",
       "      <td>15.657870</td>\n",
       "      <td>0.0</td>\n",
       "      <td>1.565787e+01</td>\n",
       "      <td>3</td>\n",
       "      <td>0</td>\n",
       "    </tr>\n",
       "    <tr>\n",
       "      <th>6362617</th>\n",
       "      <td>743</td>\n",
       "      <td>C1162922333</td>\n",
       "      <td>6311409.28</td>\n",
       "      <td>0.0</td>\n",
       "      <td>C1365125890</td>\n",
       "      <td>68488.84</td>\n",
       "      <td>6379898.11</td>\n",
       "      <td>15.657870</td>\n",
       "      <td>0.0</td>\n",
       "      <td>9.950331e-03</td>\n",
       "      <td>0</td>\n",
       "      <td>0</td>\n",
       "    </tr>\n",
       "    <tr>\n",
       "      <th>6362618</th>\n",
       "      <td>743</td>\n",
       "      <td>C1685995037</td>\n",
       "      <td>850002.52</td>\n",
       "      <td>0.0</td>\n",
       "      <td>C2080388513</td>\n",
       "      <td>-1.00</td>\n",
       "      <td>-1.00</td>\n",
       "      <td>13.652996</td>\n",
       "      <td>0.0</td>\n",
       "      <td>1.365300e+01</td>\n",
       "      <td>3</td>\n",
       "      <td>0</td>\n",
       "    </tr>\n",
       "    <tr>\n",
       "      <th>6362619</th>\n",
       "      <td>743</td>\n",
       "      <td>C1280323807</td>\n",
       "      <td>850002.52</td>\n",
       "      <td>0.0</td>\n",
       "      <td>C873221189</td>\n",
       "      <td>6510099.11</td>\n",
       "      <td>7360101.63</td>\n",
       "      <td>13.652996</td>\n",
       "      <td>0.0</td>\n",
       "      <td>9.313226e-10</td>\n",
       "      <td>0</td>\n",
       "      <td>0</td>\n",
       "    </tr>\n",
       "  </tbody>\n",
       "</table>\n",
       "</div>"
      ],
      "text/plain": [
       "         step     nameOrig  oldbalanceOrg  newbalanceOrig     nameDest  \\\n",
       "6362615   743   C786484425      339682.13             0.0   C776919290   \n",
       "6362616   743  C1529008245     6311409.28             0.0  C1881841831   \n",
       "6362617   743  C1162922333     6311409.28             0.0  C1365125890   \n",
       "6362618   743  C1685995037      850002.52             0.0  C2080388513   \n",
       "6362619   743  C1280323807      850002.52             0.0   C873221189   \n",
       "\n",
       "         oldbalanceDest  newbalanceDest  ln_amount  ln_errorBalanceOrig  \\\n",
       "6362615            0.00       339682.13  12.735768                  0.0   \n",
       "6362616           -1.00           -1.00  15.657870                  0.0   \n",
       "6362617        68488.84      6379898.11  15.657870                  0.0   \n",
       "6362618           -1.00           -1.00  13.652996                  0.0   \n",
       "6362619      6510099.11      7360101.63  13.652996                  0.0   \n",
       "\n",
       "         ln_errorBalanceDest  type_transfer  type_name  \n",
       "6362615         0.000000e+00              0          0  \n",
       "6362616         1.565787e+01              3          0  \n",
       "6362617         9.950331e-03              0          0  \n",
       "6362618         1.365300e+01              3          0  \n",
       "6362619         9.313226e-10              0          0  "
      ]
     },
     "execution_count": 32,
     "metadata": {},
     "output_type": "execute_result"
    }
   ],
   "source": [
    "X.tail()"
   ]
  },
  {
   "cell_type": "code",
   "execution_count": 33,
   "metadata": {},
   "outputs": [],
   "source": [
    "X.drop([\"nameOrig\",\"nameDest\"],axis=1,inplace=True)"
   ]
  },
  {
   "cell_type": "code",
   "execution_count": 34,
   "metadata": {},
   "outputs": [
    {
     "data": {
      "text/html": [
       "<div>\n",
       "<style scoped>\n",
       "    .dataframe tbody tr th:only-of-type {\n",
       "        vertical-align: middle;\n",
       "    }\n",
       "\n",
       "    .dataframe tbody tr th {\n",
       "        vertical-align: top;\n",
       "    }\n",
       "\n",
       "    .dataframe thead th {\n",
       "        text-align: right;\n",
       "    }\n",
       "</style>\n",
       "<table border=\"1\" class=\"dataframe\">\n",
       "  <thead>\n",
       "    <tr style=\"text-align: right;\">\n",
       "      <th></th>\n",
       "      <th>step</th>\n",
       "      <th>oldbalanceOrg</th>\n",
       "      <th>newbalanceOrig</th>\n",
       "      <th>oldbalanceDest</th>\n",
       "      <th>newbalanceDest</th>\n",
       "      <th>ln_amount</th>\n",
       "      <th>ln_errorBalanceOrig</th>\n",
       "      <th>ln_errorBalanceDest</th>\n",
       "      <th>type_transfer</th>\n",
       "      <th>type_name</th>\n",
       "    </tr>\n",
       "  </thead>\n",
       "  <tbody>\n",
       "    <tr>\n",
       "      <th>410191</th>\n",
       "      <td>18</td>\n",
       "      <td>12573.00</td>\n",
       "      <td>0.00</td>\n",
       "      <td>-1.00</td>\n",
       "      <td>-1.00</td>\n",
       "      <td>10.036784</td>\n",
       "      <td>9.237837</td>\n",
       "      <td>10.036784</td>\n",
       "      <td>1</td>\n",
       "      <td>1</td>\n",
       "    </tr>\n",
       "    <tr>\n",
       "      <th>3194556</th>\n",
       "      <td>249</td>\n",
       "      <td>22971.00</td>\n",
       "      <td>11675.37</td>\n",
       "      <td>-1.00</td>\n",
       "      <td>-1.00</td>\n",
       "      <td>9.332260</td>\n",
       "      <td>0.000000</td>\n",
       "      <td>9.332260</td>\n",
       "      <td>1</td>\n",
       "      <td>1</td>\n",
       "    </tr>\n",
       "    <tr>\n",
       "      <th>6142488</th>\n",
       "      <td>545</td>\n",
       "      <td>10921773.42</td>\n",
       "      <td>11222986.55</td>\n",
       "      <td>10232881.64</td>\n",
       "      <td>9931668.52</td>\n",
       "      <td>12.615577</td>\n",
       "      <td>13.308722</td>\n",
       "      <td>13.308722</td>\n",
       "      <td>2</td>\n",
       "      <td>0</td>\n",
       "    </tr>\n",
       "    <tr>\n",
       "      <th>3563767</th>\n",
       "      <td>260</td>\n",
       "      <td>22244.00</td>\n",
       "      <td>0.00</td>\n",
       "      <td>1688281.41</td>\n",
       "      <td>1852005.60</td>\n",
       "      <td>12.005945</td>\n",
       "      <td>11.859922</td>\n",
       "      <td>0.009950</td>\n",
       "      <td>0</td>\n",
       "      <td>0</td>\n",
       "    </tr>\n",
       "    <tr>\n",
       "      <th>692185</th>\n",
       "      <td>36</td>\n",
       "      <td>490.00</td>\n",
       "      <td>0.00</td>\n",
       "      <td>-1.00</td>\n",
       "      <td>-1.00</td>\n",
       "      <td>9.669678</td>\n",
       "      <td>9.638235</td>\n",
       "      <td>9.669678</td>\n",
       "      <td>1</td>\n",
       "      <td>1</td>\n",
       "    </tr>\n",
       "  </tbody>\n",
       "</table>\n",
       "</div>"
      ],
      "text/plain": [
       "         step  oldbalanceOrg  newbalanceOrig  oldbalanceDest  newbalanceDest  \\\n",
       "410191     18       12573.00            0.00           -1.00           -1.00   \n",
       "3194556   249       22971.00        11675.37           -1.00           -1.00   \n",
       "6142488   545    10921773.42     11222986.55     10232881.64      9931668.52   \n",
       "3563767   260       22244.00            0.00      1688281.41      1852005.60   \n",
       "692185     36         490.00            0.00           -1.00           -1.00   \n",
       "\n",
       "         ln_amount  ln_errorBalanceOrig  ln_errorBalanceDest  type_transfer  \\\n",
       "410191   10.036784             9.237837            10.036784              1   \n",
       "3194556   9.332260             0.000000             9.332260              1   \n",
       "6142488  12.615577            13.308722            13.308722              2   \n",
       "3563767  12.005945            11.859922             0.009950              0   \n",
       "692185    9.669678             9.638235             9.669678              1   \n",
       "\n",
       "         type_name  \n",
       "410191           1  \n",
       "3194556          1  \n",
       "6142488          0  \n",
       "3563767          0  \n",
       "692185           1  "
      ]
     },
     "execution_count": 34,
     "metadata": {},
     "output_type": "execute_result"
    }
   ],
   "source": [
    "X.head()"
   ]
  },
  {
   "cell_type": "code",
   "execution_count": 35,
   "metadata": {},
   "outputs": [],
   "source": [
    "#first proceed without step column\n",
    "step_col = X.step\n",
    "X.drop(\"step\",axis=1,inplace=True)\n"
   ]
  },
  {
   "cell_type": "code",
   "execution_count": 36,
   "metadata": {},
   "outputs": [
    {
     "data": {
      "text/html": [
       "<div>\n",
       "<style scoped>\n",
       "    .dataframe tbody tr th:only-of-type {\n",
       "        vertical-align: middle;\n",
       "    }\n",
       "\n",
       "    .dataframe tbody tr th {\n",
       "        vertical-align: top;\n",
       "    }\n",
       "\n",
       "    .dataframe thead th {\n",
       "        text-align: right;\n",
       "    }\n",
       "</style>\n",
       "<table border=\"1\" class=\"dataframe\">\n",
       "  <thead>\n",
       "    <tr style=\"text-align: right;\">\n",
       "      <th></th>\n",
       "      <th>oldbalanceOrg</th>\n",
       "      <th>newbalanceOrig</th>\n",
       "      <th>oldbalanceDest</th>\n",
       "      <th>newbalanceDest</th>\n",
       "      <th>ln_amount</th>\n",
       "      <th>ln_errorBalanceOrig</th>\n",
       "      <th>ln_errorBalanceDest</th>\n",
       "      <th>type_transfer</th>\n",
       "      <th>type_name</th>\n",
       "    </tr>\n",
       "  </thead>\n",
       "  <tbody>\n",
       "    <tr>\n",
       "      <th>410191</th>\n",
       "      <td>12573.00</td>\n",
       "      <td>0.00</td>\n",
       "      <td>-1.00</td>\n",
       "      <td>-1.00</td>\n",
       "      <td>10.036784</td>\n",
       "      <td>9.237837</td>\n",
       "      <td>10.036784</td>\n",
       "      <td>1</td>\n",
       "      <td>1</td>\n",
       "    </tr>\n",
       "    <tr>\n",
       "      <th>3194556</th>\n",
       "      <td>22971.00</td>\n",
       "      <td>11675.37</td>\n",
       "      <td>-1.00</td>\n",
       "      <td>-1.00</td>\n",
       "      <td>9.332260</td>\n",
       "      <td>0.000000</td>\n",
       "      <td>9.332260</td>\n",
       "      <td>1</td>\n",
       "      <td>1</td>\n",
       "    </tr>\n",
       "    <tr>\n",
       "      <th>6142488</th>\n",
       "      <td>10921773.42</td>\n",
       "      <td>11222986.55</td>\n",
       "      <td>10232881.64</td>\n",
       "      <td>9931668.52</td>\n",
       "      <td>12.615577</td>\n",
       "      <td>13.308722</td>\n",
       "      <td>13.308722</td>\n",
       "      <td>2</td>\n",
       "      <td>0</td>\n",
       "    </tr>\n",
       "    <tr>\n",
       "      <th>3563767</th>\n",
       "      <td>22244.00</td>\n",
       "      <td>0.00</td>\n",
       "      <td>1688281.41</td>\n",
       "      <td>1852005.60</td>\n",
       "      <td>12.005945</td>\n",
       "      <td>11.859922</td>\n",
       "      <td>0.009950</td>\n",
       "      <td>0</td>\n",
       "      <td>0</td>\n",
       "    </tr>\n",
       "    <tr>\n",
       "      <th>692185</th>\n",
       "      <td>490.00</td>\n",
       "      <td>0.00</td>\n",
       "      <td>-1.00</td>\n",
       "      <td>-1.00</td>\n",
       "      <td>9.669678</td>\n",
       "      <td>9.638235</td>\n",
       "      <td>9.669678</td>\n",
       "      <td>1</td>\n",
       "      <td>1</td>\n",
       "    </tr>\n",
       "  </tbody>\n",
       "</table>\n",
       "</div>"
      ],
      "text/plain": [
       "         oldbalanceOrg  newbalanceOrig  oldbalanceDest  newbalanceDest  \\\n",
       "410191        12573.00            0.00           -1.00           -1.00   \n",
       "3194556       22971.00        11675.37           -1.00           -1.00   \n",
       "6142488    10921773.42     11222986.55     10232881.64      9931668.52   \n",
       "3563767       22244.00            0.00      1688281.41      1852005.60   \n",
       "692185          490.00            0.00           -1.00           -1.00   \n",
       "\n",
       "         ln_amount  ln_errorBalanceOrig  ln_errorBalanceDest  type_transfer  \\\n",
       "410191   10.036784             9.237837            10.036784              1   \n",
       "3194556   9.332260             0.000000             9.332260              1   \n",
       "6142488  12.615577            13.308722            13.308722              2   \n",
       "3563767  12.005945            11.859922             0.009950              0   \n",
       "692185    9.669678             9.638235             9.669678              1   \n",
       "\n",
       "         type_name  \n",
       "410191           1  \n",
       "3194556          1  \n",
       "6142488          0  \n",
       "3563767          0  \n",
       "692185           1  "
      ]
     },
     "execution_count": 36,
     "metadata": {},
     "output_type": "execute_result"
    }
   ],
   "source": [
    "X.head()"
   ]
  },
  {
   "cell_type": "code",
   "execution_count": 37,
   "metadata": {},
   "outputs": [],
   "source": [
    "# dividing into training and testing"
   ]
  },
  {
   "cell_type": "code",
   "execution_count": 38,
   "metadata": {},
   "outputs": [],
   "source": [
    "X_train, X_test, y_train, y_test = train_test_split(X, y, test_size = 0.20, random_state = 0, stratify = y)"
   ]
  },
  {
   "cell_type": "code",
   "execution_count": 39,
   "metadata": {},
   "outputs": [
    {
     "data": {
      "text/plain": [
       "False"
      ]
     },
     "execution_count": 39,
     "metadata": {},
     "output_type": "execute_result"
    }
   ],
   "source": [
    "X.isnull().values.any()"
   ]
  },
  {
   "cell_type": "code",
   "execution_count": 40,
   "metadata": {},
   "outputs": [
    {
     "name": "stdout",
     "output_type": "stream",
     "text": [
      "(166570, 1)\n"
     ]
    },
    {
     "name": "stderr",
     "output_type": "stream",
     "text": [
      "C:\\Users\\Anuj\\Miniconda3\\envs\\condaenv\\lib\\site-packages\\ipykernel_launcher.py:28: SettingWithCopyWarning: \n",
      "A value is trying to be set on a copy of a slice from a DataFrame.\n",
      "Try using .loc[row_indexer,col_indexer] = value instead\n",
      "\n",
      "See the caveats in the documentation: http://pandas.pydata.org/pandas-docs/stable/indexing.html#indexing-view-versus-copy\n",
      "C:\\Users\\Anuj\\Miniconda3\\envs\\condaenv\\lib\\site-packages\\pandas\\core\\frame.py:3940: SettingWithCopyWarning: \n",
      "A value is trying to be set on a copy of a slice from a DataFrame\n",
      "\n",
      "See the caveats in the documentation: http://pandas.pydata.org/pandas-docs/stable/indexing.html#indexing-view-versus-copy\n",
      "  errors=errors)\n",
      "C:\\Users\\Anuj\\Miniconda3\\envs\\condaenv\\lib\\site-packages\\ipykernel_launcher.py:31: SettingWithCopyWarning: \n",
      "A value is trying to be set on a copy of a slice from a DataFrame.\n",
      "Try using .loc[row_indexer,col_indexer] = value instead\n",
      "\n",
      "See the caveats in the documentation: http://pandas.pydata.org/pandas-docs/stable/indexing.html#indexing-view-versus-copy\n",
      "C:\\Users\\Anuj\\Miniconda3\\envs\\condaenv\\lib\\site-packages\\pandas\\core\\frame.py:3940: SettingWithCopyWarning: \n",
      "A value is trying to be set on a copy of a slice from a DataFrame\n",
      "\n",
      "See the caveats in the documentation: http://pandas.pydata.org/pandas-docs/stable/indexing.html#indexing-view-versus-copy\n",
      "  errors=errors)\n",
      "C:\\Users\\Anuj\\Miniconda3\\envs\\condaenv\\lib\\site-packages\\ipykernel_launcher.py:28: SettingWithCopyWarning: \n",
      "A value is trying to be set on a copy of a slice from a DataFrame.\n",
      "Try using .loc[row_indexer,col_indexer] = value instead\n",
      "\n",
      "See the caveats in the documentation: http://pandas.pydata.org/pandas-docs/stable/indexing.html#indexing-view-versus-copy\n"
     ]
    },
    {
     "name": "stdout",
     "output_type": "stream",
     "text": [
      "(166570, 1)\n"
     ]
    },
    {
     "name": "stderr",
     "output_type": "stream",
     "text": [
      "C:\\Users\\Anuj\\Miniconda3\\envs\\condaenv\\lib\\site-packages\\pandas\\core\\frame.py:3940: SettingWithCopyWarning: \n",
      "A value is trying to be set on a copy of a slice from a DataFrame\n",
      "\n",
      "See the caveats in the documentation: http://pandas.pydata.org/pandas-docs/stable/indexing.html#indexing-view-versus-copy\n",
      "  errors=errors)\n",
      "C:\\Users\\Anuj\\Miniconda3\\envs\\condaenv\\lib\\site-packages\\ipykernel_launcher.py:31: SettingWithCopyWarning: \n",
      "A value is trying to be set on a copy of a slice from a DataFrame.\n",
      "Try using .loc[row_indexer,col_indexer] = value instead\n",
      "\n",
      "See the caveats in the documentation: http://pandas.pydata.org/pandas-docs/stable/indexing.html#indexing-view-versus-copy\n",
      "C:\\Users\\Anuj\\Miniconda3\\envs\\condaenv\\lib\\site-packages\\pandas\\core\\frame.py:3940: SettingWithCopyWarning: \n",
      "A value is trying to be set on a copy of a slice from a DataFrame\n",
      "\n",
      "See the caveats in the documentation: http://pandas.pydata.org/pandas-docs/stable/indexing.html#indexing-view-versus-copy\n",
      "  errors=errors)\n"
     ]
    },
    {
     "name": "stdout",
     "output_type": "stream",
     "text": [
      "(166570, 1)\n"
     ]
    },
    {
     "name": "stderr",
     "output_type": "stream",
     "text": [
      "C:\\Users\\Anuj\\Miniconda3\\envs\\condaenv\\lib\\site-packages\\ipykernel_launcher.py:28: SettingWithCopyWarning: \n",
      "A value is trying to be set on a copy of a slice from a DataFrame.\n",
      "Try using .loc[row_indexer,col_indexer] = value instead\n",
      "\n",
      "See the caveats in the documentation: http://pandas.pydata.org/pandas-docs/stable/indexing.html#indexing-view-versus-copy\n",
      "C:\\Users\\Anuj\\Miniconda3\\envs\\condaenv\\lib\\site-packages\\pandas\\core\\frame.py:3940: SettingWithCopyWarning: \n",
      "A value is trying to be set on a copy of a slice from a DataFrame\n",
      "\n",
      "See the caveats in the documentation: http://pandas.pydata.org/pandas-docs/stable/indexing.html#indexing-view-versus-copy\n",
      "  errors=errors)\n",
      "C:\\Users\\Anuj\\Miniconda3\\envs\\condaenv\\lib\\site-packages\\ipykernel_launcher.py:31: SettingWithCopyWarning: \n",
      "A value is trying to be set on a copy of a slice from a DataFrame.\n",
      "Try using .loc[row_indexer,col_indexer] = value instead\n",
      "\n",
      "See the caveats in the documentation: http://pandas.pydata.org/pandas-docs/stable/indexing.html#indexing-view-versus-copy\n",
      "C:\\Users\\Anuj\\Miniconda3\\envs\\condaenv\\lib\\site-packages\\pandas\\core\\frame.py:3940: SettingWithCopyWarning: \n",
      "A value is trying to be set on a copy of a slice from a DataFrame\n",
      "\n",
      "See the caveats in the documentation: http://pandas.pydata.org/pandas-docs/stable/indexing.html#indexing-view-versus-copy\n",
      "  errors=errors)\n",
      "C:\\Users\\Anuj\\Miniconda3\\envs\\condaenv\\lib\\site-packages\\ipykernel_launcher.py:28: SettingWithCopyWarning: \n",
      "A value is trying to be set on a copy of a slice from a DataFrame.\n",
      "Try using .loc[row_indexer,col_indexer] = value instead\n",
      "\n",
      "See the caveats in the documentation: http://pandas.pydata.org/pandas-docs/stable/indexing.html#indexing-view-versus-copy\n"
     ]
    },
    {
     "name": "stdout",
     "output_type": "stream",
     "text": [
      "(166570, 1)\n"
     ]
    },
    {
     "name": "stderr",
     "output_type": "stream",
     "text": [
      "C:\\Users\\Anuj\\Miniconda3\\envs\\condaenv\\lib\\site-packages\\pandas\\core\\frame.py:3940: SettingWithCopyWarning: \n",
      "A value is trying to be set on a copy of a slice from a DataFrame\n",
      "\n",
      "See the caveats in the documentation: http://pandas.pydata.org/pandas-docs/stable/indexing.html#indexing-view-versus-copy\n",
      "  errors=errors)\n",
      "C:\\Users\\Anuj\\Miniconda3\\envs\\condaenv\\lib\\site-packages\\ipykernel_launcher.py:31: SettingWithCopyWarning: \n",
      "A value is trying to be set on a copy of a slice from a DataFrame.\n",
      "Try using .loc[row_indexer,col_indexer] = value instead\n",
      "\n",
      "See the caveats in the documentation: http://pandas.pydata.org/pandas-docs/stable/indexing.html#indexing-view-versus-copy\n",
      "C:\\Users\\Anuj\\Miniconda3\\envs\\condaenv\\lib\\site-packages\\pandas\\core\\frame.py:3940: SettingWithCopyWarning: \n",
      "A value is trying to be set on a copy of a slice from a DataFrame\n",
      "\n",
      "See the caveats in the documentation: http://pandas.pydata.org/pandas-docs/stable/indexing.html#indexing-view-versus-copy\n",
      "  errors=errors)\n"
     ]
    },
    {
     "name": "stdout",
     "output_type": "stream",
     "text": [
      "(166570, 1)\n"
     ]
    },
    {
     "name": "stderr",
     "output_type": "stream",
     "text": [
      "C:\\Users\\Anuj\\Miniconda3\\envs\\condaenv\\lib\\site-packages\\ipykernel_launcher.py:28: SettingWithCopyWarning: \n",
      "A value is trying to be set on a copy of a slice from a DataFrame.\n",
      "Try using .loc[row_indexer,col_indexer] = value instead\n",
      "\n",
      "See the caveats in the documentation: http://pandas.pydata.org/pandas-docs/stable/indexing.html#indexing-view-versus-copy\n",
      "C:\\Users\\Anuj\\Miniconda3\\envs\\condaenv\\lib\\site-packages\\pandas\\core\\frame.py:3940: SettingWithCopyWarning: \n",
      "A value is trying to be set on a copy of a slice from a DataFrame\n",
      "\n",
      "See the caveats in the documentation: http://pandas.pydata.org/pandas-docs/stable/indexing.html#indexing-view-versus-copy\n",
      "  errors=errors)\n",
      "C:\\Users\\Anuj\\Miniconda3\\envs\\condaenv\\lib\\site-packages\\ipykernel_launcher.py:31: SettingWithCopyWarning: \n",
      "A value is trying to be set on a copy of a slice from a DataFrame.\n",
      "Try using .loc[row_indexer,col_indexer] = value instead\n",
      "\n",
      "See the caveats in the documentation: http://pandas.pydata.org/pandas-docs/stable/indexing.html#indexing-view-versus-copy\n",
      "C:\\Users\\Anuj\\Miniconda3\\envs\\condaenv\\lib\\site-packages\\pandas\\core\\frame.py:3940: SettingWithCopyWarning: \n",
      "A value is trying to be set on a copy of a slice from a DataFrame\n",
      "\n",
      "See the caveats in the documentation: http://pandas.pydata.org/pandas-docs/stable/indexing.html#indexing-view-versus-copy\n",
      "  errors=errors)\n",
      "C:\\Users\\Anuj\\Miniconda3\\envs\\condaenv\\lib\\site-packages\\ipykernel_launcher.py:28: SettingWithCopyWarning: \n",
      "A value is trying to be set on a copy of a slice from a DataFrame.\n",
      "Try using .loc[row_indexer,col_indexer] = value instead\n",
      "\n",
      "See the caveats in the documentation: http://pandas.pydata.org/pandas-docs/stable/indexing.html#indexing-view-versus-copy\n",
      "C:\\Users\\Anuj\\Miniconda3\\envs\\condaenv\\lib\\site-packages\\pandas\\core\\frame.py:3940: SettingWithCopyWarning: \n",
      "A value is trying to be set on a copy of a slice from a DataFrame\n",
      "\n",
      "See the caveats in the documentation: http://pandas.pydata.org/pandas-docs/stable/indexing.html#indexing-view-versus-copy\n",
      "  errors=errors)\n"
     ]
    },
    {
     "name": "stdout",
     "output_type": "stream",
     "text": [
      "(166570, 1)\n"
     ]
    },
    {
     "name": "stderr",
     "output_type": "stream",
     "text": [
      "C:\\Users\\Anuj\\Miniconda3\\envs\\condaenv\\lib\\site-packages\\ipykernel_launcher.py:31: SettingWithCopyWarning: \n",
      "A value is trying to be set on a copy of a slice from a DataFrame.\n",
      "Try using .loc[row_indexer,col_indexer] = value instead\n",
      "\n",
      "See the caveats in the documentation: http://pandas.pydata.org/pandas-docs/stable/indexing.html#indexing-view-versus-copy\n",
      "C:\\Users\\Anuj\\Miniconda3\\envs\\condaenv\\lib\\site-packages\\pandas\\core\\frame.py:3940: SettingWithCopyWarning: \n",
      "A value is trying to be set on a copy of a slice from a DataFrame\n",
      "\n",
      "See the caveats in the documentation: http://pandas.pydata.org/pandas-docs/stable/indexing.html#indexing-view-versus-copy\n",
      "  errors=errors)\n",
      "C:\\Users\\Anuj\\Miniconda3\\envs\\condaenv\\lib\\site-packages\\ipykernel_launcher.py:28: SettingWithCopyWarning: \n",
      "A value is trying to be set on a copy of a slice from a DataFrame.\n",
      "Try using .loc[row_indexer,col_indexer] = value instead\n",
      "\n",
      "See the caveats in the documentation: http://pandas.pydata.org/pandas-docs/stable/indexing.html#indexing-view-versus-copy\n"
     ]
    },
    {
     "name": "stdout",
     "output_type": "stream",
     "text": [
      "(166570, 1)\n"
     ]
    },
    {
     "name": "stderr",
     "output_type": "stream",
     "text": [
      "C:\\Users\\Anuj\\Miniconda3\\envs\\condaenv\\lib\\site-packages\\pandas\\core\\frame.py:3940: SettingWithCopyWarning: \n",
      "A value is trying to be set on a copy of a slice from a DataFrame\n",
      "\n",
      "See the caveats in the documentation: http://pandas.pydata.org/pandas-docs/stable/indexing.html#indexing-view-versus-copy\n",
      "  errors=errors)\n",
      "C:\\Users\\Anuj\\Miniconda3\\envs\\condaenv\\lib\\site-packages\\ipykernel_launcher.py:31: SettingWithCopyWarning: \n",
      "A value is trying to be set on a copy of a slice from a DataFrame.\n",
      "Try using .loc[row_indexer,col_indexer] = value instead\n",
      "\n",
      "See the caveats in the documentation: http://pandas.pydata.org/pandas-docs/stable/indexing.html#indexing-view-versus-copy\n",
      "C:\\Users\\Anuj\\Miniconda3\\envs\\condaenv\\lib\\site-packages\\pandas\\core\\frame.py:3940: SettingWithCopyWarning: \n",
      "A value is trying to be set on a copy of a slice from a DataFrame\n",
      "\n",
      "See the caveats in the documentation: http://pandas.pydata.org/pandas-docs/stable/indexing.html#indexing-view-versus-copy\n",
      "  errors=errors)\n"
     ]
    }
   ],
   "source": [
    "# ss = StandardScaler()\n",
    "# ss.fit(X_train.loc[:,\"oldbalanceOrg\"].values.reshape(-1,1))\n",
    "# X_train.loc[:,\"scaled_oldbalanceOrg\"]= ss.transform(X_train.loc[:,\"oldbalanceOrg\"].values.reshape(-1,1))\n",
    "# X_test.loc[:,\"scaled_oldbalanceOrg\"] = ss.transform(X_test.loc[:,\"oldbalanceOrg\"].values.reshape(-1,1))\n",
    "\n",
    "# ss = StandardScaler()\n",
    "# ss.fit(X_train.loc[:,\"newbalanceOrig\"].values.reshape(-1,1))\n",
    "# X_train.loc[:,\"scaled_newbalanceOrig\"]= ss.transform(X_train.loc[:,\"newbalanceOrig\"].values.reshape(-1,1))\n",
    "# X_test.loc[:,\"scaled_newbalanceOrig\"] = ss.transform(X_test.loc[:,\"newbalanceOrig\"].values.reshape(-1,1))\n",
    "\n",
    "# ss = StandardScaler()\n",
    "# ss.fit(X_train.loc[:,\"oldbalanceDest\"].values.reshape(-1,1))\n",
    "# X_train.loc[:,\"scaled_oldbalanceDest\"]= ss.transform(X_train.loc[:,\"oldbalanceDest\"].values.reshape(-1,1))\n",
    "# X_test.loc[:,\"scaled_oldbalanceDest\"] = ss.transform(X_test.loc[:,\"oldbalanceDest\"].values.reshape(-1,1))\n",
    "\n",
    "# ss = StandardScaler()\n",
    "# ss.fit(X_train.loc[:,\"newbalanceDest\"].values.reshape(-1,1))\n",
    "# X_train.loc[:,\"scaled_newbalanceDest\"]= ss.transform(X_train.loc[:,\"newbalanceDest\"].values.reshape(-1,1))\n",
    "# X_test.loc[:,\"scaled_newbalanceDest\"] = ss.transform(X_test.loc[:,\"newbalanceDest\"].values.reshape(-1,1))\n",
    "\n",
    "\n",
    "cols=[\"oldbalanceOrg\",\"newbalanceOrig\",\"oldbalanceDest\",\"newbalanceDest\",\"ln_amount\",\"ln_errorBalanceOrig\",\"ln_errorBalanceDest\"]\n",
    "for c in cols:\n",
    "    ss = StandardScaler()\n",
    "    ss.fit(X_train.loc[:,str(c)].values.reshape(-1,1))\n",
    "    transformed1 = ss.transform(X_train.loc[:,str(c)].values.reshape(-1,1))\n",
    "    print(transformed1.shape)\n",
    "    X_train[\"scaled_\"+str(c)] = transformed1\n",
    "    X_train.drop(c,axis=1,inplace=True)\n",
    "    transformed2 = ss.transform(X_test.loc[:,str(c)].values.reshape(-1,1))\n",
    "    X_test[\"scaled_\"+str(c)] = transformed2\n",
    "    X_test.drop(c,axis=1,inplace=True)\n",
    "    \n",
    "\n",
    "\n",
    "\n",
    "\n",
    "\n",
    "\n",
    "\n",
    "\n",
    "\n",
    "\n",
    "\n",
    "\n",
    "\n",
    "\n",
    "\n",
    "\n"
   ]
  },
  {
   "cell_type": "code",
   "execution_count": 41,
   "metadata": {},
   "outputs": [
    {
     "data": {
      "text/html": [
       "<div>\n",
       "<style scoped>\n",
       "    .dataframe tbody tr th:only-of-type {\n",
       "        vertical-align: middle;\n",
       "    }\n",
       "\n",
       "    .dataframe tbody tr th {\n",
       "        vertical-align: top;\n",
       "    }\n",
       "\n",
       "    .dataframe thead th {\n",
       "        text-align: right;\n",
       "    }\n",
       "</style>\n",
       "<table border=\"1\" class=\"dataframe\">\n",
       "  <thead>\n",
       "    <tr style=\"text-align: right;\">\n",
       "      <th></th>\n",
       "      <th>type_transfer</th>\n",
       "      <th>type_name</th>\n",
       "      <th>scaled_oldbalanceOrg</th>\n",
       "      <th>scaled_newbalanceOrig</th>\n",
       "      <th>scaled_oldbalanceDest</th>\n",
       "      <th>scaled_newbalanceDest</th>\n",
       "      <th>scaled_ln_amount</th>\n",
       "      <th>scaled_ln_errorBalanceOrig</th>\n",
       "      <th>scaled_ln_errorBalanceDest</th>\n",
       "    </tr>\n",
       "  </thead>\n",
       "  <tbody>\n",
       "    <tr>\n",
       "      <th>240937</th>\n",
       "      <td>3</td>\n",
       "      <td>0</td>\n",
       "      <td>-0.296385</td>\n",
       "      <td>-0.286881</td>\n",
       "      <td>0.204165</td>\n",
       "      <td>0.430443</td>\n",
       "      <td>1.572934</td>\n",
       "      <td>1.027500</td>\n",
       "      <td>-1.098093</td>\n",
       "    </tr>\n",
       "    <tr>\n",
       "      <th>257089</th>\n",
       "      <td>2</td>\n",
       "      <td>0</td>\n",
       "      <td>-0.291391</td>\n",
       "      <td>-0.280304</td>\n",
       "      <td>-0.321572</td>\n",
       "      <td>-0.334316</td>\n",
       "      <td>-1.354680</td>\n",
       "      <td>0.097777</td>\n",
       "      <td>0.468263</td>\n",
       "    </tr>\n",
       "    <tr>\n",
       "      <th>4040151</th>\n",
       "      <td>0</td>\n",
       "      <td>0</td>\n",
       "      <td>-0.292276</td>\n",
       "      <td>-0.286881</td>\n",
       "      <td>-0.321572</td>\n",
       "      <td>-0.240526</td>\n",
       "      <td>0.845047</td>\n",
       "      <td>0.753697</td>\n",
       "      <td>-1.098093</td>\n",
       "    </tr>\n",
       "    <tr>\n",
       "      <th>1276758</th>\n",
       "      <td>0</td>\n",
       "      <td>0</td>\n",
       "      <td>-0.273548</td>\n",
       "      <td>-0.286881</td>\n",
       "      <td>0.829287</td>\n",
       "      <td>0.803669</td>\n",
       "      <td>0.928903</td>\n",
       "      <td>0.746227</td>\n",
       "      <td>-1.098093</td>\n",
       "    </tr>\n",
       "    <tr>\n",
       "      <th>4926349</th>\n",
       "      <td>3</td>\n",
       "      <td>0</td>\n",
       "      <td>-0.296385</td>\n",
       "      <td>-0.286881</td>\n",
       "      <td>2.281562</td>\n",
       "      <td>2.206544</td>\n",
       "      <td>1.266347</td>\n",
       "      <td>0.915958</td>\n",
       "      <td>-1.098093</td>\n",
       "    </tr>\n",
       "  </tbody>\n",
       "</table>\n",
       "</div>"
      ],
      "text/plain": [
       "         type_transfer  type_name  scaled_oldbalanceOrg  \\\n",
       "240937               3          0             -0.296385   \n",
       "257089               2          0             -0.291391   \n",
       "4040151              0          0             -0.292276   \n",
       "1276758              0          0             -0.273548   \n",
       "4926349              3          0             -0.296385   \n",
       "\n",
       "         scaled_newbalanceOrig  scaled_oldbalanceDest  scaled_newbalanceDest  \\\n",
       "240937               -0.286881               0.204165               0.430443   \n",
       "257089               -0.280304              -0.321572              -0.334316   \n",
       "4040151              -0.286881              -0.321572              -0.240526   \n",
       "1276758              -0.286881               0.829287               0.803669   \n",
       "4926349              -0.286881               2.281562               2.206544   \n",
       "\n",
       "         scaled_ln_amount  scaled_ln_errorBalanceOrig  \\\n",
       "240937           1.572934                    1.027500   \n",
       "257089          -1.354680                    0.097777   \n",
       "4040151          0.845047                    0.753697   \n",
       "1276758          0.928903                    0.746227   \n",
       "4926349          1.266347                    0.915958   \n",
       "\n",
       "         scaled_ln_errorBalanceDest  \n",
       "240937                    -1.098093  \n",
       "257089                     0.468263  \n",
       "4040151                   -1.098093  \n",
       "1276758                   -1.098093  \n",
       "4926349                   -1.098093  "
      ]
     },
     "execution_count": 41,
     "metadata": {},
     "output_type": "execute_result"
    }
   ],
   "source": [
    "X_train.head()"
   ]
  },
  {
   "cell_type": "code",
   "execution_count": 42,
   "metadata": {},
   "outputs": [],
   "source": [
    "X_train.to_csv(\"X_train_dataset2_preprocessed.csv\",index=False)\n",
    "X_test.to_csv(\"X_test_dataset2_preprocessed.csv\",index=False)"
   ]
  },
  {
   "cell_type": "code",
   "execution_count": 43,
   "metadata": {},
   "outputs": [
    {
     "name": "stderr",
     "output_type": "stream",
     "text": [
      "C:\\Users\\Anuj\\Miniconda3\\envs\\condaenv\\lib\\site-packages\\ipykernel_launcher.py:1: FutureWarning: The signature of `Series.to_csv` was aligned to that of `DataFrame.to_csv`, and argument 'header' will change its default value from False to True: please pass an explicit value to suppress this warning.\n",
      "  \"\"\"Entry point for launching an IPython kernel.\n",
      "C:\\Users\\Anuj\\Miniconda3\\envs\\condaenv\\lib\\site-packages\\ipykernel_launcher.py:2: FutureWarning: The signature of `Series.to_csv` was aligned to that of `DataFrame.to_csv`, and argument 'header' will change its default value from False to True: please pass an explicit value to suppress this warning.\n",
      "  \n"
     ]
    }
   ],
   "source": [
    "y_train.to_csv(\"y_train_dataset2_preprocessed.csv\",index=False)\n",
    "y_test.to_csv(\"y_test_dataset2_preprocessed.csv\",index=False)"
   ]
  },
  {
   "cell_type": "code",
   "execution_count": 52,
   "metadata": {},
   "outputs": [],
   "source": [
    "X_train = pd.read_csv(\"X_train_dataset2_preprocessed.csv\")\n",
    "X_test = pd.read_csv(\"X_test_dataset2_preprocessed.csv\")\n",
    "\n",
    "y_train = pd.read_csv(\"y_train_dataset2_preprocessed.csv\",header=None)\n",
    "y_test = pd.read_csv(\"y_test_dataset2_preprocessed.csv\",header=None)\n"
   ]
  },
  {
   "cell_type": "markdown",
   "metadata": {},
   "source": [
    "#### 1. Random Undersample"
   ]
  },
  {
   "cell_type": "code",
   "execution_count": 94,
   "metadata": {},
   "outputs": [
    {
     "name": "stdout",
     "output_type": "stream",
     "text": [
      "Counter({0: 6570, 1: 6570})\n"
     ]
    }
   ],
   "source": [
    "undersample = RandomUnderSampler(sampling_strategy='majority')\n",
    "# fit and apply the transform\n",
    "all_dataset[\"X_train_undersample_dataset2\"], all_dataset[\"y_train_undersample_dataset2\"] = undersample.fit_resample(X_train, y_train)\n",
    "# summarize class distribution\n",
    "print(Counter(all_dataset[\"y_train_undersample_dataset2\"]))"
   ]
  },
  {
   "cell_type": "code",
   "execution_count": 95,
   "metadata": {},
   "outputs": [
    {
     "name": "stdout",
     "output_type": "stream",
     "text": [
      "Random Undersample dataset 2 RCF Completed\n",
      "Random Undersample dataset 2 Random Forest Selection Completed\n",
      "Random Undersample dataset 2 Forward feature selection Completed\n"
     ]
    }
   ],
   "source": [
    "training_testing_function(all_dataset[\"X_train_undersample_dataset2\"],all_dataset[\"y_train_undersample_dataset2\"],\"Random Undersample dataset 2\")"
   ]
  },
  {
   "cell_type": "code",
   "execution_count": 96,
   "metadata": {},
   "outputs": [
    {
     "data": {
      "text/plain": [
       "[('SMOTE Tomek RCF',\n",
       "  0.9976651100733822,\n",
       "  0.5128205128205129,\n",
       "  0.8562196016560818),\n",
       " ('SMOTE Tomek Random Forest  Selection',\n",
       "  0.9991046662687406,\n",
       "  0.767123287671233,\n",
       "  0.9282460909237077),\n",
       " ('SMOTE Tomek Forward feature selection',\n",
       "  0.9966468873986166,\n",
       "  0.4558404558404559,\n",
       "  0.9066420919802924),\n",
       " ('Random Undersample dataset 2 RCF',\n",
       "  0.9634032130249982,\n",
       "  0.6817042606516291,\n",
       "  0.9777399650030433),\n",
       " ('Random Undersample dataset 2 Random Forest  Selection',\n",
       "  0.9647719904905987,\n",
       "  0.690048594971477,\n",
       "  0.9787442863664029),\n",
       " ('Random Undersample dataset 2 RCF',\n",
       "  0.9638354585404509,\n",
       "  0.6845412651864264,\n",
       "  0.9785486077297626),\n",
       " ('Random Undersample dataset 2 Random Forest  Selection',\n",
       "  0.9659006315587254,\n",
       "  0.697098976109215,\n",
       "  0.9796236077297628),\n",
       " ('Random Undersample dataset 2 Forward feature selection',\n",
       "  0.974233364551065,\n",
       "  0.7525939589578049,\n",
       "  0.9833774650030432)]"
      ]
     },
     "execution_count": 96,
     "metadata": {},
     "output_type": "execute_result"
    }
   ],
   "source": [
    "all_results"
   ]
  },
  {
   "cell_type": "markdown",
   "metadata": {},
   "source": [
    "#### 2. Instance Hardness Threshold"
   ]
  },
  {
   "cell_type": "code",
   "execution_count": 97,
   "metadata": {},
   "outputs": [],
   "source": [
    "from imblearn.under_sampling import InstanceHardnessThreshold"
   ]
  },
  {
   "cell_type": "code",
   "execution_count": 98,
   "metadata": {},
   "outputs": [
    {
     "name": "stdout",
     "output_type": "stream",
     "text": [
      "Resampled dataset shape Counter({0: 158482, 1: 6570})\n"
     ]
    }
   ],
   "source": [
    "iht = InstanceHardnessThreshold(sampling_strategy='majority', random_state=42)\n",
    "all_dataset[\"X_train_res_dataset2\"], all_dataset[\"y_train_res_dataset2\"] = iht.fit_resample(X_train, y_train)\n",
    "print('Resampled dataset shape %s' % Counter(all_dataset[\"y_train_res_dataset2\"]))"
   ]
  },
  {
   "cell_type": "code",
   "execution_count": 99,
   "metadata": {},
   "outputs": [
    {
     "name": "stdout",
     "output_type": "stream",
     "text": [
      "IHT dataset 2 RCF Completed\n",
      "IHT dataset 2 Random Forest Selection Completed\n",
      "IHT dataset 2 Forward feature selection Completed\n"
     ]
    }
   ],
   "source": [
    "training_testing_function(all_dataset[\"X_train_res_dataset2\"],all_dataset[\"y_train_res_dataset2\"],\"IHT dataset 2\")"
   ]
  },
  {
   "cell_type": "code",
   "execution_count": 100,
   "metadata": {},
   "outputs": [
    {
     "data": {
      "text/plain": [
       "[('SMOTE Tomek RCF',\n",
       "  0.9976651100733822,\n",
       "  0.5128205128205129,\n",
       "  0.8562196016560818),\n",
       " ('SMOTE Tomek Random Forest  Selection',\n",
       "  0.9991046662687406,\n",
       "  0.767123287671233,\n",
       "  0.9282460909237077),\n",
       " ('SMOTE Tomek Forward feature selection',\n",
       "  0.9966468873986166,\n",
       "  0.4558404558404559,\n",
       "  0.9066420919802924),\n",
       " ('Random Undersample dataset 2 RCF',\n",
       "  0.9634032130249982,\n",
       "  0.6817042606516291,\n",
       "  0.9777399650030433),\n",
       " ('Random Undersample dataset 2 Random Forest  Selection',\n",
       "  0.9647719904905987,\n",
       "  0.690048594971477,\n",
       "  0.9787442863664029),\n",
       " ('Random Undersample dataset 2 RCF',\n",
       "  0.9638354585404509,\n",
       "  0.6845412651864264,\n",
       "  0.9785486077297626),\n",
       " ('Random Undersample dataset 2 Random Forest  Selection',\n",
       "  0.9659006315587254,\n",
       "  0.697098976109215,\n",
       "  0.9796236077297628),\n",
       " ('Random Undersample dataset 2 Forward feature selection',\n",
       "  0.974233364551065,\n",
       "  0.7525939589578049,\n",
       "  0.9833774650030432),\n",
       " ('IHT dataset 2 RCF',\n",
       "  0.9962058449199145,\n",
       "  0.9535840188014102,\n",
       "  0.992188572732806),\n",
       " ('IHT dataset 2 Random Forest  Selection',\n",
       "  0.997574622385515,\n",
       "  0.9700029700029701,\n",
       "  0.9958192863664029),\n",
       " ('IHT dataset 2 Forward feature selection',\n",
       "  0.9967821722738516,\n",
       "  0.9604252805670409,\n",
       "  0.9933640368228851)]"
      ]
     },
     "execution_count": 100,
     "metadata": {},
     "output_type": "execute_result"
    }
   ],
   "source": [
    "all_results"
   ]
  },
  {
   "cell_type": "markdown",
   "metadata": {},
   "source": [
    "#### 3. Cluster Centroid"
   ]
  },
  {
   "cell_type": "code",
   "execution_count": 58,
   "metadata": {},
   "outputs": [],
   "source": [
    "from imblearn.under_sampling import ClusterCentroids"
   ]
  },
  {
   "cell_type": "code",
   "execution_count": 59,
   "metadata": {},
   "outputs": [
    {
     "name": "stderr",
     "output_type": "stream",
     "text": [
      "\n",
      "KeyboardInterrupt\n",
      "\n"
     ]
    }
   ],
   "source": [
    "all_dataset[\"X_cluster_centroids_dataset2\"],all_dataset[\"y_cluster_centroids_dataset2\"]  = ClusterCentroids().fit_resample(X_train,y_train)"
   ]
  },
  {
   "cell_type": "code",
   "execution_count": null,
   "metadata": {},
   "outputs": [],
   "source": [
    "training_testing_function(all_dataset[\"X_cluster_centroids_dataset2\"],all_dataset[\"y_cluster_centroids_dataset2\"],\"Cluster centroids dataset 2\")"
   ]
  },
  {
   "cell_type": "code",
   "execution_count": null,
   "metadata": {},
   "outputs": [],
   "source": [
    "all_results"
   ]
  },
  {
   "cell_type": "markdown",
   "metadata": {},
   "source": [
    "#### 4. Near Miss"
   ]
  },
  {
   "cell_type": "code",
   "execution_count": 79,
   "metadata": {},
   "outputs": [],
   "source": [
    "from imblearn.under_sampling import NearMiss"
   ]
  },
  {
   "cell_type": "code",
   "execution_count": 80,
   "metadata": {},
   "outputs": [
    {
     "name": "stdout",
     "output_type": "stream",
     "text": [
      "Near Miss dataset 2 Completed\n"
     ]
    }
   ],
   "source": [
    "all_dataset['X_near_miss_dataset2'],all_dataset['y_near_miss_dataset2'] = NearMiss().fit_resample(X_train,y_train)\n",
    "training_testing_function(all_dataset['X_near_miss_dataset2'],all_dataset['y_near_miss_dataset2'],\"Near Miss dataset 2\")"
   ]
  },
  {
   "cell_type": "code",
   "execution_count": 81,
   "metadata": {},
   "outputs": [
    {
     "data": {
      "text/plain": [
       "[('Near Miss dataset 2',\n",
       "  0.481089258698941,\n",
       "  0.12126387702818103,\n",
       "  0.6855306527693245)]"
      ]
     },
     "execution_count": 81,
     "metadata": {},
     "output_type": "execute_result"
    }
   ],
   "source": [
    "all_results"
   ]
  },
  {
   "cell_type": "markdown",
   "metadata": {},
   "source": [
    "#### 5. One Sided Selection"
   ]
  },
  {
   "cell_type": "code",
   "execution_count": 82,
   "metadata": {},
   "outputs": [],
   "source": [
    "from imblearn.under_sampling import OneSidedSelection"
   ]
  },
  {
   "cell_type": "code",
   "execution_count": 83,
   "metadata": {},
   "outputs": [
    {
     "name": "stdout",
     "output_type": "stream",
     "text": [
      "One Sided Selection dataset 2 Completed\n"
     ]
    }
   ],
   "source": [
    "all_dataset['X_one_sided_selection_dataset2'],all_dataset['y_one_sided_selection_dataset2'] = OneSidedSelection().fit_resample(X_train,y_train)\n",
    "training_testing_function(all_dataset['X_one_sided_selection_dataset2'],all_dataset['y_one_sided_selection_dataset2'],\"One Sided Selection dataset 2\")"
   ]
  },
  {
   "cell_type": "code",
   "execution_count": 84,
   "metadata": {},
   "outputs": [
    {
     "data": {
      "text/plain": [
       "[('Near Miss dataset 2',\n",
       "  0.481089258698941,\n",
       "  0.12126387702818103,\n",
       "  0.6855306527693245),\n",
       " ('One Sided Selection dataset 2',\n",
       "  0.9960857767211776,\n",
       "  0.9521010872759329,\n",
       "  0.9912506086427268)]"
      ]
     },
     "execution_count": 84,
     "metadata": {},
     "output_type": "execute_result"
    }
   ],
   "source": [
    "all_results"
   ]
  },
  {
   "cell_type": "markdown",
   "metadata": {},
   "source": [
    "#### 6. Tomek Links"
   ]
  },
  {
   "cell_type": "code",
   "execution_count": 85,
   "metadata": {},
   "outputs": [],
   "source": [
    "from imblearn.under_sampling import TomekLinks"
   ]
  },
  {
   "cell_type": "code",
   "execution_count": 86,
   "metadata": {},
   "outputs": [],
   "source": [
    "all_dataset['X_tomek_links_dataset2'],all_dataset['y_tomek_links_dataset2'] = TomekLinks().fit_resample(X_train,y_train)\n"
   ]
  },
  {
   "cell_type": "code",
   "execution_count": 87,
   "metadata": {},
   "outputs": [
    {
     "name": "stdout",
     "output_type": "stream",
     "text": [
      "Tomek Links dataset 2 Completed\n"
     ]
    }
   ],
   "source": [
    "training_testing_function(all_dataset['X_tomek_links_dataset2'],all_dataset['y_tomek_links_dataset2'],\"Tomek Links dataset 2\")"
   ]
  },
  {
   "cell_type": "code",
   "execution_count": 88,
   "metadata": {},
   "outputs": [
    {
     "data": {
      "text/plain": [
       "[('Near Miss dataset 2',\n",
       "  0.481089258698941,\n",
       "  0.12126387702818103,\n",
       "  0.6855306527693245),\n",
       " ('One Sided Selection dataset 2',\n",
       "  0.9960857767211776,\n",
       "  0.9521010872759329,\n",
       "  0.9912506086427268),\n",
       " ('Tomek Links dataset 2',\n",
       "  0.9960857767211776,\n",
       "  0.9521010872759329,\n",
       "  0.9912506086427268)]"
      ]
     },
     "execution_count": 88,
     "metadata": {},
     "output_type": "execute_result"
    }
   ],
   "source": [
    "all_results"
   ]
  },
  {
   "cell_type": "markdown",
   "metadata": {},
   "source": [
    "### Oversampling data"
   ]
  },
  {
   "cell_type": "markdown",
   "metadata": {},
   "source": [
    "#### 1. Random Oversampling"
   ]
  },
  {
   "cell_type": "code",
   "execution_count": 89,
   "metadata": {},
   "outputs": [
    {
     "name": "stdout",
     "output_type": "stream",
     "text": [
      "[(0, 160000), (1, 160000)]\n"
     ]
    }
   ],
   "source": [
    "ros = RandomOverSampler(random_state=0)\n",
    "all_dataset[\"X_train_random_oversampled_dataset2\"], all_dataset[\"y_train_random_oversampled_dataset2\"] = ros.fit_resample(X_train, y_train)\n",
    "\n",
    "print(sorted(Counter(all_dataset[\"y_train_random_oversampled_dataset2\"]).items()))"
   ]
  },
  {
   "cell_type": "code",
   "execution_count": 90,
   "metadata": {},
   "outputs": [
    {
     "name": "stdout",
     "output_type": "stream",
     "text": [
      "Random Oversampled dataset2 Completed\n"
     ]
    }
   ],
   "source": [
    "training_testing_function(all_dataset[\"X_train_random_oversampled_dataset2\"],all_dataset[\"y_train_random_oversampled_dataset2\"],\"Random Oversampled dataset2\")"
   ]
  },
  {
   "cell_type": "code",
   "execution_count": 91,
   "metadata": {},
   "outputs": [
    {
     "data": {
      "text/plain": [
       "[('Near Miss dataset 2',\n",
       "  0.481089258698941,\n",
       "  0.12126387702818103,\n",
       "  0.6855306527693245),\n",
       " ('One Sided Selection dataset 2',\n",
       "  0.9960857767211776,\n",
       "  0.9521010872759329,\n",
       "  0.9912506086427268),\n",
       " ('Tomek Links dataset 2',\n",
       "  0.9960857767211776,\n",
       "  0.9521010872759329,\n",
       "  0.9912506086427268),\n",
       " ('Random Oversampled dataset2',\n",
       "  0.9882093028840382,\n",
       "  0.8695190007972363,\n",
       "  0.991819750456482)]"
      ]
     },
     "execution_count": 91,
     "metadata": {},
     "output_type": "execute_result"
    }
   ],
   "source": [
    "all_results"
   ]
  },
  {
   "cell_type": "markdown",
   "metadata": {},
   "source": [
    "#### 2. SMOTE"
   ]
  },
  {
   "cell_type": "code",
   "execution_count": 92,
   "metadata": {},
   "outputs": [
    {
     "name": "stdout",
     "output_type": "stream",
     "text": [
      "[(0, 160000), (1, 160000)]\n"
     ]
    }
   ],
   "source": [
    "from imblearn.over_sampling import SMOTE, ADASYN\n",
    "all_dataset[\"X_smote_dataset2\"], all_dataset[\"y_smote_dataset2\"] = SMOTE().fit_resample(X_train, y_train)\n",
    "print(sorted(Counter(all_dataset[\"y_smote_dataset2\"]).items()))\n",
    "\n"
   ]
  },
  {
   "cell_type": "code",
   "execution_count": 93,
   "metadata": {},
   "outputs": [
    {
     "name": "stdout",
     "output_type": "stream",
     "text": [
      "SMOTE dataset2 Completed\n"
     ]
    }
   ],
   "source": [
    "training_testing_function(all_dataset['X_smote_dataset2'],all_dataset['y_smote_dataset2'],\"SMOTE dataset2\")"
   ]
  },
  {
   "cell_type": "code",
   "execution_count": 94,
   "metadata": {},
   "outputs": [
    {
     "data": {
      "text/plain": [
       "[('Near Miss dataset 2',\n",
       "  0.481089258698941,\n",
       "  0.12126387702818103,\n",
       "  0.6855306527693245),\n",
       " ('One Sided Selection dataset 2',\n",
       "  0.9960857767211776,\n",
       "  0.9521010872759329,\n",
       "  0.9912506086427268),\n",
       " ('Tomek Links dataset 2',\n",
       "  0.9960857767211776,\n",
       "  0.9521010872759329,\n",
       "  0.9912506086427268),\n",
       " ('Random Oversampled dataset2',\n",
       "  0.9882093028840382,\n",
       "  0.8695190007972363,\n",
       "  0.991819750456482),\n",
       " ('SMOTE dataset2', 0.9852316115553634, 0.84178029328531, 0.990269750456482)]"
      ]
     },
     "execution_count": 94,
     "metadata": {},
     "output_type": "execute_result"
    }
   ],
   "source": [
    "all_results"
   ]
  },
  {
   "cell_type": "markdown",
   "metadata": {},
   "source": [
    "#### 3. ADASYN"
   ]
  },
  {
   "cell_type": "code",
   "execution_count": 95,
   "metadata": {},
   "outputs": [
    {
     "name": "stdout",
     "output_type": "stream",
     "text": [
      "[(0, 160000), (1, 160103)]\n"
     ]
    }
   ],
   "source": [
    "all_dataset['X_adasyn_dataset2'],all_dataset['y_adasyn_dataset2'] = ADASYN().fit_resample(X_train, y_train)\n",
    "print(sorted(Counter(all_dataset[\"y_adasyn_dataset2\"]).items()))"
   ]
  },
  {
   "cell_type": "code",
   "execution_count": 96,
   "metadata": {},
   "outputs": [
    {
     "name": "stdout",
     "output_type": "stream",
     "text": [
      "ADASYN dataset2 Completed\n"
     ]
    }
   ],
   "source": [
    "training_testing_function(all_dataset['X_adasyn_dataset2'],all_dataset['y_adasyn_dataset2'],\"ADASYN dataset2\")"
   ]
  },
  {
   "cell_type": "code",
   "execution_count": 97,
   "metadata": {},
   "outputs": [
    {
     "data": {
      "text/plain": [
       "[('Near Miss dataset 2',\n",
       "  0.481089258698941,\n",
       "  0.12126387702818103,\n",
       "  0.6855306527693245),\n",
       " ('One Sided Selection dataset 2',\n",
       "  0.9960857767211776,\n",
       "  0.9521010872759329,\n",
       "  0.9912506086427268),\n",
       " ('Tomek Links dataset 2',\n",
       "  0.9960857767211776,\n",
       "  0.9521010872759329,\n",
       "  0.9912506086427268),\n",
       " ('Random Oversampled dataset2',\n",
       "  0.9882093028840382,\n",
       "  0.8695190007972363,\n",
       "  0.991819750456482),\n",
       " ('SMOTE dataset2', 0.9852316115553634, 0.84178029328531, 0.990269750456482),\n",
       " ('ADASYN dataset2',\n",
       "  0.9785318060658454,\n",
       "  0.785405664906385,\n",
       "  0.9867822504564819)]"
      ]
     },
     "execution_count": 97,
     "metadata": {},
     "output_type": "execute_result"
    }
   ],
   "source": [
    "all_results"
   ]
  },
  {
   "cell_type": "markdown",
   "metadata": {},
   "source": [
    "#### 4. Variations of SMOTE"
   ]
  },
  {
   "cell_type": "code",
   "execution_count": 98,
   "metadata": {},
   "outputs": [],
   "source": [
    "from imblearn.over_sampling import BorderlineSMOTE,SVMSMOTE,KMeansSMOTE"
   ]
  },
  {
   "cell_type": "code",
   "execution_count": 99,
   "metadata": {},
   "outputs": [
    {
     "name": "stdout",
     "output_type": "stream",
     "text": [
      "Borderline SMOTE dataset2 Completed\n",
      "SVM SMOTE dataset2 Completed\n"
     ]
    }
   ],
   "source": [
    "all_dataset[\"X_borderline_smote_dataset2\"],all_dataset[\"y_borderline_smote_dataset2\"] = BorderlineSMOTE().fit_resample(X_train,y_train)\n",
    "all_dataset[\"X_svm_smote_dataset2\"],all_dataset[\"y_svm_smote_dataset2\"] = SVMSMOTE().fit_resample(X_train,y_train)\n",
    "\n",
    "# X_kmeans_smote,y_kmeans_smote = KMeansSMOTE().fit_resample(X_train,y_train)\n",
    "\n",
    "\n",
    "# all_dataset[\"X_kmeans_smote\"],all_dataset[\"y_kmeans_smote\"]= X_kmeans_smote,y_kmeans_smote\n",
    "\n",
    "training_testing_function(all_dataset[\"X_borderline_smote_dataset2\"],all_dataset[\"y_borderline_smote_dataset2\"],\"Borderline SMOTE dataset2\")\n",
    "training_testing_function(all_dataset[\"X_svm_smote_dataset2\"],all_dataset[\"y_svm_smote_dataset2\"],\"SVM SMOTE dataset2\")\n",
    "\n",
    "# training_testing_function(all_dataset[\"X_kmeans_smote\"],all_dataset[\"y_kmeans_smote\"],\"KMeans SMOTE\")\n",
    "\n"
   ]
  },
  {
   "cell_type": "code",
   "execution_count": 100,
   "metadata": {},
   "outputs": [
    {
     "data": {
      "text/plain": [
       "[('Near Miss dataset 2',\n",
       "  0.481089258698941,\n",
       "  0.12126387702818103,\n",
       "  0.6855306527693245),\n",
       " ('One Sided Selection dataset 2',\n",
       "  0.9960857767211776,\n",
       "  0.9521010872759329,\n",
       "  0.9912506086427268),\n",
       " ('Tomek Links dataset 2',\n",
       "  0.9960857767211776,\n",
       "  0.9521010872759329,\n",
       "  0.9912506086427268),\n",
       " ('Random Oversampled dataset2',\n",
       "  0.9882093028840382,\n",
       "  0.8695190007972363,\n",
       "  0.991819750456482),\n",
       " ('SMOTE dataset2', 0.9852316115553634, 0.84178029328531, 0.990269750456482),\n",
       " ('ADASYN dataset2',\n",
       "  0.9785318060658454,\n",
       "  0.785405664906385,\n",
       "  0.9867822504564819),\n",
       " ('Borderline SMOTE dataset2',\n",
       "  0.9814854837547727,\n",
       "  0.8093000247341083,\n",
       "  0.9883197504564819),\n",
       " ('SVM SMOTE dataset2',\n",
       "  0.9812693609970463,\n",
       "  0.8074074074074075,\n",
       "  0.9879154290931224)]"
      ]
     },
     "execution_count": 100,
     "metadata": {},
     "output_type": "execute_result"
    }
   ],
   "source": [
    "all_results"
   ]
  },
  {
   "cell_type": "markdown",
   "metadata": {},
   "source": [
    "### Combination of Undersampling and Oversampling"
   ]
  },
  {
   "cell_type": "markdown",
   "metadata": {},
   "source": [
    "#### 1. SMOTETomek"
   ]
  },
  {
   "cell_type": "code",
   "execution_count": 101,
   "metadata": {},
   "outputs": [],
   "source": [
    "from imblearn.combine import SMOTETomek"
   ]
  },
  {
   "cell_type": "code",
   "execution_count": 102,
   "metadata": {},
   "outputs": [
    {
     "name": "stdout",
     "output_type": "stream",
     "text": [
      "SMOTE Tomek dataset2 Completed\n"
     ]
    }
   ],
   "source": [
    "all_dataset['X_smote_tomek_dataset2'],all_dataset['y_smote_tomek_dataset2'] = SMOTETomek().fit_resample(X_train,y_train)\n",
    "training_testing_function(all_dataset['X_smote_tomek_dataset2'],all_dataset['y_smote_tomek_dataset2'],\"SMOTE Tomek dataset2\")"
   ]
  },
  {
   "cell_type": "code",
   "execution_count": 103,
   "metadata": {},
   "outputs": [
    {
     "data": {
      "text/plain": [
       "[('Near Miss dataset 2',\n",
       "  0.481089258698941,\n",
       "  0.12126387702818103,\n",
       "  0.6855306527693245),\n",
       " ('One Sided Selection dataset 2',\n",
       "  0.9960857767211776,\n",
       "  0.9521010872759329,\n",
       "  0.9912506086427268),\n",
       " ('Tomek Links dataset 2',\n",
       "  0.9960857767211776,\n",
       "  0.9521010872759329,\n",
       "  0.9912506086427268),\n",
       " ('Random Oversampled dataset2',\n",
       "  0.9882093028840382,\n",
       "  0.8695190007972363,\n",
       "  0.991819750456482),\n",
       " ('SMOTE dataset2', 0.9852316115553634, 0.84178029328531, 0.990269750456482),\n",
       " ('ADASYN dataset2',\n",
       "  0.9785318060658454,\n",
       "  0.785405664906385,\n",
       "  0.9867822504564819),\n",
       " ('Borderline SMOTE dataset2',\n",
       "  0.9814854837547727,\n",
       "  0.8093000247341083,\n",
       "  0.9883197504564819),\n",
       " ('SVM SMOTE dataset2',\n",
       "  0.9812693609970463,\n",
       "  0.8074074074074075,\n",
       "  0.9879154290931224),\n",
       " ('SMOTE Tomek dataset2',\n",
       "  0.984823379679658,\n",
       "  0.8381147540983607,\n",
       "  0.990057250456482)]"
      ]
     },
     "execution_count": 103,
     "metadata": {},
     "output_type": "execute_result"
    }
   ],
   "source": [
    "all_results"
   ]
  },
  {
   "cell_type": "code",
   "execution_count": 1,
   "metadata": {},
   "outputs": [],
   "source": [
    "l1 = [('Random Undersample',\n",
    "       0.9697342087707594,\n",
    "  0.08975712777191129,\n",
    "  0.918628801408014),\n",
    " ('IHT', 0.9989642217618764, 0.7281105990783411, 0.9027095081138815),\n",
    " ('Cluster centroids',\n",
    "  0.9917839963484428,\n",
    "  0.2664576802507837,\n",
    "  0.929672695611728),\n",
    " ('One Sided Selection',\n",
    "  0.9993153330290369,\n",
    "  0.7914438502673796,\n",
    "  0.8774191267671952),\n",
    "('Tomek Links', 0.9992802219023208, 0.7783783783783784, 0.8672150451345422),\n",
    " ('SMOTE', 0.9988939995084443, 0.7272727272727273, 0.9281405760109334),\n",
    " ('ADASYN', 0.9984375548611355, 0.6482213438735178, 0.9177254645527316),\n",
    " ('Borderline SMOTE',\n",
    "  0.9992802219023208,\n",
    "  0.7960199004975125,\n",
    "  0.9079610283899717),\n",
    " ('SVM SMOTE', 0.9992626663389628, 0.7878787878787878, 0.8977657396667164),\n",
    " ('SMOTE Tomek', 0.9989642217618764, 0.7377777777777779, 0.9230824997415963)\n",
    "]"
   ]
  },
  {
   "cell_type": "markdown",
   "metadata": {},
   "source": [
    "f1"
   ]
  },
  {
   "cell_type": "code",
   "execution_count": 2,
   "metadata": {},
   "outputs": [
    {
     "data": {
      "text/plain": [
       "[('One Sided Selection',\n",
       "  0.9993153330290369,\n",
       "  0.7914438502673796,\n",
       "  0.8774191267671952),\n",
       " ('Tomek Links', 0.9992802219023208, 0.7783783783783784, 0.8672150451345422),\n",
       " ('Borderline SMOTE',\n",
       "  0.9992802219023208,\n",
       "  0.7960199004975125,\n",
       "  0.9079610283899717),\n",
       " ('SVM SMOTE', 0.9992626663389628, 0.7878787878787878, 0.8977657396667164),\n",
       " ('IHT', 0.9989642217618764, 0.7281105990783411, 0.9027095081138815),\n",
       " ('SMOTE Tomek', 0.9989642217618764, 0.7377777777777779, 0.9230824997415963),\n",
       " ('SMOTE', 0.9988939995084443, 0.7272727272727273, 0.9281405760109334),\n",
       " ('ADASYN', 0.9984375548611355, 0.6482213438735178, 0.9177254645527316),\n",
       " ('Cluster centroids',\n",
       "  0.9917839963484428,\n",
       "  0.2664576802507837,\n",
       "  0.929672695611728),\n",
       " ('Random Undersample',\n",
       "  0.9697342087707594,\n",
       "  0.08975712777191129,\n",
       "  0.918628801408014)]"
      ]
     },
     "execution_count": 2,
     "metadata": {},
     "output_type": "execute_result"
    }
   ],
   "source": [
    "sorted(l1,key=lambda x:x[1],reverse=True)"
   ]
  },
  {
   "cell_type": "markdown",
   "metadata": {},
   "source": [
    "auc"
   ]
  },
  {
   "cell_type": "code",
   "execution_count": 5,
   "metadata": {},
   "outputs": [
    {
     "data": {
      "text/plain": [
       "[('Borderline SMOTE',\n",
       "  0.9992802219023208,\n",
       "  0.7960199004975125,\n",
       "  0.9079610283899717),\n",
       " ('One Sided Selection',\n",
       "  0.9993153330290369,\n",
       "  0.7914438502673796,\n",
       "  0.8774191267671952),\n",
       " ('SVM SMOTE', 0.9992626663389628, 0.7878787878787878, 0.8977657396667164),\n",
       " ('Tomek Links', 0.9992802219023208, 0.7783783783783784, 0.8672150451345422),\n",
       " ('SMOTE Tomek', 0.9989642217618764, 0.7377777777777779, 0.9230824997415963),\n",
       " ('IHT', 0.9989642217618764, 0.7281105990783411, 0.9027095081138815),\n",
       " ('SMOTE', 0.9988939995084443, 0.7272727272727273, 0.9281405760109334),\n",
       " ('ADASYN', 0.9984375548611355, 0.6482213438735178, 0.9177254645527316),\n",
       " ('Cluster centroids',\n",
       "  0.9917839963484428,\n",
       "  0.2664576802507837,\n",
       "  0.929672695611728),\n",
       " ('Random Undersample',\n",
       "  0.9697342087707594,\n",
       "  0.08975712777191129,\n",
       "  0.918628801408014)]"
      ]
     },
     "execution_count": 5,
     "metadata": {},
     "output_type": "execute_result"
    }
   ],
   "source": [
    "sorted(l1,key=lambda x:x[2],reverse=True)"
   ]
  },
  {
   "cell_type": "code",
   "execution_count": 3,
   "metadata": {},
   "outputs": [],
   "source": [
    "\n",
    "l2 = [('Random Undersample dataset 2',\n",
    "  0.9653963451240305,\n",
    "  0.69399023147165,\n",
    "  0.9793611077297626),\n",
    " ('IHT dataset 2', 0.996109790360925, 0.9523248969982343, 0.9906794659160073),\n",
    "('Near Miss dataset 2',\n",
    "  0.481089258698941,\n",
    "  0.12126387702818103,\n",
    "  0.6855306527693245),\n",
    " ('One Sided Selection dataset 2',\n",
    "  0.9960857767211776,\n",
    "  0.9521010872759329,\n",
    "  0.9912506086427268),\n",
    " ('Tomek Links dataset 2',\n",
    "  0.9960857767211776,\n",
    "  0.9521010872759329,\n",
    "  0.9912506086427268),\n",
    " ('Random Oversampled dataset2',\n",
    "  0.9882093028840382,\n",
    "  0.8695190007972363,\n",
    "  0.991819750456482),\n",
    " ('SMOTE dataset2', 0.9852316115553634, 0.84178029328531, 0.990269750456482),\n",
    " ('ADASYN dataset2',\n",
    "  0.9785318060658454,\n",
    "  0.785405664906385,\n",
    "  0.9867822504564819),\n",
    " ('Borderline SMOTE dataset2',\n",
    "  0.9814854837547727,\n",
    "  0.8093000247341083,\n",
    "  0.9883197504564819),\n",
    " ('SVM SMOTE dataset2',\n",
    "  0.9812693609970463,\n",
    "  0.8074074074074075,\n",
    "  0.9879154290931224),\n",
    " ('SMOTE Tomek dataset2',\n",
    "  0.984823379679658,\n",
    "  0.8381147540983607,\n",
    "  0.990057250456482)]"
   ]
  },
  {
   "cell_type": "markdown",
   "metadata": {},
   "source": [
    "f1"
   ]
  },
  {
   "cell_type": "code",
   "execution_count": 4,
   "metadata": {},
   "outputs": [
    {
     "data": {
      "text/plain": [
       "[('IHT dataset 2', 0.996109790360925, 0.9523248969982343, 0.9906794659160073),\n",
       " ('One Sided Selection dataset 2',\n",
       "  0.9960857767211776,\n",
       "  0.9521010872759329,\n",
       "  0.9912506086427268),\n",
       " ('Tomek Links dataset 2',\n",
       "  0.9960857767211776,\n",
       "  0.9521010872759329,\n",
       "  0.9912506086427268),\n",
       " ('Random Oversampled dataset2',\n",
       "  0.9882093028840382,\n",
       "  0.8695190007972363,\n",
       "  0.991819750456482),\n",
       " ('SMOTE dataset2', 0.9852316115553634, 0.84178029328531, 0.990269750456482),\n",
       " ('SMOTE Tomek dataset2',\n",
       "  0.984823379679658,\n",
       "  0.8381147540983607,\n",
       "  0.990057250456482),\n",
       " ('Borderline SMOTE dataset2',\n",
       "  0.9814854837547727,\n",
       "  0.8093000247341083,\n",
       "  0.9883197504564819),\n",
       " ('SVM SMOTE dataset2',\n",
       "  0.9812693609970463,\n",
       "  0.8074074074074075,\n",
       "  0.9879154290931224),\n",
       " ('ADASYN dataset2',\n",
       "  0.9785318060658454,\n",
       "  0.785405664906385,\n",
       "  0.9867822504564819),\n",
       " ('Random Undersample dataset 2',\n",
       "  0.9653963451240305,\n",
       "  0.69399023147165,\n",
       "  0.9793611077297626),\n",
       " ('Near Miss dataset 2',\n",
       "  0.481089258698941,\n",
       "  0.12126387702818103,\n",
       "  0.6855306527693245)]"
      ]
     },
     "execution_count": 4,
     "metadata": {},
     "output_type": "execute_result"
    }
   ],
   "source": [
    "sorted(l2,key=lambda x:x[1],reverse=True)"
   ]
  },
  {
   "cell_type": "markdown",
   "metadata": {},
   "source": [
    "auc"
   ]
  },
  {
   "cell_type": "code",
   "execution_count": 6,
   "metadata": {},
   "outputs": [
    {
     "data": {
      "text/plain": [
       "[('IHT dataset 2', 0.996109790360925, 0.9523248969982343, 0.9906794659160073),\n",
       " ('One Sided Selection dataset 2',\n",
       "  0.9960857767211776,\n",
       "  0.9521010872759329,\n",
       "  0.9912506086427268),\n",
       " ('Tomek Links dataset 2',\n",
       "  0.9960857767211776,\n",
       "  0.9521010872759329,\n",
       "  0.9912506086427268),\n",
       " ('Random Oversampled dataset2',\n",
       "  0.9882093028840382,\n",
       "  0.8695190007972363,\n",
       "  0.991819750456482),\n",
       " ('SMOTE dataset2', 0.9852316115553634, 0.84178029328531, 0.990269750456482),\n",
       " ('SMOTE Tomek dataset2',\n",
       "  0.984823379679658,\n",
       "  0.8381147540983607,\n",
       "  0.990057250456482),\n",
       " ('Borderline SMOTE dataset2',\n",
       "  0.9814854837547727,\n",
       "  0.8093000247341083,\n",
       "  0.9883197504564819),\n",
       " ('SVM SMOTE dataset2',\n",
       "  0.9812693609970463,\n",
       "  0.8074074074074075,\n",
       "  0.9879154290931224),\n",
       " ('ADASYN dataset2',\n",
       "  0.9785318060658454,\n",
       "  0.785405664906385,\n",
       "  0.9867822504564819),\n",
       " ('Random Undersample dataset 2',\n",
       "  0.9653963451240305,\n",
       "  0.69399023147165,\n",
       "  0.9793611077297626),\n",
       " ('Near Miss dataset 2',\n",
       "  0.481089258698941,\n",
       "  0.12126387702818103,\n",
       "  0.6855306527693245)]"
      ]
     },
     "execution_count": 6,
     "metadata": {},
     "output_type": "execute_result"
    }
   ],
   "source": [
    "sorted(l2,key=lambda x:x[2],reverse=True)"
   ]
  },
  {
   "cell_type": "code",
   "execution_count": null,
   "metadata": {},
   "outputs": [],
   "source": []
  }
 ],
 "metadata": {
  "kernelspec": {
   "display_name": "Python 3",
   "language": "python",
   "name": "python3"
  },
  "language_info": {
   "codemirror_mode": {
    "name": "ipython",
    "version": 3
   },
   "file_extension": ".py",
   "mimetype": "text/x-python",
   "name": "python",
   "nbconvert_exporter": "python",
   "pygments_lexer": "ipython3",
   "version": "3.7.3"
  }
 },
 "nbformat": 4,
 "nbformat_minor": 2
}
