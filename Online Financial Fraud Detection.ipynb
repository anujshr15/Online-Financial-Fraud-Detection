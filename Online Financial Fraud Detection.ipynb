{
 "cells": [
  {
   "cell_type": "code",
   "execution_count": 16,
   "metadata": {},
   "outputs": [],
   "source": [
    "import numpy as np\n",
    "import pandas as pd\n",
    "\n",
    "from imblearn.under_sampling import RandomUnderSampler\n",
    "from sklearn.svm import SVC \n",
    "from sklearn.naive_bayes import GaussianNB \n",
    "from sklearn import tree\n",
    "from sklearn.model_selection import cross_val_score\n",
    "from sklearn.neighbors import KNeighborsClassifier\n",
    "from sklearn.linear_model import LogisticRegression\n",
    "from sklearn.ensemble import VotingClassifier\n",
    "from sklearn.ensemble import RandomForestClassifier\n",
    "from sklearn import metrics\n",
    "from collections import Counter\n",
    "from sklearn.model_selection import train_test_split\n",
    "from sklearn.preprocessing import RobustScaler,StandardScaler\n",
    "from imblearn.over_sampling import RandomOverSampler\n",
    "from mlxtend.feature_selection import SequentialFeatureSelector as sfs\n",
    "from sklearn.feature_selection import SelectKBest\n",
    "from sklearn.feature_selection import f_classif\n",
    "from sklearn.model_selection import cross_val_score\n",
    "from sklearn.model_selection import RepeatedStratifiedKFold\n",
    "from xgboost import XGBClassifier"
   ]
  },
  {
   "cell_type": "code",
   "execution_count": 17,
   "metadata": {},
   "outputs": [
    {
     "name": "stdout",
     "output_type": "stream",
     "text": [
      "percentage of fraudulent data instances: 0.1727485630620034\n",
      "percentage of normal data instances: 99.827251436938\n",
      "(227845, 30) (227845,)\n",
      "0    227451\n",
      "1       394\n",
      "Name: Class, dtype: int64\n"
     ]
    }
   ],
   "source": [
    "data = pd.read_csv(\"creditcard.csv\")\n",
    "\n",
    "data.head()\n",
    "\n",
    "data['Class'].value_counts()\n",
    "\n",
    "len(data['Class'])\n",
    "\n",
    "print(\"percentage of fraudulent data instances: {}\".format(data['Class'].value_counts()[1] *100 /len(data['Class'])))\n",
    "print(\"percentage of normal data instances: {}\".format(data['Class'].value_counts()[0] *100 /len(data['Class'])))\n",
    "\n",
    "# Rescaling the data\n",
    "\n",
    "\n",
    "\n",
    "rs = RobustScaler()\n",
    "\n",
    "data['scaled_amount'] = rs.fit_transform(data['Amount'].values.reshape(-1, 1))\n",
    "data['scaled_time'] = rs.fit_transform(data['Time'].values.reshape(-1, 1))\n",
    "\n",
    "data.drop(['Amount', 'Time'], axis = 1, inplace = True)\n",
    "\n",
    "\n",
    "# from sklearn.linear_model import LogisticRegression\n",
    "\n",
    "X = data.drop(['Class'], axis = 1)\n",
    "y = data['Class']\n",
    "\n",
    "X_train, X_test, y_train, y_test = train_test_split(X, y, test_size = 0.20, random_state = 0, \n",
    "                                                    stratify = y)\n",
    "\n",
    "print(X_train.shape, y_train.shape)\n",
    "print(y_train.value_counts())\n",
    "\n"
   ]
  },
  {
   "cell_type": "code",
   "execution_count": 25,
   "metadata": {},
   "outputs": [],
   "source": [
    "all_results=[]\n",
    "all_dataset=dict()"
   ]
  },
  {
   "cell_type": "code",
   "execution_count": 54,
   "metadata": {},
   "outputs": [],
   "source": [
    " def training_testing_function(X,y,name):\n",
    "        \n",
    "        #removing highly correlated features\n",
    "        corr = X.corr()\n",
    "        columns = np.full((corr.shape[0],), True, dtype=bool)\n",
    "        for i in range(corr.shape[0]):\n",
    "            for j in range(i+1, corr.shape[0]):\n",
    "                if corr.iloc[i,j] >= 0.8:\n",
    "                    if columns[j]:\n",
    "                        columns[j] = False\n",
    "        selected_columns = X.columns[columns]\n",
    "        X1 = X[selected_columns]\n",
    "        \n",
    "         # Train KNeighborsClassifier Model\n",
    "#         KNN_Classifier = KNeighborsClassifier(n_jobs=-1)\n",
    "        \n",
    "        # Train LogisticRegression Model\n",
    "        LGR_Classifier = LogisticRegression(multi_class='auto', random_state=1,solver='lbfgs',max_iter=400)\n",
    "\n",
    "        # Train Gaussian Naive Baye Model\n",
    "        GNB_Classifier = GaussianNB()\n",
    "\n",
    "        # Train Decision Tree Model\n",
    "        DTC_Classifier = tree.DecisionTreeClassifier(criterion='entropy', random_state=0)\n",
    "        # DTC_Classifier.fit(X_train_random_oversampled, y_train_random_oversampled.values.ravel());\n",
    "        \n",
    "        XGB_Classifier = XGBClassifier(scale_pos_weight=500)\n",
    "        \n",
    "\n",
    "        ## Train Ensemble Model (This method combines all the individual models above except RandomForest)\n",
    "        combined_model = [('Naive Baye Classifier', GNB_Classifier), \n",
    "                         ('Decision Tree Classifier', DTC_Classifier), \n",
    "#                          ('KNeighborsClassifier', KNN_Classifier), \n",
    "                         ('LogisticRegression', LGR_Classifier),\n",
    "                          ('Gradient Boosting Classifier', XGB_Classifier)\n",
    "                        ]\n",
    "        VC =  VotingClassifier(estimators = combined_model,voting = 'soft')\n",
    "        VC.fit(X1, y.values.ravel());\n",
    "\n",
    "        models = []\n",
    "        models.append(('VotingClassifier', VC))\n",
    "\n",
    "        for i, v in models:\n",
    "            accuracy = metrics.accuracy_score(y_test.values.ravel(), v.predict(X_test[selected_columns]))\n",
    "            f1 = metrics.f1_score(y_test.values.ravel(),v.predict(X_test[selected_columns]))\n",
    "            auc_score = metrics.roc_auc_score(y_test.values.ravel(),v.predict(X_test[selected_columns]))\n",
    "            confusion_matrix = metrics.confusion_matrix(y_test.values.ravel(), v.predict(X_test[selected_columns]))\n",
    "            classification = metrics.classification_report(y_test.values.ravel(), v.predict(X_test[selected_columns]))\n",
    "\n",
    "            \n",
    "            all_results.append((name+str(\" RCF\"),accuracy,f1,auc_score,confusion_matrix,classification)) #RCF = Removing correlated features\n",
    "            print(\"{} Completed\".format(name + str(\" RCF\")))\n",
    "        \n",
    "        \n",
    "        \n",
    "        \n",
    "      \n",
    "\n",
    "        rfc = RandomForestClassifier();\n",
    "\n",
    "        # fit random forest classifier on the training set\n",
    "        rfc.fit(X, y.values.ravel());\n",
    "        # extract important features\n",
    "        score = np.round(rfc.feature_importances_,3)\n",
    "\n",
    "        importances = pd.DataFrame({'feature':X.columns,'importance':score})\n",
    "        importances = importances.sort_values('importance',ascending=False).set_index('feature')\n",
    "\n",
    "        min_features=min(len(importances),20)\n",
    "        \n",
    "        final_features=list(importances[:20].index)\n",
    "\n",
    "        X2=X[final_features]\n",
    "\n",
    "        # Train KNeighborsClassifier Model\n",
    "#         KNN_Classifier = KNeighborsClassifier(n_jobs=-1)\n",
    "        # KNN_Classifier.fit(X_train_random_oversampled, y_train_random_oversampled.values.ravel()); \n",
    "\n",
    "        # Train LogisticRegression Model\n",
    "        LGR_Classifier = LogisticRegression(multi_class='auto', random_state=1,solver='lbfgs',max_iter=400)\n",
    "        # LGR_Classifier.fit(X_train_random_oversampled, y_train_random_oversampled.values.ravel());\n",
    "\n",
    "        # Train Gaussian Naive Baye Model\n",
    "        GNB_Classifier = GaussianNB()\n",
    "        # GNB_Classifier.fit(X_train_random_oversampled, y_train_random_oversampled.values.ravel())\n",
    "\n",
    "        # Train Decision Tree Model\n",
    "        DTC_Classifier = tree.DecisionTreeClassifier(criterion='entropy', random_state=0)\n",
    "        # DTC_Classifier.fit(X_train_random_oversampled, y_train_random_oversampled.values.ravel());\n",
    "        \n",
    "        XGB_Classifier = XGBClassifier(scale_pos_weight=500)\n",
    "\n",
    "        ## Train Ensemble Model (This method combines all the individual models above except RandomForest)\n",
    "        combined_model = [('Naive Baye Classifier', GNB_Classifier), \n",
    "                         ('Decision Tree Classifier', DTC_Classifier), \n",
    "#                          ('KNeighborsClassifier', KNN_Classifier), \n",
    "                         ('LogisticRegression', LGR_Classifier),\n",
    "                        ('Gradient Boosting Classifier', XGB_Classifier)\n",
    "                        ]\n",
    "        VC =  VotingClassifier(estimators = combined_model,voting = 'soft')\n",
    "        VC.fit(X2, y.values.ravel());\n",
    "\n",
    "        models = []\n",
    "\n",
    "        models.append(('VotingClassifier', VC))\n",
    "\n",
    "        for i, v in models:\n",
    "            accuracy = metrics.accuracy_score(y_test.values.ravel(), v.predict(X_test[final_features]))\n",
    "            confusion_matrix = metrics.confusion_matrix(y_test.values.ravel(), v.predict(X_test[final_features]))\n",
    "            classification = metrics.classification_report(y_test.values.ravel(), v.predict(X_test[final_features]))\n",
    "            f1 = metrics.f1_score(y_test.values.ravel(),v.predict(X_test[final_features]))\n",
    "            auc_score = metrics.roc_auc_score(y_test.values.ravel(),v.predict(X_test[final_features]))\n",
    "        \n",
    "            all_results.append((name+str(\" Random Forest  Selection\"),accuracy,f1,auc_score,confusion_matrix,classification))\n",
    "            print(\"{} Completed\".format(name+str(\" Random Forest Selection\")))\n",
    "    #         print('============================== {} Model Test Results =============================='.format(i))\n",
    "    #         print()\n",
    "    #         print (\"Model Accuracy:\" \"\\n\", accuracy)\n",
    "    #         print()\n",
    "    #         print(\"Confusion matrix:\" \"\\n\", confusion_matrix)\n",
    "    #         print()\n",
    "    #         print(\"Classification report:\" \"\\n\", classification) \n",
    "    #         print()     \n",
    "        \n",
    "#         clf = RandomForestClassifier(n_estimators=100, n_jobs=-1)\n",
    "\n",
    "#         # Build step forward feature selection\n",
    "#         sfs1 = sfs(clf,\n",
    "#            k_features=5,\n",
    "#            forward=True,\n",
    "#            floating=False,\n",
    "#            verbose=2,\n",
    "#            scoring='f1',\n",
    "#            cv=5)\n",
    "\n",
    "#         # Perform SFFS\n",
    "#         sfs1 = sfs1.fit(X, y.values.ravel())\n",
    "        \n",
    "#         feat_cols = np.array(sfs1.k_feature_idx_) - 1\n",
    "        fs = SelectKBest(score_func=f_classif, k=5)\n",
    "        # apply feature selection\n",
    "        fs.fit(X, y)\n",
    "        X3 = fs.transform(X)\n",
    "        X3_test = fs.transform(X_test)\n",
    "\n",
    "                  \n",
    "     # Train KNeighborsClassifier Model\n",
    "#         KNN_Classifier = KNeighborsClassifier(n_jobs=-1)\n",
    "        # KNN_Classifier.fit(X_train_random_oversampled, y_train_random_oversampled.values.ravel()); \n",
    "\n",
    "        # Train LogisticRegression Model\n",
    "        LGR_Classifier = LogisticRegression(multi_class='auto', random_state=1,solver='lbfgs',max_iter=400)\n",
    "        # LGR_Classifier.fit(X_train_random_oversampled, y_train_random_oversampled.values.ravel());\n",
    "\n",
    "        # Train Gaussian Naive Baye Model\n",
    "        GNB_Classifier = GaussianNB()\n",
    "        # GNB_Classifier.fit(X_train_random_oversampled, y_train_random_oversampled.values.ravel())\n",
    "\n",
    "        # Train Decision Tree Model\n",
    "        DTC_Classifier = tree.DecisionTreeClassifier(criterion='entropy', random_state=0)\n",
    "        # DTC_Classifier.fit(X_train_random_oversampled, y_train_random_oversampled.values.ravel());\n",
    "        \n",
    "        XGB_Classifier = XGBClassifier(scale_pos_weight=500)\n",
    "\n",
    "        ## Train Ensemble Model (This method combines all the individual models above except RandomForest)\n",
    "        combined_model = [('Naive Baye Classifier', GNB_Classifier), \n",
    "                         ('Decision Tree Classifier', DTC_Classifier), \n",
    "#                          ('KNeighborsClassifier', KNN_Classifier), \n",
    "                         ('LogisticRegression', LGR_Classifier),\n",
    "                         ('Gradient Boosting Classifier', XGB_Classifier)\n",
    "                        ]\n",
    "        VC =  VotingClassifier(estimators = combined_model,voting = 'soft')\n",
    "        VC.fit(X3, y.values.ravel());\n",
    "\n",
    "        models = []\n",
    "\n",
    "        models.append(('VotingClassifier', VC))\n",
    "\n",
    "        for i, v in models:\n",
    "            accuracy = metrics.accuracy_score(y_test.values.ravel(), v.predict(X3_test))\n",
    "            confusion_matrix = metrics.confusion_matrix(y_test.values.ravel(), v.predict(X3_test))\n",
    "            classification = metrics.classification_report(y_test.values.ravel(), v.predict(X3_test))\n",
    "            f1 = metrics.f1_score(y_test.values.ravel(),v.predict(X3_test))\n",
    "            auc_score = metrics.roc_auc_score(y_test.values.ravel(),v.predict(X3_test))\n",
    "        \n",
    "            all_results.append((name+str(\" Forward feature selection\"),accuracy,f1,auc_score,confusion_matrix,classification))\n",
    "            print(\"{} Completed\".format(name+str(\" Forward feature selection\")))\n",
    "    #         print('============================== {} Model Test Results =============================='.format(i))\n",
    "    #         print()\n",
    "    #         print (\"Model Accuracy:\" \"\\n\", accuracy)\n",
    "    #         print()\n",
    "    #         print(\"Confusion matrix:\" \"\\n\", confusion_matrix)\n",
    "    #         print()\n",
    "    #         print(\"Classification report:\" \"\\n\", classification) \n",
    "    #         print()     \n",
    "            \n",
    "\n",
    "\n",
    "\n",
    "\n"
   ]
  },
  {
   "cell_type": "markdown",
   "metadata": {},
   "source": [
    "#### 1. Random Undersample"
   ]
  },
  {
   "cell_type": "code",
   "execution_count": 27,
   "metadata": {},
   "outputs": [
    {
     "name": "stdout",
     "output_type": "stream",
     "text": [
      "Counter({0: 394, 1: 394})\n"
     ]
    }
   ],
   "source": [
    "undersample = RandomUnderSampler(sampling_strategy='majority')\n",
    "# fit and apply the transform\n",
    "all_dataset[\"X_train_undersample\"], all_dataset[\"y_train_undersample\"] = undersample.fit_resample(X_train, y_train)\n",
    "# summarize class distribution\n",
    "print(Counter(all_dataset[\"y_train_undersample\"]))"
   ]
  },
  {
   "cell_type": "code",
   "execution_count": 28,
   "metadata": {},
   "outputs": [
    {
     "name": "stdout",
     "output_type": "stream",
     "text": [
      "Random Undersample RCF Completed\n",
      "Random Undersample Random Forest Selection Completed\n",
      "Random Undersample Forward feature selection Completed\n"
     ]
    }
   ],
   "source": [
    "training_testing_function(all_dataset[\"X_train_undersample\"],all_dataset[\"y_train_undersample\"],\"Random Undersample\")"
   ]
  },
  {
   "cell_type": "markdown",
   "metadata": {},
   "source": [
    "#### 2. Instance Hardness Threshold"
   ]
  },
  {
   "cell_type": "code",
   "execution_count": 30,
   "metadata": {},
   "outputs": [],
   "source": [
    "from imblearn.under_sampling import InstanceHardnessThreshold"
   ]
  },
  {
   "cell_type": "code",
   "execution_count": 31,
   "metadata": {},
   "outputs": [
    {
     "name": "stdout",
     "output_type": "stream",
     "text": [
      "Resampled dataset shape Counter({0: 222288, 1: 394})\n"
     ]
    }
   ],
   "source": [
    "iht = InstanceHardnessThreshold(sampling_strategy='majority', random_state=42)\n",
    "all_dataset[\"X_train_res\"], all_dataset[\"y_train_res\"] = iht.fit_resample(X_train, y_train)\n",
    "print('Resampled dataset shape %s' % Counter(all_dataset[\"y_train_res\"]))"
   ]
  },
  {
   "cell_type": "code",
   "execution_count": 32,
   "metadata": {},
   "outputs": [
    {
     "name": "stdout",
     "output_type": "stream",
     "text": [
      "IHT RCF Completed\n",
      "IHT Random Forest Selection Completed\n",
      "IHT Forward feature selection Completed\n"
     ]
    }
   ],
   "source": [
    "training_testing_function(all_dataset[\"X_train_res\"],all_dataset[\"y_train_res\"],\"IHT\")"
   ]
  },
  {
   "cell_type": "markdown",
   "metadata": {},
   "source": [
    "#### 3. Cluster Centroid"
   ]
  },
  {
   "cell_type": "code",
   "execution_count": 38,
   "metadata": {},
   "outputs": [],
   "source": [
    "from imblearn.under_sampling import ClusterCentroids"
   ]
  },
  {
   "cell_type": "code",
   "execution_count": 39,
   "metadata": {},
   "outputs": [],
   "source": [
    "all_dataset[\"X_cluster_centroids\"],all_dataset[\"y_cluster_centroids\"]  = ClusterCentroids().fit_resample(X_train,y_train)"
   ]
  },
  {
   "cell_type": "code",
   "execution_count": 40,
   "metadata": {},
   "outputs": [
    {
     "name": "stdout",
     "output_type": "stream",
     "text": [
      "Cluster centroids RCF Completed\n",
      "Cluster centroids Random Forest Selection Completed\n",
      "Cluster centroids Forward feature selection Completed\n"
     ]
    }
   ],
   "source": [
    "training_testing_function(all_dataset[\"X_cluster_centroids\"],all_dataset[\"y_cluster_centroids\"],\"Cluster centroids\")"
   ]
  },
  {
   "cell_type": "code",
   "execution_count": 41,
   "metadata": {},
   "outputs": [
    {
     "data": {
      "text/plain": [
       "('Cluster centroids Forward feature selection',\n",
       " 0.9641515396229065,\n",
       " 0.07851985559566788,\n",
       " 0.9260191520333514,\n",
       " array([[54833,  2031],\n",
       "        [   11,    87]], dtype=int64),\n",
       " '              precision    recall  f1-score   support\\n\\n           0       1.00      0.96      0.98     56864\\n           1       0.04      0.89      0.08        98\\n\\n    accuracy                           0.96     56962\\n   macro avg       0.52      0.93      0.53     56962\\nweighted avg       1.00      0.96      0.98     56962\\n')"
      ]
     },
     "execution_count": 41,
     "metadata": {},
     "output_type": "execute_result"
    }
   ],
   "source": [
    "all_results[-1]"
   ]
  },
  {
   "cell_type": "code",
   "execution_count": 8,
   "metadata": {},
   "outputs": [
    {
     "data": {
      "text/plain": [
       "[('Cluster centroids RCF',\n",
       "  0.9212984094659598,\n",
       "  0.036949516648764766,\n",
       "  0.8994624122862425),\n",
       " ('Cluster centroids Random Forest  Selection',\n",
       "  0.9923106632491837,\n",
       "  0.2819672131147541,\n",
       "  0.9350297308005926),\n",
       " ('Cluster centroids Forward feature selection',\n",
       "  0.9918015519118009,\n",
       "  0.26917057902973396,\n",
       "  0.9347747364280545)]"
      ]
     },
     "execution_count": 8,
     "metadata": {},
     "output_type": "execute_result"
    }
   ],
   "source": [
    "all_results"
   ]
  },
  {
   "cell_type": "markdown",
   "metadata": {},
   "source": [
    "#### 4. Near Miss"
   ]
  },
  {
   "cell_type": "code",
   "execution_count": 42,
   "metadata": {},
   "outputs": [],
   "source": [
    "from imblearn.under_sampling import NearMiss"
   ]
  },
  {
   "cell_type": "code",
   "execution_count": 43,
   "metadata": {},
   "outputs": [
    {
     "name": "stdout",
     "output_type": "stream",
     "text": [
      "Near Miss RCF Completed\n",
      "Near Miss Random Forest Selection Completed\n",
      "Near Miss Forward feature selection Completed\n"
     ]
    }
   ],
   "source": [
    "all_dataset['X_near_miss'],all_dataset['y_near_miss'] = NearMiss().fit_resample(X_train,y_train)\n",
    "training_testing_function(all_dataset['X_near_miss'],all_dataset['y_near_miss'],\"Near Miss\")"
   ]
  },
  {
   "cell_type": "markdown",
   "metadata": {},
   "source": [
    "#### 5. One Sided Selection"
   ]
  },
  {
   "cell_type": "code",
   "execution_count": 45,
   "metadata": {},
   "outputs": [],
   "source": [
    "from imblearn.under_sampling import OneSidedSelection"
   ]
  },
  {
   "cell_type": "code",
   "execution_count": 46,
   "metadata": {},
   "outputs": [
    {
     "name": "stdout",
     "output_type": "stream",
     "text": [
      "One Sided Selection RCF Completed\n",
      "One Sided Selection Random Forest Selection Completed\n",
      "One Sided Selection Forward feature selection Completed\n"
     ]
    }
   ],
   "source": [
    "all_dataset['X_one_sided_selection'],all_dataset['y_one_sided_selection'] = OneSidedSelection().fit_resample(X_train,y_train)\n",
    "training_testing_function(all_dataset['X_one_sided_selection'],all_dataset['y_one_sided_selection'],\"One Sided Selection\")"
   ]
  },
  {
   "cell_type": "code",
   "execution_count": 14,
   "metadata": {},
   "outputs": [
    {
     "data": {
      "text/plain": [
       "[('Cluster centroids RCF',\n",
       "  0.9212984094659598,\n",
       "  0.036949516648764766,\n",
       "  0.8994624122862425),\n",
       " ('Cluster centroids Random Forest  Selection',\n",
       "  0.9923106632491837,\n",
       "  0.2819672131147541,\n",
       "  0.9350297308005926),\n",
       " ('Cluster centroids Forward feature selection',\n",
       "  0.9918015519118009,\n",
       "  0.26917057902973396,\n",
       "  0.9347747364280545),\n",
       " ('Near Miss RCF',\n",
       "  0.5980653769179453,\n",
       "  0.007456539645380847,\n",
       "  0.7375673644528155),\n",
       " ('Near Miss Random Forest  Selection',\n",
       "  0.6635300726800323,\n",
       "  0.008996897621509825,\n",
       "  0.7754493715043699),\n",
       " ('Near Miss Forward feature selection',\n",
       "  0.6825778589234929,\n",
       "  0.009857072449482503,\n",
       "  0.8002694219218356),\n",
       " ('One Sided Selection RCF',\n",
       "  0.9993679997191109,\n",
       "  0.8085106382978723,\n",
       "  0.8876320013092462),\n",
       " ('One Sided Selection Random Forest  Selection',\n",
       "  0.9993153330290369,\n",
       "  0.7914438502673796,\n",
       "  0.8774191267671952),\n",
       " ('One Sided Selection Forward feature selection',\n",
       "  0.9993679997191109,\n",
       "  0.8064516129032258,\n",
       "  0.8825387534023176)]"
      ]
     },
     "execution_count": 14,
     "metadata": {},
     "output_type": "execute_result"
    }
   ],
   "source": [
    "all_results"
   ]
  },
  {
   "cell_type": "markdown",
   "metadata": {},
   "source": [
    "#### 6. Tomek Links"
   ]
  },
  {
   "cell_type": "code",
   "execution_count": 47,
   "metadata": {},
   "outputs": [],
   "source": [
    "from imblearn.under_sampling import TomekLinks"
   ]
  },
  {
   "cell_type": "code",
   "execution_count": 48,
   "metadata": {},
   "outputs": [],
   "source": [
    "all_dataset['X_tomek_links'],all_dataset['y_tomek_links'] = TomekLinks().fit_resample(X_train,y_train)\n"
   ]
  },
  {
   "cell_type": "code",
   "execution_count": 49,
   "metadata": {},
   "outputs": [
    {
     "name": "stdout",
     "output_type": "stream",
     "text": [
      "Tomek Links RCF Completed\n",
      "Tomek Links Random Forest Selection Completed\n",
      "Tomek Links Forward feature selection Completed\n"
     ]
    }
   ],
   "source": [
    "training_testing_function(all_dataset['X_tomek_links'],all_dataset['y_tomek_links'],\"Tomek Links\")"
   ]
  },
  {
   "cell_type": "markdown",
   "metadata": {},
   "source": [
    "### Oversampling data"
   ]
  },
  {
   "cell_type": "markdown",
   "metadata": {},
   "source": [
    "#### 1. Random Oversampling"
   ]
  },
  {
   "cell_type": "code",
   "execution_count": 50,
   "metadata": {},
   "outputs": [
    {
     "name": "stdout",
     "output_type": "stream",
     "text": [
      "[(0, 227451), (1, 227451)]\n"
     ]
    }
   ],
   "source": [
    "ros = RandomOverSampler(random_state=0)\n",
    "all_dataset[\"X_train_random_oversampled\"], all_dataset[\"y_train_random_oversampled\"] = ros.fit_resample(X_train, y_train)\n",
    "from collections import Counter\n",
    "print(sorted(Counter(all_dataset[\"y_train_random_oversampled\"]).items()))"
   ]
  },
  {
   "cell_type": "code",
   "execution_count": 51,
   "metadata": {},
   "outputs": [
    {
     "name": "stdout",
     "output_type": "stream",
     "text": [
      "Random Oversampled RCF Completed\n",
      "Random Oversampled Random Forest Selection Completed\n",
      "Random Oversampled Forward feature selection Completed\n"
     ]
    }
   ],
   "source": [
    "training_testing_function(all_dataset[\"X_train_random_oversampled\"],all_dataset[\"y_train_random_oversampled\"],\"Random Oversampled\")"
   ]
  },
  {
   "cell_type": "markdown",
   "metadata": {},
   "source": [
    "#### 2. SMOTE"
   ]
  },
  {
   "cell_type": "code",
   "execution_count": 52,
   "metadata": {},
   "outputs": [
    {
     "name": "stdout",
     "output_type": "stream",
     "text": [
      "[(0, 227451), (1, 227451)]\n"
     ]
    }
   ],
   "source": [
    "from imblearn.over_sampling import SMOTE, ADASYN\n",
    "all_dataset[\"X_smote\"], all_dataset[\"y_smote\"] = SMOTE().fit_resample(X_train, y_train)\n",
    "print(sorted(Counter(all_dataset[\"y_smote\"]).items()))\n",
    "\n"
   ]
  },
  {
   "cell_type": "code",
   "execution_count": 55,
   "metadata": {},
   "outputs": [
    {
     "name": "stdout",
     "output_type": "stream",
     "text": [
      "SMOTE RCF Completed\n",
      "SMOTE Random Forest Selection Completed\n",
      "SMOTE Forward feature selection Completed\n"
     ]
    }
   ],
   "source": [
    "training_testing_function(all_dataset['X_smote'],all_dataset['y_smote'],\"SMOTE\")"
   ]
  },
  {
   "cell_type": "markdown",
   "metadata": {},
   "source": [
    "#### 3. ADASYN"
   ]
  },
  {
   "cell_type": "code",
   "execution_count": 56,
   "metadata": {},
   "outputs": [
    {
     "name": "stdout",
     "output_type": "stream",
     "text": [
      "[(0, 227451), (1, 227448)]\n"
     ]
    }
   ],
   "source": [
    "all_dataset['X_adasyn'],all_dataset['y_adasyn'] = ADASYN().fit_resample(X_train, y_train)\n",
    "print(sorted(Counter(all_dataset[\"y_adasyn\"]).items()))"
   ]
  },
  {
   "cell_type": "code",
   "execution_count": 57,
   "metadata": {},
   "outputs": [
    {
     "name": "stdout",
     "output_type": "stream",
     "text": [
      "ADASYN RCF Completed\n",
      "ADASYN Random Forest Selection Completed\n",
      "ADASYN Forward feature selection Completed\n"
     ]
    }
   ],
   "source": [
    "training_testing_function(all_dataset['X_adasyn'],all_dataset['y_adasyn'],\"ADASYN\")"
   ]
  },
  {
   "cell_type": "markdown",
   "metadata": {},
   "source": [
    "#### 4. Variations of SMOTE"
   ]
  },
  {
   "cell_type": "code",
   "execution_count": 28,
   "metadata": {},
   "outputs": [],
   "source": [
    "from imblearn.over_sampling import BorderlineSMOTE,SVMSMOTE,KMeansSMOTE"
   ]
  },
  {
   "cell_type": "code",
   "execution_count": 29,
   "metadata": {},
   "outputs": [
    {
     "name": "stdout",
     "output_type": "stream",
     "text": [
      "Borderline SMOTE RCF Completed\n",
      "Borderline SMOTE Random Forest Selection Completed\n",
      "Borderline SMOTE Forward feature selection Completed\n",
      "SVM SMOTE RCF Completed\n",
      "SVM SMOTE Random Forest Selection Completed\n",
      "SVM SMOTE Forward feature selection Completed\n"
     ]
    }
   ],
   "source": [
    "all_dataset[\"X_borderline_smote\"],all_dataset[\"y_borderline_smote\"] = BorderlineSMOTE().fit_resample(X_train,y_train)\n",
    "all_dataset[\"X_svm_smote\"],all_dataset[\"y_svm_smote\"] = SVMSMOTE().fit_resample(X_train,y_train)\n",
    "\n",
    "# X_kmeans_smote,y_kmeans_smote = KMeansSMOTE().fit_resample(X_train,y_train)\n",
    "\n",
    "\n",
    "# all_dataset[\"X_kmeans_smote\"],all_dataset[\"y_kmeans_smote\"]= X_kmeans_smote,y_kmeans_smote\n",
    "\n",
    "training_testing_function(all_dataset[\"X_borderline_smote\"],all_dataset[\"y_borderline_smote\"],\"Borderline SMOTE\")\n",
    "training_testing_function(all_dataset[\"X_svm_smote\"],all_dataset[\"y_svm_smote\"],\"SVM SMOTE\")\n",
    "\n",
    "# training_testing_function(all_dataset[\"X_kmeans_smote\"],all_dataset[\"y_kmeans_smote\"],\"KMeans SMOTE\")\n",
    "\n"
   ]
  },
  {
   "cell_type": "code",
   "execution_count": 30,
   "metadata": {},
   "outputs": [
    {
     "data": {
      "text/plain": [
       "[('Cluster centroids RCF',\n",
       "  0.9212984094659598,\n",
       "  0.036949516648764766,\n",
       "  0.8994624122862425),\n",
       " ('Cluster centroids Random Forest  Selection',\n",
       "  0.9923106632491837,\n",
       "  0.2819672131147541,\n",
       "  0.9350297308005926),\n",
       " ('Cluster centroids Forward feature selection',\n",
       "  0.9918015519118009,\n",
       "  0.26917057902973396,\n",
       "  0.9347747364280545),\n",
       " ('Near Miss RCF',\n",
       "  0.5980653769179453,\n",
       "  0.007456539645380847,\n",
       "  0.7375673644528155),\n",
       " ('Near Miss Random Forest  Selection',\n",
       "  0.6635300726800323,\n",
       "  0.008996897621509825,\n",
       "  0.7754493715043699),\n",
       " ('Near Miss Forward feature selection',\n",
       "  0.6825778589234929,\n",
       "  0.009857072449482503,\n",
       "  0.8002694219218356),\n",
       " ('One Sided Selection RCF',\n",
       "  0.9993679997191109,\n",
       "  0.8085106382978723,\n",
       "  0.8876320013092462),\n",
       " ('One Sided Selection Random Forest  Selection',\n",
       "  0.9993153330290369,\n",
       "  0.7914438502673796,\n",
       "  0.8774191267671952),\n",
       " ('One Sided Selection Forward feature selection',\n",
       "  0.9993679997191109,\n",
       "  0.8064516129032258,\n",
       "  0.8825387534023176),\n",
       " ('Tomek Links RCF',\n",
       "  0.9993679997191109,\n",
       "  0.8085106382978723,\n",
       "  0.8876320013092462),\n",
       " ('Tomek Links Random Forest  Selection',\n",
       "  0.9992802219023208,\n",
       "  0.783068783068783,\n",
       "  0.8774015409483996),\n",
       " ('Tomek Links Forward feature selection',\n",
       "  0.9993679997191109,\n",
       "  0.8064516129032258,\n",
       "  0.8825387534023176),\n",
       " ('Random Oversampled RCF',\n",
       "  0.9991222218320986,\n",
       "  0.7395833333333335,\n",
       "  0.8620426610430328),\n",
       " ('Random Oversampled Random Forest  Selection',\n",
       "  0.9992802219023208,\n",
       "  0.7939698492462313,\n",
       "  0.902867780483043),\n",
       " ('Random Oversampled Forward feature selection',\n",
       "  0.9990519995786665,\n",
       "  0.7428571428571428,\n",
       "  0.8976602247539421),\n",
       " ('SMOTE RCF', 0.9978757768336786, 0.5468164794007491, 0.871604860289642),\n",
       " ('SMOTE Random Forest  Selection',\n",
       "  0.9989642217618764,\n",
       "  0.7377777777777779,\n",
       "  0.9230824997415963),\n",
       " ('SMOTE Forward feature selection',\n",
       "  0.9963835539482462,\n",
       "  0.4371584699453552,\n",
       "  0.9065101983393244),\n",
       " ('ADASYN RCF', 0.9984375548611355, 0.6454183266932271, 0.9126322166458029),\n",
       " ('ADASYN Random Forest  Selection',\n",
       "  0.9985955549313578,\n",
       "  0.6721311475409836,\n",
       "  0.9178046007373124),\n",
       " ('ADASYN Forward feature selection',\n",
       "  0.9948562199360977,\n",
       "  0.3644251626898048,\n",
       "  0.9261182068494253),\n",
       " ('Borderline SMOTE RCF',\n",
       "  0.9991748885221726,\n",
       "  0.7614213197969544,\n",
       "  0.8824420313989412),\n",
       " ('Borderline SMOTE Random Forest  Selection',\n",
       "  0.9992275552122467,\n",
       "  0.7864077669902914,\n",
       "  0.9130278975687067),\n",
       " ('Borderline SMOTE Forward feature selection',\n",
       "  0.9982795547909132,\n",
       "  0.6230769230769231,\n",
       "  0.9125530804612222),\n",
       " ('SVM SMOTE RCF', 0.9989291106351603, 0.6995073891625616, 0.8619459390396564),\n",
       " ('SVM SMOTE Random Forest  Selection',\n",
       "  0.9992099996488887,\n",
       "  0.7804878048780487,\n",
       "  0.9079258567523802),\n",
       " ('SVM SMOTE Forward feature selection',\n",
       "  0.9983322214809873,\n",
       "  0.6215139442231076,\n",
       "  0.8972997154686297)]"
      ]
     },
     "execution_count": 30,
     "metadata": {},
     "output_type": "execute_result"
    }
   ],
   "source": [
    "all_results"
   ]
  },
  {
   "cell_type": "markdown",
   "metadata": {},
   "source": [
    "### Combination of Undersampling and Oversampling"
   ]
  },
  {
   "cell_type": "markdown",
   "metadata": {},
   "source": [
    "#### 1. SMOTETomek"
   ]
  },
  {
   "cell_type": "code",
   "execution_count": 5,
   "metadata": {},
   "outputs": [],
   "source": [
    "from imblearn.combine import SMOTETomek"
   ]
  },
  {
   "cell_type": "code",
   "execution_count": 6,
   "metadata": {},
   "outputs": [
    {
     "name": "stdout",
     "output_type": "stream",
     "text": [
      "SMOTE Tomek RCF Completed\n",
      "SMOTE Tomek Random Forest Selection Completed\n",
      "SMOTE Tomek Forward feature selection Completed\n"
     ]
    }
   ],
   "source": [
    "all_dataset['X_smote_tomek'],all_dataset['y_smote_tomek'] = SMOTETomek().fit_resample(X_train,y_train)\n",
    "training_testing_function(all_dataset['X_smote_tomek'],all_dataset['y_smote_tomek'],\"SMOTE Tomek\")"
   ]
  },
  {
   "cell_type": "code",
   "execution_count": 7,
   "metadata": {},
   "outputs": [
    {
     "data": {
      "text/plain": [
       "[('SMOTE Tomek RCF',\n",
       "  0.9976651100733822,\n",
       "  0.5128205128205129,\n",
       "  0.8562196016560818),\n",
       " ('SMOTE Tomek Random Forest  Selection',\n",
       "  0.9991046662687406,\n",
       "  0.767123287671233,\n",
       "  0.9282460909237077),\n",
       " ('SMOTE Tomek Forward feature selection',\n",
       "  0.9966468873986166,\n",
       "  0.4558404558404559,\n",
       "  0.9066420919802924)]"
      ]
     },
     "execution_count": 7,
     "metadata": {},
     "output_type": "execute_result"
    }
   ],
   "source": [
    "all_results"
   ]
  },
  {
   "cell_type": "code",
   "execution_count": 2,
   "metadata": {},
   "outputs": [],
   "source": [
    "dataset1_results = [('Random Undersample RCF',\n",
    "  0.9735086548927355,\n",
    "  0.1001788908765653,\n",
    "  0.9154260290216255),\n",
    " ('Random Undersample Random Forest  Selection',\n",
    "  0.9836031038236017,\n",
    "  0.1539855072463768,\n",
    "  0.9255751998323245),\n",
    " ('Random Undersample Forward feature selection',\n",
    "  0.9614128717390541,\n",
    "  0.06785411365564037,\n",
    "  0.8889947228187842),\n",
    "  ('IHT RCF', 0.9990344440153085, 0.7417840375586854, 0.9027446797514729),\n",
    " ('IHT Random Forest  Selection',\n",
    "  0.9990344440153085,\n",
    "  0.7417840375586854,\n",
    "  0.9027446797514729),\n",
    " ('IHT Forward feature selection',\n",
    "  0.9991046662687406,\n",
    "  0.7582938388625592,\n",
    "  0.907873099295993),\n",
    " ('Cluster centroids RCF',\n",
    "  0.9212984094659598,\n",
    "  0.036949516648764766,\n",
    "  0.8994624122862425),\n",
    " ('Cluster centroids Random Forest  Selection',\n",
    "  0.9923106632491837,\n",
    "  0.2819672131147541,\n",
    "  0.9350297308005926),\n",
    " ('Cluster centroids Forward feature selection',\n",
    "  0.9918015519118009,\n",
    "  0.26917057902973396,\n",
    "  0.9347747364280545),\n",
    " ('Near Miss RCF',\n",
    "  0.5980653769179453,\n",
    "  0.007456539645380847,\n",
    "  0.7375673644528155),\n",
    " ('Near Miss Random Forest  Selection',\n",
    "  0.6635300726800323,\n",
    "  0.008996897621509825,\n",
    "  0.7754493715043699),\n",
    " ('Near Miss Forward feature selection',\n",
    "  0.6825778589234929,\n",
    "  0.009857072449482503,\n",
    "  0.8002694219218356),\n",
    " ('One Sided Selection RCF',\n",
    "  0.9993679997191109,\n",
    "  0.8085106382978723,\n",
    "  0.8876320013092462),\n",
    " ('One Sided Selection Random Forest  Selection',\n",
    "  0.9993153330290369,\n",
    "  0.7914438502673796,\n",
    "  0.8774191267671952),\n",
    " ('One Sided Selection Forward feature selection',\n",
    "  0.9993679997191109,\n",
    "  0.8064516129032258,\n",
    "  0.8825387534023176),\n",
    " ('Tomek Links RCF',\n",
    "  0.9993679997191109,\n",
    "  0.8085106382978723,\n",
    "  0.8876320013092462),\n",
    " ('Tomek Links Random Forest  Selection',\n",
    "  0.9992802219023208,\n",
    "  0.783068783068783,\n",
    "  0.8774015409483996),\n",
    " ('Tomek Links Forward feature selection',\n",
    "  0.9993679997191109,\n",
    "  0.8064516129032258,\n",
    "  0.8825387534023176),\n",
    " ('Random Oversampled RCF',\n",
    "  0.9991222218320986,\n",
    "  0.7395833333333335,\n",
    "  0.8620426610430328),\n",
    " ('Random Oversampled Random Forest  Selection',\n",
    "  0.9992802219023208,\n",
    "  0.7939698492462313,\n",
    "  0.902867780483043),\n",
    " ('Random Oversampled Forward feature selection',\n",
    "  0.9990519995786665,\n",
    "  0.7428571428571428,\n",
    "  0.8976602247539421),\n",
    " ('SMOTE RCF', 0.9978757768336786, 0.5468164794007491, 0.871604860289642),\n",
    " ('SMOTE Random Forest  Selection',\n",
    "  0.9989642217618764,\n",
    "  0.7377777777777779,\n",
    "  0.9230824997415963),\n",
    " ('SMOTE Forward feature selection',\n",
    "  0.9963835539482462,\n",
    "  0.4371584699453552,\n",
    "  0.9065101983393244),\n",
    " ('ADASYN RCF', 0.9984375548611355, 0.6454183266932271, 0.9126322166458029),\n",
    " ('ADASYN Random Forest  Selection',\n",
    "  0.9985955549313578,\n",
    "  0.6721311475409836,\n",
    "  0.9178046007373124),\n",
    " ('ADASYN Forward feature selection',\n",
    "  0.9948562199360977,\n",
    "  0.3644251626898048,\n",
    "  0.9261182068494253),\n",
    " ('Borderline SMOTE RCF',\n",
    "  0.9991748885221726,\n",
    "  0.7614213197969544,\n",
    "  0.8824420313989412),\n",
    " ('Borderline SMOTE Random Forest  Selection',\n",
    "  0.9992275552122467,\n",
    "  0.7864077669902914,\n",
    "  0.9130278975687067),\n",
    " ('Borderline SMOTE Forward feature selection',\n",
    "  0.9982795547909132,\n",
    "  0.6230769230769231,\n",
    "  0.9125530804612222),\n",
    " ('SVM SMOTE RCF', 0.9989291106351603, 0.6995073891625616, 0.8619459390396564),\n",
    " ('SVM SMOTE Random Forest  Selection',\n",
    "  0.9992099996488887,\n",
    "  0.7804878048780487,\n",
    "  0.9079258567523802),\n",
    " ('SVM SMOTE Forward feature selection',\n",
    "  0.9983322214809873,\n",
    "  0.6215139442231076,\n",
    "  0.8972997154686297),\n",
    "  ('SMOTE Tomek RCF',\n",
    "  0.9976651100733822,\n",
    "  0.5128205128205129,\n",
    "  0.8562196016560818),\n",
    " ('SMOTE Tomek Random Forest  Selection',\n",
    "  0.9991046662687406,\n",
    "  0.767123287671233,\n",
    "  0.9282460909237077),\n",
    " ('SMOTE Tomek Forward feature selection',\n",
    "  0.9966468873986166,\n",
    "  0.4558404558404559,\n",
    "  0.9066420919802924)]"
   ]
  },
  {
   "cell_type": "markdown",
   "metadata": {},
   "source": [
    "### Top 3 dataset-1 results wrt f1 score and auroc score"
   ]
  },
  {
   "cell_type": "code",
   "execution_count": 17,
   "metadata": {},
   "outputs": [
    {
     "data": {
      "text/plain": [
       "[('One Sided Selection RCF',\n",
       "  0.9993679997191109,\n",
       "  0.8085106382978723,\n",
       "  0.8876320013092462),\n",
       " ('Tomek Links RCF',\n",
       "  0.9993679997191109,\n",
       "  0.8085106382978723,\n",
       "  0.8876320013092462),\n",
       " ('One Sided Selection Forward feature selection',\n",
       "  0.9993679997191109,\n",
       "  0.8064516129032258,\n",
       "  0.8825387534023176)]"
      ]
     },
     "execution_count": 17,
     "metadata": {},
     "output_type": "execute_result"
    }
   ],
   "source": [
    "sorted(dataset1_results, key=lambda x: (x[2],x[3]), reverse=True)[:3]"
   ]
  },
  {
   "cell_type": "markdown",
   "metadata": {},
   "source": [
    "### Trying Xgboost on dataset 1"
   ]
  },
  {
   "cell_type": "code",
   "execution_count": 10,
   "metadata": {},
   "outputs": [
    {
     "name": "stdout",
     "output_type": "stream",
     "text": [
      "Estimate: 577.287\n"
     ]
    }
   ],
   "source": [
    "# count examples in each class\n",
    "counter = Counter(y_train)\n",
    "# estimate scale_pos_weight value\n",
    "estimate = counter[0] / counter[1]\n",
    "print('Estimate: %.3f' % estimate)"
   ]
  },
  {
   "cell_type": "code",
   "execution_count": 10,
   "metadata": {},
   "outputs": [],
   "source": [
    "# define model\n",
    "model = XGBClassifier(scale_pos_weight=500)"
   ]
  },
  {
   "cell_type": "code",
   "execution_count": 12,
   "metadata": {},
   "outputs": [
    {
     "name": "stdout",
     "output_type": "stream",
     "text": [
      "Mean f1 score: 0.87181\n"
     ]
    }
   ],
   "source": [
    "cv = RepeatedStratifiedKFold(n_splits=10, n_repeats=3, random_state=1)\n",
    "# evaluate model\n",
    "scores = cross_val_score(model, X_train, y_train, scoring='f1', cv=cv, n_jobs=-1)\n",
    "# summarize performance\n",
    "print('Mean f1 score: %.5f' % np.mean(scores))"
   ]
  },
  {
   "cell_type": "code",
   "execution_count": 14,
   "metadata": {},
   "outputs": [
    {
     "data": {
      "text/plain": [
       "XGBClassifier(base_score=0.5, booster='gbtree', colsample_bylevel=1,\n",
       "              colsample_bynode=1, colsample_bytree=1, gamma=0, gpu_id=-1,\n",
       "              importance_type='gain', interaction_constraints='',\n",
       "              learning_rate=0.300000012, max_delta_step=0, max_depth=6,\n",
       "              min_child_weight=1, missing=nan, monotone_constraints='()',\n",
       "              n_estimators=100, n_jobs=0, num_parallel_tree=1, random_state=0,\n",
       "              reg_alpha=0, reg_lambda=1, scale_pos_weight=500, subsample=1,\n",
       "              tree_method='exact', validate_parameters=1, verbosity=None)"
      ]
     },
     "execution_count": 14,
     "metadata": {},
     "output_type": "execute_result"
    }
   ],
   "source": [
    "model.fit(X_train,y_train)"
   ]
  },
  {
   "cell_type": "code",
   "execution_count": 15,
   "metadata": {},
   "outputs": [
    {
     "data": {
      "text/plain": [
       "0.8369565217391304"
      ]
     },
     "execution_count": 15,
     "metadata": {},
     "output_type": "execute_result"
    }
   ],
   "source": [
    "f1 = metrics.f1_score(y_test.values.ravel(),model.predict(X_test))\n",
    "f1"
   ]
  },
  {
   "cell_type": "code",
   "execution_count": null,
   "metadata": {},
   "outputs": [],
   "source": []
  },
  {
   "cell_type": "markdown",
   "metadata": {},
   "source": [
    "## Working with different dataset"
   ]
  },
  {
   "cell_type": "code",
   "execution_count": 77,
   "metadata": {
    "scrolled": true
   },
   "outputs": [
    {
     "data": {
      "text/html": [
       "<div>\n",
       "<style scoped>\n",
       "    .dataframe tbody tr th:only-of-type {\n",
       "        vertical-align: middle;\n",
       "    }\n",
       "\n",
       "    .dataframe tbody tr th {\n",
       "        vertical-align: top;\n",
       "    }\n",
       "\n",
       "    .dataframe thead th {\n",
       "        text-align: right;\n",
       "    }\n",
       "</style>\n",
       "<table border=\"1\" class=\"dataframe\">\n",
       "  <thead>\n",
       "    <tr style=\"text-align: right;\">\n",
       "      <th></th>\n",
       "      <th>step</th>\n",
       "      <th>type</th>\n",
       "      <th>amount</th>\n",
       "      <th>nameOrig</th>\n",
       "      <th>oldbalanceOrg</th>\n",
       "      <th>newbalanceOrig</th>\n",
       "      <th>nameDest</th>\n",
       "      <th>oldbalanceDest</th>\n",
       "      <th>newbalanceDest</th>\n",
       "      <th>isFraud</th>\n",
       "      <th>isFlaggedFraud</th>\n",
       "    </tr>\n",
       "  </thead>\n",
       "  <tbody>\n",
       "    <tr>\n",
       "      <th>0</th>\n",
       "      <td>1</td>\n",
       "      <td>PAYMENT</td>\n",
       "      <td>9839.64</td>\n",
       "      <td>C1231006815</td>\n",
       "      <td>170136.0</td>\n",
       "      <td>160296.36</td>\n",
       "      <td>M1979787155</td>\n",
       "      <td>0.0</td>\n",
       "      <td>0.0</td>\n",
       "      <td>0</td>\n",
       "      <td>0</td>\n",
       "    </tr>\n",
       "    <tr>\n",
       "      <th>1</th>\n",
       "      <td>1</td>\n",
       "      <td>PAYMENT</td>\n",
       "      <td>1864.28</td>\n",
       "      <td>C1666544295</td>\n",
       "      <td>21249.0</td>\n",
       "      <td>19384.72</td>\n",
       "      <td>M2044282225</td>\n",
       "      <td>0.0</td>\n",
       "      <td>0.0</td>\n",
       "      <td>0</td>\n",
       "      <td>0</td>\n",
       "    </tr>\n",
       "    <tr>\n",
       "      <th>2</th>\n",
       "      <td>1</td>\n",
       "      <td>TRANSFER</td>\n",
       "      <td>181.00</td>\n",
       "      <td>C1305486145</td>\n",
       "      <td>181.0</td>\n",
       "      <td>0.00</td>\n",
       "      <td>C553264065</td>\n",
       "      <td>0.0</td>\n",
       "      <td>0.0</td>\n",
       "      <td>1</td>\n",
       "      <td>0</td>\n",
       "    </tr>\n",
       "    <tr>\n",
       "      <th>3</th>\n",
       "      <td>1</td>\n",
       "      <td>CASH_OUT</td>\n",
       "      <td>181.00</td>\n",
       "      <td>C840083671</td>\n",
       "      <td>181.0</td>\n",
       "      <td>0.00</td>\n",
       "      <td>C38997010</td>\n",
       "      <td>21182.0</td>\n",
       "      <td>0.0</td>\n",
       "      <td>1</td>\n",
       "      <td>0</td>\n",
       "    </tr>\n",
       "    <tr>\n",
       "      <th>4</th>\n",
       "      <td>1</td>\n",
       "      <td>PAYMENT</td>\n",
       "      <td>11668.14</td>\n",
       "      <td>C2048537720</td>\n",
       "      <td>41554.0</td>\n",
       "      <td>29885.86</td>\n",
       "      <td>M1230701703</td>\n",
       "      <td>0.0</td>\n",
       "      <td>0.0</td>\n",
       "      <td>0</td>\n",
       "      <td>0</td>\n",
       "    </tr>\n",
       "  </tbody>\n",
       "</table>\n",
       "</div>"
      ],
      "text/plain": [
       "   step      type    amount     nameOrig  oldbalanceOrg  newbalanceOrig  \\\n",
       "0     1   PAYMENT   9839.64  C1231006815       170136.0       160296.36   \n",
       "1     1   PAYMENT   1864.28  C1666544295        21249.0        19384.72   \n",
       "2     1  TRANSFER    181.00  C1305486145          181.0            0.00   \n",
       "3     1  CASH_OUT    181.00   C840083671          181.0            0.00   \n",
       "4     1   PAYMENT  11668.14  C2048537720        41554.0        29885.86   \n",
       "\n",
       "      nameDest  oldbalanceDest  newbalanceDest  isFraud  isFlaggedFraud  \n",
       "0  M1979787155             0.0             0.0        0               0  \n",
       "1  M2044282225             0.0             0.0        0               0  \n",
       "2   C553264065             0.0             0.0        1               0  \n",
       "3    C38997010         21182.0             0.0        1               0  \n",
       "4  M1230701703             0.0             0.0        0               0  "
      ]
     },
     "execution_count": 77,
     "metadata": {},
     "output_type": "execute_result"
    }
   ],
   "source": [
    "dataset2 = pd.read_csv(\"dataset2.csv\")\n",
    "dataset2.head()"
   ]
  },
  {
   "cell_type": "code",
   "execution_count": 78,
   "metadata": {},
   "outputs": [
    {
     "data": {
      "text/plain": [
       "(6362620, 11)"
      ]
     },
     "execution_count": 78,
     "metadata": {},
     "output_type": "execute_result"
    }
   ],
   "source": [
    "dataset2.shape"
   ]
  },
  {
   "cell_type": "code",
   "execution_count": 79,
   "metadata": {},
   "outputs": [
    {
     "data": {
      "text/plain": [
       "False"
      ]
     },
     "execution_count": 79,
     "metadata": {},
     "output_type": "execute_result"
    }
   ],
   "source": [
    "dataset2.isnull().values.any()"
   ]
  },
  {
   "cell_type": "code",
   "execution_count": 80,
   "metadata": {},
   "outputs": [],
   "source": [
    "dataset2.drop(\"isFlaggedFraud\",axis=1,inplace=True)\n"
   ]
  },
  {
   "cell_type": "code",
   "execution_count": 81,
   "metadata": {},
   "outputs": [],
   "source": [
    "all_zero=list(dataset2.loc[dataset2[\"isFraud\"]==0].index)"
   ]
  },
  {
   "cell_type": "code",
   "execution_count": 82,
   "metadata": {},
   "outputs": [],
   "source": [
    "sample_zero = np.random.choice(all_zero,200000,replace=False)"
   ]
  },
  {
   "cell_type": "code",
   "execution_count": 83,
   "metadata": {},
   "outputs": [],
   "source": [
    "all_one=list(dataset2.loc[dataset2[\"isFraud\"]==1].index)"
   ]
  },
  {
   "cell_type": "code",
   "execution_count": 84,
   "metadata": {},
   "outputs": [],
   "source": [
    "selected_sample = np.concatenate([sample_zero,all_one])"
   ]
  },
  {
   "cell_type": "code",
   "execution_count": 85,
   "metadata": {},
   "outputs": [
    {
     "data": {
      "text/plain": [
       "208213"
      ]
     },
     "execution_count": 85,
     "metadata": {},
     "output_type": "execute_result"
    }
   ],
   "source": [
    "len(selected_sample)"
   ]
  },
  {
   "cell_type": "code",
   "execution_count": 86,
   "metadata": {},
   "outputs": [],
   "source": [
    "new_dataset2 = dataset2.loc[selected_sample]"
   ]
  },
  {
   "cell_type": "code",
   "execution_count": 87,
   "metadata": {},
   "outputs": [
    {
     "data": {
      "text/html": [
       "<div>\n",
       "<style scoped>\n",
       "    .dataframe tbody tr th:only-of-type {\n",
       "        vertical-align: middle;\n",
       "    }\n",
       "\n",
       "    .dataframe tbody tr th {\n",
       "        vertical-align: top;\n",
       "    }\n",
       "\n",
       "    .dataframe thead th {\n",
       "        text-align: right;\n",
       "    }\n",
       "</style>\n",
       "<table border=\"1\" class=\"dataframe\">\n",
       "  <thead>\n",
       "    <tr style=\"text-align: right;\">\n",
       "      <th></th>\n",
       "      <th>step</th>\n",
       "      <th>type</th>\n",
       "      <th>amount</th>\n",
       "      <th>nameOrig</th>\n",
       "      <th>oldbalanceOrg</th>\n",
       "      <th>newbalanceOrig</th>\n",
       "      <th>nameDest</th>\n",
       "      <th>oldbalanceDest</th>\n",
       "      <th>newbalanceDest</th>\n",
       "      <th>isFraud</th>\n",
       "    </tr>\n",
       "  </thead>\n",
       "  <tbody>\n",
       "    <tr>\n",
       "      <th>4161929</th>\n",
       "      <td>304</td>\n",
       "      <td>CASH_OUT</td>\n",
       "      <td>110640.92</td>\n",
       "      <td>C793420685</td>\n",
       "      <td>98786.01</td>\n",
       "      <td>0.00</td>\n",
       "      <td>C698799929</td>\n",
       "      <td>504958.73</td>\n",
       "      <td>615599.65</td>\n",
       "      <td>0</td>\n",
       "    </tr>\n",
       "    <tr>\n",
       "      <th>4858807</th>\n",
       "      <td>348</td>\n",
       "      <td>CASH_OUT</td>\n",
       "      <td>225320.50</td>\n",
       "      <td>C274955916</td>\n",
       "      <td>361.00</td>\n",
       "      <td>0.00</td>\n",
       "      <td>C374387</td>\n",
       "      <td>0.00</td>\n",
       "      <td>225320.50</td>\n",
       "      <td>0</td>\n",
       "    </tr>\n",
       "    <tr>\n",
       "      <th>3265393</th>\n",
       "      <td>251</td>\n",
       "      <td>CASH_IN</td>\n",
       "      <td>336206.16</td>\n",
       "      <td>C1221366808</td>\n",
       "      <td>532555.99</td>\n",
       "      <td>868762.15</td>\n",
       "      <td>C1100157475</td>\n",
       "      <td>397962.98</td>\n",
       "      <td>61756.82</td>\n",
       "      <td>0</td>\n",
       "    </tr>\n",
       "    <tr>\n",
       "      <th>1818226</th>\n",
       "      <td>163</td>\n",
       "      <td>CASH_IN</td>\n",
       "      <td>141319.47</td>\n",
       "      <td>C240061710</td>\n",
       "      <td>1012540.83</td>\n",
       "      <td>1153860.30</td>\n",
       "      <td>C2006455995</td>\n",
       "      <td>597072.37</td>\n",
       "      <td>355816.92</td>\n",
       "      <td>0</td>\n",
       "    </tr>\n",
       "    <tr>\n",
       "      <th>3275504</th>\n",
       "      <td>251</td>\n",
       "      <td>CASH_OUT</td>\n",
       "      <td>132456.88</td>\n",
       "      <td>C81835133</td>\n",
       "      <td>0.00</td>\n",
       "      <td>0.00</td>\n",
       "      <td>C2038478708</td>\n",
       "      <td>1929924.77</td>\n",
       "      <td>2062381.65</td>\n",
       "      <td>0</td>\n",
       "    </tr>\n",
       "  </tbody>\n",
       "</table>\n",
       "</div>"
      ],
      "text/plain": [
       "         step      type     amount     nameOrig  oldbalanceOrg  \\\n",
       "4161929   304  CASH_OUT  110640.92   C793420685       98786.01   \n",
       "4858807   348  CASH_OUT  225320.50   C274955916         361.00   \n",
       "3265393   251   CASH_IN  336206.16  C1221366808      532555.99   \n",
       "1818226   163   CASH_IN  141319.47   C240061710     1012540.83   \n",
       "3275504   251  CASH_OUT  132456.88    C81835133           0.00   \n",
       "\n",
       "         newbalanceOrig     nameDest  oldbalanceDest  newbalanceDest  isFraud  \n",
       "4161929            0.00   C698799929       504958.73       615599.65        0  \n",
       "4858807            0.00      C374387            0.00       225320.50        0  \n",
       "3265393       868762.15  C1100157475       397962.98        61756.82        0  \n",
       "1818226      1153860.30  C2006455995       597072.37       355816.92        0  \n",
       "3275504            0.00  C2038478708      1929924.77      2062381.65        0  "
      ]
     },
     "execution_count": 87,
     "metadata": {},
     "output_type": "execute_result"
    }
   ],
   "source": [
    "new_dataset2.head()"
   ]
  },
  {
   "cell_type": "code",
   "execution_count": 88,
   "metadata": {},
   "outputs": [],
   "source": [
    "y=new_dataset2['isFraud']\n",
    "new_dataset2.drop('isFraud',axis=1,inplace=True)\n",
    "X=new_dataset2"
   ]
  },
  {
   "cell_type": "markdown",
   "metadata": {},
   "source": [
    "Since the destination account balances being zero is a strong indicator of fraud, we do not impute the account balance (before the transaction is made) with a statistic or from a distribution with a subsequent adjustment for the amount transacted. Doing so would mask this indicator of fraud and make fraudulent transactions appear genuine. Instead, below we replace the value of 0 with -1 which will be more useful to a suitable machine-learning (ML) algorithm detecting fraud."
   ]
  },
  {
   "cell_type": "code",
   "execution_count": 89,
   "metadata": {},
   "outputs": [],
   "source": [
    "X.loc[(X.oldbalanceDest == 0) & (X.newbalanceDest == 0) & (X.amount != 0), ['oldbalanceDest', 'newbalanceDest']] = - 1"
   ]
  },
  {
   "cell_type": "markdown",
   "metadata": {},
   "source": [
    "The data also has several transactions with zero balances in the originating account both before and after a non-zero amount is transacted. In this case, the fraction of such transactions is much smaller in fraudulent (0.3%) compared to genuine transactions (47%). Once again, from similar reasoning as above, instead of imputing a numerical value we replace the value of 0 with a null value."
   ]
  },
  {
   "cell_type": "code",
   "execution_count": 90,
   "metadata": {},
   "outputs": [],
   "source": [
    "# X.loc[(X.oldbalanceOrg == 0) & (X.newbalanceOrig == 0) & (X.amount != 0),['oldbalanceOrg', 'newbalanceOrig']] = np.nan"
   ]
  },
  {
   "cell_type": "markdown",
   "metadata": {},
   "source": [
    "Motivated by the possibility of zero-balances serving to differentiate between fraudulent and genuine transactions, we create 2 new features (columns) recording errors in the originating and destination accounts for each transaction. These new features turn out to be important in obtaining the best performance from the ML algorithm that we will finally use."
   ]
  },
  {
   "cell_type": "code",
   "execution_count": 91,
   "metadata": {},
   "outputs": [],
   "source": [
    "X['errorbalanceOrg'] = X.newbalanceOrig + X.amount - X.oldbalanceOrg\n",
    "X['errorbalanceDest'] = X.oldbalanceDest + X.amount - X.newbalanceDest"
   ]
  },
  {
   "cell_type": "code",
   "execution_count": 92,
   "metadata": {},
   "outputs": [],
   "source": [
    "# log transformed amount\n",
    "X['ln_amount'] = np.log1p(X['amount'])"
   ]
  },
  {
   "cell_type": "code",
   "execution_count": 93,
   "metadata": {},
   "outputs": [],
   "source": [
    "# correcting few negative errors\n",
    "X['errorbalanceOrg'] = X['errorbalanceOrg'].apply(lambda x: 0 if x < 0 else x)\n",
    "\n",
    "# log transformed origin account balance error\n",
    "X['ln_errorBalanceOrig'] = np.log1p(X['errorbalanceOrg'])"
   ]
  },
  {
   "cell_type": "code",
   "execution_count": 94,
   "metadata": {},
   "outputs": [],
   "source": [
    "X['errorbalanceDest'] = X['errorbalanceDest'].apply(lambda x: 0 if x < 0 else x)\n",
    "\n",
    "# log transformed origin account balance error\n",
    "X['ln_errorBalanceDest'] = np.log1p(X['errorbalanceDest'])"
   ]
  },
  {
   "cell_type": "code",
   "execution_count": 95,
   "metadata": {},
   "outputs": [
    {
     "data": {
      "text/plain": [
       "CASH_OUT    74210\n",
       "PAYMENT     67857\n",
       "CASH_IN     44065\n",
       "TRANSFER    20743\n",
       "DEBIT        1338\n",
       "Name: type, dtype: int64"
      ]
     },
     "execution_count": 95,
     "metadata": {},
     "output_type": "execute_result"
    }
   ],
   "source": [
    "X[\"type\"].value_counts()"
   ]
  },
  {
   "cell_type": "code",
   "execution_count": 96,
   "metadata": {},
   "outputs": [],
   "source": [
    "X[\"type_transfer\"]=X[\"type\"].replace({'CASH_OUT':0,'PAYMENT':1,'CASH_IN':2,'TRANSFER':3,'DEBIT':4})"
   ]
  },
  {
   "cell_type": "code",
   "execution_count": 97,
   "metadata": {},
   "outputs": [],
   "source": [
    "X.drop(\"type\",axis=1,inplace=True)"
   ]
  },
  {
   "cell_type": "code",
   "execution_count": 98,
   "metadata": {},
   "outputs": [
    {
     "data": {
      "text/html": [
       "<div>\n",
       "<style scoped>\n",
       "    .dataframe tbody tr th:only-of-type {\n",
       "        vertical-align: middle;\n",
       "    }\n",
       "\n",
       "    .dataframe tbody tr th {\n",
       "        vertical-align: top;\n",
       "    }\n",
       "\n",
       "    .dataframe thead th {\n",
       "        text-align: right;\n",
       "    }\n",
       "</style>\n",
       "<table border=\"1\" class=\"dataframe\">\n",
       "  <thead>\n",
       "    <tr style=\"text-align: right;\">\n",
       "      <th></th>\n",
       "      <th>step</th>\n",
       "      <th>amount</th>\n",
       "      <th>nameOrig</th>\n",
       "      <th>oldbalanceOrg</th>\n",
       "      <th>newbalanceOrig</th>\n",
       "      <th>nameDest</th>\n",
       "      <th>oldbalanceDest</th>\n",
       "      <th>newbalanceDest</th>\n",
       "      <th>errorbalanceOrg</th>\n",
       "      <th>errorbalanceDest</th>\n",
       "      <th>ln_amount</th>\n",
       "      <th>ln_errorBalanceOrig</th>\n",
       "      <th>ln_errorBalanceDest</th>\n",
       "      <th>type_transfer</th>\n",
       "    </tr>\n",
       "  </thead>\n",
       "  <tbody>\n",
       "    <tr>\n",
       "      <th>4161929</th>\n",
       "      <td>304</td>\n",
       "      <td>110640.92</td>\n",
       "      <td>C793420685</td>\n",
       "      <td>98786.01</td>\n",
       "      <td>0.00</td>\n",
       "      <td>C698799929</td>\n",
       "      <td>504958.73</td>\n",
       "      <td>615599.65</td>\n",
       "      <td>11854.91</td>\n",
       "      <td>0.00</td>\n",
       "      <td>11.614054</td>\n",
       "      <td>9.380582</td>\n",
       "      <td>0.000000</td>\n",
       "      <td>0</td>\n",
       "    </tr>\n",
       "    <tr>\n",
       "      <th>4858807</th>\n",
       "      <td>348</td>\n",
       "      <td>225320.50</td>\n",
       "      <td>C274955916</td>\n",
       "      <td>361.00</td>\n",
       "      <td>0.00</td>\n",
       "      <td>C374387</td>\n",
       "      <td>0.00</td>\n",
       "      <td>225320.50</td>\n",
       "      <td>224959.50</td>\n",
       "      <td>0.00</td>\n",
       "      <td>12.325284</td>\n",
       "      <td>12.323680</td>\n",
       "      <td>0.000000</td>\n",
       "      <td>0</td>\n",
       "    </tr>\n",
       "    <tr>\n",
       "      <th>3265393</th>\n",
       "      <td>251</td>\n",
       "      <td>336206.16</td>\n",
       "      <td>C1221366808</td>\n",
       "      <td>532555.99</td>\n",
       "      <td>868762.15</td>\n",
       "      <td>C1100157475</td>\n",
       "      <td>397962.98</td>\n",
       "      <td>61756.82</td>\n",
       "      <td>672412.32</td>\n",
       "      <td>672412.32</td>\n",
       "      <td>12.725483</td>\n",
       "      <td>13.418628</td>\n",
       "      <td>13.418628</td>\n",
       "      <td>2</td>\n",
       "    </tr>\n",
       "    <tr>\n",
       "      <th>1818226</th>\n",
       "      <td>163</td>\n",
       "      <td>141319.47</td>\n",
       "      <td>C240061710</td>\n",
       "      <td>1012540.83</td>\n",
       "      <td>1153860.30</td>\n",
       "      <td>C2006455995</td>\n",
       "      <td>597072.37</td>\n",
       "      <td>355816.92</td>\n",
       "      <td>282638.94</td>\n",
       "      <td>382574.92</td>\n",
       "      <td>11.858785</td>\n",
       "      <td>12.551929</td>\n",
       "      <td>12.854682</td>\n",
       "      <td>2</td>\n",
       "    </tr>\n",
       "    <tr>\n",
       "      <th>3275504</th>\n",
       "      <td>251</td>\n",
       "      <td>132456.88</td>\n",
       "      <td>C81835133</td>\n",
       "      <td>0.00</td>\n",
       "      <td>0.00</td>\n",
       "      <td>C2038478708</td>\n",
       "      <td>1929924.77</td>\n",
       "      <td>2062381.65</td>\n",
       "      <td>132456.88</td>\n",
       "      <td>0.00</td>\n",
       "      <td>11.794020</td>\n",
       "      <td>11.794020</td>\n",
       "      <td>0.000000</td>\n",
       "      <td>0</td>\n",
       "    </tr>\n",
       "  </tbody>\n",
       "</table>\n",
       "</div>"
      ],
      "text/plain": [
       "         step     amount     nameOrig  oldbalanceOrg  newbalanceOrig  \\\n",
       "4161929   304  110640.92   C793420685       98786.01            0.00   \n",
       "4858807   348  225320.50   C274955916         361.00            0.00   \n",
       "3265393   251  336206.16  C1221366808      532555.99       868762.15   \n",
       "1818226   163  141319.47   C240061710     1012540.83      1153860.30   \n",
       "3275504   251  132456.88    C81835133           0.00            0.00   \n",
       "\n",
       "            nameDest  oldbalanceDest  newbalanceDest  errorbalanceOrg  \\\n",
       "4161929   C698799929       504958.73       615599.65         11854.91   \n",
       "4858807      C374387            0.00       225320.50        224959.50   \n",
       "3265393  C1100157475       397962.98        61756.82        672412.32   \n",
       "1818226  C2006455995       597072.37       355816.92        282638.94   \n",
       "3275504  C2038478708      1929924.77      2062381.65        132456.88   \n",
       "\n",
       "         errorbalanceDest  ln_amount  ln_errorBalanceOrig  \\\n",
       "4161929              0.00  11.614054             9.380582   \n",
       "4858807              0.00  12.325284            12.323680   \n",
       "3265393         672412.32  12.725483            13.418628   \n",
       "1818226         382574.92  11.858785            12.551929   \n",
       "3275504              0.00  11.794020            11.794020   \n",
       "\n",
       "         ln_errorBalanceDest  type_transfer  \n",
       "4161929             0.000000              0  \n",
       "4858807             0.000000              0  \n",
       "3265393            13.418628              2  \n",
       "1818226            12.854682              2  \n",
       "3275504             0.000000              0  "
      ]
     },
     "execution_count": 98,
     "metadata": {},
     "output_type": "execute_result"
    }
   ],
   "source": [
    "X.head()"
   ]
  },
  {
   "cell_type": "code",
   "execution_count": 99,
   "metadata": {},
   "outputs": [],
   "source": [
    "X.drop([\"amount\",\"errorbalanceOrg\",\"errorbalanceDest\"],axis=1,inplace=True)\n"
   ]
  },
  {
   "cell_type": "code",
   "execution_count": 100,
   "metadata": {},
   "outputs": [
    {
     "data": {
      "text/html": [
       "<div>\n",
       "<style scoped>\n",
       "    .dataframe tbody tr th:only-of-type {\n",
       "        vertical-align: middle;\n",
       "    }\n",
       "\n",
       "    .dataframe tbody tr th {\n",
       "        vertical-align: top;\n",
       "    }\n",
       "\n",
       "    .dataframe thead th {\n",
       "        text-align: right;\n",
       "    }\n",
       "</style>\n",
       "<table border=\"1\" class=\"dataframe\">\n",
       "  <thead>\n",
       "    <tr style=\"text-align: right;\">\n",
       "      <th></th>\n",
       "      <th>step</th>\n",
       "      <th>nameOrig</th>\n",
       "      <th>oldbalanceOrg</th>\n",
       "      <th>newbalanceOrig</th>\n",
       "      <th>nameDest</th>\n",
       "      <th>oldbalanceDest</th>\n",
       "      <th>newbalanceDest</th>\n",
       "      <th>ln_amount</th>\n",
       "      <th>ln_errorBalanceOrig</th>\n",
       "      <th>ln_errorBalanceDest</th>\n",
       "      <th>type_transfer</th>\n",
       "    </tr>\n",
       "  </thead>\n",
       "  <tbody>\n",
       "    <tr>\n",
       "      <th>4161929</th>\n",
       "      <td>304</td>\n",
       "      <td>C793420685</td>\n",
       "      <td>98786.01</td>\n",
       "      <td>0.00</td>\n",
       "      <td>C698799929</td>\n",
       "      <td>504958.73</td>\n",
       "      <td>615599.65</td>\n",
       "      <td>11.614054</td>\n",
       "      <td>9.380582</td>\n",
       "      <td>0.000000</td>\n",
       "      <td>0</td>\n",
       "    </tr>\n",
       "    <tr>\n",
       "      <th>4858807</th>\n",
       "      <td>348</td>\n",
       "      <td>C274955916</td>\n",
       "      <td>361.00</td>\n",
       "      <td>0.00</td>\n",
       "      <td>C374387</td>\n",
       "      <td>0.00</td>\n",
       "      <td>225320.50</td>\n",
       "      <td>12.325284</td>\n",
       "      <td>12.323680</td>\n",
       "      <td>0.000000</td>\n",
       "      <td>0</td>\n",
       "    </tr>\n",
       "    <tr>\n",
       "      <th>3265393</th>\n",
       "      <td>251</td>\n",
       "      <td>C1221366808</td>\n",
       "      <td>532555.99</td>\n",
       "      <td>868762.15</td>\n",
       "      <td>C1100157475</td>\n",
       "      <td>397962.98</td>\n",
       "      <td>61756.82</td>\n",
       "      <td>12.725483</td>\n",
       "      <td>13.418628</td>\n",
       "      <td>13.418628</td>\n",
       "      <td>2</td>\n",
       "    </tr>\n",
       "    <tr>\n",
       "      <th>1818226</th>\n",
       "      <td>163</td>\n",
       "      <td>C240061710</td>\n",
       "      <td>1012540.83</td>\n",
       "      <td>1153860.30</td>\n",
       "      <td>C2006455995</td>\n",
       "      <td>597072.37</td>\n",
       "      <td>355816.92</td>\n",
       "      <td>11.858785</td>\n",
       "      <td>12.551929</td>\n",
       "      <td>12.854682</td>\n",
       "      <td>2</td>\n",
       "    </tr>\n",
       "    <tr>\n",
       "      <th>3275504</th>\n",
       "      <td>251</td>\n",
       "      <td>C81835133</td>\n",
       "      <td>0.00</td>\n",
       "      <td>0.00</td>\n",
       "      <td>C2038478708</td>\n",
       "      <td>1929924.77</td>\n",
       "      <td>2062381.65</td>\n",
       "      <td>11.794020</td>\n",
       "      <td>11.794020</td>\n",
       "      <td>0.000000</td>\n",
       "      <td>0</td>\n",
       "    </tr>\n",
       "  </tbody>\n",
       "</table>\n",
       "</div>"
      ],
      "text/plain": [
       "         step     nameOrig  oldbalanceOrg  newbalanceOrig     nameDest  \\\n",
       "4161929   304   C793420685       98786.01            0.00   C698799929   \n",
       "4858807   348   C274955916         361.00            0.00      C374387   \n",
       "3265393   251  C1221366808      532555.99       868762.15  C1100157475   \n",
       "1818226   163   C240061710     1012540.83      1153860.30  C2006455995   \n",
       "3275504   251    C81835133           0.00            0.00  C2038478708   \n",
       "\n",
       "         oldbalanceDest  newbalanceDest  ln_amount  ln_errorBalanceOrig  \\\n",
       "4161929       504958.73       615599.65  11.614054             9.380582   \n",
       "4858807            0.00       225320.50  12.325284            12.323680   \n",
       "3265393       397962.98        61756.82  12.725483            13.418628   \n",
       "1818226       597072.37       355816.92  11.858785            12.551929   \n",
       "3275504      1929924.77      2062381.65  11.794020            11.794020   \n",
       "\n",
       "         ln_errorBalanceDest  type_transfer  \n",
       "4161929             0.000000              0  \n",
       "4858807             0.000000              0  \n",
       "3265393            13.418628              2  \n",
       "1818226            12.854682              2  \n",
       "3275504             0.000000              0  "
      ]
     },
     "execution_count": 100,
     "metadata": {},
     "output_type": "execute_result"
    }
   ],
   "source": [
    "X.head()"
   ]
  },
  {
   "cell_type": "code",
   "execution_count": 101,
   "metadata": {},
   "outputs": [],
   "source": [
    "X[\"type_name\"]=X.step"
   ]
  },
  {
   "cell_type": "code",
   "execution_count": 102,
   "metadata": {},
   "outputs": [],
   "source": [
    "X.loc[(X.nameOrig.str.contains(\"C\")) & (X.nameDest.str.contains(\"C\")),\"type_name\"]=0\n",
    "X.loc[(X.nameOrig.str.contains(\"C\")) & (X.nameDest.str.contains(\"M\")),\"type_name\"]=1\n",
    "X.loc[(X.nameOrig.str.contains(\"M\")) & (X.nameDest.str.contains(\"C\")),\"type_name\"]=2\n",
    "X.loc[(X.nameOrig.str.contains(\"M\")) & (X.nameDest.str.contains(\"M\")),\"type_name\"]=3"
   ]
  },
  {
   "cell_type": "code",
   "execution_count": 103,
   "metadata": {},
   "outputs": [
    {
     "data": {
      "text/html": [
       "<div>\n",
       "<style scoped>\n",
       "    .dataframe tbody tr th:only-of-type {\n",
       "        vertical-align: middle;\n",
       "    }\n",
       "\n",
       "    .dataframe tbody tr th {\n",
       "        vertical-align: top;\n",
       "    }\n",
       "\n",
       "    .dataframe thead th {\n",
       "        text-align: right;\n",
       "    }\n",
       "</style>\n",
       "<table border=\"1\" class=\"dataframe\">\n",
       "  <thead>\n",
       "    <tr style=\"text-align: right;\">\n",
       "      <th></th>\n",
       "      <th>step</th>\n",
       "      <th>nameOrig</th>\n",
       "      <th>oldbalanceOrg</th>\n",
       "      <th>newbalanceOrig</th>\n",
       "      <th>nameDest</th>\n",
       "      <th>oldbalanceDest</th>\n",
       "      <th>newbalanceDest</th>\n",
       "      <th>ln_amount</th>\n",
       "      <th>ln_errorBalanceOrig</th>\n",
       "      <th>ln_errorBalanceDest</th>\n",
       "      <th>type_transfer</th>\n",
       "      <th>type_name</th>\n",
       "    </tr>\n",
       "  </thead>\n",
       "  <tbody>\n",
       "    <tr>\n",
       "      <th>6362615</th>\n",
       "      <td>743</td>\n",
       "      <td>C786484425</td>\n",
       "      <td>339682.13</td>\n",
       "      <td>0.0</td>\n",
       "      <td>C776919290</td>\n",
       "      <td>0.00</td>\n",
       "      <td>339682.13</td>\n",
       "      <td>12.735768</td>\n",
       "      <td>0.0</td>\n",
       "      <td>0.000000e+00</td>\n",
       "      <td>0</td>\n",
       "      <td>0</td>\n",
       "    </tr>\n",
       "    <tr>\n",
       "      <th>6362616</th>\n",
       "      <td>743</td>\n",
       "      <td>C1529008245</td>\n",
       "      <td>6311409.28</td>\n",
       "      <td>0.0</td>\n",
       "      <td>C1881841831</td>\n",
       "      <td>-1.00</td>\n",
       "      <td>-1.00</td>\n",
       "      <td>15.657870</td>\n",
       "      <td>0.0</td>\n",
       "      <td>1.565787e+01</td>\n",
       "      <td>3</td>\n",
       "      <td>0</td>\n",
       "    </tr>\n",
       "    <tr>\n",
       "      <th>6362617</th>\n",
       "      <td>743</td>\n",
       "      <td>C1162922333</td>\n",
       "      <td>6311409.28</td>\n",
       "      <td>0.0</td>\n",
       "      <td>C1365125890</td>\n",
       "      <td>68488.84</td>\n",
       "      <td>6379898.11</td>\n",
       "      <td>15.657870</td>\n",
       "      <td>0.0</td>\n",
       "      <td>9.950331e-03</td>\n",
       "      <td>0</td>\n",
       "      <td>0</td>\n",
       "    </tr>\n",
       "    <tr>\n",
       "      <th>6362618</th>\n",
       "      <td>743</td>\n",
       "      <td>C1685995037</td>\n",
       "      <td>850002.52</td>\n",
       "      <td>0.0</td>\n",
       "      <td>C2080388513</td>\n",
       "      <td>-1.00</td>\n",
       "      <td>-1.00</td>\n",
       "      <td>13.652996</td>\n",
       "      <td>0.0</td>\n",
       "      <td>1.365300e+01</td>\n",
       "      <td>3</td>\n",
       "      <td>0</td>\n",
       "    </tr>\n",
       "    <tr>\n",
       "      <th>6362619</th>\n",
       "      <td>743</td>\n",
       "      <td>C1280323807</td>\n",
       "      <td>850002.52</td>\n",
       "      <td>0.0</td>\n",
       "      <td>C873221189</td>\n",
       "      <td>6510099.11</td>\n",
       "      <td>7360101.63</td>\n",
       "      <td>13.652996</td>\n",
       "      <td>0.0</td>\n",
       "      <td>9.313226e-10</td>\n",
       "      <td>0</td>\n",
       "      <td>0</td>\n",
       "    </tr>\n",
       "  </tbody>\n",
       "</table>\n",
       "</div>"
      ],
      "text/plain": [
       "         step     nameOrig  oldbalanceOrg  newbalanceOrig     nameDest  \\\n",
       "6362615   743   C786484425      339682.13             0.0   C776919290   \n",
       "6362616   743  C1529008245     6311409.28             0.0  C1881841831   \n",
       "6362617   743  C1162922333     6311409.28             0.0  C1365125890   \n",
       "6362618   743  C1685995037      850002.52             0.0  C2080388513   \n",
       "6362619   743  C1280323807      850002.52             0.0   C873221189   \n",
       "\n",
       "         oldbalanceDest  newbalanceDest  ln_amount  ln_errorBalanceOrig  \\\n",
       "6362615            0.00       339682.13  12.735768                  0.0   \n",
       "6362616           -1.00           -1.00  15.657870                  0.0   \n",
       "6362617        68488.84      6379898.11  15.657870                  0.0   \n",
       "6362618           -1.00           -1.00  13.652996                  0.0   \n",
       "6362619      6510099.11      7360101.63  13.652996                  0.0   \n",
       "\n",
       "         ln_errorBalanceDest  type_transfer  type_name  \n",
       "6362615         0.000000e+00              0          0  \n",
       "6362616         1.565787e+01              3          0  \n",
       "6362617         9.950331e-03              0          0  \n",
       "6362618         1.365300e+01              3          0  \n",
       "6362619         9.313226e-10              0          0  "
      ]
     },
     "execution_count": 103,
     "metadata": {},
     "output_type": "execute_result"
    }
   ],
   "source": [
    "X.tail()"
   ]
  },
  {
   "cell_type": "code",
   "execution_count": 104,
   "metadata": {},
   "outputs": [],
   "source": [
    "X.drop([\"nameOrig\",\"nameDest\"],axis=1,inplace=True)"
   ]
  },
  {
   "cell_type": "code",
   "execution_count": 105,
   "metadata": {},
   "outputs": [
    {
     "data": {
      "text/html": [
       "<div>\n",
       "<style scoped>\n",
       "    .dataframe tbody tr th:only-of-type {\n",
       "        vertical-align: middle;\n",
       "    }\n",
       "\n",
       "    .dataframe tbody tr th {\n",
       "        vertical-align: top;\n",
       "    }\n",
       "\n",
       "    .dataframe thead th {\n",
       "        text-align: right;\n",
       "    }\n",
       "</style>\n",
       "<table border=\"1\" class=\"dataframe\">\n",
       "  <thead>\n",
       "    <tr style=\"text-align: right;\">\n",
       "      <th></th>\n",
       "      <th>step</th>\n",
       "      <th>oldbalanceOrg</th>\n",
       "      <th>newbalanceOrig</th>\n",
       "      <th>oldbalanceDest</th>\n",
       "      <th>newbalanceDest</th>\n",
       "      <th>ln_amount</th>\n",
       "      <th>ln_errorBalanceOrig</th>\n",
       "      <th>ln_errorBalanceDest</th>\n",
       "      <th>type_transfer</th>\n",
       "      <th>type_name</th>\n",
       "    </tr>\n",
       "  </thead>\n",
       "  <tbody>\n",
       "    <tr>\n",
       "      <th>4161929</th>\n",
       "      <td>304</td>\n",
       "      <td>98786.01</td>\n",
       "      <td>0.00</td>\n",
       "      <td>504958.73</td>\n",
       "      <td>615599.65</td>\n",
       "      <td>11.614054</td>\n",
       "      <td>9.380582</td>\n",
       "      <td>0.000000</td>\n",
       "      <td>0</td>\n",
       "      <td>0</td>\n",
       "    </tr>\n",
       "    <tr>\n",
       "      <th>4858807</th>\n",
       "      <td>348</td>\n",
       "      <td>361.00</td>\n",
       "      <td>0.00</td>\n",
       "      <td>0.00</td>\n",
       "      <td>225320.50</td>\n",
       "      <td>12.325284</td>\n",
       "      <td>12.323680</td>\n",
       "      <td>0.000000</td>\n",
       "      <td>0</td>\n",
       "      <td>0</td>\n",
       "    </tr>\n",
       "    <tr>\n",
       "      <th>3265393</th>\n",
       "      <td>251</td>\n",
       "      <td>532555.99</td>\n",
       "      <td>868762.15</td>\n",
       "      <td>397962.98</td>\n",
       "      <td>61756.82</td>\n",
       "      <td>12.725483</td>\n",
       "      <td>13.418628</td>\n",
       "      <td>13.418628</td>\n",
       "      <td>2</td>\n",
       "      <td>0</td>\n",
       "    </tr>\n",
       "    <tr>\n",
       "      <th>1818226</th>\n",
       "      <td>163</td>\n",
       "      <td>1012540.83</td>\n",
       "      <td>1153860.30</td>\n",
       "      <td>597072.37</td>\n",
       "      <td>355816.92</td>\n",
       "      <td>11.858785</td>\n",
       "      <td>12.551929</td>\n",
       "      <td>12.854682</td>\n",
       "      <td>2</td>\n",
       "      <td>0</td>\n",
       "    </tr>\n",
       "    <tr>\n",
       "      <th>3275504</th>\n",
       "      <td>251</td>\n",
       "      <td>0.00</td>\n",
       "      <td>0.00</td>\n",
       "      <td>1929924.77</td>\n",
       "      <td>2062381.65</td>\n",
       "      <td>11.794020</td>\n",
       "      <td>11.794020</td>\n",
       "      <td>0.000000</td>\n",
       "      <td>0</td>\n",
       "      <td>0</td>\n",
       "    </tr>\n",
       "  </tbody>\n",
       "</table>\n",
       "</div>"
      ],
      "text/plain": [
       "         step  oldbalanceOrg  newbalanceOrig  oldbalanceDest  newbalanceDest  \\\n",
       "4161929   304       98786.01            0.00       504958.73       615599.65   \n",
       "4858807   348         361.00            0.00            0.00       225320.50   \n",
       "3265393   251      532555.99       868762.15       397962.98        61756.82   \n",
       "1818226   163     1012540.83      1153860.30       597072.37       355816.92   \n",
       "3275504   251           0.00            0.00      1929924.77      2062381.65   \n",
       "\n",
       "         ln_amount  ln_errorBalanceOrig  ln_errorBalanceDest  type_transfer  \\\n",
       "4161929  11.614054             9.380582             0.000000              0   \n",
       "4858807  12.325284            12.323680             0.000000              0   \n",
       "3265393  12.725483            13.418628            13.418628              2   \n",
       "1818226  11.858785            12.551929            12.854682              2   \n",
       "3275504  11.794020            11.794020             0.000000              0   \n",
       "\n",
       "         type_name  \n",
       "4161929          0  \n",
       "4858807          0  \n",
       "3265393          0  \n",
       "1818226          0  \n",
       "3275504          0  "
      ]
     },
     "execution_count": 105,
     "metadata": {},
     "output_type": "execute_result"
    }
   ],
   "source": [
    "X.head()"
   ]
  },
  {
   "cell_type": "code",
   "execution_count": 106,
   "metadata": {},
   "outputs": [],
   "source": [
    "#first proceed without step column\n",
    "step_col = X.step\n",
    "X.drop(\"step\",axis=1,inplace=True)\n"
   ]
  },
  {
   "cell_type": "code",
   "execution_count": 107,
   "metadata": {},
   "outputs": [
    {
     "data": {
      "text/html": [
       "<div>\n",
       "<style scoped>\n",
       "    .dataframe tbody tr th:only-of-type {\n",
       "        vertical-align: middle;\n",
       "    }\n",
       "\n",
       "    .dataframe tbody tr th {\n",
       "        vertical-align: top;\n",
       "    }\n",
       "\n",
       "    .dataframe thead th {\n",
       "        text-align: right;\n",
       "    }\n",
       "</style>\n",
       "<table border=\"1\" class=\"dataframe\">\n",
       "  <thead>\n",
       "    <tr style=\"text-align: right;\">\n",
       "      <th></th>\n",
       "      <th>oldbalanceOrg</th>\n",
       "      <th>newbalanceOrig</th>\n",
       "      <th>oldbalanceDest</th>\n",
       "      <th>newbalanceDest</th>\n",
       "      <th>ln_amount</th>\n",
       "      <th>ln_errorBalanceOrig</th>\n",
       "      <th>ln_errorBalanceDest</th>\n",
       "      <th>type_transfer</th>\n",
       "      <th>type_name</th>\n",
       "    </tr>\n",
       "  </thead>\n",
       "  <tbody>\n",
       "    <tr>\n",
       "      <th>4161929</th>\n",
       "      <td>98786.01</td>\n",
       "      <td>0.00</td>\n",
       "      <td>504958.73</td>\n",
       "      <td>615599.65</td>\n",
       "      <td>11.614054</td>\n",
       "      <td>9.380582</td>\n",
       "      <td>0.000000</td>\n",
       "      <td>0</td>\n",
       "      <td>0</td>\n",
       "    </tr>\n",
       "    <tr>\n",
       "      <th>4858807</th>\n",
       "      <td>361.00</td>\n",
       "      <td>0.00</td>\n",
       "      <td>0.00</td>\n",
       "      <td>225320.50</td>\n",
       "      <td>12.325284</td>\n",
       "      <td>12.323680</td>\n",
       "      <td>0.000000</td>\n",
       "      <td>0</td>\n",
       "      <td>0</td>\n",
       "    </tr>\n",
       "    <tr>\n",
       "      <th>3265393</th>\n",
       "      <td>532555.99</td>\n",
       "      <td>868762.15</td>\n",
       "      <td>397962.98</td>\n",
       "      <td>61756.82</td>\n",
       "      <td>12.725483</td>\n",
       "      <td>13.418628</td>\n",
       "      <td>13.418628</td>\n",
       "      <td>2</td>\n",
       "      <td>0</td>\n",
       "    </tr>\n",
       "    <tr>\n",
       "      <th>1818226</th>\n",
       "      <td>1012540.83</td>\n",
       "      <td>1153860.30</td>\n",
       "      <td>597072.37</td>\n",
       "      <td>355816.92</td>\n",
       "      <td>11.858785</td>\n",
       "      <td>12.551929</td>\n",
       "      <td>12.854682</td>\n",
       "      <td>2</td>\n",
       "      <td>0</td>\n",
       "    </tr>\n",
       "    <tr>\n",
       "      <th>3275504</th>\n",
       "      <td>0.00</td>\n",
       "      <td>0.00</td>\n",
       "      <td>1929924.77</td>\n",
       "      <td>2062381.65</td>\n",
       "      <td>11.794020</td>\n",
       "      <td>11.794020</td>\n",
       "      <td>0.000000</td>\n",
       "      <td>0</td>\n",
       "      <td>0</td>\n",
       "    </tr>\n",
       "  </tbody>\n",
       "</table>\n",
       "</div>"
      ],
      "text/plain": [
       "         oldbalanceOrg  newbalanceOrig  oldbalanceDest  newbalanceDest  \\\n",
       "4161929       98786.01            0.00       504958.73       615599.65   \n",
       "4858807         361.00            0.00            0.00       225320.50   \n",
       "3265393      532555.99       868762.15       397962.98        61756.82   \n",
       "1818226     1012540.83      1153860.30       597072.37       355816.92   \n",
       "3275504           0.00            0.00      1929924.77      2062381.65   \n",
       "\n",
       "         ln_amount  ln_errorBalanceOrig  ln_errorBalanceDest  type_transfer  \\\n",
       "4161929  11.614054             9.380582             0.000000              0   \n",
       "4858807  12.325284            12.323680             0.000000              0   \n",
       "3265393  12.725483            13.418628            13.418628              2   \n",
       "1818226  11.858785            12.551929            12.854682              2   \n",
       "3275504  11.794020            11.794020             0.000000              0   \n",
       "\n",
       "         type_name  \n",
       "4161929          0  \n",
       "4858807          0  \n",
       "3265393          0  \n",
       "1818226          0  \n",
       "3275504          0  "
      ]
     },
     "execution_count": 107,
     "metadata": {},
     "output_type": "execute_result"
    }
   ],
   "source": [
    "X.head()"
   ]
  },
  {
   "cell_type": "code",
   "execution_count": 108,
   "metadata": {},
   "outputs": [],
   "source": [
    "# dividing into training and testing"
   ]
  },
  {
   "cell_type": "code",
   "execution_count": 109,
   "metadata": {},
   "outputs": [],
   "source": [
    "X_train, X_test, y_train, y_test = train_test_split(X, y, test_size = 0.20, random_state = 0, stratify = y)"
   ]
  },
  {
   "cell_type": "code",
   "execution_count": 110,
   "metadata": {},
   "outputs": [
    {
     "data": {
      "text/plain": [
       "False"
      ]
     },
     "execution_count": 110,
     "metadata": {},
     "output_type": "execute_result"
    }
   ],
   "source": [
    "X.isnull().values.any()"
   ]
  },
  {
   "cell_type": "code",
   "execution_count": 111,
   "metadata": {},
   "outputs": [
    {
     "name": "stdout",
     "output_type": "stream",
     "text": [
      "(166570, 1)\n"
     ]
    },
    {
     "name": "stderr",
     "output_type": "stream",
     "text": [
      "C:\\Users\\Anuj\\Miniconda3\\envs\\condaenv\\lib\\site-packages\\ipykernel_launcher.py:28: SettingWithCopyWarning: \n",
      "A value is trying to be set on a copy of a slice from a DataFrame.\n",
      "Try using .loc[row_indexer,col_indexer] = value instead\n",
      "\n",
      "See the caveats in the documentation: http://pandas.pydata.org/pandas-docs/stable/indexing.html#indexing-view-versus-copy\n",
      "C:\\Users\\Anuj\\Miniconda3\\envs\\condaenv\\lib\\site-packages\\pandas\\core\\frame.py:3940: SettingWithCopyWarning: \n",
      "A value is trying to be set on a copy of a slice from a DataFrame\n",
      "\n",
      "See the caveats in the documentation: http://pandas.pydata.org/pandas-docs/stable/indexing.html#indexing-view-versus-copy\n",
      "  errors=errors)\n",
      "C:\\Users\\Anuj\\Miniconda3\\envs\\condaenv\\lib\\site-packages\\ipykernel_launcher.py:31: SettingWithCopyWarning: \n",
      "A value is trying to be set on a copy of a slice from a DataFrame.\n",
      "Try using .loc[row_indexer,col_indexer] = value instead\n",
      "\n",
      "See the caveats in the documentation: http://pandas.pydata.org/pandas-docs/stable/indexing.html#indexing-view-versus-copy\n",
      "C:\\Users\\Anuj\\Miniconda3\\envs\\condaenv\\lib\\site-packages\\pandas\\core\\frame.py:3940: SettingWithCopyWarning: \n",
      "A value is trying to be set on a copy of a slice from a DataFrame\n",
      "\n",
      "See the caveats in the documentation: http://pandas.pydata.org/pandas-docs/stable/indexing.html#indexing-view-versus-copy\n",
      "  errors=errors)\n"
     ]
    },
    {
     "name": "stdout",
     "output_type": "stream",
     "text": [
      "(166570, 1)\n"
     ]
    },
    {
     "name": "stderr",
     "output_type": "stream",
     "text": [
      "C:\\Users\\Anuj\\Miniconda3\\envs\\condaenv\\lib\\site-packages\\ipykernel_launcher.py:28: SettingWithCopyWarning: \n",
      "A value is trying to be set on a copy of a slice from a DataFrame.\n",
      "Try using .loc[row_indexer,col_indexer] = value instead\n",
      "\n",
      "See the caveats in the documentation: http://pandas.pydata.org/pandas-docs/stable/indexing.html#indexing-view-versus-copy\n",
      "C:\\Users\\Anuj\\Miniconda3\\envs\\condaenv\\lib\\site-packages\\pandas\\core\\frame.py:3940: SettingWithCopyWarning: \n",
      "A value is trying to be set on a copy of a slice from a DataFrame\n",
      "\n",
      "See the caveats in the documentation: http://pandas.pydata.org/pandas-docs/stable/indexing.html#indexing-view-versus-copy\n",
      "  errors=errors)\n",
      "C:\\Users\\Anuj\\Miniconda3\\envs\\condaenv\\lib\\site-packages\\ipykernel_launcher.py:31: SettingWithCopyWarning: \n",
      "A value is trying to be set on a copy of a slice from a DataFrame.\n",
      "Try using .loc[row_indexer,col_indexer] = value instead\n",
      "\n",
      "See the caveats in the documentation: http://pandas.pydata.org/pandas-docs/stable/indexing.html#indexing-view-versus-copy\n",
      "C:\\Users\\Anuj\\Miniconda3\\envs\\condaenv\\lib\\site-packages\\pandas\\core\\frame.py:3940: SettingWithCopyWarning: \n",
      "A value is trying to be set on a copy of a slice from a DataFrame\n",
      "\n",
      "See the caveats in the documentation: http://pandas.pydata.org/pandas-docs/stable/indexing.html#indexing-view-versus-copy\n",
      "  errors=errors)\n"
     ]
    },
    {
     "name": "stdout",
     "output_type": "stream",
     "text": [
      "(166570, 1)\n"
     ]
    },
    {
     "name": "stderr",
     "output_type": "stream",
     "text": [
      "C:\\Users\\Anuj\\Miniconda3\\envs\\condaenv\\lib\\site-packages\\ipykernel_launcher.py:28: SettingWithCopyWarning: \n",
      "A value is trying to be set on a copy of a slice from a DataFrame.\n",
      "Try using .loc[row_indexer,col_indexer] = value instead\n",
      "\n",
      "See the caveats in the documentation: http://pandas.pydata.org/pandas-docs/stable/indexing.html#indexing-view-versus-copy\n",
      "C:\\Users\\Anuj\\Miniconda3\\envs\\condaenv\\lib\\site-packages\\pandas\\core\\frame.py:3940: SettingWithCopyWarning: \n",
      "A value is trying to be set on a copy of a slice from a DataFrame\n",
      "\n",
      "See the caveats in the documentation: http://pandas.pydata.org/pandas-docs/stable/indexing.html#indexing-view-versus-copy\n",
      "  errors=errors)\n",
      "C:\\Users\\Anuj\\Miniconda3\\envs\\condaenv\\lib\\site-packages\\ipykernel_launcher.py:31: SettingWithCopyWarning: \n",
      "A value is trying to be set on a copy of a slice from a DataFrame.\n",
      "Try using .loc[row_indexer,col_indexer] = value instead\n",
      "\n",
      "See the caveats in the documentation: http://pandas.pydata.org/pandas-docs/stable/indexing.html#indexing-view-versus-copy\n",
      "C:\\Users\\Anuj\\Miniconda3\\envs\\condaenv\\lib\\site-packages\\pandas\\core\\frame.py:3940: SettingWithCopyWarning: \n",
      "A value is trying to be set on a copy of a slice from a DataFrame\n",
      "\n",
      "See the caveats in the documentation: http://pandas.pydata.org/pandas-docs/stable/indexing.html#indexing-view-versus-copy\n",
      "  errors=errors)\n",
      "C:\\Users\\Anuj\\Miniconda3\\envs\\condaenv\\lib\\site-packages\\ipykernel_launcher.py:28: SettingWithCopyWarning: \n",
      "A value is trying to be set on a copy of a slice from a DataFrame.\n",
      "Try using .loc[row_indexer,col_indexer] = value instead\n",
      "\n",
      "See the caveats in the documentation: http://pandas.pydata.org/pandas-docs/stable/indexing.html#indexing-view-versus-copy\n"
     ]
    },
    {
     "name": "stdout",
     "output_type": "stream",
     "text": [
      "(166570, 1)\n"
     ]
    },
    {
     "name": "stderr",
     "output_type": "stream",
     "text": [
      "C:\\Users\\Anuj\\Miniconda3\\envs\\condaenv\\lib\\site-packages\\pandas\\core\\frame.py:3940: SettingWithCopyWarning: \n",
      "A value is trying to be set on a copy of a slice from a DataFrame\n",
      "\n",
      "See the caveats in the documentation: http://pandas.pydata.org/pandas-docs/stable/indexing.html#indexing-view-versus-copy\n",
      "  errors=errors)\n",
      "C:\\Users\\Anuj\\Miniconda3\\envs\\condaenv\\lib\\site-packages\\ipykernel_launcher.py:31: SettingWithCopyWarning: \n",
      "A value is trying to be set on a copy of a slice from a DataFrame.\n",
      "Try using .loc[row_indexer,col_indexer] = value instead\n",
      "\n",
      "See the caveats in the documentation: http://pandas.pydata.org/pandas-docs/stable/indexing.html#indexing-view-versus-copy\n",
      "C:\\Users\\Anuj\\Miniconda3\\envs\\condaenv\\lib\\site-packages\\pandas\\core\\frame.py:3940: SettingWithCopyWarning: \n",
      "A value is trying to be set on a copy of a slice from a DataFrame\n",
      "\n",
      "See the caveats in the documentation: http://pandas.pydata.org/pandas-docs/stable/indexing.html#indexing-view-versus-copy\n",
      "  errors=errors)\n"
     ]
    },
    {
     "name": "stdout",
     "output_type": "stream",
     "text": [
      "(166570, 1)\n"
     ]
    },
    {
     "name": "stderr",
     "output_type": "stream",
     "text": [
      "C:\\Users\\Anuj\\Miniconda3\\envs\\condaenv\\lib\\site-packages\\ipykernel_launcher.py:28: SettingWithCopyWarning: \n",
      "A value is trying to be set on a copy of a slice from a DataFrame.\n",
      "Try using .loc[row_indexer,col_indexer] = value instead\n",
      "\n",
      "See the caveats in the documentation: http://pandas.pydata.org/pandas-docs/stable/indexing.html#indexing-view-versus-copy\n",
      "C:\\Users\\Anuj\\Miniconda3\\envs\\condaenv\\lib\\site-packages\\pandas\\core\\frame.py:3940: SettingWithCopyWarning: \n",
      "A value is trying to be set on a copy of a slice from a DataFrame\n",
      "\n",
      "See the caveats in the documentation: http://pandas.pydata.org/pandas-docs/stable/indexing.html#indexing-view-versus-copy\n",
      "  errors=errors)\n",
      "C:\\Users\\Anuj\\Miniconda3\\envs\\condaenv\\lib\\site-packages\\ipykernel_launcher.py:31: SettingWithCopyWarning: \n",
      "A value is trying to be set on a copy of a slice from a DataFrame.\n",
      "Try using .loc[row_indexer,col_indexer] = value instead\n",
      "\n",
      "See the caveats in the documentation: http://pandas.pydata.org/pandas-docs/stable/indexing.html#indexing-view-versus-copy\n",
      "C:\\Users\\Anuj\\Miniconda3\\envs\\condaenv\\lib\\site-packages\\pandas\\core\\frame.py:3940: SettingWithCopyWarning: \n",
      "A value is trying to be set on a copy of a slice from a DataFrame\n",
      "\n",
      "See the caveats in the documentation: http://pandas.pydata.org/pandas-docs/stable/indexing.html#indexing-view-versus-copy\n",
      "  errors=errors)\n",
      "C:\\Users\\Anuj\\Miniconda3\\envs\\condaenv\\lib\\site-packages\\ipykernel_launcher.py:28: SettingWithCopyWarning: \n",
      "A value is trying to be set on a copy of a slice from a DataFrame.\n",
      "Try using .loc[row_indexer,col_indexer] = value instead\n",
      "\n",
      "See the caveats in the documentation: http://pandas.pydata.org/pandas-docs/stable/indexing.html#indexing-view-versus-copy\n"
     ]
    },
    {
     "name": "stdout",
     "output_type": "stream",
     "text": [
      "(166570, 1)\n"
     ]
    },
    {
     "name": "stderr",
     "output_type": "stream",
     "text": [
      "C:\\Users\\Anuj\\Miniconda3\\envs\\condaenv\\lib\\site-packages\\pandas\\core\\frame.py:3940: SettingWithCopyWarning: \n",
      "A value is trying to be set on a copy of a slice from a DataFrame\n",
      "\n",
      "See the caveats in the documentation: http://pandas.pydata.org/pandas-docs/stable/indexing.html#indexing-view-versus-copy\n",
      "  errors=errors)\n",
      "C:\\Users\\Anuj\\Miniconda3\\envs\\condaenv\\lib\\site-packages\\ipykernel_launcher.py:31: SettingWithCopyWarning: \n",
      "A value is trying to be set on a copy of a slice from a DataFrame.\n",
      "Try using .loc[row_indexer,col_indexer] = value instead\n",
      "\n",
      "See the caveats in the documentation: http://pandas.pydata.org/pandas-docs/stable/indexing.html#indexing-view-versus-copy\n",
      "C:\\Users\\Anuj\\Miniconda3\\envs\\condaenv\\lib\\site-packages\\pandas\\core\\frame.py:3940: SettingWithCopyWarning: \n",
      "A value is trying to be set on a copy of a slice from a DataFrame\n",
      "\n",
      "See the caveats in the documentation: http://pandas.pydata.org/pandas-docs/stable/indexing.html#indexing-view-versus-copy\n",
      "  errors=errors)\n"
     ]
    },
    {
     "name": "stdout",
     "output_type": "stream",
     "text": [
      "(166570, 1)\n"
     ]
    },
    {
     "name": "stderr",
     "output_type": "stream",
     "text": [
      "C:\\Users\\Anuj\\Miniconda3\\envs\\condaenv\\lib\\site-packages\\ipykernel_launcher.py:28: SettingWithCopyWarning: \n",
      "A value is trying to be set on a copy of a slice from a DataFrame.\n",
      "Try using .loc[row_indexer,col_indexer] = value instead\n",
      "\n",
      "See the caveats in the documentation: http://pandas.pydata.org/pandas-docs/stable/indexing.html#indexing-view-versus-copy\n",
      "C:\\Users\\Anuj\\Miniconda3\\envs\\condaenv\\lib\\site-packages\\pandas\\core\\frame.py:3940: SettingWithCopyWarning: \n",
      "A value is trying to be set on a copy of a slice from a DataFrame\n",
      "\n",
      "See the caveats in the documentation: http://pandas.pydata.org/pandas-docs/stable/indexing.html#indexing-view-versus-copy\n",
      "  errors=errors)\n",
      "C:\\Users\\Anuj\\Miniconda3\\envs\\condaenv\\lib\\site-packages\\ipykernel_launcher.py:31: SettingWithCopyWarning: \n",
      "A value is trying to be set on a copy of a slice from a DataFrame.\n",
      "Try using .loc[row_indexer,col_indexer] = value instead\n",
      "\n",
      "See the caveats in the documentation: http://pandas.pydata.org/pandas-docs/stable/indexing.html#indexing-view-versus-copy\n",
      "C:\\Users\\Anuj\\Miniconda3\\envs\\condaenv\\lib\\site-packages\\pandas\\core\\frame.py:3940: SettingWithCopyWarning: \n",
      "A value is trying to be set on a copy of a slice from a DataFrame\n",
      "\n",
      "See the caveats in the documentation: http://pandas.pydata.org/pandas-docs/stable/indexing.html#indexing-view-versus-copy\n",
      "  errors=errors)\n"
     ]
    }
   ],
   "source": [
    "# ss = StandardScaler()\n",
    "# ss.fit(X_train.loc[:,\"oldbalanceOrg\"].values.reshape(-1,1))\n",
    "# X_train.loc[:,\"scaled_oldbalanceOrg\"]= ss.transform(X_train.loc[:,\"oldbalanceOrg\"].values.reshape(-1,1))\n",
    "# X_test.loc[:,\"scaled_oldbalanceOrg\"] = ss.transform(X_test.loc[:,\"oldbalanceOrg\"].values.reshape(-1,1))\n",
    "\n",
    "# ss = StandardScaler()\n",
    "# ss.fit(X_train.loc[:,\"newbalanceOrig\"].values.reshape(-1,1))\n",
    "# X_train.loc[:,\"scaled_newbalanceOrig\"]= ss.transform(X_train.loc[:,\"newbalanceOrig\"].values.reshape(-1,1))\n",
    "# X_test.loc[:,\"scaled_newbalanceOrig\"] = ss.transform(X_test.loc[:,\"newbalanceOrig\"].values.reshape(-1,1))\n",
    "\n",
    "# ss = StandardScaler()\n",
    "# ss.fit(X_train.loc[:,\"oldbalanceDest\"].values.reshape(-1,1))\n",
    "# X_train.loc[:,\"scaled_oldbalanceDest\"]= ss.transform(X_train.loc[:,\"oldbalanceDest\"].values.reshape(-1,1))\n",
    "# X_test.loc[:,\"scaled_oldbalanceDest\"] = ss.transform(X_test.loc[:,\"oldbalanceDest\"].values.reshape(-1,1))\n",
    "\n",
    "# ss = StandardScaler()\n",
    "# ss.fit(X_train.loc[:,\"newbalanceDest\"].values.reshape(-1,1))\n",
    "# X_train.loc[:,\"scaled_newbalanceDest\"]= ss.transform(X_train.loc[:,\"newbalanceDest\"].values.reshape(-1,1))\n",
    "# X_test.loc[:,\"scaled_newbalanceDest\"] = ss.transform(X_test.loc[:,\"newbalanceDest\"].values.reshape(-1,1))\n",
    "\n",
    "\n",
    "cols=[\"oldbalanceOrg\",\"newbalanceOrig\",\"oldbalanceDest\",\"newbalanceDest\",\"ln_amount\",\"ln_errorBalanceOrig\",\"ln_errorBalanceDest\"]\n",
    "for c in cols:\n",
    "    ss = StandardScaler()\n",
    "    ss.fit(X_train.loc[:,str(c)].values.reshape(-1,1))\n",
    "    transformed1 = ss.transform(X_train.loc[:,str(c)].values.reshape(-1,1))\n",
    "    print(transformed1.shape)\n",
    "    X_train[\"scaled_\"+str(c)] = transformed1\n",
    "    X_train.drop(c,axis=1,inplace=True)\n",
    "    transformed2 = ss.transform(X_test.loc[:,str(c)].values.reshape(-1,1))\n",
    "    X_test[\"scaled_\"+str(c)] = transformed2\n",
    "    X_test.drop(c,axis=1,inplace=True)\n",
    "    \n",
    "\n",
    "\n",
    "\n",
    "\n",
    "\n",
    "\n",
    "\n",
    "\n",
    "\n",
    "\n",
    "\n",
    "\n",
    "\n",
    "\n",
    "\n",
    "\n"
   ]
  },
  {
   "cell_type": "code",
   "execution_count": 112,
   "metadata": {},
   "outputs": [
    {
     "data": {
      "text/html": [
       "<div>\n",
       "<style scoped>\n",
       "    .dataframe tbody tr th:only-of-type {\n",
       "        vertical-align: middle;\n",
       "    }\n",
       "\n",
       "    .dataframe tbody tr th {\n",
       "        vertical-align: top;\n",
       "    }\n",
       "\n",
       "    .dataframe thead th {\n",
       "        text-align: right;\n",
       "    }\n",
       "</style>\n",
       "<table border=\"1\" class=\"dataframe\">\n",
       "  <thead>\n",
       "    <tr style=\"text-align: right;\">\n",
       "      <th></th>\n",
       "      <th>type_transfer</th>\n",
       "      <th>type_name</th>\n",
       "      <th>scaled_oldbalanceOrg</th>\n",
       "      <th>scaled_newbalanceOrig</th>\n",
       "      <th>scaled_oldbalanceDest</th>\n",
       "      <th>scaled_newbalanceDest</th>\n",
       "      <th>scaled_ln_amount</th>\n",
       "      <th>scaled_ln_errorBalanceOrig</th>\n",
       "      <th>scaled_ln_errorBalanceDest</th>\n",
       "    </tr>\n",
       "  </thead>\n",
       "  <tbody>\n",
       "    <tr>\n",
       "      <th>1734096</th>\n",
       "      <td>2</td>\n",
       "      <td>0</td>\n",
       "      <td>1.531459</td>\n",
       "      <td>1.595803</td>\n",
       "      <td>0.787259</td>\n",
       "      <td>0.659175</td>\n",
       "      <td>0.366901</td>\n",
       "      <td>0.724860</td>\n",
       "      <td>1.197198</td>\n",
       "    </tr>\n",
       "    <tr>\n",
       "      <th>3757394</th>\n",
       "      <td>0</td>\n",
       "      <td>0</td>\n",
       "      <td>-0.296472</td>\n",
       "      <td>-0.286848</td>\n",
       "      <td>-0.241548</td>\n",
       "      <td>-0.251851</td>\n",
       "      <td>-0.096175</td>\n",
       "      <td>0.420943</td>\n",
       "      <td>-1.095397</td>\n",
       "    </tr>\n",
       "    <tr>\n",
       "      <th>4392239</th>\n",
       "      <td>2</td>\n",
       "      <td>0</td>\n",
       "      <td>0.928221</td>\n",
       "      <td>1.025453</td>\n",
       "      <td>0.534181</td>\n",
       "      <td>0.394472</td>\n",
       "      <td>0.744890</td>\n",
       "      <td>0.862541</td>\n",
       "      <td>1.328905</td>\n",
       "    </tr>\n",
       "    <tr>\n",
       "      <th>2113067</th>\n",
       "      <td>2</td>\n",
       "      <td>0</td>\n",
       "      <td>1.293792</td>\n",
       "      <td>1.351220</td>\n",
       "      <td>-0.220898</td>\n",
       "      <td>-0.271012</td>\n",
       "      <td>0.295542</td>\n",
       "      <td>0.698868</td>\n",
       "      <td>1.172333</td>\n",
       "    </tr>\n",
       "    <tr>\n",
       "      <th>4259067</th>\n",
       "      <td>0</td>\n",
       "      <td>0</td>\n",
       "      <td>-0.296472</td>\n",
       "      <td>-0.286848</td>\n",
       "      <td>-0.234673</td>\n",
       "      <td>-0.191515</td>\n",
       "      <td>0.800985</td>\n",
       "      <td>0.747727</td>\n",
       "      <td>-1.097254</td>\n",
       "    </tr>\n",
       "  </tbody>\n",
       "</table>\n",
       "</div>"
      ],
      "text/plain": [
       "         type_transfer  type_name  scaled_oldbalanceOrg  \\\n",
       "1734096              2          0              1.531459   \n",
       "3757394              0          0             -0.296472   \n",
       "4392239              2          0              0.928221   \n",
       "2113067              2          0              1.293792   \n",
       "4259067              0          0             -0.296472   \n",
       "\n",
       "         scaled_newbalanceOrig  scaled_oldbalanceDest  scaled_newbalanceDest  \\\n",
       "1734096               1.595803               0.787259               0.659175   \n",
       "3757394              -0.286848              -0.241548              -0.251851   \n",
       "4392239               1.025453               0.534181               0.394472   \n",
       "2113067               1.351220              -0.220898              -0.271012   \n",
       "4259067              -0.286848              -0.234673              -0.191515   \n",
       "\n",
       "         scaled_ln_amount  scaled_ln_errorBalanceOrig  \\\n",
       "1734096          0.366901                    0.724860   \n",
       "3757394         -0.096175                    0.420943   \n",
       "4392239          0.744890                    0.862541   \n",
       "2113067          0.295542                    0.698868   \n",
       "4259067          0.800985                    0.747727   \n",
       "\n",
       "         scaled_ln_errorBalanceDest  \n",
       "1734096                    1.197198  \n",
       "3757394                   -1.095397  \n",
       "4392239                    1.328905  \n",
       "2113067                    1.172333  \n",
       "4259067                   -1.097254  "
      ]
     },
     "execution_count": 112,
     "metadata": {},
     "output_type": "execute_result"
    }
   ],
   "source": [
    "X_train.head()"
   ]
  },
  {
   "cell_type": "code",
   "execution_count": 42,
   "metadata": {},
   "outputs": [],
   "source": [
    "X_train.to_csv(\"X_train_dataset2_preprocessed.csv\",index=False)\n",
    "X_test.to_csv(\"X_test_dataset2_preprocessed.csv\",index=False)"
   ]
  },
  {
   "cell_type": "code",
   "execution_count": 43,
   "metadata": {},
   "outputs": [
    {
     "name": "stderr",
     "output_type": "stream",
     "text": [
      "C:\\Users\\Anuj\\Miniconda3\\envs\\condaenv\\lib\\site-packages\\ipykernel_launcher.py:1: FutureWarning: The signature of `Series.to_csv` was aligned to that of `DataFrame.to_csv`, and argument 'header' will change its default value from False to True: please pass an explicit value to suppress this warning.\n",
      "  \"\"\"Entry point for launching an IPython kernel.\n",
      "C:\\Users\\Anuj\\Miniconda3\\envs\\condaenv\\lib\\site-packages\\ipykernel_launcher.py:2: FutureWarning: The signature of `Series.to_csv` was aligned to that of `DataFrame.to_csv`, and argument 'header' will change its default value from False to True: please pass an explicit value to suppress this warning.\n",
      "  \n"
     ]
    }
   ],
   "source": [
    "y_train.to_csv(\"y_train_dataset2_preprocessed.csv\",index=False)\n",
    "y_test.to_csv(\"y_test_dataset2_preprocessed.csv\",index=False)"
   ]
  },
  {
   "cell_type": "code",
   "execution_count": 52,
   "metadata": {},
   "outputs": [],
   "source": [
    "X_train = pd.read_csv(\"X_train_dataset2_preprocessed.csv\")\n",
    "X_test = pd.read_csv(\"X_test_dataset2_preprocessed.csv\")\n",
    "\n",
    "y_train = pd.read_csv(\"y_train_dataset2_preprocessed.csv\",header=None)\n",
    "y_test = pd.read_csv(\"y_test_dataset2_preprocessed.csv\",header=None)\n"
   ]
  },
  {
   "cell_type": "markdown",
   "metadata": {},
   "source": [
    "#### 1. Random Undersample"
   ]
  },
  {
   "cell_type": "code",
   "execution_count": 94,
   "metadata": {},
   "outputs": [
    {
     "name": "stdout",
     "output_type": "stream",
     "text": [
      "Counter({0: 6570, 1: 6570})\n"
     ]
    }
   ],
   "source": [
    "undersample = RandomUnderSampler(sampling_strategy='majority')\n",
    "# fit and apply the transform\n",
    "all_dataset[\"X_train_undersample_dataset2\"], all_dataset[\"y_train_undersample_dataset2\"] = undersample.fit_resample(X_train, y_train)\n",
    "# summarize class distribution\n",
    "print(Counter(all_dataset[\"y_train_undersample_dataset2\"]))"
   ]
  },
  {
   "cell_type": "code",
   "execution_count": 95,
   "metadata": {},
   "outputs": [
    {
     "name": "stdout",
     "output_type": "stream",
     "text": [
      "Random Undersample dataset 2 RCF Completed\n",
      "Random Undersample dataset 2 Random Forest Selection Completed\n",
      "Random Undersample dataset 2 Forward feature selection Completed\n"
     ]
    }
   ],
   "source": [
    "training_testing_function(all_dataset[\"X_train_undersample_dataset2\"],all_dataset[\"y_train_undersample_dataset2\"],\"Random Undersample dataset 2\")"
   ]
  },
  {
   "cell_type": "code",
   "execution_count": 96,
   "metadata": {},
   "outputs": [
    {
     "data": {
      "text/plain": [
       "[('SMOTE Tomek RCF',\n",
       "  0.9976651100733822,\n",
       "  0.5128205128205129,\n",
       "  0.8562196016560818),\n",
       " ('SMOTE Tomek Random Forest  Selection',\n",
       "  0.9991046662687406,\n",
       "  0.767123287671233,\n",
       "  0.9282460909237077),\n",
       " ('SMOTE Tomek Forward feature selection',\n",
       "  0.9966468873986166,\n",
       "  0.4558404558404559,\n",
       "  0.9066420919802924),\n",
       " ('Random Undersample dataset 2 RCF',\n",
       "  0.9634032130249982,\n",
       "  0.6817042606516291,\n",
       "  0.9777399650030433),\n",
       " ('Random Undersample dataset 2 Random Forest  Selection',\n",
       "  0.9647719904905987,\n",
       "  0.690048594971477,\n",
       "  0.9787442863664029),\n",
       " ('Random Undersample dataset 2 RCF',\n",
       "  0.9638354585404509,\n",
       "  0.6845412651864264,\n",
       "  0.9785486077297626),\n",
       " ('Random Undersample dataset 2 Random Forest  Selection',\n",
       "  0.9659006315587254,\n",
       "  0.697098976109215,\n",
       "  0.9796236077297628),\n",
       " ('Random Undersample dataset 2 Forward feature selection',\n",
       "  0.974233364551065,\n",
       "  0.7525939589578049,\n",
       "  0.9833774650030432)]"
      ]
     },
     "execution_count": 96,
     "metadata": {},
     "output_type": "execute_result"
    }
   ],
   "source": [
    "all_results"
   ]
  },
  {
   "cell_type": "markdown",
   "metadata": {},
   "source": [
    "#### 2. Instance Hardness Threshold"
   ]
  },
  {
   "cell_type": "code",
   "execution_count": 97,
   "metadata": {},
   "outputs": [],
   "source": [
    "from imblearn.under_sampling import InstanceHardnessThreshold"
   ]
  },
  {
   "cell_type": "code",
   "execution_count": 98,
   "metadata": {},
   "outputs": [
    {
     "name": "stdout",
     "output_type": "stream",
     "text": [
      "Resampled dataset shape Counter({0: 158482, 1: 6570})\n"
     ]
    }
   ],
   "source": [
    "iht = InstanceHardnessThreshold(sampling_strategy='majority', random_state=42)\n",
    "all_dataset[\"X_train_res_dataset2\"], all_dataset[\"y_train_res_dataset2\"] = iht.fit_resample(X_train, y_train)\n",
    "print('Resampled dataset shape %s' % Counter(all_dataset[\"y_train_res_dataset2\"]))"
   ]
  },
  {
   "cell_type": "code",
   "execution_count": 99,
   "metadata": {},
   "outputs": [
    {
     "name": "stdout",
     "output_type": "stream",
     "text": [
      "IHT dataset 2 RCF Completed\n",
      "IHT dataset 2 Random Forest Selection Completed\n",
      "IHT dataset 2 Forward feature selection Completed\n"
     ]
    }
   ],
   "source": [
    "training_testing_function(all_dataset[\"X_train_res_dataset2\"],all_dataset[\"y_train_res_dataset2\"],\"IHT dataset 2\")"
   ]
  },
  {
   "cell_type": "code",
   "execution_count": 100,
   "metadata": {},
   "outputs": [
    {
     "data": {
      "text/plain": [
       "[('SMOTE Tomek RCF',\n",
       "  0.9976651100733822,\n",
       "  0.5128205128205129,\n",
       "  0.8562196016560818),\n",
       " ('SMOTE Tomek Random Forest  Selection',\n",
       "  0.9991046662687406,\n",
       "  0.767123287671233,\n",
       "  0.9282460909237077),\n",
       " ('SMOTE Tomek Forward feature selection',\n",
       "  0.9966468873986166,\n",
       "  0.4558404558404559,\n",
       "  0.9066420919802924),\n",
       " ('Random Undersample dataset 2 RCF',\n",
       "  0.9634032130249982,\n",
       "  0.6817042606516291,\n",
       "  0.9777399650030433),\n",
       " ('Random Undersample dataset 2 Random Forest  Selection',\n",
       "  0.9647719904905987,\n",
       "  0.690048594971477,\n",
       "  0.9787442863664029),\n",
       " ('Random Undersample dataset 2 RCF',\n",
       "  0.9638354585404509,\n",
       "  0.6845412651864264,\n",
       "  0.9785486077297626),\n",
       " ('Random Undersample dataset 2 Random Forest  Selection',\n",
       "  0.9659006315587254,\n",
       "  0.697098976109215,\n",
       "  0.9796236077297628),\n",
       " ('Random Undersample dataset 2 Forward feature selection',\n",
       "  0.974233364551065,\n",
       "  0.7525939589578049,\n",
       "  0.9833774650030432),\n",
       " ('IHT dataset 2 RCF',\n",
       "  0.9962058449199145,\n",
       "  0.9535840188014102,\n",
       "  0.992188572732806),\n",
       " ('IHT dataset 2 Random Forest  Selection',\n",
       "  0.997574622385515,\n",
       "  0.9700029700029701,\n",
       "  0.9958192863664029),\n",
       " ('IHT dataset 2 Forward feature selection',\n",
       "  0.9967821722738516,\n",
       "  0.9604252805670409,\n",
       "  0.9933640368228851)]"
      ]
     },
     "execution_count": 100,
     "metadata": {},
     "output_type": "execute_result"
    }
   ],
   "source": [
    "all_results"
   ]
  },
  {
   "cell_type": "markdown",
   "metadata": {},
   "source": [
    "#### 3. Cluster Centroid"
   ]
  },
  {
   "cell_type": "code",
   "execution_count": 58,
   "metadata": {},
   "outputs": [],
   "source": [
    "from imblearn.under_sampling import ClusterCentroids"
   ]
  },
  {
   "cell_type": "code",
   "execution_count": 59,
   "metadata": {},
   "outputs": [
    {
     "name": "stderr",
     "output_type": "stream",
     "text": [
      "\n",
      "KeyboardInterrupt\n",
      "\n"
     ]
    }
   ],
   "source": [
    "all_dataset[\"X_cluster_centroids_dataset2\"],all_dataset[\"y_cluster_centroids_dataset2\"]  = ClusterCentroids().fit_resample(X_train,y_train)"
   ]
  },
  {
   "cell_type": "code",
   "execution_count": null,
   "metadata": {},
   "outputs": [],
   "source": [
    "training_testing_function(all_dataset[\"X_cluster_centroids_dataset2\"],all_dataset[\"y_cluster_centroids_dataset2\"],\"Cluster centroids dataset 2\")"
   ]
  },
  {
   "cell_type": "code",
   "execution_count": null,
   "metadata": {},
   "outputs": [],
   "source": [
    "all_results"
   ]
  },
  {
   "cell_type": "markdown",
   "metadata": {},
   "source": [
    "#### 4. Near Miss"
   ]
  },
  {
   "cell_type": "code",
   "execution_count": 60,
   "metadata": {},
   "outputs": [],
   "source": [
    "from imblearn.under_sampling import NearMiss"
   ]
  },
  {
   "cell_type": "code",
   "execution_count": 69,
   "metadata": {},
   "outputs": [
    {
     "name": "stdout",
     "output_type": "stream",
     "text": [
      "Near Miss dataset 2 RCF Completed\n",
      "Near Miss dataset 2 Random Forest Selection Completed\n"
     ]
    },
    {
     "name": "stderr",
     "output_type": "stream",
     "text": [
      "C:\\Users\\Anuj\\Miniconda3\\envs\\condaenv\\lib\\site-packages\\sklearn\\utils\\validation.py:63: DataConversionWarning: A column-vector y was passed when a 1d array was expected. Please change the shape of y to (n_samples, ), for example using ravel().\n",
      "  return f(*args, **kwargs)\n",
      "C:\\Users\\Anuj\\Miniconda3\\envs\\condaenv\\lib\\site-packages\\sklearn\\feature_selection\\_univariate_selection.py:115: UserWarning: Features [1] are constant.\n",
      "  UserWarning)\n",
      "C:\\Users\\Anuj\\Miniconda3\\envs\\condaenv\\lib\\site-packages\\sklearn\\feature_selection\\_univariate_selection.py:116: RuntimeWarning: invalid value encountered in true_divide\n",
      "  f = msb / msw\n"
     ]
    },
    {
     "name": "stdout",
     "output_type": "stream",
     "text": [
      "Near Miss dataset 2 Forward feature selection Completed\n"
     ]
    }
   ],
   "source": [
    "all_dataset['X_near_miss_dataset2'],all_dataset['y_near_miss_dataset2'] = NearMiss().fit_resample(X_train,y_train)\n",
    "training_testing_function(all_dataset['X_near_miss_dataset2'],all_dataset['y_near_miss_dataset2'],\"Near Miss dataset 2\")"
   ]
  },
  {
   "cell_type": "code",
   "execution_count": 67,
   "metadata": {},
   "outputs": [
    {
     "data": {
      "text/plain": [
       "array([[0],\n",
       "       [0],\n",
       "       [0],\n",
       "       ...,\n",
       "       [1],\n",
       "       [1],\n",
       "       [1]], dtype=int64)"
      ]
     },
     "execution_count": 67,
     "metadata": {},
     "output_type": "execute_result"
    }
   ],
   "source": [
    "all_dataset['y_near_miss_dataset2'].values"
   ]
  },
  {
   "cell_type": "code",
   "execution_count": null,
   "metadata": {},
   "outputs": [],
   "source": [
    "all_results"
   ]
  },
  {
   "cell_type": "markdown",
   "metadata": {},
   "source": [
    "#### 5. One Sided Selection"
   ]
  },
  {
   "cell_type": "code",
   "execution_count": 70,
   "metadata": {},
   "outputs": [],
   "source": [
    "from imblearn.under_sampling import OneSidedSelection"
   ]
  },
  {
   "cell_type": "code",
   "execution_count": 71,
   "metadata": {},
   "outputs": [
    {
     "name": "stdout",
     "output_type": "stream",
     "text": [
      "One Sided Selection dataset 2 RCF Completed\n",
      "One Sided Selection dataset 2 Random Forest Selection Completed\n"
     ]
    },
    {
     "name": "stderr",
     "output_type": "stream",
     "text": [
      "C:\\Users\\Anuj\\Miniconda3\\envs\\condaenv\\lib\\site-packages\\sklearn\\utils\\validation.py:63: DataConversionWarning: A column-vector y was passed when a 1d array was expected. Please change the shape of y to (n_samples, ), for example using ravel().\n",
      "  return f(*args, **kwargs)\n"
     ]
    },
    {
     "name": "stdout",
     "output_type": "stream",
     "text": [
      "One Sided Selection dataset 2 Forward feature selection Completed\n"
     ]
    }
   ],
   "source": [
    "all_dataset['X_one_sided_selection_dataset2'],all_dataset['y_one_sided_selection_dataset2'] = OneSidedSelection().fit_resample(X_train,y_train)\n",
    "training_testing_function(all_dataset['X_one_sided_selection_dataset2'],all_dataset['y_one_sided_selection_dataset2'],\"One Sided Selection dataset 2\")"
   ]
  },
  {
   "cell_type": "code",
   "execution_count": 72,
   "metadata": {},
   "outputs": [
    {
     "data": {
      "text/plain": [
       "[('Near Miss dataset 2 RCF',\n",
       "  0.4844511682635737,\n",
       "  0.12095156205216395,\n",
       "  0.6831951536822884),\n",
       " ('Near Miss dataset 2 Random Forest  Selection',\n",
       "  0.33410176980524936,\n",
       "  0.09609492144207575,\n",
       "  0.6040571895922093),\n",
       " ('Near Miss dataset 2 Forward feature selection',\n",
       "  0.3651514059986072,\n",
       "  0.10392163508795717,\n",
       "  0.6374371500304321),\n",
       " ('Near Miss dataset 2 RCF',\n",
       "  0.4844511682635737,\n",
       "  0.12095156205216395,\n",
       "  0.6831951536822884),\n",
       " ('Near Miss dataset 2 Random Forest  Selection',\n",
       "  0.331844487668996,\n",
       "  0.09580137787599116,\n",
       "  0.6028821895922094),\n",
       " ('Near Miss dataset 2 Forward feature selection',\n",
       "  0.3651514059986072,\n",
       "  0.10392163508795717,\n",
       "  0.6374371500304321),\n",
       " ('One Sided Selection dataset 2 RCF',\n",
       "  0.9965420358763778,\n",
       "  0.9573712255772646,\n",
       "  0.9906126445526475),\n",
       " ('One Sided Selection dataset 2 Random Forest  Selection',\n",
       "  0.9981749633791994,\n",
       "  0.977245508982036,\n",
       "  0.9958399650030433),\n",
       " ('One Sided Selection dataset 2 Forward feature selection',\n",
       "  0.9970943495905674,\n",
       "  0.9642540620384046,\n",
       "  0.9952774650030433)]"
      ]
     },
     "execution_count": 72,
     "metadata": {},
     "output_type": "execute_result"
    }
   ],
   "source": [
    "all_results"
   ]
  },
  {
   "cell_type": "markdown",
   "metadata": {},
   "source": [
    "#### 6. Tomek Links"
   ]
  },
  {
   "cell_type": "code",
   "execution_count": 73,
   "metadata": {},
   "outputs": [],
   "source": [
    "from imblearn.under_sampling import TomekLinks"
   ]
  },
  {
   "cell_type": "code",
   "execution_count": 74,
   "metadata": {},
   "outputs": [],
   "source": [
    "all_dataset['X_tomek_links_dataset2'],all_dataset['y_tomek_links_dataset2'] = TomekLinks().fit_resample(X_train,y_train)\n"
   ]
  },
  {
   "cell_type": "code",
   "execution_count": 75,
   "metadata": {},
   "outputs": [
    {
     "name": "stdout",
     "output_type": "stream",
     "text": [
      "Tomek Links dataset 2 RCF Completed\n",
      "Tomek Links dataset 2 Random Forest Selection Completed\n"
     ]
    },
    {
     "name": "stderr",
     "output_type": "stream",
     "text": [
      "C:\\Users\\Anuj\\Miniconda3\\envs\\condaenv\\lib\\site-packages\\sklearn\\utils\\validation.py:63: DataConversionWarning: A column-vector y was passed when a 1d array was expected. Please change the shape of y to (n_samples, ), for example using ravel().\n",
      "  return f(*args, **kwargs)\n"
     ]
    },
    {
     "name": "stdout",
     "output_type": "stream",
     "text": [
      "Tomek Links dataset 2 Forward feature selection Completed\n"
     ]
    }
   ],
   "source": [
    "training_testing_function(all_dataset['X_tomek_links_dataset2'],all_dataset['y_tomek_links_dataset2'],\"Tomek Links dataset 2\")"
   ]
  },
  {
   "cell_type": "code",
   "execution_count": 76,
   "metadata": {},
   "outputs": [
    {
     "data": {
      "text/plain": [
       "[('Near Miss dataset 2 RCF',\n",
       "  0.4844511682635737,\n",
       "  0.12095156205216395,\n",
       "  0.6831951536822884),\n",
       " ('Near Miss dataset 2 Random Forest  Selection',\n",
       "  0.33410176980524936,\n",
       "  0.09609492144207575,\n",
       "  0.6040571895922093),\n",
       " ('Near Miss dataset 2 Forward feature selection',\n",
       "  0.3651514059986072,\n",
       "  0.10392163508795717,\n",
       "  0.6374371500304321),\n",
       " ('Near Miss dataset 2 RCF',\n",
       "  0.4844511682635737,\n",
       "  0.12095156205216395,\n",
       "  0.6831951536822884),\n",
       " ('Near Miss dataset 2 Random Forest  Selection',\n",
       "  0.331844487668996,\n",
       "  0.09580137787599116,\n",
       "  0.6028821895922094),\n",
       " ('Near Miss dataset 2 Forward feature selection',\n",
       "  0.3651514059986072,\n",
       "  0.10392163508795717,\n",
       "  0.6374371500304321),\n",
       " ('One Sided Selection dataset 2 RCF',\n",
       "  0.9965420358763778,\n",
       "  0.9573712255772646,\n",
       "  0.9906126445526475),\n",
       " ('One Sided Selection dataset 2 Random Forest  Selection',\n",
       "  0.9981749633791994,\n",
       "  0.977245508982036,\n",
       "  0.9958399650030433),\n",
       " ('One Sided Selection dataset 2 Forward feature selection',\n",
       "  0.9970943495905674,\n",
       "  0.9642540620384046,\n",
       "  0.9952774650030433),\n",
       " ('Tomek Links dataset 2 RCF',\n",
       "  0.9965660495161252,\n",
       "  0.9576797869192069,\n",
       "  0.9909169659160073),\n",
       " ('Tomek Links dataset 2 Random Forest  Selection',\n",
       "  0.9981749633791994,\n",
       "  0.977245508982036,\n",
       "  0.9958399650030433),\n",
       " ('Tomek Links dataset 2 Forward feature selection',\n",
       "  0.9963739403981462,\n",
       "  0.9554177738411573,\n",
       "  0.9908169659160073)]"
      ]
     },
     "execution_count": 76,
     "metadata": {},
     "output_type": "execute_result"
    }
   ],
   "source": [
    "all_results"
   ]
  },
  {
   "cell_type": "markdown",
   "metadata": {},
   "source": [
    "### Oversampling data"
   ]
  },
  {
   "cell_type": "markdown",
   "metadata": {},
   "source": [
    "#### 1. Random Oversampling"
   ]
  },
  {
   "cell_type": "code",
   "execution_count": 113,
   "metadata": {},
   "outputs": [
    {
     "name": "stdout",
     "output_type": "stream",
     "text": [
      "[(0, 160000), (1, 160000)]\n"
     ]
    }
   ],
   "source": [
    "ros = RandomOverSampler(random_state=0)\n",
    "all_dataset[\"X_train_random_oversampled_dataset2\"], all_dataset[\"y_train_random_oversampled_dataset2\"] = ros.fit_resample(X_train, y_train)\n",
    "\n",
    "print(sorted(Counter(all_dataset[\"y_train_random_oversampled_dataset2\"]).items()))"
   ]
  },
  {
   "cell_type": "code",
   "execution_count": 114,
   "metadata": {},
   "outputs": [
    {
     "name": "stdout",
     "output_type": "stream",
     "text": [
      "Random Oversampled dataset2 RCF Completed\n",
      "Random Oversampled dataset2 Random Forest Selection Completed\n",
      "Random Oversampled dataset2 Forward feature selection Completed\n"
     ]
    }
   ],
   "source": [
    "training_testing_function(all_dataset[\"X_train_random_oversampled_dataset2\"],all_dataset[\"y_train_random_oversampled_dataset2\"],\"Random Oversampled dataset2\")"
   ]
  },
  {
   "cell_type": "code",
   "execution_count": 115,
   "metadata": {},
   "outputs": [
    {
     "data": {
      "text/plain": [
       "[('Near Miss dataset 2 RCF',\n",
       "  0.4844511682635737,\n",
       "  0.12095156205216395,\n",
       "  0.6831951536822884),\n",
       " ('Near Miss dataset 2 Random Forest  Selection',\n",
       "  0.33410176980524936,\n",
       "  0.09609492144207575,\n",
       "  0.6040571895922093),\n",
       " ('Near Miss dataset 2 Forward feature selection',\n",
       "  0.3651514059986072,\n",
       "  0.10392163508795717,\n",
       "  0.6374371500304321),\n",
       " ('Near Miss dataset 2 RCF',\n",
       "  0.4844511682635737,\n",
       "  0.12095156205216395,\n",
       "  0.6831951536822884),\n",
       " ('Near Miss dataset 2 Random Forest  Selection',\n",
       "  0.331844487668996,\n",
       "  0.09580137787599116,\n",
       "  0.6028821895922094),\n",
       " ('Near Miss dataset 2 Forward feature selection',\n",
       "  0.3651514059986072,\n",
       "  0.10392163508795717,\n",
       "  0.6374371500304321),\n",
       " ('One Sided Selection dataset 2 RCF',\n",
       "  0.9965420358763778,\n",
       "  0.9573712255772646,\n",
       "  0.9906126445526475),\n",
       " ('One Sided Selection dataset 2 Random Forest  Selection',\n",
       "  0.9981749633791994,\n",
       "  0.977245508982036,\n",
       "  0.9958399650030433),\n",
       " ('One Sided Selection dataset 2 Forward feature selection',\n",
       "  0.9970943495905674,\n",
       "  0.9642540620384046,\n",
       "  0.9952774650030433),\n",
       " ('Tomek Links dataset 2 RCF',\n",
       "  0.9965660495161252,\n",
       "  0.9576797869192069,\n",
       "  0.9909169659160073),\n",
       " ('Tomek Links dataset 2 Random Forest  Selection',\n",
       "  0.9981749633791994,\n",
       "  0.977245508982036,\n",
       "  0.9958399650030433),\n",
       " ('Tomek Links dataset 2 Forward feature selection',\n",
       "  0.9963739403981462,\n",
       "  0.9554177738411573,\n",
       "  0.9908169659160073),\n",
       " ('Random Oversampled dataset2 RCF',\n",
       "  0.9864082799029849,\n",
       "  0.8520648196549923,\n",
       "  0.9891313222763238),\n",
       " ('Random Oversampled dataset2 Random Forest  Selection',\n",
       "  0.9879691664865644,\n",
       "  0.8671439936356405,\n",
       "  0.9914029290931223),\n",
       " ('Random Oversampled dataset2 Forward feature selection',\n",
       "  0.9933962490694714,\n",
       "  0.9224696926980546,\n",
       "  0.9945197504564819)]"
      ]
     },
     "execution_count": 115,
     "metadata": {},
     "output_type": "execute_result"
    }
   ],
   "source": [
    "all_results"
   ]
  },
  {
   "cell_type": "markdown",
   "metadata": {},
   "source": [
    "#### 2. SMOTE"
   ]
  },
  {
   "cell_type": "code",
   "execution_count": 116,
   "metadata": {},
   "outputs": [
    {
     "name": "stdout",
     "output_type": "stream",
     "text": [
      "[(0, 160000), (1, 160000)]\n"
     ]
    }
   ],
   "source": [
    "from imblearn.over_sampling import SMOTE, ADASYN\n",
    "all_dataset[\"X_smote_dataset2\"], all_dataset[\"y_smote_dataset2\"] = SMOTE().fit_resample(X_train, y_train)\n",
    "print(sorted(Counter(all_dataset[\"y_smote_dataset2\"]).items()))\n",
    "\n"
   ]
  },
  {
   "cell_type": "code",
   "execution_count": 117,
   "metadata": {},
   "outputs": [
    {
     "name": "stdout",
     "output_type": "stream",
     "text": [
      "SMOTE dataset2 RCF Completed\n",
      "SMOTE dataset2 Random Forest Selection Completed\n",
      "SMOTE dataset2 Forward feature selection Completed\n"
     ]
    }
   ],
   "source": [
    "training_testing_function(all_dataset['X_smote_dataset2'],all_dataset['y_smote_dataset2'],\"SMOTE dataset2\")"
   ]
  },
  {
   "cell_type": "code",
   "execution_count": 118,
   "metadata": {},
   "outputs": [
    {
     "data": {
      "text/plain": [
       "[('Near Miss dataset 2 RCF',\n",
       "  0.4844511682635737,\n",
       "  0.12095156205216395,\n",
       "  0.6831951536822884),\n",
       " ('Near Miss dataset 2 Random Forest  Selection',\n",
       "  0.33410176980524936,\n",
       "  0.09609492144207575,\n",
       "  0.6040571895922093),\n",
       " ('Near Miss dataset 2 Forward feature selection',\n",
       "  0.3651514059986072,\n",
       "  0.10392163508795717,\n",
       "  0.6374371500304321),\n",
       " ('Near Miss dataset 2 RCF',\n",
       "  0.4844511682635737,\n",
       "  0.12095156205216395,\n",
       "  0.6831951536822884),\n",
       " ('Near Miss dataset 2 Random Forest  Selection',\n",
       "  0.331844487668996,\n",
       "  0.09580137787599116,\n",
       "  0.6028821895922094),\n",
       " ('Near Miss dataset 2 Forward feature selection',\n",
       "  0.3651514059986072,\n",
       "  0.10392163508795717,\n",
       "  0.6374371500304321),\n",
       " ('One Sided Selection dataset 2 RCF',\n",
       "  0.9965420358763778,\n",
       "  0.9573712255772646,\n",
       "  0.9906126445526475),\n",
       " ('One Sided Selection dataset 2 Random Forest  Selection',\n",
       "  0.9981749633791994,\n",
       "  0.977245508982036,\n",
       "  0.9958399650030433),\n",
       " ('One Sided Selection dataset 2 Forward feature selection',\n",
       "  0.9970943495905674,\n",
       "  0.9642540620384046,\n",
       "  0.9952774650030433),\n",
       " ('Tomek Links dataset 2 RCF',\n",
       "  0.9965660495161252,\n",
       "  0.9576797869192069,\n",
       "  0.9909169659160073),\n",
       " ('Tomek Links dataset 2 Random Forest  Selection',\n",
       "  0.9981749633791994,\n",
       "  0.977245508982036,\n",
       "  0.9958399650030433),\n",
       " ('Tomek Links dataset 2 Forward feature selection',\n",
       "  0.9963739403981462,\n",
       "  0.9554177738411573,\n",
       "  0.9908169659160073),\n",
       " ('Random Oversampled dataset2 RCF',\n",
       "  0.9864082799029849,\n",
       "  0.8520648196549923,\n",
       "  0.9891313222763238),\n",
       " ('Random Oversampled dataset2 Random Forest  Selection',\n",
       "  0.9879691664865644,\n",
       "  0.8671439936356405,\n",
       "  0.9914029290931223),\n",
       " ('Random Oversampled dataset2 Forward feature selection',\n",
       "  0.9933962490694714,\n",
       "  0.9224696926980546,\n",
       "  0.9945197504564819),\n",
       " ('SMOTE dataset2 RCF',\n",
       "  0.9829983430588575,\n",
       "  0.8218419728233518,\n",
       "  0.988231786366403),\n",
       " ('SMOTE dataset2 Random Forest  Selection',\n",
       "  0.9855197752323319,\n",
       "  0.8443870967741934,\n",
       "  0.990419750456482),\n",
       " ('SMOTE dataset2 Forward feature selection',\n",
       "  0.9925077443988185,\n",
       "  0.9129464285714285,\n",
       "  0.9940572504564821)]"
      ]
     },
     "execution_count": 118,
     "metadata": {},
     "output_type": "execute_result"
    }
   ],
   "source": [
    "all_results"
   ]
  },
  {
   "cell_type": "markdown",
   "metadata": {},
   "source": [
    "#### 3. ADASYN"
   ]
  },
  {
   "cell_type": "code",
   "execution_count": 119,
   "metadata": {},
   "outputs": [
    {
     "name": "stdout",
     "output_type": "stream",
     "text": [
      "[(0, 160000), (1, 160212)]\n"
     ]
    }
   ],
   "source": [
    "all_dataset['X_adasyn_dataset2'],all_dataset['y_adasyn_dataset2'] = ADASYN().fit_resample(X_train, y_train)\n",
    "print(sorted(Counter(all_dataset[\"y_adasyn_dataset2\"]).items()))"
   ]
  },
  {
   "cell_type": "code",
   "execution_count": 120,
   "metadata": {},
   "outputs": [
    {
     "name": "stdout",
     "output_type": "stream",
     "text": [
      "ADASYN dataset2 RCF Completed\n",
      "ADASYN dataset2 Random Forest Selection Completed\n",
      "ADASYN dataset2 Forward feature selection Completed\n"
     ]
    }
   ],
   "source": [
    "training_testing_function(all_dataset['X_adasyn_dataset2'],all_dataset['y_adasyn_dataset2'],\"ADASYN dataset2\")"
   ]
  },
  {
   "cell_type": "code",
   "execution_count": 121,
   "metadata": {},
   "outputs": [
    {
     "data": {
      "text/plain": [
       "[('Near Miss dataset 2 RCF',\n",
       "  0.4844511682635737,\n",
       "  0.12095156205216395,\n",
       "  0.6831951536822884),\n",
       " ('Near Miss dataset 2 Random Forest  Selection',\n",
       "  0.33410176980524936,\n",
       "  0.09609492144207575,\n",
       "  0.6040571895922093),\n",
       " ('Near Miss dataset 2 Forward feature selection',\n",
       "  0.3651514059986072,\n",
       "  0.10392163508795717,\n",
       "  0.6374371500304321),\n",
       " ('Near Miss dataset 2 RCF',\n",
       "  0.4844511682635737,\n",
       "  0.12095156205216395,\n",
       "  0.6831951536822884),\n",
       " ('Near Miss dataset 2 Random Forest  Selection',\n",
       "  0.331844487668996,\n",
       "  0.09580137787599116,\n",
       "  0.6028821895922094),\n",
       " ('Near Miss dataset 2 Forward feature selection',\n",
       "  0.3651514059986072,\n",
       "  0.10392163508795717,\n",
       "  0.6374371500304321),\n",
       " ('One Sided Selection dataset 2 RCF',\n",
       "  0.9965420358763778,\n",
       "  0.9573712255772646,\n",
       "  0.9906126445526475),\n",
       " ('One Sided Selection dataset 2 Random Forest  Selection',\n",
       "  0.9981749633791994,\n",
       "  0.977245508982036,\n",
       "  0.9958399650030433),\n",
       " ('One Sided Selection dataset 2 Forward feature selection',\n",
       "  0.9970943495905674,\n",
       "  0.9642540620384046,\n",
       "  0.9952774650030433),\n",
       " ('Tomek Links dataset 2 RCF',\n",
       "  0.9965660495161252,\n",
       "  0.9576797869192069,\n",
       "  0.9909169659160073),\n",
       " ('Tomek Links dataset 2 Random Forest  Selection',\n",
       "  0.9981749633791994,\n",
       "  0.977245508982036,\n",
       "  0.9958399650030433),\n",
       " ('Tomek Links dataset 2 Forward feature selection',\n",
       "  0.9963739403981462,\n",
       "  0.9554177738411573,\n",
       "  0.9908169659160073),\n",
       " ('Random Oversampled dataset2 RCF',\n",
       "  0.9864082799029849,\n",
       "  0.8520648196549923,\n",
       "  0.9891313222763238),\n",
       " ('Random Oversampled dataset2 Random Forest  Selection',\n",
       "  0.9879691664865644,\n",
       "  0.8671439936356405,\n",
       "  0.9914029290931223),\n",
       " ('Random Oversampled dataset2 Forward feature selection',\n",
       "  0.9933962490694714,\n",
       "  0.9224696926980546,\n",
       "  0.9945197504564819),\n",
       " ('SMOTE dataset2 RCF',\n",
       "  0.9829983430588575,\n",
       "  0.8218419728233518,\n",
       "  0.988231786366403),\n",
       " ('SMOTE dataset2 Random Forest  Selection',\n",
       "  0.9855197752323319,\n",
       "  0.8443870967741934,\n",
       "  0.990419750456482),\n",
       " ('SMOTE dataset2 Forward feature selection',\n",
       "  0.9925077443988185,\n",
       "  0.9129464285714285,\n",
       "  0.9940572504564821),\n",
       " ('ADASYN dataset2 RCF', 0.9802127608481618, 0.798828125, 0.987657250456482),\n",
       " ('ADASYN dataset2 Random Forest  Selection',\n",
       "  0.9818697019907308,\n",
       "  0.8127944458219687,\n",
       "  0.9893952145465611),\n",
       " ('ADASYN dataset2 Forward feature selection',\n",
       "  0.9842950796052158,\n",
       "  0.8335877862595421,\n",
       "  0.9903658931832015)]"
      ]
     },
     "execution_count": 121,
     "metadata": {},
     "output_type": "execute_result"
    }
   ],
   "source": [
    "all_results"
   ]
  },
  {
   "cell_type": "markdown",
   "metadata": {},
   "source": [
    "#### 4. Variations of SMOTE"
   ]
  },
  {
   "cell_type": "code",
   "execution_count": 122,
   "metadata": {},
   "outputs": [],
   "source": [
    "from imblearn.over_sampling import BorderlineSMOTE,SVMSMOTE,KMeansSMOTE"
   ]
  },
  {
   "cell_type": "code",
   "execution_count": 123,
   "metadata": {},
   "outputs": [
    {
     "name": "stdout",
     "output_type": "stream",
     "text": [
      "Borderline SMOTE dataset2 RCF Completed\n",
      "Borderline SMOTE dataset2 Random Forest Selection Completed\n",
      "Borderline SMOTE dataset2 Forward feature selection Completed\n",
      "SVM SMOTE dataset2 RCF Completed\n",
      "SVM SMOTE dataset2 Random Forest Selection Completed\n",
      "SVM SMOTE dataset2 Forward feature selection Completed\n"
     ]
    }
   ],
   "source": [
    "all_dataset[\"X_borderline_smote_dataset2\"],all_dataset[\"y_borderline_smote_dataset2\"] = BorderlineSMOTE().fit_resample(X_train,y_train)\n",
    "all_dataset[\"X_svm_smote_dataset2\"],all_dataset[\"y_svm_smote_dataset2\"] = SVMSMOTE().fit_resample(X_train,y_train)\n",
    "\n",
    "# X_kmeans_smote,y_kmeans_smote = KMeansSMOTE().fit_resample(X_train,y_train)\n",
    "\n",
    "\n",
    "# all_dataset[\"X_kmeans_smote\"],all_dataset[\"y_kmeans_smote\"]= X_kmeans_smote,y_kmeans_smote\n",
    "\n",
    "training_testing_function(all_dataset[\"X_borderline_smote_dataset2\"],all_dataset[\"y_borderline_smote_dataset2\"],\"Borderline SMOTE dataset2\")\n",
    "training_testing_function(all_dataset[\"X_svm_smote_dataset2\"],all_dataset[\"y_svm_smote_dataset2\"],\"SVM SMOTE dataset2\")\n",
    "\n",
    "# training_testing_function(all_dataset[\"X_kmeans_smote\"],all_dataset[\"y_kmeans_smote\"],\"KMeans SMOTE\")\n",
    "\n"
   ]
  },
  {
   "cell_type": "code",
   "execution_count": 124,
   "metadata": {},
   "outputs": [
    {
     "data": {
      "text/plain": [
       "[('Near Miss dataset 2 RCF',\n",
       "  0.4844511682635737,\n",
       "  0.12095156205216395,\n",
       "  0.6831951536822884),\n",
       " ('Near Miss dataset 2 Random Forest  Selection',\n",
       "  0.33410176980524936,\n",
       "  0.09609492144207575,\n",
       "  0.6040571895922093),\n",
       " ('Near Miss dataset 2 Forward feature selection',\n",
       "  0.3651514059986072,\n",
       "  0.10392163508795717,\n",
       "  0.6374371500304321),\n",
       " ('Near Miss dataset 2 RCF',\n",
       "  0.4844511682635737,\n",
       "  0.12095156205216395,\n",
       "  0.6831951536822884),\n",
       " ('Near Miss dataset 2 Random Forest  Selection',\n",
       "  0.331844487668996,\n",
       "  0.09580137787599116,\n",
       "  0.6028821895922094),\n",
       " ('Near Miss dataset 2 Forward feature selection',\n",
       "  0.3651514059986072,\n",
       "  0.10392163508795717,\n",
       "  0.6374371500304321),\n",
       " ('One Sided Selection dataset 2 RCF',\n",
       "  0.9965420358763778,\n",
       "  0.9573712255772646,\n",
       "  0.9906126445526475),\n",
       " ('One Sided Selection dataset 2 Random Forest  Selection',\n",
       "  0.9981749633791994,\n",
       "  0.977245508982036,\n",
       "  0.9958399650030433),\n",
       " ('One Sided Selection dataset 2 Forward feature selection',\n",
       "  0.9970943495905674,\n",
       "  0.9642540620384046,\n",
       "  0.9952774650030433),\n",
       " ('Tomek Links dataset 2 RCF',\n",
       "  0.9965660495161252,\n",
       "  0.9576797869192069,\n",
       "  0.9909169659160073),\n",
       " ('Tomek Links dataset 2 Random Forest  Selection',\n",
       "  0.9981749633791994,\n",
       "  0.977245508982036,\n",
       "  0.9958399650030433),\n",
       " ('Tomek Links dataset 2 Forward feature selection',\n",
       "  0.9963739403981462,\n",
       "  0.9554177738411573,\n",
       "  0.9908169659160073),\n",
       " ('Random Oversampled dataset2 RCF',\n",
       "  0.9864082799029849,\n",
       "  0.8520648196549923,\n",
       "  0.9891313222763238),\n",
       " ('Random Oversampled dataset2 Random Forest  Selection',\n",
       "  0.9879691664865644,\n",
       "  0.8671439936356405,\n",
       "  0.9914029290931223),\n",
       " ('Random Oversampled dataset2 Forward feature selection',\n",
       "  0.9933962490694714,\n",
       "  0.9224696926980546,\n",
       "  0.9945197504564819),\n",
       " ('SMOTE dataset2 RCF',\n",
       "  0.9829983430588575,\n",
       "  0.8218419728233518,\n",
       "  0.988231786366403),\n",
       " ('SMOTE dataset2 Random Forest  Selection',\n",
       "  0.9855197752323319,\n",
       "  0.8443870967741934,\n",
       "  0.990419750456482),\n",
       " ('SMOTE dataset2 Forward feature selection',\n",
       "  0.9925077443988185,\n",
       "  0.9129464285714285,\n",
       "  0.9940572504564821),\n",
       " ('ADASYN dataset2 RCF', 0.9802127608481618, 0.798828125, 0.987657250456482),\n",
       " ('ADASYN dataset2 Random Forest  Selection',\n",
       "  0.9818697019907308,\n",
       "  0.8127944458219687,\n",
       "  0.9893952145465611),\n",
       " ('ADASYN dataset2 Forward feature selection',\n",
       "  0.9842950796052158,\n",
       "  0.8335877862595421,\n",
       "  0.9903658931832015),\n",
       " ('Borderline SMOTE dataset2 RCF',\n",
       "  0.9832624930960786,\n",
       "  0.8241231390360837,\n",
       "  0.988369286366403),\n",
       " ('Borderline SMOTE dataset2 Random Forest  Selection',\n",
       "  0.984631270561679,\n",
       "  0.8364008179959099,\n",
       "  0.989957250456482),\n",
       " ('Borderline SMOTE dataset2 Forward feature selection',\n",
       "  0.9993276180870735,\n",
       "  0.9915048543689321,\n",
       "  0.9970236077297626),\n",
       " ('SVM SMOTE dataset2 RCF',\n",
       "  0.9831184112575944,\n",
       "  0.8228772990677753,\n",
       "  0.9882942863664028),\n",
       " ('SVM SMOTE dataset2 Random Forest  Selection',\n",
       "  0.9846792978411738,\n",
       "  0.8367451381780963,\n",
       "  0.9896904290931223),\n",
       " ('SVM SMOTE dataset2 Forward feature selection',\n",
       "  0.9628749129505559,\n",
       "  0.6787198669991686,\n",
       "  0.977756786366403)]"
      ]
     },
     "execution_count": 124,
     "metadata": {},
     "output_type": "execute_result"
    }
   ],
   "source": [
    "all_results"
   ]
  },
  {
   "cell_type": "markdown",
   "metadata": {},
   "source": [
    "### Combination of Undersampling and Oversampling"
   ]
  },
  {
   "cell_type": "markdown",
   "metadata": {},
   "source": [
    "#### 1. SMOTETomek"
   ]
  },
  {
   "cell_type": "code",
   "execution_count": 125,
   "metadata": {},
   "outputs": [],
   "source": [
    "from imblearn.combine import SMOTETomek"
   ]
  },
  {
   "cell_type": "code",
   "execution_count": 126,
   "metadata": {},
   "outputs": [
    {
     "name": "stdout",
     "output_type": "stream",
     "text": [
      "SMOTE Tomek dataset2 RCF Completed\n",
      "SMOTE Tomek dataset2 Random Forest Selection Completed\n",
      "SMOTE Tomek dataset2 Forward feature selection Completed\n"
     ]
    }
   ],
   "source": [
    "all_dataset['X_smote_tomek_dataset2'],all_dataset['y_smote_tomek_dataset2'] = SMOTETomek().fit_resample(X_train,y_train)\n",
    "training_testing_function(all_dataset['X_smote_tomek_dataset2'],all_dataset['y_smote_tomek_dataset2'],\"SMOTE Tomek dataset2\")"
   ]
  },
  {
   "cell_type": "code",
   "execution_count": 127,
   "metadata": {},
   "outputs": [
    {
     "data": {
      "text/plain": [
       "[('Near Miss dataset 2 RCF',\n",
       "  0.4844511682635737,\n",
       "  0.12095156205216395,\n",
       "  0.6831951536822884),\n",
       " ('Near Miss dataset 2 Random Forest  Selection',\n",
       "  0.33410176980524936,\n",
       "  0.09609492144207575,\n",
       "  0.6040571895922093),\n",
       " ('Near Miss dataset 2 Forward feature selection',\n",
       "  0.3651514059986072,\n",
       "  0.10392163508795717,\n",
       "  0.6374371500304321),\n",
       " ('Near Miss dataset 2 RCF',\n",
       "  0.4844511682635737,\n",
       "  0.12095156205216395,\n",
       "  0.6831951536822884),\n",
       " ('Near Miss dataset 2 Random Forest  Selection',\n",
       "  0.331844487668996,\n",
       "  0.09580137787599116,\n",
       "  0.6028821895922094),\n",
       " ('Near Miss dataset 2 Forward feature selection',\n",
       "  0.3651514059986072,\n",
       "  0.10392163508795717,\n",
       "  0.6374371500304321),\n",
       " ('One Sided Selection dataset 2 RCF',\n",
       "  0.9965420358763778,\n",
       "  0.9573712255772646,\n",
       "  0.9906126445526475),\n",
       " ('One Sided Selection dataset 2 Random Forest  Selection',\n",
       "  0.9981749633791994,\n",
       "  0.977245508982036,\n",
       "  0.9958399650030433),\n",
       " ('One Sided Selection dataset 2 Forward feature selection',\n",
       "  0.9970943495905674,\n",
       "  0.9642540620384046,\n",
       "  0.9952774650030433),\n",
       " ('Tomek Links dataset 2 RCF',\n",
       "  0.9965660495161252,\n",
       "  0.9576797869192069,\n",
       "  0.9909169659160073),\n",
       " ('Tomek Links dataset 2 Random Forest  Selection',\n",
       "  0.9981749633791994,\n",
       "  0.977245508982036,\n",
       "  0.9958399650030433),\n",
       " ('Tomek Links dataset 2 Forward feature selection',\n",
       "  0.9963739403981462,\n",
       "  0.9554177738411573,\n",
       "  0.9908169659160073),\n",
       " ('Random Oversampled dataset2 RCF',\n",
       "  0.9864082799029849,\n",
       "  0.8520648196549923,\n",
       "  0.9891313222763238),\n",
       " ('Random Oversampled dataset2 Random Forest  Selection',\n",
       "  0.9879691664865644,\n",
       "  0.8671439936356405,\n",
       "  0.9914029290931223),\n",
       " ('Random Oversampled dataset2 Forward feature selection',\n",
       "  0.9933962490694714,\n",
       "  0.9224696926980546,\n",
       "  0.9945197504564819),\n",
       " ('SMOTE dataset2 RCF',\n",
       "  0.9829983430588575,\n",
       "  0.8218419728233518,\n",
       "  0.988231786366403),\n",
       " ('SMOTE dataset2 Random Forest  Selection',\n",
       "  0.9855197752323319,\n",
       "  0.8443870967741934,\n",
       "  0.990419750456482),\n",
       " ('SMOTE dataset2 Forward feature selection',\n",
       "  0.9925077443988185,\n",
       "  0.9129464285714285,\n",
       "  0.9940572504564821),\n",
       " ('ADASYN dataset2 RCF', 0.9802127608481618, 0.798828125, 0.987657250456482),\n",
       " ('ADASYN dataset2 Random Forest  Selection',\n",
       "  0.9818697019907308,\n",
       "  0.8127944458219687,\n",
       "  0.9893952145465611),\n",
       " ('ADASYN dataset2 Forward feature selection',\n",
       "  0.9842950796052158,\n",
       "  0.8335877862595421,\n",
       "  0.9903658931832015),\n",
       " ('Borderline SMOTE dataset2 RCF',\n",
       "  0.9832624930960786,\n",
       "  0.8241231390360837,\n",
       "  0.988369286366403),\n",
       " ('Borderline SMOTE dataset2 Random Forest  Selection',\n",
       "  0.984631270561679,\n",
       "  0.8364008179959099,\n",
       "  0.989957250456482),\n",
       " ('Borderline SMOTE dataset2 Forward feature selection',\n",
       "  0.9993276180870735,\n",
       "  0.9915048543689321,\n",
       "  0.9970236077297626),\n",
       " ('SVM SMOTE dataset2 RCF',\n",
       "  0.9831184112575944,\n",
       "  0.8228772990677753,\n",
       "  0.9882942863664028),\n",
       " ('SVM SMOTE dataset2 Random Forest  Selection',\n",
       "  0.9846792978411738,\n",
       "  0.8367451381780963,\n",
       "  0.9896904290931223),\n",
       " ('SVM SMOTE dataset2 Forward feature selection',\n",
       "  0.9628749129505559,\n",
       "  0.6787198669991686,\n",
       "  0.977756786366403),\n",
       " ('SMOTE Tomek dataset2 RCF',\n",
       "  0.9830223566986048,\n",
       "  0.822227809906965,\n",
       "  0.9888279290931223),\n",
       " ('SMOTE Tomek dataset2 Random Forest  Selection',\n",
       "  0.9854477343130899,\n",
       "  0.8437338834450747,\n",
       "  0.990382250456482),\n",
       " ('SMOTE Tomek dataset2 Forward feature selection',\n",
       "  0.9922676080013447,\n",
       "  0.9104062326099054,\n",
       "  0.993932250456482)]"
      ]
     },
     "execution_count": 127,
     "metadata": {},
     "output_type": "execute_result"
    }
   ],
   "source": [
    "all_results"
   ]
  },
  {
   "cell_type": "code",
   "execution_count": null,
   "metadata": {},
   "outputs": [],
   "source": []
  },
  {
   "cell_type": "code",
   "execution_count": 10,
   "metadata": {},
   "outputs": [],
   "source": [
    "dataset2_results = [\n",
    " ('Random Undersample dataset 2 RCF',\n",
    "  0.9638354585404509,\n",
    "  0.6845412651864264,\n",
    "  0.9785486077297626),\n",
    " ('Random Undersample dataset 2 Random Forest  Selection',\n",
    "  0.9659006315587254,\n",
    "  0.697098976109215,\n",
    "  0.9796236077297628),\n",
    " ('Random Undersample dataset 2 Forward feature selection',\n",
    "  0.974233364551065,\n",
    "  0.7525939589578049,\n",
    "  0.9833774650030432),\n",
    " ('IHT dataset 2 RCF',\n",
    "  0.9962058449199145,\n",
    "  0.9535840188014102,\n",
    "  0.992188572732806),\n",
    " ('IHT dataset 2 Random Forest  Selection',\n",
    "  0.997574622385515,\n",
    "  0.9700029700029701,\n",
    "  0.9958192863664029),\n",
    " ('IHT dataset 2 Forward feature selection',\n",
    "  0.9967821722738516,\n",
    "  0.9604252805670409,\n",
    "  0.9933640368228851),\n",
    "  ('Near Miss dataset 2 RCF',\n",
    "  0.4844511682635737,\n",
    "  0.12095156205216395,\n",
    "  0.6831951536822884),\n",
    " ('Near Miss dataset 2 Random Forest  Selection',\n",
    "  0.331844487668996,\n",
    "  0.09580137787599116,\n",
    "  0.6028821895922094),\n",
    " ('Near Miss dataset 2 Forward feature selection',\n",
    "  0.3651514059986072,\n",
    "  0.10392163508795717,\n",
    "  0.6374371500304321),\n",
    " ('One Sided Selection dataset 2 RCF',\n",
    "  0.9965420358763778,\n",
    "  0.9573712255772646,\n",
    "  0.9906126445526475),\n",
    " ('One Sided Selection dataset 2 Random Forest  Selection',\n",
    "  0.9981749633791994,\n",
    "  0.977245508982036,\n",
    "  0.9958399650030433),\n",
    " ('One Sided Selection dataset 2 Forward feature selection',\n",
    "  0.9970943495905674,\n",
    "  0.9642540620384046,\n",
    "  0.9952774650030433),\n",
    " ('Tomek Links dataset 2 RCF',\n",
    "  0.9965660495161252,\n",
    "  0.9576797869192069,\n",
    "  0.9909169659160073),\n",
    " ('Tomek Links dataset 2 Random Forest  Selection',\n",
    "  0.9981749633791994,\n",
    "  0.977245508982036,\n",
    "  0.9958399650030433),\n",
    " ('Tomek Links dataset 2 Forward feature selection',\n",
    "  0.9963739403981462,\n",
    "  0.9554177738411573,\n",
    "  0.9908169659160073),\n",
    " ('Random Oversampled dataset2 RCF',\n",
    "  0.9864082799029849,\n",
    "  0.8520648196549923,\n",
    "  0.9891313222763238),\n",
    " ('Random Oversampled dataset2 Random Forest  Selection',\n",
    "  0.9879691664865644,\n",
    "  0.8671439936356405,\n",
    "  0.9914029290931223),\n",
    " ('Random Oversampled dataset2 Forward feature selection',\n",
    "  0.9933962490694714,\n",
    "  0.9224696926980546,\n",
    "  0.9945197504564819),\n",
    " ('SMOTE dataset2 RCF',\n",
    "  0.9829983430588575,\n",
    "  0.8218419728233518,\n",
    "  0.988231786366403),\n",
    " ('SMOTE dataset2 Random Forest  Selection',\n",
    "  0.9855197752323319,\n",
    "  0.8443870967741934,\n",
    "  0.990419750456482),\n",
    " ('SMOTE dataset2 Forward feature selection',\n",
    "  0.9925077443988185,\n",
    "  0.9129464285714285,\n",
    "  0.9940572504564821),\n",
    " ('ADASYN dataset2 RCF', 0.9802127608481618, 0.798828125, 0.987657250456482),\n",
    " ('ADASYN dataset2 Random Forest  Selection',\n",
    "  0.9818697019907308,\n",
    "  0.8127944458219687,\n",
    "  0.9893952145465611),\n",
    " ('ADASYN dataset2 Forward feature selection',\n",
    "  0.9842950796052158,\n",
    "  0.8335877862595421,\n",
    "  0.9903658931832015),\n",
    " ('Borderline SMOTE dataset2 RCF',\n",
    "  0.9832624930960786,\n",
    "  0.8241231390360837,\n",
    "  0.988369286366403),\n",
    " ('Borderline SMOTE dataset2 Random Forest  Selection',\n",
    "  0.984631270561679,\n",
    "  0.8364008179959099,\n",
    "  0.989957250456482),\n",
    " ('Borderline SMOTE dataset2 Forward feature selection',\n",
    "  0.9993276180870735,\n",
    "  0.9915048543689321,\n",
    "  0.9970236077297626),\n",
    " ('SVM SMOTE dataset2 RCF',\n",
    "  0.9831184112575944,\n",
    "  0.8228772990677753,\n",
    "  0.9882942863664028),\n",
    " ('SVM SMOTE dataset2 Random Forest  Selection',\n",
    "  0.9846792978411738,\n",
    "  0.8367451381780963,\n",
    "  0.9896904290931223),\n",
    " ('SVM SMOTE dataset2 Forward feature selection',\n",
    "  0.9628749129505559,\n",
    "  0.6787198669991686,\n",
    "  0.977756786366403),\n",
    " ('SMOTE Tomek dataset2 RCF',\n",
    "  0.9830223566986048,\n",
    "  0.822227809906965,\n",
    "  0.9888279290931223),\n",
    " ('SMOTE Tomek dataset2 Random Forest  Selection',\n",
    "  0.9854477343130899,\n",
    "  0.8437338834450747,\n",
    "  0.990382250456482),\n",
    " ('SMOTE Tomek dataset2 Forward feature selection',\n",
    "  0.9922676080013447,\n",
    "  0.9104062326099054,\n",
    "  0.993932250456482)] "
   ]
  },
  {
   "cell_type": "code",
   "execution_count": 11,
   "metadata": {},
   "outputs": [
    {
     "data": {
      "text/plain": [
       "[('Borderline SMOTE dataset2 Forward feature selection',\n",
       "  0.9993276180870735,\n",
       "  0.9915048543689321,\n",
       "  0.9970236077297626),\n",
       " ('One Sided Selection dataset 2 Random Forest  Selection',\n",
       "  0.9981749633791994,\n",
       "  0.977245508982036,\n",
       "  0.9958399650030433),\n",
       " ('Tomek Links dataset 2 Random Forest  Selection',\n",
       "  0.9981749633791994,\n",
       "  0.977245508982036,\n",
       "  0.9958399650030433)]"
      ]
     },
     "execution_count": 11,
     "metadata": {},
     "output_type": "execute_result"
    }
   ],
   "source": [
    "sorted(dataset2_results,key=lambda x: (x[2],x[3]), reverse=True)[:3]"
   ]
  },
  {
   "cell_type": "code",
   "execution_count": null,
   "metadata": {},
   "outputs": [],
   "source": []
  }
 ],
 "metadata": {
  "kernelspec": {
   "display_name": "Python 3",
   "language": "python",
   "name": "python3"
  },
  "language_info": {
   "codemirror_mode": {
    "name": "ipython",
    "version": 3
   },
   "file_extension": ".py",
   "mimetype": "text/x-python",
   "name": "python",
   "nbconvert_exporter": "python",
   "pygments_lexer": "ipython3",
   "version": "3.7.3"
  }
 },
 "nbformat": 4,
 "nbformat_minor": 2
}
