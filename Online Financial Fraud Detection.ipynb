{
 "cells": [
  {
   "cell_type": "code",
   "execution_count": 1,
   "metadata": {},
   "outputs": [],
   "source": [
    "import numpy as np\n",
    "import pandas as pd\n",
    "\n",
    "from imblearn.under_sampling import RandomUnderSampler\n",
    "from sklearn.svm import SVC \n",
    "from sklearn.naive_bayes import GaussianNB \n",
    "from sklearn import tree\n",
    "from sklearn.model_selection import cross_val_score\n",
    "from sklearn.neighbors import KNeighborsClassifier\n",
    "from sklearn.linear_model import LogisticRegression\n",
    "from sklearn.ensemble import VotingClassifier\n",
    "from sklearn.ensemble import RandomForestClassifier\n",
    "from sklearn import metrics\n",
    "from collections import Counter\n",
    "from sklearn.model_selection import train_test_split\n",
    "from sklearn.preprocessing import RobustScaler,StandardScaler\n",
    "from imblearn.over_sampling import RandomOverSampler\n",
    "from mlxtend.feature_selection import SequentialFeatureSelector as sfs\n",
    "from sklearn.feature_selection import SelectKBest\n",
    "from sklearn.feature_selection import f_classif\n",
    "from sklearn.model_selection import cross_val_score\n",
    "from sklearn.model_selection import RepeatedStratifiedKFold\n",
    "from xgboost import XGBClassifier\n",
    "import seaborn as sns\n",
    "import matplotlib.pyplot as plt"
   ]
  },
  {
   "cell_type": "code",
   "execution_count": 93,
   "metadata": {},
   "outputs": [
    {
     "name": "stdout",
     "output_type": "stream",
     "text": [
      "percentage of fraudulent data instances: 0.1727485630620034\n",
      "percentage of normal data instances: 99.827251436938\n",
      "(227845, 30) (227845,)\n",
      "0    227451\n",
      "1       394\n",
      "Name: Class, dtype: int64\n"
     ]
    }
   ],
   "source": [
    "data = pd.read_csv(\"creditcard.csv\")\n",
    "\n",
    "data.head()\n",
    "\n",
    "data['Class'].value_counts()\n",
    "\n",
    "len(data['Class'])\n",
    "\n",
    "print(\"percentage of fraudulent data instances: {}\".format(data['Class'].value_counts()[1] *100 /len(data['Class'])))\n",
    "print(\"percentage of normal data instances: {}\".format(data['Class'].value_counts()[0] *100 /len(data['Class'])))\n",
    "\n",
    "# Rescaling the data\n",
    "\n",
    "\n",
    "\n",
    "rs = RobustScaler()\n",
    "\n",
    "data['scaled_amount'] = rs.fit_transform(data['Amount'].values.reshape(-1, 1))\n",
    "data['scaled_time'] = rs.fit_transform(data['Time'].values.reshape(-1, 1))\n",
    "\n",
    "data.drop(['Amount', 'Time'], axis = 1, inplace = True)\n",
    "\n",
    "\n",
    "# from sklearn.linear_model import LogisticRegression\n",
    "\n",
    "X = data.drop(['Class'], axis = 1)\n",
    "y = data['Class']\n",
    "\n",
    "X_train, X_test, y_train, y_test = train_test_split(X, y, test_size = 0.20, random_state = 0, \n",
    "                                                    stratify = y)\n",
    "\n",
    "print(X_train.shape, y_train.shape)\n",
    "print(y_train.value_counts())\n",
    "\n"
   ]
  },
  {
   "cell_type": "code",
   "execution_count": 38,
   "metadata": {},
   "outputs": [],
   "source": [
    "all_dataset=dict()"
   ]
  },
  {
   "cell_type": "code",
   "execution_count": 39,
   "metadata": {},
   "outputs": [],
   "source": [
    "all_results=[]"
   ]
  },
  {
   "cell_type": "code",
   "execution_count": 40,
   "metadata": {},
   "outputs": [],
   "source": [
    " def training_testing_function(X,y,name):\n",
    "        \n",
    "        #removing highly correlated features\n",
    "        corr = X.corr()\n",
    "        columns = np.full((corr.shape[0],), True, dtype=bool)\n",
    "        for i in range(corr.shape[0]):\n",
    "            for j in range(i+1, corr.shape[0]):\n",
    "                if corr.iloc[i,j] >= 0.8:\n",
    "                    if columns[j]:\n",
    "                        columns[j] = False\n",
    "        selected_columns = X.columns[columns]\n",
    "        X1 = X[selected_columns]\n",
    "        \n",
    "         # Train KNeighborsClassifier Model\n",
    "#         KNN_Classifier = KNeighborsClassifier(n_jobs=-1)\n",
    "        \n",
    "        # Train LogisticRegression Model\n",
    "        LGR_Classifier = LogisticRegression(multi_class='auto', random_state=1,solver='lbfgs',max_iter=400)\n",
    "\n",
    "        # Train Gaussian Naive Baye Model\n",
    "        GNB_Classifier = GaussianNB()\n",
    "\n",
    "        # Train Decision Tree Model\n",
    "        DTC_Classifier = tree.DecisionTreeClassifier(criterion='entropy', random_state=0)\n",
    "        # DTC_Classifier.fit(X_train_random_oversampled, y_train_random_oversampled.values.ravel());\n",
    "        \n",
    "        XGB_Classifier = XGBClassifier(scale_pos_weight=500)\n",
    "        \n",
    "\n",
    "        ## Train Ensemble Model (This method combines all the individual models above except RandomForest)\n",
    "        combined_model = [('Naive Baye Classifier', GNB_Classifier), \n",
    "                         ('Decision Tree Classifier', DTC_Classifier), \n",
    "#                          ('KNeighborsClassifier', KNN_Classifier), \n",
    "                         ('LogisticRegression', LGR_Classifier),\n",
    "                          ('Gradient Boosting Classifier', XGB_Classifier)\n",
    "                        ]\n",
    "        VC =  VotingClassifier(estimators = combined_model,voting = 'soft')\n",
    "        VC.fit(X1, y.values.ravel());\n",
    "\n",
    "        models = []\n",
    "        models.append(('VotingClassifier', VC))\n",
    "\n",
    "        for i, v in models:\n",
    "            accuracy = metrics.accuracy_score(y_test.values.ravel(), v.predict(X_test[selected_columns]))\n",
    "            f1 = metrics.f1_score(y_test.values.ravel(),v.predict(X_test[selected_columns]))\n",
    "            auc_score = metrics.roc_auc_score(y_test.values.ravel(),v.predict(X_test[selected_columns]))\n",
    "            confusion_matrix = metrics.confusion_matrix(y_test.values.ravel(), v.predict(X_test[selected_columns]))\n",
    "            classification = metrics.classification_report(y_test.values.ravel(), v.predict(X_test[selected_columns]))\n",
    "\n",
    "            \n",
    "            all_results.append((name+str(\" RCF\"),accuracy,f1,auc_score,confusion_matrix,classification)) #RCF = Removing correlated features\n",
    "            print(\"{} Completed\".format(name + str(\" RCF\")))\n",
    "        \n",
    "        \n",
    "        \n",
    "        \n",
    "      \n",
    "\n",
    "        rfc = RandomForestClassifier();\n",
    "\n",
    "        # fit random forest classifier on the training set\n",
    "        rfc.fit(X, y.values.ravel());\n",
    "        # extract important features\n",
    "        score = np.round(rfc.feature_importances_,3)\n",
    "\n",
    "        importances = pd.DataFrame({'feature':X.columns,'importance':score})\n",
    "        importances = importances.sort_values('importance',ascending=False).set_index('feature')\n",
    "\n",
    "        min_features=min(len(importances),20)\n",
    "        \n",
    "        final_features=list(importances[:20].index)\n",
    "\n",
    "        X2=X[final_features]\n",
    "\n",
    "        # Train KNeighborsClassifier Model\n",
    "#         KNN_Classifier = KNeighborsClassifier(n_jobs=-1)\n",
    "        # KNN_Classifier.fit(X_train_random_oversampled, y_train_random_oversampled.values.ravel()); \n",
    "\n",
    "        # Train LogisticRegression Model\n",
    "        LGR_Classifier = LogisticRegression(multi_class='auto', random_state=1,solver='lbfgs',max_iter=400)\n",
    "        # LGR_Classifier.fit(X_train_random_oversampled, y_train_random_oversampled.values.ravel());\n",
    "\n",
    "        # Train Gaussian Naive Baye Model\n",
    "        GNB_Classifier = GaussianNB()\n",
    "        # GNB_Classifier.fit(X_train_random_oversampled, y_train_random_oversampled.values.ravel())\n",
    "\n",
    "        # Train Decision Tree Model\n",
    "        DTC_Classifier = tree.DecisionTreeClassifier(criterion='entropy', random_state=0)\n",
    "        # DTC_Classifier.fit(X_train_random_oversampled, y_train_random_oversampled.values.ravel());\n",
    "        \n",
    "        XGB_Classifier = XGBClassifier(scale_pos_weight=500)\n",
    "\n",
    "        ## Train Ensemble Model (This method combines all the individual models above except RandomForest)\n",
    "        combined_model = [('Naive Baye Classifier', GNB_Classifier), \n",
    "                         ('Decision Tree Classifier', DTC_Classifier), \n",
    "#                          ('KNeighborsClassifier', KNN_Classifier), \n",
    "                         ('LogisticRegression', LGR_Classifier),\n",
    "                        ('Gradient Boosting Classifier', XGB_Classifier)\n",
    "                        ]\n",
    "        VC =  VotingClassifier(estimators = combined_model,voting = 'soft')\n",
    "        VC.fit(X2, y.values.ravel());\n",
    "\n",
    "        models = []\n",
    "\n",
    "        models.append(('VotingClassifier', VC))\n",
    "\n",
    "        for i, v in models:\n",
    "            accuracy = metrics.accuracy_score(y_test.values.ravel(), v.predict(X_test[final_features]))\n",
    "            confusion_matrix = metrics.confusion_matrix(y_test.values.ravel(), v.predict(X_test[final_features]))\n",
    "            classification = metrics.classification_report(y_test.values.ravel(), v.predict(X_test[final_features]))\n",
    "            f1 = metrics.f1_score(y_test.values.ravel(),v.predict(X_test[final_features]))\n",
    "            auc_score = metrics.roc_auc_score(y_test.values.ravel(),v.predict(X_test[final_features]))\n",
    "        \n",
    "            all_results.append((name+str(\" Random Forest  Selection\"),accuracy,f1,auc_score,confusion_matrix,classification))\n",
    "            print(\"{} Completed\".format(name+str(\" Random Forest Selection\")))\n",
    "\n",
    "            \n",
    "        fs = SelectKBest(score_func=f_classif, k=5)\n",
    "        # apply feature selection\n",
    "        fs.fit(X, y)\n",
    "        X3 = fs.transform(X)\n",
    "        X3_test = fs.transform(X_test)\n",
    "\n",
    "                  \n",
    "     # Train KNeighborsClassifier Model\n",
    "#         KNN_Classifier = KNeighborsClassifier(n_jobs=-1)\n",
    "        # KNN_Classifier.fit(X_train_random_oversampled, y_train_random_oversampled.values.ravel()); \n",
    "\n",
    "        # Train LogisticRegression Model\n",
    "        LGR_Classifier = LogisticRegression(multi_class='auto', random_state=1,solver='lbfgs',max_iter=400)\n",
    "        # LGR_Classifier.fit(X_train_random_oversampled, y_train_random_oversampled.values.ravel());\n",
    "\n",
    "        # Train Gaussian Naive Baye Model\n",
    "        GNB_Classifier = GaussianNB()\n",
    "        # GNB_Classifier.fit(X_train_random_oversampled, y_train_random_oversampled.values.ravel())\n",
    "\n",
    "        # Train Decision Tree Model\n",
    "        DTC_Classifier = tree.DecisionTreeClassifier(criterion='entropy', random_state=0)\n",
    "        # DTC_Classifier.fit(X_train_random_oversampled, y_train_random_oversampled.values.ravel());\n",
    "        \n",
    "        XGB_Classifier = XGBClassifier(scale_pos_weight=500)\n",
    "\n",
    "        ## Train Ensemble Model (This method combines all the individual models above except RandomForest)\n",
    "        combined_model = [('Naive Baye Classifier', GNB_Classifier), \n",
    "                         ('Decision Tree Classifier', DTC_Classifier), \n",
    "#                          ('KNeighborsClassifier', KNN_Classifier), \n",
    "                         ('LogisticRegression', LGR_Classifier),\n",
    "                         ('Gradient Boosting Classifier', XGB_Classifier)\n",
    "                        ]\n",
    "        VC =  VotingClassifier(estimators = combined_model,voting = 'soft')\n",
    "        VC.fit(X3, y.values.ravel());\n",
    "\n",
    "        models = []\n",
    "\n",
    "        models.append(('VotingClassifier', VC))\n",
    "\n",
    "        for i, v in models:\n",
    "            accuracy = metrics.accuracy_score(y_test.values.ravel(), v.predict(X3_test))\n",
    "            confusion_matrix = metrics.confusion_matrix(y_test.values.ravel(), v.predict(X3_test))\n",
    "            classification = metrics.classification_report(y_test.values.ravel(), v.predict(X3_test))\n",
    "            f1 = metrics.f1_score(y_test.values.ravel(),v.predict(X3_test))\n",
    "            auc_score = metrics.roc_auc_score(y_test.values.ravel(),v.predict(X3_test))\n",
    "        \n",
    "            all_results.append((name+str(\" Forward feature selection\"),accuracy,f1,auc_score,confusion_matrix,classification))\n",
    "            print(\"{} Completed\".format(name+str(\" Forward feature selection\")))\n"
   ]
  },
  {
   "cell_type": "markdown",
   "metadata": {},
   "source": [
    "#### 1. Random Undersample"
   ]
  },
  {
   "cell_type": "code",
   "execution_count": 95,
   "metadata": {},
   "outputs": [
    {
     "name": "stdout",
     "output_type": "stream",
     "text": [
      "Counter({0: 394, 1: 394})\n"
     ]
    }
   ],
   "source": [
    "undersample = RandomUnderSampler(sampling_strategy='majority')\n",
    "# fit and apply the transform\n",
    "all_dataset[\"X_train_undersample\"], all_dataset[\"y_train_undersample\"] = undersample.fit_resample(X_train, y_train)\n",
    "# summarize class distribution\n",
    "print(Counter(all_dataset[\"y_train_undersample\"]))"
   ]
  },
  {
   "cell_type": "code",
   "execution_count": 96,
   "metadata": {},
   "outputs": [
    {
     "name": "stdout",
     "output_type": "stream",
     "text": [
      "Random Undersample RCF Completed\n",
      "Random Undersample Random Forest Selection Completed\n",
      "Random Undersample Forward feature selection Completed\n"
     ]
    }
   ],
   "source": [
    "training_testing_function(all_dataset[\"X_train_undersample\"],all_dataset[\"y_train_undersample\"],\"Random Undersample\")"
   ]
  },
  {
   "cell_type": "markdown",
   "metadata": {},
   "source": [
    "#### 2. Instance Hardness Threshold"
   ]
  },
  {
   "cell_type": "code",
   "execution_count": 97,
   "metadata": {},
   "outputs": [],
   "source": [
    "from imblearn.under_sampling import InstanceHardnessThreshold"
   ]
  },
  {
   "cell_type": "code",
   "execution_count": 98,
   "metadata": {},
   "outputs": [
    {
     "name": "stdout",
     "output_type": "stream",
     "text": [
      "Resampled dataset shape Counter({0: 222288, 1: 394})\n"
     ]
    }
   ],
   "source": [
    "iht = InstanceHardnessThreshold(sampling_strategy='majority', random_state=42)\n",
    "all_dataset[\"X_train_res\"], all_dataset[\"y_train_res\"] = iht.fit_resample(X_train, y_train)\n",
    "print('Resampled dataset shape %s' % Counter(all_dataset[\"y_train_res\"]))"
   ]
  },
  {
   "cell_type": "code",
   "execution_count": 99,
   "metadata": {},
   "outputs": [
    {
     "name": "stdout",
     "output_type": "stream",
     "text": [
      "IHT RCF Completed\n",
      "IHT Random Forest Selection Completed\n",
      "IHT Forward feature selection Completed\n"
     ]
    }
   ],
   "source": [
    "training_testing_function(all_dataset[\"X_train_res\"],all_dataset[\"y_train_res\"],\"IHT\")"
   ]
  },
  {
   "cell_type": "markdown",
   "metadata": {},
   "source": [
    "#### 3. Cluster Centroid"
   ]
  },
  {
   "cell_type": "code",
   "execution_count": 100,
   "metadata": {},
   "outputs": [],
   "source": [
    "from imblearn.under_sampling import ClusterCentroids"
   ]
  },
  {
   "cell_type": "code",
   "execution_count": 101,
   "metadata": {},
   "outputs": [],
   "source": [
    "all_dataset[\"X_cluster_centroids\"],all_dataset[\"y_cluster_centroids\"]  = ClusterCentroids().fit_resample(X_train,y_train)"
   ]
  },
  {
   "cell_type": "code",
   "execution_count": 102,
   "metadata": {},
   "outputs": [
    {
     "name": "stdout",
     "output_type": "stream",
     "text": [
      "Cluster centroids RCF Completed\n",
      "Cluster centroids Random Forest Selection Completed\n",
      "Cluster centroids Forward feature selection Completed\n"
     ]
    }
   ],
   "source": [
    "training_testing_function(all_dataset[\"X_cluster_centroids\"],all_dataset[\"y_cluster_centroids\"],\"Cluster centroids\")"
   ]
  },
  {
   "cell_type": "markdown",
   "metadata": {},
   "source": [
    "#### 4. Near Miss"
   ]
  },
  {
   "cell_type": "code",
   "execution_count": 103,
   "metadata": {},
   "outputs": [],
   "source": [
    "from imblearn.under_sampling import NearMiss"
   ]
  },
  {
   "cell_type": "code",
   "execution_count": 104,
   "metadata": {},
   "outputs": [
    {
     "name": "stdout",
     "output_type": "stream",
     "text": [
      "Near Miss RCF Completed\n",
      "Near Miss Random Forest Selection Completed\n",
      "Near Miss Forward feature selection Completed\n"
     ]
    }
   ],
   "source": [
    "all_dataset['X_near_miss'],all_dataset['y_near_miss'] = NearMiss().fit_resample(X_train,y_train)\n",
    "training_testing_function(all_dataset['X_near_miss'],all_dataset['y_near_miss'],\"Near Miss\")"
   ]
  },
  {
   "cell_type": "markdown",
   "metadata": {},
   "source": [
    "#### 5. One Sided Selection"
   ]
  },
  {
   "cell_type": "code",
   "execution_count": 105,
   "metadata": {},
   "outputs": [],
   "source": [
    "from imblearn.under_sampling import OneSidedSelection"
   ]
  },
  {
   "cell_type": "code",
   "execution_count": 106,
   "metadata": {},
   "outputs": [
    {
     "name": "stdout",
     "output_type": "stream",
     "text": [
      "One Sided Selection RCF Completed\n",
      "One Sided Selection Random Forest Selection Completed\n",
      "One Sided Selection Forward feature selection Completed\n"
     ]
    }
   ],
   "source": [
    "all_dataset['X_one_sided_selection'],all_dataset['y_one_sided_selection'] = OneSidedSelection().fit_resample(X_train,y_train)\n",
    "training_testing_function(all_dataset['X_one_sided_selection'],all_dataset['y_one_sided_selection'],\"One Sided Selection\")"
   ]
  },
  {
   "cell_type": "markdown",
   "metadata": {},
   "source": [
    "#### 6. Tomek Links"
   ]
  },
  {
   "cell_type": "code",
   "execution_count": 107,
   "metadata": {},
   "outputs": [],
   "source": [
    "from imblearn.under_sampling import TomekLinks"
   ]
  },
  {
   "cell_type": "code",
   "execution_count": 108,
   "metadata": {},
   "outputs": [],
   "source": [
    "all_dataset['X_tomek_links'],all_dataset['y_tomek_links'] = TomekLinks().fit_resample(X_train,y_train)\n"
   ]
  },
  {
   "cell_type": "code",
   "execution_count": 109,
   "metadata": {},
   "outputs": [
    {
     "name": "stdout",
     "output_type": "stream",
     "text": [
      "Tomek Links RCF Completed\n",
      "Tomek Links Random Forest Selection Completed\n",
      "Tomek Links Forward feature selection Completed\n"
     ]
    }
   ],
   "source": [
    "training_testing_function(all_dataset['X_tomek_links'],all_dataset['y_tomek_links'],\"Tomek Links\")"
   ]
  },
  {
   "cell_type": "code",
   "execution_count": 110,
   "metadata": {},
   "outputs": [
    {
     "data": {
      "text/plain": [
       "[('Random Undersample RCF',\n",
       "  0.9456830869702608,\n",
       "  0.052663808940600125,\n",
       "  0.9116757634398722,\n",
       "  array([[53782,  3082],\n",
       "         [   12,    86]], dtype=int64),\n",
       "  '              precision    recall  f1-score   support\\n\\n           0       1.00      0.95      0.97     56864\\n           1       0.03      0.88      0.05        98\\n\\n    accuracy                           0.95     56962\\n   macro avg       0.51      0.91      0.51     56962\\nweighted avg       1.00      0.95      0.97     56962\\n'),\n",
       " ('Random Undersample Random Forest  Selection',\n",
       "  0.9635370949053755,\n",
       "  0.07811806480248557,\n",
       "  0.9308046481113549,\n",
       "  array([[54797,  2067],\n",
       "         [   10,    88]], dtype=int64),\n",
       "  '              precision    recall  f1-score   support\\n\\n           0       1.00      0.96      0.98     56864\\n           1       0.04      0.90      0.08        98\\n\\n    accuracy                           0.96     56962\\n   macro avg       0.52      0.93      0.53     56962\\nweighted avg       1.00      0.96      0.98     56962\\n'),\n",
       " ('Random Undersample Forward feature selection',\n",
       "  0.9571293142796953,\n",
       "  0.06793893129770993,\n",
       "  0.932688484088064,\n",
       "  array([[54431,  2433],\n",
       "         [    9,    89]], dtype=int64),\n",
       "  '              precision    recall  f1-score   support\\n\\n           0       1.00      0.96      0.98     56864\\n           1       0.04      0.91      0.07        98\\n\\n    accuracy                           0.96     56962\\n   macro avg       0.52      0.93      0.52     56962\\nweighted avg       1.00      0.96      0.98     56962\\n'),\n",
       " ('IHT RCF',\n",
       "  0.9989817773252344,\n",
       "  0.7314814814814814,\n",
       "  0.9027183010232794,\n",
       "  array([[56825,    39],\n",
       "         [   19,    79]], dtype=int64),\n",
       "  '              precision    recall  f1-score   support\\n\\n           0       1.00      1.00      1.00     56864\\n           1       0.67      0.81      0.73        98\\n\\n    accuracy                           1.00     56962\\n   macro avg       0.83      0.90      0.87     56962\\nweighted avg       1.00      1.00      1.00     56962\\n'),\n",
       " ('IHT Random Forest  Selection',\n",
       "  0.9989466661985184,\n",
       "  0.7247706422018348,\n",
       "  0.9027007152044837,\n",
       "  array([[56823,    41],\n",
       "         [   19,    79]], dtype=int64),\n",
       "  '              precision    recall  f1-score   support\\n\\n           0       1.00      1.00      1.00     56864\\n           1       0.66      0.81      0.72        98\\n\\n    accuracy                           1.00     56962\\n   macro avg       0.83      0.90      0.86     56962\\nweighted avg       1.00      1.00      1.00     56962\\n'),\n",
       " ('IHT Forward feature selection',\n",
       "  0.9990871107053826,\n",
       "  0.7547169811320754,\n",
       "  0.9078643063865951,\n",
       "  array([[56830,    34],\n",
       "         [   18,    80]], dtype=int64),\n",
       "  '              precision    recall  f1-score   support\\n\\n           0       1.00      1.00      1.00     56864\\n           1       0.70      0.82      0.75        98\\n\\n    accuracy                           1.00     56962\\n   macro avg       0.85      0.91      0.88     56962\\nweighted avg       1.00      1.00      1.00     56962\\n'),\n",
       " ('Cluster centroids RCF',\n",
       "  0.7065236473438432,\n",
       "  0.011003963793409453,\n",
       "  0.8275426940613049,\n",
       "  array([[40152, 16712],\n",
       "         [    5,    93]], dtype=int64),\n",
       "  '              precision    recall  f1-score   support\\n\\n           0       1.00      0.71      0.83     56864\\n           1       0.01      0.95      0.01        98\\n\\n    accuracy                           0.71     56962\\n   macro avg       0.50      0.83      0.42     56962\\nweighted avg       1.00      0.71      0.83     56962\\n'),\n",
       " ('Cluster centroids Random Forest  Selection',\n",
       "  0.753748112776939,\n",
       "  0.012808783165599268,\n",
       "  0.8410091245276952,\n",
       "  array([[42844, 14020],\n",
       "         [    7,    91]], dtype=int64),\n",
       "  '              precision    recall  f1-score   support\\n\\n           0       1.00      0.75      0.86     56864\\n           1       0.01      0.93      0.01        98\\n\\n    accuracy                           0.75     56962\\n   macro avg       0.50      0.84      0.44     56962\\nweighted avg       1.00      0.75      0.86     56962\\n'),\n",
       " ('Cluster centroids Forward feature selection',\n",
       "  0.9210526315789473,\n",
       "  0.03683872349539516,\n",
       "  0.8993393115546724,\n",
       "  array([[52379,  4485],\n",
       "         [   12,    86]], dtype=int64),\n",
       "  '              precision    recall  f1-score   support\\n\\n           0       1.00      0.92      0.96     56864\\n           1       0.02      0.88      0.04        98\\n\\n    accuracy                           0.92     56962\\n   macro avg       0.51      0.90      0.50     56962\\nweighted avg       1.00      0.92      0.96     56962\\n'),\n",
       " ('Near Miss RCF',\n",
       "  0.3617499385555282,\n",
       "  0.005090033386240491,\n",
       "  0.6548587463967017,\n",
       "  array([[20513, 36351],\n",
       "         [    5,    93]], dtype=int64),\n",
       "  '              precision    recall  f1-score   support\\n\\n           0       1.00      0.36      0.53     56864\\n           1       0.00      0.95      0.01        98\\n\\n    accuracy                           0.36     56962\\n   macro avg       0.50      0.65      0.27     56962\\nweighted avg       1.00      0.36      0.53     56962\\n'),\n",
       " ('Near Miss Random Forest  Selection',\n",
       "  0.20069520030897792,\n",
       "  0.004068597427596465,\n",
       "  0.5741925955807197,\n",
       "  array([[11339, 45525],\n",
       "         [    5,    93]], dtype=int64),\n",
       "  '              precision    recall  f1-score   support\\n\\n           0       1.00      0.20      0.33     56864\\n           1       0.00      0.95      0.00        98\\n\\n    accuracy                           0.20     56962\\n   macro avg       0.50      0.57      0.17     56962\\nweighted avg       1.00      0.20      0.33     56962\\n'),\n",
       " ('Near Miss Forward feature selection',\n",
       "  0.18213896983954214,\n",
       "  0.003934061704902611,\n",
       "  0.5598052424402513,\n",
       "  array([[10283, 46581],\n",
       "         [    6,    92]], dtype=int64),\n",
       "  '              precision    recall  f1-score   support\\n\\n           0       1.00      0.18      0.31     56864\\n           1       0.00      0.94      0.00        98\\n\\n    accuracy                           0.18     56962\\n   macro avg       0.50      0.56      0.16     56962\\nweighted avg       1.00      0.18      0.31     56962\\n'),\n",
       " ('One Sided Selection RCF',\n",
       "  0.9993504441557529,\n",
       "  0.8082901554404144,\n",
       "  0.8978097042137058,\n",
       "  array([[56847,    17],\n",
       "         [   20,    78]], dtype=int64),\n",
       "  '              precision    recall  f1-score   support\\n\\n           0       1.00      1.00      1.00     56864\\n           1       0.82      0.80      0.81        98\\n\\n    accuracy                           1.00     56962\\n   macro avg       0.91      0.90      0.90     56962\\nweighted avg       1.00      1.00      1.00     56962\\n'),\n",
       " ('One Sided Selection Random Forest  Selection',\n",
       "  0.9992977774656788,\n",
       "  0.7938144329896908,\n",
       "  0.8926900775785834,\n",
       "  array([[56845,    19],\n",
       "         [   21,    77]], dtype=int64),\n",
       "  '              precision    recall  f1-score   support\\n\\n           0       1.00      1.00      1.00     56864\\n           1       0.80      0.79      0.79        98\\n\\n    accuracy                           1.00     56962\\n   macro avg       0.90      0.89      0.90     56962\\nweighted avg       1.00      1.00      1.00     56962\\n'),\n",
       " ('One Sided Selection Forward feature selection',\n",
       "  0.9993153330290369,\n",
       "  0.7979274611398963,\n",
       "  0.8926988704879814,\n",
       "  array([[56846,    18],\n",
       "         [   21,    77]], dtype=int64),\n",
       "  '              precision    recall  f1-score   support\\n\\n           0       1.00      1.00      1.00     56864\\n           1       0.81      0.79      0.80        98\\n\\n    accuracy                           1.00     56962\\n   macro avg       0.91      0.89      0.90     56962\\nweighted avg       1.00      1.00      1.00     56962\\n'),\n",
       " ('Tomek Links RCF',\n",
       "  0.9993328885923949,\n",
       "  0.8041237113402061,\n",
       "  0.8978009113043078,\n",
       "  array([[56846,    18],\n",
       "         [   20,    78]], dtype=int64),\n",
       "  '              precision    recall  f1-score   support\\n\\n           0       1.00      1.00      1.00     56864\\n           1       0.81      0.80      0.80        98\\n\\n    accuracy                           1.00     56962\\n   macro avg       0.91      0.90      0.90     56962\\nweighted avg       1.00      1.00      1.00     56962\\n'),\n",
       " ('Tomek Links Random Forest  Selection',\n",
       "  0.9992977774656788,\n",
       "  0.7959183673469388,\n",
       "  0.8977833254855122,\n",
       "  array([[56844,    20],\n",
       "         [   20,    78]], dtype=int64),\n",
       "  '              precision    recall  f1-score   support\\n\\n           0       1.00      1.00      1.00     56864\\n           1       0.80      0.80      0.80        98\\n\\n    accuracy                           1.00     56962\\n   macro avg       0.90      0.90      0.90     56962\\nweighted avg       1.00      1.00      1.00     56962\\n'),\n",
       " ('Tomek Links Forward feature selection',\n",
       "  0.9993153330290369,\n",
       "  0.7979274611398963,\n",
       "  0.8926988704879814,\n",
       "  array([[56846,    18],\n",
       "         [   21,    77]], dtype=int64),\n",
       "  '              precision    recall  f1-score   support\\n\\n           0       1.00      1.00      1.00     56864\\n           1       0.81      0.79      0.80        98\\n\\n    accuracy                           1.00     56962\\n   macro avg       0.91      0.89      0.90     56962\\nweighted avg       1.00      1.00      1.00     56962\\n')]"
      ]
     },
     "execution_count": 110,
     "metadata": {},
     "output_type": "execute_result"
    }
   ],
   "source": [
    "all_results"
   ]
  },
  {
   "cell_type": "markdown",
   "metadata": {},
   "source": [
    "### Oversampling data"
   ]
  },
  {
   "cell_type": "markdown",
   "metadata": {},
   "source": [
    "#### 1. Random Oversampling"
   ]
  },
  {
   "cell_type": "code",
   "execution_count": 111,
   "metadata": {},
   "outputs": [
    {
     "name": "stdout",
     "output_type": "stream",
     "text": [
      "[(0, 227451), (1, 227451)]\n"
     ]
    }
   ],
   "source": [
    "ros = RandomOverSampler(random_state=0)\n",
    "all_dataset[\"X_train_random_oversampled\"], all_dataset[\"y_train_random_oversampled\"] = ros.fit_resample(X_train, y_train)\n",
    "from collections import Counter\n",
    "print(sorted(Counter(all_dataset[\"y_train_random_oversampled\"]).items()))"
   ]
  },
  {
   "cell_type": "code",
   "execution_count": 112,
   "metadata": {},
   "outputs": [
    {
     "name": "stdout",
     "output_type": "stream",
     "text": [
      "Random Oversampled RCF Completed\n",
      "Random Oversampled Random Forest Selection Completed\n",
      "Random Oversampled Forward feature selection Completed\n"
     ]
    }
   ],
   "source": [
    "training_testing_function(all_dataset[\"X_train_random_oversampled\"],all_dataset[\"y_train_random_oversampled\"],\"Random Oversampled\")"
   ]
  },
  {
   "cell_type": "markdown",
   "metadata": {},
   "source": [
    "#### 2. SMOTE"
   ]
  },
  {
   "cell_type": "code",
   "execution_count": 113,
   "metadata": {},
   "outputs": [
    {
     "name": "stdout",
     "output_type": "stream",
     "text": [
      "[(0, 227451), (1, 227451)]\n"
     ]
    }
   ],
   "source": [
    "from imblearn.over_sampling import SMOTE, ADASYN\n",
    "all_dataset[\"X_smote\"], all_dataset[\"y_smote\"] = SMOTE().fit_resample(X_train, y_train)\n",
    "print(sorted(Counter(all_dataset[\"y_smote\"]).items()))\n",
    "\n"
   ]
  },
  {
   "cell_type": "code",
   "execution_count": 114,
   "metadata": {},
   "outputs": [
    {
     "name": "stdout",
     "output_type": "stream",
     "text": [
      "SMOTE RCF Completed\n",
      "SMOTE Random Forest Selection Completed\n",
      "SMOTE Forward feature selection Completed\n"
     ]
    }
   ],
   "source": [
    "training_testing_function(all_dataset['X_smote'],all_dataset['y_smote'],\"SMOTE\")"
   ]
  },
  {
   "cell_type": "markdown",
   "metadata": {},
   "source": [
    "#### 3. ADASYN"
   ]
  },
  {
   "cell_type": "code",
   "execution_count": 115,
   "metadata": {},
   "outputs": [
    {
     "name": "stdout",
     "output_type": "stream",
     "text": [
      "[(0, 227451), (1, 227448)]\n"
     ]
    }
   ],
   "source": [
    "all_dataset['X_adasyn'],all_dataset['y_adasyn'] = ADASYN().fit_resample(X_train, y_train)\n",
    "print(sorted(Counter(all_dataset[\"y_adasyn\"]).items()))"
   ]
  },
  {
   "cell_type": "code",
   "execution_count": 116,
   "metadata": {},
   "outputs": [
    {
     "name": "stdout",
     "output_type": "stream",
     "text": [
      "ADASYN RCF Completed\n",
      "ADASYN Random Forest Selection Completed\n",
      "ADASYN Forward feature selection Completed\n"
     ]
    }
   ],
   "source": [
    "training_testing_function(all_dataset['X_adasyn'],all_dataset['y_adasyn'],\"ADASYN\")"
   ]
  },
  {
   "cell_type": "markdown",
   "metadata": {},
   "source": [
    "#### 4. Variations of SMOTE"
   ]
  },
  {
   "cell_type": "code",
   "execution_count": 117,
   "metadata": {},
   "outputs": [],
   "source": [
    "from imblearn.over_sampling import BorderlineSMOTE,SVMSMOTE"
   ]
  },
  {
   "cell_type": "code",
   "execution_count": 118,
   "metadata": {},
   "outputs": [
    {
     "name": "stdout",
     "output_type": "stream",
     "text": [
      "Borderline SMOTE RCF Completed\n",
      "Borderline SMOTE Random Forest Selection Completed\n",
      "Borderline SMOTE Forward feature selection Completed\n",
      "SVM SMOTE RCF Completed\n",
      "SVM SMOTE Random Forest Selection Completed\n",
      "SVM SMOTE Forward feature selection Completed\n"
     ]
    }
   ],
   "source": [
    "all_dataset[\"X_borderline_smote\"],all_dataset[\"y_borderline_smote\"] = BorderlineSMOTE().fit_resample(X_train,y_train)\n",
    "all_dataset[\"X_svm_smote\"],all_dataset[\"y_svm_smote\"] = SVMSMOTE().fit_resample(X_train,y_train)\n",
    "\n",
    "# X_kmeans_smote,y_kmeans_smote = KMeansSMOTE().fit_resample(X_train,y_train)\n",
    "\n",
    "\n",
    "# all_dataset[\"X_kmeans_smote\"],all_dataset[\"y_kmeans_smote\"]= X_kmeans_smote,y_kmeans_smote\n",
    "\n",
    "training_testing_function(all_dataset[\"X_borderline_smote\"],all_dataset[\"y_borderline_smote\"],\"Borderline SMOTE\")\n",
    "training_testing_function(all_dataset[\"X_svm_smote\"],all_dataset[\"y_svm_smote\"],\"SVM SMOTE\")\n",
    "\n",
    "# training_testing_function(all_dataset[\"X_kmeans_smote\"],all_dataset[\"y_kmeans_smote\"],\"KMeans SMOTE\")\n",
    "\n"
   ]
  },
  {
   "cell_type": "code",
   "execution_count": 30,
   "metadata": {},
   "outputs": [
    {
     "data": {
      "text/plain": [
       "[('Cluster centroids RCF',\n",
       "  0.9212984094659598,\n",
       "  0.036949516648764766,\n",
       "  0.8994624122862425),\n",
       " ('Cluster centroids Random Forest  Selection',\n",
       "  0.9923106632491837,\n",
       "  0.2819672131147541,\n",
       "  0.9350297308005926),\n",
       " ('Cluster centroids Forward feature selection',\n",
       "  0.9918015519118009,\n",
       "  0.26917057902973396,\n",
       "  0.9347747364280545),\n",
       " ('Near Miss RCF',\n",
       "  0.5980653769179453,\n",
       "  0.007456539645380847,\n",
       "  0.7375673644528155),\n",
       " ('Near Miss Random Forest  Selection',\n",
       "  0.6635300726800323,\n",
       "  0.008996897621509825,\n",
       "  0.7754493715043699),\n",
       " ('Near Miss Forward feature selection',\n",
       "  0.6825778589234929,\n",
       "  0.009857072449482503,\n",
       "  0.8002694219218356),\n",
       " ('One Sided Selection RCF',\n",
       "  0.9993679997191109,\n",
       "  0.8085106382978723,\n",
       "  0.8876320013092462),\n",
       " ('One Sided Selection Random Forest  Selection',\n",
       "  0.9993153330290369,\n",
       "  0.7914438502673796,\n",
       "  0.8774191267671952),\n",
       " ('One Sided Selection Forward feature selection',\n",
       "  0.9993679997191109,\n",
       "  0.8064516129032258,\n",
       "  0.8825387534023176),\n",
       " ('Tomek Links RCF',\n",
       "  0.9993679997191109,\n",
       "  0.8085106382978723,\n",
       "  0.8876320013092462),\n",
       " ('Tomek Links Random Forest  Selection',\n",
       "  0.9992802219023208,\n",
       "  0.783068783068783,\n",
       "  0.8774015409483996),\n",
       " ('Tomek Links Forward feature selection',\n",
       "  0.9993679997191109,\n",
       "  0.8064516129032258,\n",
       "  0.8825387534023176),\n",
       " ('Random Oversampled RCF',\n",
       "  0.9991222218320986,\n",
       "  0.7395833333333335,\n",
       "  0.8620426610430328),\n",
       " ('Random Oversampled Random Forest  Selection',\n",
       "  0.9992802219023208,\n",
       "  0.7939698492462313,\n",
       "  0.902867780483043),\n",
       " ('Random Oversampled Forward feature selection',\n",
       "  0.9990519995786665,\n",
       "  0.7428571428571428,\n",
       "  0.8976602247539421),\n",
       " ('SMOTE RCF', 0.9978757768336786, 0.5468164794007491, 0.871604860289642),\n",
       " ('SMOTE Random Forest  Selection',\n",
       "  0.9989642217618764,\n",
       "  0.7377777777777779,\n",
       "  0.9230824997415963),\n",
       " ('SMOTE Forward feature selection',\n",
       "  0.9963835539482462,\n",
       "  0.4371584699453552,\n",
       "  0.9065101983393244),\n",
       " ('ADASYN RCF', 0.9984375548611355, 0.6454183266932271, 0.9126322166458029),\n",
       " ('ADASYN Random Forest  Selection',\n",
       "  0.9985955549313578,\n",
       "  0.6721311475409836,\n",
       "  0.9178046007373124),\n",
       " ('ADASYN Forward feature selection',\n",
       "  0.9948562199360977,\n",
       "  0.3644251626898048,\n",
       "  0.9261182068494253),\n",
       " ('Borderline SMOTE RCF',\n",
       "  0.9991748885221726,\n",
       "  0.7614213197969544,\n",
       "  0.8824420313989412),\n",
       " ('Borderline SMOTE Random Forest  Selection',\n",
       "  0.9992275552122467,\n",
       "  0.7864077669902914,\n",
       "  0.9130278975687067),\n",
       " ('Borderline SMOTE Forward feature selection',\n",
       "  0.9982795547909132,\n",
       "  0.6230769230769231,\n",
       "  0.9125530804612222),\n",
       " ('SVM SMOTE RCF', 0.9989291106351603, 0.6995073891625616, 0.8619459390396564),\n",
       " ('SVM SMOTE Random Forest  Selection',\n",
       "  0.9992099996488887,\n",
       "  0.7804878048780487,\n",
       "  0.9079258567523802),\n",
       " ('SVM SMOTE Forward feature selection',\n",
       "  0.9983322214809873,\n",
       "  0.6215139442231076,\n",
       "  0.8972997154686297)]"
      ]
     },
     "execution_count": 30,
     "metadata": {},
     "output_type": "execute_result"
    }
   ],
   "source": [
    "all_results"
   ]
  },
  {
   "cell_type": "markdown",
   "metadata": {},
   "source": [
    "### Combination of Undersampling and Oversampling"
   ]
  },
  {
   "cell_type": "markdown",
   "metadata": {},
   "source": [
    "#### 1. SMOTETomek"
   ]
  },
  {
   "cell_type": "code",
   "execution_count": 119,
   "metadata": {},
   "outputs": [],
   "source": [
    "from imblearn.combine import SMOTETomek"
   ]
  },
  {
   "cell_type": "code",
   "execution_count": 120,
   "metadata": {},
   "outputs": [
    {
     "name": "stdout",
     "output_type": "stream",
     "text": [
      "SMOTE Tomek RCF Completed\n",
      "SMOTE Tomek Random Forest Selection Completed\n",
      "SMOTE Tomek Forward feature selection Completed\n"
     ]
    }
   ],
   "source": [
    "all_dataset['X_smote_tomek'],all_dataset['y_smote_tomek'] = SMOTETomek().fit_resample(X_train,y_train)\n",
    "training_testing_function(all_dataset['X_smote_tomek'],all_dataset['y_smote_tomek'],\"SMOTE Tomek\")"
   ]
  },
  {
   "cell_type": "code",
   "execution_count": 121,
   "metadata": {},
   "outputs": [
    {
     "data": {
      "text/plain": [
       "[('Random Undersample RCF',\n",
       "  0.9456830869702608,\n",
       "  0.052663808940600125,\n",
       "  0.9116757634398722,\n",
       "  array([[53782,  3082],\n",
       "         [   12,    86]], dtype=int64),\n",
       "  '              precision    recall  f1-score   support\\n\\n           0       1.00      0.95      0.97     56864\\n           1       0.03      0.88      0.05        98\\n\\n    accuracy                           0.95     56962\\n   macro avg       0.51      0.91      0.51     56962\\nweighted avg       1.00      0.95      0.97     56962\\n'),\n",
       " ('Random Undersample Random Forest  Selection',\n",
       "  0.9635370949053755,\n",
       "  0.07811806480248557,\n",
       "  0.9308046481113549,\n",
       "  array([[54797,  2067],\n",
       "         [   10,    88]], dtype=int64),\n",
       "  '              precision    recall  f1-score   support\\n\\n           0       1.00      0.96      0.98     56864\\n           1       0.04      0.90      0.08        98\\n\\n    accuracy                           0.96     56962\\n   macro avg       0.52      0.93      0.53     56962\\nweighted avg       1.00      0.96      0.98     56962\\n'),\n",
       " ('Random Undersample Forward feature selection',\n",
       "  0.9571293142796953,\n",
       "  0.06793893129770993,\n",
       "  0.932688484088064,\n",
       "  array([[54431,  2433],\n",
       "         [    9,    89]], dtype=int64),\n",
       "  '              precision    recall  f1-score   support\\n\\n           0       1.00      0.96      0.98     56864\\n           1       0.04      0.91      0.07        98\\n\\n    accuracy                           0.96     56962\\n   macro avg       0.52      0.93      0.52     56962\\nweighted avg       1.00      0.96      0.98     56962\\n'),\n",
       " ('IHT RCF',\n",
       "  0.9989817773252344,\n",
       "  0.7314814814814814,\n",
       "  0.9027183010232794,\n",
       "  array([[56825,    39],\n",
       "         [   19,    79]], dtype=int64),\n",
       "  '              precision    recall  f1-score   support\\n\\n           0       1.00      1.00      1.00     56864\\n           1       0.67      0.81      0.73        98\\n\\n    accuracy                           1.00     56962\\n   macro avg       0.83      0.90      0.87     56962\\nweighted avg       1.00      1.00      1.00     56962\\n'),\n",
       " ('IHT Random Forest  Selection',\n",
       "  0.9989466661985184,\n",
       "  0.7247706422018348,\n",
       "  0.9027007152044837,\n",
       "  array([[56823,    41],\n",
       "         [   19,    79]], dtype=int64),\n",
       "  '              precision    recall  f1-score   support\\n\\n           0       1.00      1.00      1.00     56864\\n           1       0.66      0.81      0.72        98\\n\\n    accuracy                           1.00     56962\\n   macro avg       0.83      0.90      0.86     56962\\nweighted avg       1.00      1.00      1.00     56962\\n'),\n",
       " ('IHT Forward feature selection',\n",
       "  0.9990871107053826,\n",
       "  0.7547169811320754,\n",
       "  0.9078643063865951,\n",
       "  array([[56830,    34],\n",
       "         [   18,    80]], dtype=int64),\n",
       "  '              precision    recall  f1-score   support\\n\\n           0       1.00      1.00      1.00     56864\\n           1       0.70      0.82      0.75        98\\n\\n    accuracy                           1.00     56962\\n   macro avg       0.85      0.91      0.88     56962\\nweighted avg       1.00      1.00      1.00     56962\\n'),\n",
       " ('Cluster centroids RCF',\n",
       "  0.7065236473438432,\n",
       "  0.011003963793409453,\n",
       "  0.8275426940613049,\n",
       "  array([[40152, 16712],\n",
       "         [    5,    93]], dtype=int64),\n",
       "  '              precision    recall  f1-score   support\\n\\n           0       1.00      0.71      0.83     56864\\n           1       0.01      0.95      0.01        98\\n\\n    accuracy                           0.71     56962\\n   macro avg       0.50      0.83      0.42     56962\\nweighted avg       1.00      0.71      0.83     56962\\n'),\n",
       " ('Cluster centroids Random Forest  Selection',\n",
       "  0.753748112776939,\n",
       "  0.012808783165599268,\n",
       "  0.8410091245276952,\n",
       "  array([[42844, 14020],\n",
       "         [    7,    91]], dtype=int64),\n",
       "  '              precision    recall  f1-score   support\\n\\n           0       1.00      0.75      0.86     56864\\n           1       0.01      0.93      0.01        98\\n\\n    accuracy                           0.75     56962\\n   macro avg       0.50      0.84      0.44     56962\\nweighted avg       1.00      0.75      0.86     56962\\n'),\n",
       " ('Cluster centroids Forward feature selection',\n",
       "  0.9210526315789473,\n",
       "  0.03683872349539516,\n",
       "  0.8993393115546724,\n",
       "  array([[52379,  4485],\n",
       "         [   12,    86]], dtype=int64),\n",
       "  '              precision    recall  f1-score   support\\n\\n           0       1.00      0.92      0.96     56864\\n           1       0.02      0.88      0.04        98\\n\\n    accuracy                           0.92     56962\\n   macro avg       0.51      0.90      0.50     56962\\nweighted avg       1.00      0.92      0.96     56962\\n'),\n",
       " ('Near Miss RCF',\n",
       "  0.3617499385555282,\n",
       "  0.005090033386240491,\n",
       "  0.6548587463967017,\n",
       "  array([[20513, 36351],\n",
       "         [    5,    93]], dtype=int64),\n",
       "  '              precision    recall  f1-score   support\\n\\n           0       1.00      0.36      0.53     56864\\n           1       0.00      0.95      0.01        98\\n\\n    accuracy                           0.36     56962\\n   macro avg       0.50      0.65      0.27     56962\\nweighted avg       1.00      0.36      0.53     56962\\n'),\n",
       " ('Near Miss Random Forest  Selection',\n",
       "  0.20069520030897792,\n",
       "  0.004068597427596465,\n",
       "  0.5741925955807197,\n",
       "  array([[11339, 45525],\n",
       "         [    5,    93]], dtype=int64),\n",
       "  '              precision    recall  f1-score   support\\n\\n           0       1.00      0.20      0.33     56864\\n           1       0.00      0.95      0.00        98\\n\\n    accuracy                           0.20     56962\\n   macro avg       0.50      0.57      0.17     56962\\nweighted avg       1.00      0.20      0.33     56962\\n'),\n",
       " ('Near Miss Forward feature selection',\n",
       "  0.18213896983954214,\n",
       "  0.003934061704902611,\n",
       "  0.5598052424402513,\n",
       "  array([[10283, 46581],\n",
       "         [    6,    92]], dtype=int64),\n",
       "  '              precision    recall  f1-score   support\\n\\n           0       1.00      0.18      0.31     56864\\n           1       0.00      0.94      0.00        98\\n\\n    accuracy                           0.18     56962\\n   macro avg       0.50      0.56      0.16     56962\\nweighted avg       1.00      0.18      0.31     56962\\n'),\n",
       " ('One Sided Selection RCF',\n",
       "  0.9993504441557529,\n",
       "  0.8082901554404144,\n",
       "  0.8978097042137058,\n",
       "  array([[56847,    17],\n",
       "         [   20,    78]], dtype=int64),\n",
       "  '              precision    recall  f1-score   support\\n\\n           0       1.00      1.00      1.00     56864\\n           1       0.82      0.80      0.81        98\\n\\n    accuracy                           1.00     56962\\n   macro avg       0.91      0.90      0.90     56962\\nweighted avg       1.00      1.00      1.00     56962\\n'),\n",
       " ('One Sided Selection Random Forest  Selection',\n",
       "  0.9992977774656788,\n",
       "  0.7938144329896908,\n",
       "  0.8926900775785834,\n",
       "  array([[56845,    19],\n",
       "         [   21,    77]], dtype=int64),\n",
       "  '              precision    recall  f1-score   support\\n\\n           0       1.00      1.00      1.00     56864\\n           1       0.80      0.79      0.79        98\\n\\n    accuracy                           1.00     56962\\n   macro avg       0.90      0.89      0.90     56962\\nweighted avg       1.00      1.00      1.00     56962\\n'),\n",
       " ('One Sided Selection Forward feature selection',\n",
       "  0.9993153330290369,\n",
       "  0.7979274611398963,\n",
       "  0.8926988704879814,\n",
       "  array([[56846,    18],\n",
       "         [   21,    77]], dtype=int64),\n",
       "  '              precision    recall  f1-score   support\\n\\n           0       1.00      1.00      1.00     56864\\n           1       0.81      0.79      0.80        98\\n\\n    accuracy                           1.00     56962\\n   macro avg       0.91      0.89      0.90     56962\\nweighted avg       1.00      1.00      1.00     56962\\n'),\n",
       " ('Tomek Links RCF',\n",
       "  0.9993328885923949,\n",
       "  0.8041237113402061,\n",
       "  0.8978009113043078,\n",
       "  array([[56846,    18],\n",
       "         [   20,    78]], dtype=int64),\n",
       "  '              precision    recall  f1-score   support\\n\\n           0       1.00      1.00      1.00     56864\\n           1       0.81      0.80      0.80        98\\n\\n    accuracy                           1.00     56962\\n   macro avg       0.91      0.90      0.90     56962\\nweighted avg       1.00      1.00      1.00     56962\\n'),\n",
       " ('Tomek Links Random Forest  Selection',\n",
       "  0.9992977774656788,\n",
       "  0.7959183673469388,\n",
       "  0.8977833254855122,\n",
       "  array([[56844,    20],\n",
       "         [   20,    78]], dtype=int64),\n",
       "  '              precision    recall  f1-score   support\\n\\n           0       1.00      1.00      1.00     56864\\n           1       0.80      0.80      0.80        98\\n\\n    accuracy                           1.00     56962\\n   macro avg       0.90      0.90      0.90     56962\\nweighted avg       1.00      1.00      1.00     56962\\n'),\n",
       " ('Tomek Links Forward feature selection',\n",
       "  0.9993153330290369,\n",
       "  0.7979274611398963,\n",
       "  0.8926988704879814,\n",
       "  array([[56846,    18],\n",
       "         [   21,    77]], dtype=int64),\n",
       "  '              precision    recall  f1-score   support\\n\\n           0       1.00      1.00      1.00     56864\\n           1       0.81      0.79      0.80        98\\n\\n    accuracy                           1.00     56962\\n   macro avg       0.91      0.89      0.90     56962\\nweighted avg       1.00      1.00      1.00     56962\\n'),\n",
       " ('Random Oversampled RCF',\n",
       "  0.9990519995786665,\n",
       "  0.7326732673267328,\n",
       "  0.8772872331262274,\n",
       "  array([[56834,    30],\n",
       "         [   24,    74]], dtype=int64),\n",
       "  '              precision    recall  f1-score   support\\n\\n           0       1.00      1.00      1.00     56864\\n           1       0.71      0.76      0.73        98\\n\\n    accuracy                           1.00     56962\\n   macro avg       0.86      0.88      0.87     56962\\nweighted avg       1.00      1.00      1.00     56962\\n'),\n",
       " ('Random Oversampled Random Forest  Selection',\n",
       "  0.9991573329588147,\n",
       "  0.7669902912621359,\n",
       "  0.9028062301172579,\n",
       "  array([[56835,    29],\n",
       "         [   19,    79]], dtype=int64),\n",
       "  '              precision    recall  f1-score   support\\n\\n           0       1.00      1.00      1.00     56864\\n           1       0.73      0.81      0.77        98\\n\\n    accuracy                           1.00     56962\\n   macro avg       0.87      0.90      0.88     56962\\nweighted avg       1.00      1.00      1.00     56962\\n'),\n",
       " ('Random Oversampled Forward feature selection',\n",
       "  0.9986306660580738,\n",
       "  0.6694915254237288,\n",
       "  0.9025424428353221,\n",
       "  array([[56805,    59],\n",
       "         [   19,    79]], dtype=int64),\n",
       "  '              precision    recall  f1-score   support\\n\\n           0       1.00      1.00      1.00     56864\\n           1       0.57      0.81      0.67        98\\n\\n    accuracy                           1.00     56962\\n   macro avg       0.79      0.90      0.83     56962\\nweighted avg       1.00      1.00      1.00     56962\\n'),\n",
       " ('SMOTE RCF',\n",
       "  0.9979635546504687,\n",
       "  0.5639097744360901,\n",
       "  0.8818353206504886,\n",
       "  array([[56771,    93],\n",
       "         [   23,    75]], dtype=int64),\n",
       "  '              precision    recall  f1-score   support\\n\\n           0       1.00      1.00      1.00     56864\\n           1       0.45      0.77      0.56        98\\n\\n    accuracy                           1.00     56962\\n   macro avg       0.72      0.88      0.78     56962\\nweighted avg       1.00      1.00      1.00     56962\\n'),\n",
       " ('SMOTE Random Forest  Selection',\n",
       "  0.9987711105649381,\n",
       "  0.7033898305084745,\n",
       "  0.9229857777382197,\n",
       "  array([[56809,    55],\n",
       "         [   15,    83]], dtype=int64),\n",
       "  '              precision    recall  f1-score   support\\n\\n           0       1.00      1.00      1.00     56864\\n           1       0.60      0.85      0.70        98\\n\\n    accuracy                           1.00     56962\\n   macro avg       0.80      0.92      0.85     56962\\nweighted avg       1.00      1.00      1.00     56962\\n'),\n",
       " ('SMOTE Forward feature selection',\n",
       "  0.9936975527544679,\n",
       "  0.31357552581261955,\n",
       "  0.915351379015309,\n",
       "  array([[56521,   343],\n",
       "         [   16,    82]], dtype=int64),\n",
       "  '              precision    recall  f1-score   support\\n\\n           0       1.00      0.99      1.00     56864\\n           1       0.19      0.84      0.31        98\\n\\n    accuracy                           0.99     56962\\n   macro avg       0.60      0.92      0.66     56962\\nweighted avg       1.00      0.99      1.00     56962\\n'),\n",
       " ('ADASYN RCF',\n",
       "  0.9979986657771848,\n",
       "  0.5869565217391304,\n",
       "  0.9124123939108564,\n",
       "  array([[56767,    97],\n",
       "         [   17,    81]], dtype=int64),\n",
       "  '              precision    recall  f1-score   support\\n\\n           0       1.00      1.00      1.00     56864\\n           1       0.46      0.83      0.59        98\\n\\n    accuracy                           1.00     56962\\n   macro avg       0.73      0.91      0.79     56962\\nweighted avg       1.00      1.00      1.00     56962\\n'),\n",
       " ('ADASYN Random Forest  Selection',\n",
       "  0.9979108879603946,\n",
       "  0.5765124555160143,\n",
       "  0.9123684293638671,\n",
       "  array([[56762,   102],\n",
       "         [   17,    81]], dtype=int64),\n",
       "  '              precision    recall  f1-score   support\\n\\n           0       1.00      1.00      1.00     56864\\n           1       0.44      0.83      0.58        98\\n\\n    accuracy                           1.00     56962\\n   macro avg       0.72      0.91      0.79     56962\\nweighted avg       1.00      1.00      1.00     56962\\n'),\n",
       " ('ADASYN Forward feature selection',\n",
       "  0.990625329166813,\n",
       "  0.2393162393162393,\n",
       "  0.9239991156845405,\n",
       "  array([[56344,   520],\n",
       "         [   14,    84]], dtype=int64),\n",
       "  '              precision    recall  f1-score   support\\n\\n           0       1.00      0.99      1.00     56864\\n           1       0.14      0.86      0.24        98\\n\\n    accuracy                           0.99     56962\\n   macro avg       0.57      0.92      0.62     56962\\nweighted avg       1.00      0.99      0.99     56962\\n'),\n",
       " ('Borderline SMOTE RCF',\n",
       "  0.9986657771847899,\n",
       "  0.6545454545454545,\n",
       "  0.8669072933056171,\n",
       "  array([[56814,    50],\n",
       "         [   26,    72]], dtype=int64),\n",
       "  '              precision    recall  f1-score   support\\n\\n           0       1.00      1.00      1.00     56864\\n           1       0.59      0.73      0.65        98\\n\\n    accuracy                           1.00     56962\\n   macro avg       0.79      0.87      0.83     56962\\nweighted avg       1.00      1.00      1.00     56962\\n'),\n",
       " ('Borderline SMOTE Random Forest  Selection',\n",
       "  0.9989291106351603,\n",
       "  0.726457399103139,\n",
       "  0.912878418108943,\n",
       "  array([[56820,    44],\n",
       "         [   17,    81]], dtype=int64),\n",
       "  '              precision    recall  f1-score   support\\n\\n           0       1.00      1.00      1.00     56864\\n           1       0.65      0.83      0.73        98\\n\\n    accuracy                           1.00     56962\\n   macro avg       0.82      0.91      0.86     56962\\nweighted avg       1.00      1.00      1.00     56962\\n'),\n",
       " ('Borderline SMOTE Forward feature selection',\n",
       "  0.9979811102138267,\n",
       "  0.5878136200716847,\n",
       "  0.9174968489083872,\n",
       "  array([[56765,    99],\n",
       "         [   16,    82]], dtype=int64),\n",
       "  '              precision    recall  f1-score   support\\n\\n           0       1.00      1.00      1.00     56864\\n           1       0.45      0.84      0.59        98\\n\\n    accuracy                           1.00     56962\\n   macro avg       0.73      0.92      0.79     56962\\nweighted avg       1.00      1.00      1.00     56962\\n'),\n",
       " ('SVM SMOTE RCF',\n",
       "  0.9987008883115059,\n",
       "  0.6605504587155964,\n",
       "  0.8669248791244127,\n",
       "  array([[56816,    48],\n",
       "         [   26,    72]], dtype=int64),\n",
       "  '              precision    recall  f1-score   support\\n\\n           0       1.00      1.00      1.00     56864\\n           1       0.60      0.73      0.66        98\\n\\n    accuracy                           1.00     56962\\n   macro avg       0.80      0.87      0.83     56962\\nweighted avg       1.00      1.00      1.00     56962\\n'),\n",
       " ('SVM SMOTE Random Forest  Selection',\n",
       "  0.9990344440153085,\n",
       "  0.7417840375586854,\n",
       "  0.9027446797514729,\n",
       "  array([[56828,    36],\n",
       "         [   19,    79]], dtype=int64),\n",
       "  '              precision    recall  f1-score   support\\n\\n           0       1.00      1.00      1.00     56864\\n           1       0.69      0.81      0.74        98\\n\\n    accuracy                           1.00     56962\\n   macro avg       0.84      0.90      0.87     56962\\nweighted avg       1.00      1.00      1.00     56962\\n'),\n",
       " ('SVM SMOTE Forward feature selection',\n",
       "  0.9979811102138267,\n",
       "  0.5787545787545787,\n",
       "  0.9022171051876012,\n",
       "  array([[56768,    96],\n",
       "         [   19,    79]], dtype=int64),\n",
       "  '              precision    recall  f1-score   support\\n\\n           0       1.00      1.00      1.00     56864\\n           1       0.45      0.81      0.58        98\\n\\n    accuracy                           1.00     56962\\n   macro avg       0.73      0.90      0.79     56962\\nweighted avg       1.00      1.00      1.00     56962\\n'),\n",
       " ('SMOTE Tomek RCF',\n",
       "  0.9977704434535304,\n",
       "  0.5448028673835125,\n",
       "  0.8868318465540409,\n",
       "  array([[56759,   105],\n",
       "         [   22,    76]], dtype=int64),\n",
       "  '              precision    recall  f1-score   support\\n\\n           0       1.00      1.00      1.00     56864\\n           1       0.42      0.78      0.54        98\\n\\n    accuracy                           1.00     56962\\n   macro avg       0.71      0.89      0.77     56962\\nweighted avg       1.00      1.00      1.00     56962\\n'),\n",
       " ('SMOTE Tomek Random Forest  Selection',\n",
       "  0.9987008883115059,\n",
       "  0.6942148760330579,\n",
       "  0.928043854007557,\n",
       "  array([[56804,    60],\n",
       "         [   14,    84]], dtype=int64),\n",
       "  '              precision    recall  f1-score   support\\n\\n           0       1.00      1.00      1.00     56864\\n           1       0.58      0.86      0.69        98\\n\\n    accuracy                           1.00     56962\\n   macro avg       0.79      0.93      0.85     56962\\nweighted avg       1.00      1.00      1.00     56962\\n'),\n",
       " ('SMOTE Tomek Forward feature selection',\n",
       "  0.9937677750079,\n",
       "  0.31334622823984526,\n",
       "  0.9102933027459718,\n",
       "  array([[56526,   338],\n",
       "         [   17,    81]], dtype=int64),\n",
       "  '              precision    recall  f1-score   support\\n\\n           0       1.00      0.99      1.00     56864\\n           1       0.19      0.83      0.31        98\\n\\n    accuracy                           0.99     56962\\n   macro avg       0.60      0.91      0.66     56962\\nweighted avg       1.00      0.99      1.00     56962\\n')]"
      ]
     },
     "execution_count": 121,
     "metadata": {},
     "output_type": "execute_result"
    }
   ],
   "source": [
    "all_results"
   ]
  },
  {
   "cell_type": "markdown",
   "metadata": {},
   "source": [
    "### Top 3 dataset-1 results wrt f1 score"
   ]
  },
  {
   "cell_type": "code",
   "execution_count": 125,
   "metadata": {},
   "outputs": [
    {
     "data": {
      "text/plain": [
       "[('One Sided Selection RCF',\n",
       "  0.9993504441557529,\n",
       "  0.8082901554404144,\n",
       "  0.8978097042137058,\n",
       "  array([[56847,    17],\n",
       "         [   20,    78]], dtype=int64),\n",
       "  '              precision    recall  f1-score   support\\n\\n           0       1.00      1.00      1.00     56864\\n           1       0.82      0.80      0.81        98\\n\\n    accuracy                           1.00     56962\\n   macro avg       0.91      0.90      0.90     56962\\nweighted avg       1.00      1.00      1.00     56962\\n'),\n",
       " ('Tomek Links RCF',\n",
       "  0.9993328885923949,\n",
       "  0.8041237113402061,\n",
       "  0.8978009113043078,\n",
       "  array([[56846,    18],\n",
       "         [   20,    78]], dtype=int64),\n",
       "  '              precision    recall  f1-score   support\\n\\n           0       1.00      1.00      1.00     56864\\n           1       0.81      0.80      0.80        98\\n\\n    accuracy                           1.00     56962\\n   macro avg       0.91      0.90      0.90     56962\\nweighted avg       1.00      1.00      1.00     56962\\n'),\n",
       " ('One Sided Selection Forward feature selection',\n",
       "  0.9993153330290369,\n",
       "  0.7979274611398963,\n",
       "  0.8926988704879814,\n",
       "  array([[56846,    18],\n",
       "         [   21,    77]], dtype=int64),\n",
       "  '              precision    recall  f1-score   support\\n\\n           0       1.00      1.00      1.00     56864\\n           1       0.81      0.79      0.80        98\\n\\n    accuracy                           1.00     56962\\n   macro avg       0.91      0.89      0.90     56962\\nweighted avg       1.00      1.00      1.00     56962\\n')]"
      ]
     },
     "execution_count": 125,
     "metadata": {},
     "output_type": "execute_result"
    }
   ],
   "source": [
    "top_3 = sorted(all_results, key=lambda x: x[2], reverse=True)[:3]\n",
    "top_3"
   ]
  },
  {
   "cell_type": "markdown",
   "metadata": {},
   "source": [
    "1. One Sided Selection RCF"
   ]
  },
  {
   "cell_type": "code",
   "execution_count": 126,
   "metadata": {},
   "outputs": [
    {
     "data": {
      "image/png": "[encoded data removed]",
      "text/plain": [
       "<Figure size 576x432 with 2 Axes>"
      ]
     },
     "metadata": {
      "needs_background": "light"
     },
     "output_type": "display_data"
    }
   ],
   "source": [
    "cf_matrix = top_3[0][4]\n",
    "\n",
    "group_names = ['True Neg','False Pos','False Neg','True Pos']\n",
    "group_counts = [\"{0:0.0f}\".format(value) for value in\n",
    "                cf_matrix.flatten()]\n",
    "\n",
    "labels = [f\"{v1}\\n{v2}\" for v1, v2 in\n",
    "          zip(group_names,group_counts)]\n",
    "labels = np.asarray(labels).reshape(2,2)\n",
    "plt.figure(figsize=(8,6))\n",
    "plt.title(\"Confusion matrix for One Sided Selection RCF\")\n",
    "sns.heatmap(cf_matrix, annot=labels, fmt='', cmap='Blues')\n",
    "plt.show();"
   ]
  },
  {
   "cell_type": "markdown",
   "metadata": {},
   "source": [
    "Classification report"
   ]
  },
  {
   "cell_type": "code",
   "execution_count": 127,
   "metadata": {},
   "outputs": [
    {
     "name": "stdout",
     "output_type": "stream",
     "text": [
      "              precision    recall  f1-score   support\n",
      "\n",
      "           0       1.00      1.00      1.00     56864\n",
      "           1       0.82      0.80      0.81        98\n",
      "\n",
      "    accuracy                           1.00     56962\n",
      "   macro avg       0.91      0.90      0.90     56962\n",
      "weighted avg       1.00      1.00      1.00     56962\n",
      "\n"
     ]
    }
   ],
   "source": [
    "print(top_3[0][5])"
   ]
  },
  {
   "cell_type": "markdown",
   "metadata": {},
   "source": [
    "2. Tomek Links RCF"
   ]
  },
  {
   "cell_type": "code",
   "execution_count": 128,
   "metadata": {},
   "outputs": [
    {
     "data": {
      "image/png": "[encoded data removed]",
      "text/plain": [
       "<Figure size 576x432 with 2 Axes>"
      ]
     },
     "metadata": {
      "needs_background": "light"
     },
     "output_type": "display_data"
    }
   ],
   "source": [
    "cf_matrix = top_3[1][4]\n",
    "\n",
    "group_names = ['True Neg','False Pos','False Neg','True Pos']\n",
    "group_counts = [\"{0:0.0f}\".format(value) for value in\n",
    "                cf_matrix.flatten()]\n",
    "\n",
    "labels = [f\"{v1}\\n{v2}\" for v1, v2 in\n",
    "          zip(group_names,group_counts)]\n",
    "labels = np.asarray(labels).reshape(2,2)\n",
    "plt.figure(figsize=(8,6))\n",
    "plt.title(\"Confusion matrix Tomek Links RCF\")\n",
    "sns.heatmap(cf_matrix, annot=labels, fmt='', cmap='Blues')\n",
    "plt.show();"
   ]
  },
  {
   "cell_type": "markdown",
   "metadata": {},
   "source": [
    "Classification report"
   ]
  },
  {
   "cell_type": "code",
   "execution_count": 129,
   "metadata": {},
   "outputs": [
    {
     "name": "stdout",
     "output_type": "stream",
     "text": [
      "              precision    recall  f1-score   support\n",
      "\n",
      "           0       1.00      1.00      1.00     56864\n",
      "           1       0.81      0.80      0.80        98\n",
      "\n",
      "    accuracy                           1.00     56962\n",
      "   macro avg       0.91      0.90      0.90     56962\n",
      "weighted avg       1.00      1.00      1.00     56962\n",
      "\n"
     ]
    }
   ],
   "source": [
    "print(top_3[1][5])"
   ]
  },
  {
   "cell_type": "markdown",
   "metadata": {},
   "source": [
    "3. One sided selection Forward feature selection"
   ]
  },
  {
   "cell_type": "code",
   "execution_count": 130,
   "metadata": {},
   "outputs": [
    {
     "data": {
      "image/png": "[encoded data removed]",
      "text/plain": [
       "<Figure size 576x432 with 2 Axes>"
      ]
     },
     "metadata": {
      "needs_background": "light"
     },
     "output_type": "display_data"
    }
   ],
   "source": [
    "cf_matrix = top_3[2][4]\n",
    "\n",
    "group_names = ['True Neg','False Pos','False Neg','True Pos']\n",
    "group_counts = [\"{0:0.0f}\".format(value) for value in\n",
    "                cf_matrix.flatten()]\n",
    "\n",
    "labels = [f\"{v1}\\n{v2}\" for v1, v2 in\n",
    "          zip(group_names,group_counts)]\n",
    "labels = np.asarray(labels).reshape(2,2)\n",
    "plt.figure(figsize=(8,6))\n",
    "plt.title(\"Confusion matrix for One Sided Selection Forward feature selection\")\n",
    "sns.heatmap(cf_matrix, annot=labels, fmt='', cmap='Blues')\n",
    "plt.show();"
   ]
  },
  {
   "cell_type": "markdown",
   "metadata": {},
   "source": [
    "Classification report"
   ]
  },
  {
   "cell_type": "code",
   "execution_count": 131,
   "metadata": {},
   "outputs": [
    {
     "name": "stdout",
     "output_type": "stream",
     "text": [
      "              precision    recall  f1-score   support\n",
      "\n",
      "           0       1.00      1.00      1.00     56864\n",
      "           1       0.81      0.79      0.80        98\n",
      "\n",
      "    accuracy                           1.00     56962\n",
      "   macro avg       0.91      0.89      0.90     56962\n",
      "weighted avg       1.00      1.00      1.00     56962\n",
      "\n"
     ]
    }
   ],
   "source": [
    "print(top_3[2][5])"
   ]
  },
  {
   "cell_type": "markdown",
   "metadata": {},
   "source": [
    "## Working with different dataset"
   ]
  },
  {
   "cell_type": "code",
   "execution_count": 49,
   "metadata": {
    "scrolled": true
   },
   "outputs": [
    {
     "data": {
      "text/html": [
       "<div>\n",
       "<style scoped>\n",
       "    .dataframe tbody tr th:only-of-type {\n",
       "        vertical-align: middle;\n",
       "    }\n",
       "\n",
       "    .dataframe tbody tr th {\n",
       "        vertical-align: top;\n",
       "    }\n",
       "\n",
       "    .dataframe thead th {\n",
       "        text-align: right;\n",
       "    }\n",
       "</style>\n",
       "<table border=\"1\" class=\"dataframe\">\n",
       "  <thead>\n",
       "    <tr style=\"text-align: right;\">\n",
       "      <th></th>\n",
       "      <th>step</th>\n",
       "      <th>type</th>\n",
       "      <th>amount</th>\n",
       "      <th>nameOrig</th>\n",
       "      <th>oldbalanceOrg</th>\n",
       "      <th>newbalanceOrig</th>\n",
       "      <th>nameDest</th>\n",
       "      <th>oldbalanceDest</th>\n",
       "      <th>newbalanceDest</th>\n",
       "      <th>isFraud</th>\n",
       "      <th>isFlaggedFraud</th>\n",
       "    </tr>\n",
       "  </thead>\n",
       "  <tbody>\n",
       "    <tr>\n",
       "      <th>0</th>\n",
       "      <td>1</td>\n",
       "      <td>PAYMENT</td>\n",
       "      <td>9839.64</td>\n",
       "      <td>C1231006815</td>\n",
       "      <td>170136.0</td>\n",
       "      <td>160296.36</td>\n",
       "      <td>M1979787155</td>\n",
       "      <td>0.0</td>\n",
       "      <td>0.0</td>\n",
       "      <td>0</td>\n",
       "      <td>0</td>\n",
       "    </tr>\n",
       "    <tr>\n",
       "      <th>1</th>\n",
       "      <td>1</td>\n",
       "      <td>PAYMENT</td>\n",
       "      <td>1864.28</td>\n",
       "      <td>C1666544295</td>\n",
       "      <td>21249.0</td>\n",
       "      <td>19384.72</td>\n",
       "      <td>M2044282225</td>\n",
       "      <td>0.0</td>\n",
       "      <td>0.0</td>\n",
       "      <td>0</td>\n",
       "      <td>0</td>\n",
       "    </tr>\n",
       "    <tr>\n",
       "      <th>2</th>\n",
       "      <td>1</td>\n",
       "      <td>TRANSFER</td>\n",
       "      <td>181.00</td>\n",
       "      <td>C1305486145</td>\n",
       "      <td>181.0</td>\n",
       "      <td>0.00</td>\n",
       "      <td>C553264065</td>\n",
       "      <td>0.0</td>\n",
       "      <td>0.0</td>\n",
       "      <td>1</td>\n",
       "      <td>0</td>\n",
       "    </tr>\n",
       "    <tr>\n",
       "      <th>3</th>\n",
       "      <td>1</td>\n",
       "      <td>CASH_OUT</td>\n",
       "      <td>181.00</td>\n",
       "      <td>C840083671</td>\n",
       "      <td>181.0</td>\n",
       "      <td>0.00</td>\n",
       "      <td>C38997010</td>\n",
       "      <td>21182.0</td>\n",
       "      <td>0.0</td>\n",
       "      <td>1</td>\n",
       "      <td>0</td>\n",
       "    </tr>\n",
       "    <tr>\n",
       "      <th>4</th>\n",
       "      <td>1</td>\n",
       "      <td>PAYMENT</td>\n",
       "      <td>11668.14</td>\n",
       "      <td>C2048537720</td>\n",
       "      <td>41554.0</td>\n",
       "      <td>29885.86</td>\n",
       "      <td>M1230701703</td>\n",
       "      <td>0.0</td>\n",
       "      <td>0.0</td>\n",
       "      <td>0</td>\n",
       "      <td>0</td>\n",
       "    </tr>\n",
       "  </tbody>\n",
       "</table>\n",
       "</div>"
      ],
      "text/plain": [
       "   step      type    amount     nameOrig  oldbalanceOrg  newbalanceOrig  \\\n",
       "0     1   PAYMENT   9839.64  C1231006815       170136.0       160296.36   \n",
       "1     1   PAYMENT   1864.28  C1666544295        21249.0        19384.72   \n",
       "2     1  TRANSFER    181.00  C1305486145          181.0            0.00   \n",
       "3     1  CASH_OUT    181.00   C840083671          181.0            0.00   \n",
       "4     1   PAYMENT  11668.14  C2048537720        41554.0        29885.86   \n",
       "\n",
       "      nameDest  oldbalanceDest  newbalanceDest  isFraud  isFlaggedFraud  \n",
       "0  M1979787155             0.0             0.0        0               0  \n",
       "1  M2044282225             0.0             0.0        0               0  \n",
       "2   C553264065             0.0             0.0        1               0  \n",
       "3    C38997010         21182.0             0.0        1               0  \n",
       "4  M1230701703             0.0             0.0        0               0  "
      ]
     },
     "execution_count": 49,
     "metadata": {},
     "output_type": "execute_result"
    }
   ],
   "source": [
    "dataset2 = pd.read_csv(\"dataset2.csv\")\n",
    "dataset2.head()"
   ]
  },
  {
   "cell_type": "code",
   "execution_count": 50,
   "metadata": {},
   "outputs": [
    {
     "data": {
      "text/plain": [
       "(6362620, 11)"
      ]
     },
     "execution_count": 50,
     "metadata": {},
     "output_type": "execute_result"
    }
   ],
   "source": [
    "dataset2.shape"
   ]
  },
  {
   "cell_type": "code",
   "execution_count": 51,
   "metadata": {},
   "outputs": [
    {
     "data": {
      "text/plain": [
       "False"
      ]
     },
     "execution_count": 51,
     "metadata": {},
     "output_type": "execute_result"
    }
   ],
   "source": [
    "dataset2.isnull().values.any()"
   ]
  },
  {
   "cell_type": "code",
   "execution_count": 52,
   "metadata": {},
   "outputs": [],
   "source": [
    "dataset2.drop(\"isFlaggedFraud\",axis=1,inplace=True)\n"
   ]
  },
  {
   "cell_type": "code",
   "execution_count": 53,
   "metadata": {},
   "outputs": [],
   "source": [
    "all_zero=list(dataset2.loc[dataset2[\"isFraud\"]==0].index)"
   ]
  },
  {
   "cell_type": "code",
   "execution_count": 54,
   "metadata": {},
   "outputs": [],
   "source": [
    "sample_zero = np.random.choice(all_zero,200000,replace=False)"
   ]
  },
  {
   "cell_type": "code",
   "execution_count": 55,
   "metadata": {},
   "outputs": [],
   "source": [
    "all_one=list(dataset2.loc[dataset2[\"isFraud\"]==1].index)"
   ]
  },
  {
   "cell_type": "code",
   "execution_count": 56,
   "metadata": {},
   "outputs": [],
   "source": [
    "selected_sample = np.concatenate([sample_zero,all_one])"
   ]
  },
  {
   "cell_type": "code",
   "execution_count": 57,
   "metadata": {},
   "outputs": [
    {
     "data": {
      "text/plain": [
       "108213"
      ]
     },
     "execution_count": 57,
     "metadata": {},
     "output_type": "execute_result"
    }
   ],
   "source": [
    "len(selected_sample)"
   ]
  },
  {
   "cell_type": "code",
   "execution_count": 58,
   "metadata": {},
   "outputs": [],
   "source": [
    "new_dataset2 = dataset2.loc[selected_sample]"
   ]
  },
  {
   "cell_type": "code",
   "execution_count": 59,
   "metadata": {},
   "outputs": [
    {
     "data": {
      "text/html": [
       "<div>\n",
       "<style scoped>\n",
       "    .dataframe tbody tr th:only-of-type {\n",
       "        vertical-align: middle;\n",
       "    }\n",
       "\n",
       "    .dataframe tbody tr th {\n",
       "        vertical-align: top;\n",
       "    }\n",
       "\n",
       "    .dataframe thead th {\n",
       "        text-align: right;\n",
       "    }\n",
       "</style>\n",
       "<table border=\"1\" class=\"dataframe\">\n",
       "  <thead>\n",
       "    <tr style=\"text-align: right;\">\n",
       "      <th></th>\n",
       "      <th>step</th>\n",
       "      <th>type</th>\n",
       "      <th>amount</th>\n",
       "      <th>nameOrig</th>\n",
       "      <th>oldbalanceOrg</th>\n",
       "      <th>newbalanceOrig</th>\n",
       "      <th>nameDest</th>\n",
       "      <th>oldbalanceDest</th>\n",
       "      <th>newbalanceDest</th>\n",
       "      <th>isFraud</th>\n",
       "    </tr>\n",
       "  </thead>\n",
       "  <tbody>\n",
       "    <tr>\n",
       "      <th>88009</th>\n",
       "      <td>10</td>\n",
       "      <td>CASH_OUT</td>\n",
       "      <td>69627.40</td>\n",
       "      <td>C1600630764</td>\n",
       "      <td>0.00</td>\n",
       "      <td>0.00</td>\n",
       "      <td>C1195378184</td>\n",
       "      <td>8602348.84</td>\n",
       "      <td>8671976.24</td>\n",
       "      <td>0</td>\n",
       "    </tr>\n",
       "    <tr>\n",
       "      <th>3557945</th>\n",
       "      <td>260</td>\n",
       "      <td>CASH_OUT</td>\n",
       "      <td>149294.68</td>\n",
       "      <td>C797350626</td>\n",
       "      <td>63569.00</td>\n",
       "      <td>0.00</td>\n",
       "      <td>C620614622</td>\n",
       "      <td>0.00</td>\n",
       "      <td>149294.68</td>\n",
       "      <td>0</td>\n",
       "    </tr>\n",
       "    <tr>\n",
       "      <th>5540034</th>\n",
       "      <td>382</td>\n",
       "      <td>PAYMENT</td>\n",
       "      <td>30295.74</td>\n",
       "      <td>C771505589</td>\n",
       "      <td>0.00</td>\n",
       "      <td>0.00</td>\n",
       "      <td>M1077474157</td>\n",
       "      <td>0.00</td>\n",
       "      <td>0.00</td>\n",
       "      <td>0</td>\n",
       "    </tr>\n",
       "    <tr>\n",
       "      <th>1097429</th>\n",
       "      <td>130</td>\n",
       "      <td>PAYMENT</td>\n",
       "      <td>27665.11</td>\n",
       "      <td>C1367351937</td>\n",
       "      <td>0.00</td>\n",
       "      <td>0.00</td>\n",
       "      <td>M250303556</td>\n",
       "      <td>0.00</td>\n",
       "      <td>0.00</td>\n",
       "      <td>0</td>\n",
       "    </tr>\n",
       "    <tr>\n",
       "      <th>646751</th>\n",
       "      <td>35</td>\n",
       "      <td>CASH_IN</td>\n",
       "      <td>208229.82</td>\n",
       "      <td>C1741646475</td>\n",
       "      <td>4201549.21</td>\n",
       "      <td>4409779.03</td>\n",
       "      <td>C405935487</td>\n",
       "      <td>316289.70</td>\n",
       "      <td>108059.88</td>\n",
       "      <td>0</td>\n",
       "    </tr>\n",
       "  </tbody>\n",
       "</table>\n",
       "</div>"
      ],
      "text/plain": [
       "         step      type     amount     nameOrig  oldbalanceOrg  \\\n",
       "88009      10  CASH_OUT   69627.40  C1600630764           0.00   \n",
       "3557945   260  CASH_OUT  149294.68   C797350626       63569.00   \n",
       "5540034   382   PAYMENT   30295.74   C771505589           0.00   \n",
       "1097429   130   PAYMENT   27665.11  C1367351937           0.00   \n",
       "646751     35   CASH_IN  208229.82  C1741646475     4201549.21   \n",
       "\n",
       "         newbalanceOrig     nameDest  oldbalanceDest  newbalanceDest  isFraud  \n",
       "88009              0.00  C1195378184      8602348.84      8671976.24        0  \n",
       "3557945            0.00   C620614622            0.00       149294.68        0  \n",
       "5540034            0.00  M1077474157            0.00            0.00        0  \n",
       "1097429            0.00   M250303556            0.00            0.00        0  \n",
       "646751       4409779.03   C405935487       316289.70       108059.88        0  "
      ]
     },
     "execution_count": 59,
     "metadata": {},
     "output_type": "execute_result"
    }
   ],
   "source": [
    "new_dataset2.head()"
   ]
  },
  {
   "cell_type": "code",
   "execution_count": 60,
   "metadata": {},
   "outputs": [],
   "source": [
    "y=new_dataset2['isFraud']\n",
    "new_dataset2.drop('isFraud',axis=1,inplace=True)\n",
    "X=new_dataset2"
   ]
  },
  {
   "cell_type": "markdown",
   "metadata": {},
   "source": [
    "Since the destination account balances being zero is a strong indicator of fraud, we do not impute the account balance (before the transaction is made) with a statistic or from a distribution with a subsequent adjustment for the amount transacted. Doing so would mask this indicator of fraud and make fraudulent transactions appear genuine. Instead, below we replace the value of 0 with -1 which will be more useful to a suitable machine-learning (ML) algorithm detecting fraud."
   ]
  },
  {
   "cell_type": "code",
   "execution_count": 61,
   "metadata": {},
   "outputs": [],
   "source": [
    "X.loc[(X.oldbalanceDest == 0) & (X.newbalanceDest == 0) & (X.amount != 0), ['oldbalanceDest', 'newbalanceDest']] = - 1"
   ]
  },
  {
   "cell_type": "markdown",
   "metadata": {},
   "source": [
    "Motivated by the possibility of zero-balances serving to differentiate between fraudulent and genuine transactions, we create 2 new features (columns) recording errors in the originating and destination accounts for each transaction. These new features turn out to be important in obtaining the best performance from the ML algorithm that we will finally use."
   ]
  },
  {
   "cell_type": "code",
   "execution_count": 63,
   "metadata": {},
   "outputs": [],
   "source": [
    "X['errorbalanceOrg'] = X.newbalanceOrig + X.amount - X.oldbalanceOrg\n",
    "X['errorbalanceDest'] = X.oldbalanceDest + X.amount - X.newbalanceDest"
   ]
  },
  {
   "cell_type": "code",
   "execution_count": 64,
   "metadata": {},
   "outputs": [],
   "source": [
    "# log transformed amount\n",
    "X['ln_amount'] = np.log1p(X['amount'])"
   ]
  },
  {
   "cell_type": "code",
   "execution_count": 65,
   "metadata": {},
   "outputs": [],
   "source": [
    "# correcting few negative errors\n",
    "X['errorbalanceOrg'] = X['errorbalanceOrg'].apply(lambda x: 0 if x < 0 else x)\n",
    "\n",
    "# log transformed origin account balance error\n",
    "X['ln_errorBalanceOrig'] = np.log1p(X['errorbalanceOrg'])"
   ]
  },
  {
   "cell_type": "code",
   "execution_count": 66,
   "metadata": {},
   "outputs": [],
   "source": [
    "X['errorbalanceDest'] = X['errorbalanceDest'].apply(lambda x: 0 if x < 0 else x)\n",
    "\n",
    "# log transformed origin account balance error\n",
    "X['ln_errorBalanceDest'] = np.log1p(X['errorbalanceDest'])"
   ]
  },
  {
   "cell_type": "code",
   "execution_count": 67,
   "metadata": {},
   "outputs": [
    {
     "data": {
      "text/plain": [
       "CASH_OUT    39344\n",
       "PAYMENT     33736\n",
       "CASH_IN     21981\n",
       "TRANSFER    12490\n",
       "DEBIT         662\n",
       "Name: type, dtype: int64"
      ]
     },
     "execution_count": 67,
     "metadata": {},
     "output_type": "execute_result"
    }
   ],
   "source": [
    "X[\"type\"].value_counts()"
   ]
  },
  {
   "cell_type": "code",
   "execution_count": 68,
   "metadata": {},
   "outputs": [],
   "source": [
    "X[\"type_transfer\"]=X[\"type\"].replace({'CASH_OUT':0,'PAYMENT':1,'CASH_IN':2,'TRANSFER':3,'DEBIT':4})"
   ]
  },
  {
   "cell_type": "code",
   "execution_count": 69,
   "metadata": {},
   "outputs": [],
   "source": [
    "X.drop(\"type\",axis=1,inplace=True)"
   ]
  },
  {
   "cell_type": "code",
   "execution_count": 70,
   "metadata": {},
   "outputs": [
    {
     "data": {
      "text/html": [
       "<div>\n",
       "<style scoped>\n",
       "    .dataframe tbody tr th:only-of-type {\n",
       "        vertical-align: middle;\n",
       "    }\n",
       "\n",
       "    .dataframe tbody tr th {\n",
       "        vertical-align: top;\n",
       "    }\n",
       "\n",
       "    .dataframe thead th {\n",
       "        text-align: right;\n",
       "    }\n",
       "</style>\n",
       "<table border=\"1\" class=\"dataframe\">\n",
       "  <thead>\n",
       "    <tr style=\"text-align: right;\">\n",
       "      <th></th>\n",
       "      <th>step</th>\n",
       "      <th>amount</th>\n",
       "      <th>nameOrig</th>\n",
       "      <th>oldbalanceOrg</th>\n",
       "      <th>newbalanceOrig</th>\n",
       "      <th>nameDest</th>\n",
       "      <th>oldbalanceDest</th>\n",
       "      <th>newbalanceDest</th>\n",
       "      <th>errorbalanceOrg</th>\n",
       "      <th>errorbalanceDest</th>\n",
       "      <th>ln_amount</th>\n",
       "      <th>ln_errorBalanceOrig</th>\n",
       "      <th>ln_errorBalanceDest</th>\n",
       "      <th>type_transfer</th>\n",
       "    </tr>\n",
       "  </thead>\n",
       "  <tbody>\n",
       "    <tr>\n",
       "      <th>88009</th>\n",
       "      <td>10</td>\n",
       "      <td>69627.40</td>\n",
       "      <td>C1600630764</td>\n",
       "      <td>0.00</td>\n",
       "      <td>0.00</td>\n",
       "      <td>C1195378184</td>\n",
       "      <td>8602348.84</td>\n",
       "      <td>8671976.24</td>\n",
       "      <td>69627.40</td>\n",
       "      <td>0.00</td>\n",
       "      <td>11.150928</td>\n",
       "      <td>11.150928</td>\n",
       "      <td>0.000000</td>\n",
       "      <td>0</td>\n",
       "    </tr>\n",
       "    <tr>\n",
       "      <th>3557945</th>\n",
       "      <td>260</td>\n",
       "      <td>149294.68</td>\n",
       "      <td>C797350626</td>\n",
       "      <td>63569.00</td>\n",
       "      <td>0.00</td>\n",
       "      <td>C620614622</td>\n",
       "      <td>0.00</td>\n",
       "      <td>149294.68</td>\n",
       "      <td>85725.68</td>\n",
       "      <td>0.00</td>\n",
       "      <td>11.913684</td>\n",
       "      <td>11.358919</td>\n",
       "      <td>0.000000</td>\n",
       "      <td>0</td>\n",
       "    </tr>\n",
       "    <tr>\n",
       "      <th>5540034</th>\n",
       "      <td>382</td>\n",
       "      <td>30295.74</td>\n",
       "      <td>C771505589</td>\n",
       "      <td>0.00</td>\n",
       "      <td>0.00</td>\n",
       "      <td>M1077474157</td>\n",
       "      <td>-1.00</td>\n",
       "      <td>-1.00</td>\n",
       "      <td>30295.74</td>\n",
       "      <td>30295.74</td>\n",
       "      <td>10.318795</td>\n",
       "      <td>10.318795</td>\n",
       "      <td>10.318795</td>\n",
       "      <td>1</td>\n",
       "    </tr>\n",
       "    <tr>\n",
       "      <th>1097429</th>\n",
       "      <td>130</td>\n",
       "      <td>27665.11</td>\n",
       "      <td>C1367351937</td>\n",
       "      <td>0.00</td>\n",
       "      <td>0.00</td>\n",
       "      <td>M250303556</td>\n",
       "      <td>-1.00</td>\n",
       "      <td>-1.00</td>\n",
       "      <td>27665.11</td>\n",
       "      <td>27665.11</td>\n",
       "      <td>10.227963</td>\n",
       "      <td>10.227963</td>\n",
       "      <td>10.227963</td>\n",
       "      <td>1</td>\n",
       "    </tr>\n",
       "    <tr>\n",
       "      <th>646751</th>\n",
       "      <td>35</td>\n",
       "      <td>208229.82</td>\n",
       "      <td>C1741646475</td>\n",
       "      <td>4201549.21</td>\n",
       "      <td>4409779.03</td>\n",
       "      <td>C405935487</td>\n",
       "      <td>316289.70</td>\n",
       "      <td>108059.88</td>\n",
       "      <td>416459.64</td>\n",
       "      <td>416459.64</td>\n",
       "      <td>12.246402</td>\n",
       "      <td>12.939547</td>\n",
       "      <td>12.939547</td>\n",
       "      <td>2</td>\n",
       "    </tr>\n",
       "  </tbody>\n",
       "</table>\n",
       "</div>"
      ],
      "text/plain": [
       "         step     amount     nameOrig  oldbalanceOrg  newbalanceOrig  \\\n",
       "88009      10   69627.40  C1600630764           0.00            0.00   \n",
       "3557945   260  149294.68   C797350626       63569.00            0.00   \n",
       "5540034   382   30295.74   C771505589           0.00            0.00   \n",
       "1097429   130   27665.11  C1367351937           0.00            0.00   \n",
       "646751     35  208229.82  C1741646475     4201549.21      4409779.03   \n",
       "\n",
       "            nameDest  oldbalanceDest  newbalanceDest  errorbalanceOrg  \\\n",
       "88009    C1195378184      8602348.84      8671976.24         69627.40   \n",
       "3557945   C620614622            0.00       149294.68         85725.68   \n",
       "5540034  M1077474157           -1.00           -1.00         30295.74   \n",
       "1097429   M250303556           -1.00           -1.00         27665.11   \n",
       "646751    C405935487       316289.70       108059.88        416459.64   \n",
       "\n",
       "         errorbalanceDest  ln_amount  ln_errorBalanceOrig  \\\n",
       "88009                0.00  11.150928            11.150928   \n",
       "3557945              0.00  11.913684            11.358919   \n",
       "5540034          30295.74  10.318795            10.318795   \n",
       "1097429          27665.11  10.227963            10.227963   \n",
       "646751          416459.64  12.246402            12.939547   \n",
       "\n",
       "         ln_errorBalanceDest  type_transfer  \n",
       "88009               0.000000              0  \n",
       "3557945             0.000000              0  \n",
       "5540034            10.318795              1  \n",
       "1097429            10.227963              1  \n",
       "646751             12.939547              2  "
      ]
     },
     "execution_count": 70,
     "metadata": {},
     "output_type": "execute_result"
    }
   ],
   "source": [
    "X.head()"
   ]
  },
  {
   "cell_type": "code",
   "execution_count": 71,
   "metadata": {},
   "outputs": [],
   "source": [
    "X.drop([\"amount\",\"errorbalanceOrg\",\"errorbalanceDest\"],axis=1,inplace=True)\n"
   ]
  },
  {
   "cell_type": "code",
   "execution_count": 72,
   "metadata": {},
   "outputs": [
    {
     "data": {
      "text/html": [
       "<div>\n",
       "<style scoped>\n",
       "    .dataframe tbody tr th:only-of-type {\n",
       "        vertical-align: middle;\n",
       "    }\n",
       "\n",
       "    .dataframe tbody tr th {\n",
       "        vertical-align: top;\n",
       "    }\n",
       "\n",
       "    .dataframe thead th {\n",
       "        text-align: right;\n",
       "    }\n",
       "</style>\n",
       "<table border=\"1\" class=\"dataframe\">\n",
       "  <thead>\n",
       "    <tr style=\"text-align: right;\">\n",
       "      <th></th>\n",
       "      <th>step</th>\n",
       "      <th>nameOrig</th>\n",
       "      <th>oldbalanceOrg</th>\n",
       "      <th>newbalanceOrig</th>\n",
       "      <th>nameDest</th>\n",
       "      <th>oldbalanceDest</th>\n",
       "      <th>newbalanceDest</th>\n",
       "      <th>ln_amount</th>\n",
       "      <th>ln_errorBalanceOrig</th>\n",
       "      <th>ln_errorBalanceDest</th>\n",
       "      <th>type_transfer</th>\n",
       "    </tr>\n",
       "  </thead>\n",
       "  <tbody>\n",
       "    <tr>\n",
       "      <th>88009</th>\n",
       "      <td>10</td>\n",
       "      <td>C1600630764</td>\n",
       "      <td>0.00</td>\n",
       "      <td>0.00</td>\n",
       "      <td>C1195378184</td>\n",
       "      <td>8602348.84</td>\n",
       "      <td>8671976.24</td>\n",
       "      <td>11.150928</td>\n",
       "      <td>11.150928</td>\n",
       "      <td>0.000000</td>\n",
       "      <td>0</td>\n",
       "    </tr>\n",
       "    <tr>\n",
       "      <th>3557945</th>\n",
       "      <td>260</td>\n",
       "      <td>C797350626</td>\n",
       "      <td>63569.00</td>\n",
       "      <td>0.00</td>\n",
       "      <td>C620614622</td>\n",
       "      <td>0.00</td>\n",
       "      <td>149294.68</td>\n",
       "      <td>11.913684</td>\n",
       "      <td>11.358919</td>\n",
       "      <td>0.000000</td>\n",
       "      <td>0</td>\n",
       "    </tr>\n",
       "    <tr>\n",
       "      <th>5540034</th>\n",
       "      <td>382</td>\n",
       "      <td>C771505589</td>\n",
       "      <td>0.00</td>\n",
       "      <td>0.00</td>\n",
       "      <td>M1077474157</td>\n",
       "      <td>-1.00</td>\n",
       "      <td>-1.00</td>\n",
       "      <td>10.318795</td>\n",
       "      <td>10.318795</td>\n",
       "      <td>10.318795</td>\n",
       "      <td>1</td>\n",
       "    </tr>\n",
       "    <tr>\n",
       "      <th>1097429</th>\n",
       "      <td>130</td>\n",
       "      <td>C1367351937</td>\n",
       "      <td>0.00</td>\n",
       "      <td>0.00</td>\n",
       "      <td>M250303556</td>\n",
       "      <td>-1.00</td>\n",
       "      <td>-1.00</td>\n",
       "      <td>10.227963</td>\n",
       "      <td>10.227963</td>\n",
       "      <td>10.227963</td>\n",
       "      <td>1</td>\n",
       "    </tr>\n",
       "    <tr>\n",
       "      <th>646751</th>\n",
       "      <td>35</td>\n",
       "      <td>C1741646475</td>\n",
       "      <td>4201549.21</td>\n",
       "      <td>4409779.03</td>\n",
       "      <td>C405935487</td>\n",
       "      <td>316289.70</td>\n",
       "      <td>108059.88</td>\n",
       "      <td>12.246402</td>\n",
       "      <td>12.939547</td>\n",
       "      <td>12.939547</td>\n",
       "      <td>2</td>\n",
       "    </tr>\n",
       "  </tbody>\n",
       "</table>\n",
       "</div>"
      ],
      "text/plain": [
       "         step     nameOrig  oldbalanceOrg  newbalanceOrig     nameDest  \\\n",
       "88009      10  C1600630764           0.00            0.00  C1195378184   \n",
       "3557945   260   C797350626       63569.00            0.00   C620614622   \n",
       "5540034   382   C771505589           0.00            0.00  M1077474157   \n",
       "1097429   130  C1367351937           0.00            0.00   M250303556   \n",
       "646751     35  C1741646475     4201549.21      4409779.03   C405935487   \n",
       "\n",
       "         oldbalanceDest  newbalanceDest  ln_amount  ln_errorBalanceOrig  \\\n",
       "88009        8602348.84      8671976.24  11.150928            11.150928   \n",
       "3557945            0.00       149294.68  11.913684            11.358919   \n",
       "5540034           -1.00           -1.00  10.318795            10.318795   \n",
       "1097429           -1.00           -1.00  10.227963            10.227963   \n",
       "646751        316289.70       108059.88  12.246402            12.939547   \n",
       "\n",
       "         ln_errorBalanceDest  type_transfer  \n",
       "88009               0.000000              0  \n",
       "3557945             0.000000              0  \n",
       "5540034            10.318795              1  \n",
       "1097429            10.227963              1  \n",
       "646751             12.939547              2  "
      ]
     },
     "execution_count": 72,
     "metadata": {},
     "output_type": "execute_result"
    }
   ],
   "source": [
    "X.head()"
   ]
  },
  {
   "cell_type": "code",
   "execution_count": 73,
   "metadata": {},
   "outputs": [],
   "source": [
    "X[\"type_name\"]=X.step"
   ]
  },
  {
   "cell_type": "code",
   "execution_count": 74,
   "metadata": {},
   "outputs": [],
   "source": [
    "X.loc[(X.nameOrig.str.contains(\"C\")) & (X.nameDest.str.contains(\"C\")),\"type_name\"]=0\n",
    "X.loc[(X.nameOrig.str.contains(\"C\")) & (X.nameDest.str.contains(\"M\")),\"type_name\"]=1\n",
    "X.loc[(X.nameOrig.str.contains(\"M\")) & (X.nameDest.str.contains(\"C\")),\"type_name\"]=2\n",
    "X.loc[(X.nameOrig.str.contains(\"M\")) & (X.nameDest.str.contains(\"M\")),\"type_name\"]=3"
   ]
  },
  {
   "cell_type": "code",
   "execution_count": 75,
   "metadata": {},
   "outputs": [
    {
     "data": {
      "text/html": [
       "<div>\n",
       "<style scoped>\n",
       "    .dataframe tbody tr th:only-of-type {\n",
       "        vertical-align: middle;\n",
       "    }\n",
       "\n",
       "    .dataframe tbody tr th {\n",
       "        vertical-align: top;\n",
       "    }\n",
       "\n",
       "    .dataframe thead th {\n",
       "        text-align: right;\n",
       "    }\n",
       "</style>\n",
       "<table border=\"1\" class=\"dataframe\">\n",
       "  <thead>\n",
       "    <tr style=\"text-align: right;\">\n",
       "      <th></th>\n",
       "      <th>step</th>\n",
       "      <th>nameOrig</th>\n",
       "      <th>oldbalanceOrg</th>\n",
       "      <th>newbalanceOrig</th>\n",
       "      <th>nameDest</th>\n",
       "      <th>oldbalanceDest</th>\n",
       "      <th>newbalanceDest</th>\n",
       "      <th>ln_amount</th>\n",
       "      <th>ln_errorBalanceOrig</th>\n",
       "      <th>ln_errorBalanceDest</th>\n",
       "      <th>type_transfer</th>\n",
       "      <th>type_name</th>\n",
       "    </tr>\n",
       "  </thead>\n",
       "  <tbody>\n",
       "    <tr>\n",
       "      <th>6362615</th>\n",
       "      <td>743</td>\n",
       "      <td>C786484425</td>\n",
       "      <td>339682.13</td>\n",
       "      <td>0.0</td>\n",
       "      <td>C776919290</td>\n",
       "      <td>0.00</td>\n",
       "      <td>339682.13</td>\n",
       "      <td>12.735768</td>\n",
       "      <td>0.0</td>\n",
       "      <td>0.000000e+00</td>\n",
       "      <td>0</td>\n",
       "      <td>0</td>\n",
       "    </tr>\n",
       "    <tr>\n",
       "      <th>6362616</th>\n",
       "      <td>743</td>\n",
       "      <td>C1529008245</td>\n",
       "      <td>6311409.28</td>\n",
       "      <td>0.0</td>\n",
       "      <td>C1881841831</td>\n",
       "      <td>-1.00</td>\n",
       "      <td>-1.00</td>\n",
       "      <td>15.657870</td>\n",
       "      <td>0.0</td>\n",
       "      <td>1.565787e+01</td>\n",
       "      <td>3</td>\n",
       "      <td>0</td>\n",
       "    </tr>\n",
       "    <tr>\n",
       "      <th>6362617</th>\n",
       "      <td>743</td>\n",
       "      <td>C1162922333</td>\n",
       "      <td>6311409.28</td>\n",
       "      <td>0.0</td>\n",
       "      <td>C1365125890</td>\n",
       "      <td>68488.84</td>\n",
       "      <td>6379898.11</td>\n",
       "      <td>15.657870</td>\n",
       "      <td>0.0</td>\n",
       "      <td>9.950331e-03</td>\n",
       "      <td>0</td>\n",
       "      <td>0</td>\n",
       "    </tr>\n",
       "    <tr>\n",
       "      <th>6362618</th>\n",
       "      <td>743</td>\n",
       "      <td>C1685995037</td>\n",
       "      <td>850002.52</td>\n",
       "      <td>0.0</td>\n",
       "      <td>C2080388513</td>\n",
       "      <td>-1.00</td>\n",
       "      <td>-1.00</td>\n",
       "      <td>13.652996</td>\n",
       "      <td>0.0</td>\n",
       "      <td>1.365300e+01</td>\n",
       "      <td>3</td>\n",
       "      <td>0</td>\n",
       "    </tr>\n",
       "    <tr>\n",
       "      <th>6362619</th>\n",
       "      <td>743</td>\n",
       "      <td>C1280323807</td>\n",
       "      <td>850002.52</td>\n",
       "      <td>0.0</td>\n",
       "      <td>C873221189</td>\n",
       "      <td>6510099.11</td>\n",
       "      <td>7360101.63</td>\n",
       "      <td>13.652996</td>\n",
       "      <td>0.0</td>\n",
       "      <td>9.313226e-10</td>\n",
       "      <td>0</td>\n",
       "      <td>0</td>\n",
       "    </tr>\n",
       "  </tbody>\n",
       "</table>\n",
       "</div>"
      ],
      "text/plain": [
       "         step     nameOrig  oldbalanceOrg  newbalanceOrig     nameDest  \\\n",
       "6362615   743   C786484425      339682.13             0.0   C776919290   \n",
       "6362616   743  C1529008245     6311409.28             0.0  C1881841831   \n",
       "6362617   743  C1162922333     6311409.28             0.0  C1365125890   \n",
       "6362618   743  C1685995037      850002.52             0.0  C2080388513   \n",
       "6362619   743  C1280323807      850002.52             0.0   C873221189   \n",
       "\n",
       "         oldbalanceDest  newbalanceDest  ln_amount  ln_errorBalanceOrig  \\\n",
       "6362615            0.00       339682.13  12.735768                  0.0   \n",
       "6362616           -1.00           -1.00  15.657870                  0.0   \n",
       "6362617        68488.84      6379898.11  15.657870                  0.0   \n",
       "6362618           -1.00           -1.00  13.652996                  0.0   \n",
       "6362619      6510099.11      7360101.63  13.652996                  0.0   \n",
       "\n",
       "         ln_errorBalanceDest  type_transfer  type_name  \n",
       "6362615         0.000000e+00              0          0  \n",
       "6362616         1.565787e+01              3          0  \n",
       "6362617         9.950331e-03              0          0  \n",
       "6362618         1.365300e+01              3          0  \n",
       "6362619         9.313226e-10              0          0  "
      ]
     },
     "execution_count": 75,
     "metadata": {},
     "output_type": "execute_result"
    }
   ],
   "source": [
    "X.tail()"
   ]
  },
  {
   "cell_type": "code",
   "execution_count": 76,
   "metadata": {},
   "outputs": [],
   "source": [
    "X.drop([\"nameOrig\",\"nameDest\"],axis=1,inplace=True)"
   ]
  },
  {
   "cell_type": "code",
   "execution_count": 77,
   "metadata": {},
   "outputs": [
    {
     "data": {
      "text/html": [
       "<div>\n",
       "<style scoped>\n",
       "    .dataframe tbody tr th:only-of-type {\n",
       "        vertical-align: middle;\n",
       "    }\n",
       "\n",
       "    .dataframe tbody tr th {\n",
       "        vertical-align: top;\n",
       "    }\n",
       "\n",
       "    .dataframe thead th {\n",
       "        text-align: right;\n",
       "    }\n",
       "</style>\n",
       "<table border=\"1\" class=\"dataframe\">\n",
       "  <thead>\n",
       "    <tr style=\"text-align: right;\">\n",
       "      <th></th>\n",
       "      <th>step</th>\n",
       "      <th>oldbalanceOrg</th>\n",
       "      <th>newbalanceOrig</th>\n",
       "      <th>oldbalanceDest</th>\n",
       "      <th>newbalanceDest</th>\n",
       "      <th>ln_amount</th>\n",
       "      <th>ln_errorBalanceOrig</th>\n",
       "      <th>ln_errorBalanceDest</th>\n",
       "      <th>type_transfer</th>\n",
       "      <th>type_name</th>\n",
       "    </tr>\n",
       "  </thead>\n",
       "  <tbody>\n",
       "    <tr>\n",
       "      <th>88009</th>\n",
       "      <td>10</td>\n",
       "      <td>0.00</td>\n",
       "      <td>0.00</td>\n",
       "      <td>8602348.84</td>\n",
       "      <td>8671976.24</td>\n",
       "      <td>11.150928</td>\n",
       "      <td>11.150928</td>\n",
       "      <td>0.000000</td>\n",
       "      <td>0</td>\n",
       "      <td>0</td>\n",
       "    </tr>\n",
       "    <tr>\n",
       "      <th>3557945</th>\n",
       "      <td>260</td>\n",
       "      <td>63569.00</td>\n",
       "      <td>0.00</td>\n",
       "      <td>0.00</td>\n",
       "      <td>149294.68</td>\n",
       "      <td>11.913684</td>\n",
       "      <td>11.358919</td>\n",
       "      <td>0.000000</td>\n",
       "      <td>0</td>\n",
       "      <td>0</td>\n",
       "    </tr>\n",
       "    <tr>\n",
       "      <th>5540034</th>\n",
       "      <td>382</td>\n",
       "      <td>0.00</td>\n",
       "      <td>0.00</td>\n",
       "      <td>-1.00</td>\n",
       "      <td>-1.00</td>\n",
       "      <td>10.318795</td>\n",
       "      <td>10.318795</td>\n",
       "      <td>10.318795</td>\n",
       "      <td>1</td>\n",
       "      <td>1</td>\n",
       "    </tr>\n",
       "    <tr>\n",
       "      <th>1097429</th>\n",
       "      <td>130</td>\n",
       "      <td>0.00</td>\n",
       "      <td>0.00</td>\n",
       "      <td>-1.00</td>\n",
       "      <td>-1.00</td>\n",
       "      <td>10.227963</td>\n",
       "      <td>10.227963</td>\n",
       "      <td>10.227963</td>\n",
       "      <td>1</td>\n",
       "      <td>1</td>\n",
       "    </tr>\n",
       "    <tr>\n",
       "      <th>646751</th>\n",
       "      <td>35</td>\n",
       "      <td>4201549.21</td>\n",
       "      <td>4409779.03</td>\n",
       "      <td>316289.70</td>\n",
       "      <td>108059.88</td>\n",
       "      <td>12.246402</td>\n",
       "      <td>12.939547</td>\n",
       "      <td>12.939547</td>\n",
       "      <td>2</td>\n",
       "      <td>0</td>\n",
       "    </tr>\n",
       "  </tbody>\n",
       "</table>\n",
       "</div>"
      ],
      "text/plain": [
       "         step  oldbalanceOrg  newbalanceOrig  oldbalanceDest  newbalanceDest  \\\n",
       "88009      10           0.00            0.00      8602348.84      8671976.24   \n",
       "3557945   260       63569.00            0.00            0.00       149294.68   \n",
       "5540034   382           0.00            0.00           -1.00           -1.00   \n",
       "1097429   130           0.00            0.00           -1.00           -1.00   \n",
       "646751     35     4201549.21      4409779.03       316289.70       108059.88   \n",
       "\n",
       "         ln_amount  ln_errorBalanceOrig  ln_errorBalanceDest  type_transfer  \\\n",
       "88009    11.150928            11.150928             0.000000              0   \n",
       "3557945  11.913684            11.358919             0.000000              0   \n",
       "5540034  10.318795            10.318795            10.318795              1   \n",
       "1097429  10.227963            10.227963            10.227963              1   \n",
       "646751   12.246402            12.939547            12.939547              2   \n",
       "\n",
       "         type_name  \n",
       "88009            0  \n",
       "3557945          0  \n",
       "5540034          1  \n",
       "1097429          1  \n",
       "646751           0  "
      ]
     },
     "execution_count": 77,
     "metadata": {},
     "output_type": "execute_result"
    }
   ],
   "source": [
    "X.head()"
   ]
  },
  {
   "cell_type": "code",
   "execution_count": 78,
   "metadata": {},
   "outputs": [],
   "source": [
    "#first proceed without step column\n",
    "step_col = X.step\n",
    "X.drop(\"step\",axis=1,inplace=True)\n"
   ]
  },
  {
   "cell_type": "code",
   "execution_count": 79,
   "metadata": {},
   "outputs": [
    {
     "data": {
      "text/html": [
       "<div>\n",
       "<style scoped>\n",
       "    .dataframe tbody tr th:only-of-type {\n",
       "        vertical-align: middle;\n",
       "    }\n",
       "\n",
       "    .dataframe tbody tr th {\n",
       "        vertical-align: top;\n",
       "    }\n",
       "\n",
       "    .dataframe thead th {\n",
       "        text-align: right;\n",
       "    }\n",
       "</style>\n",
       "<table border=\"1\" class=\"dataframe\">\n",
       "  <thead>\n",
       "    <tr style=\"text-align: right;\">\n",
       "      <th></th>\n",
       "      <th>oldbalanceOrg</th>\n",
       "      <th>newbalanceOrig</th>\n",
       "      <th>oldbalanceDest</th>\n",
       "      <th>newbalanceDest</th>\n",
       "      <th>ln_amount</th>\n",
       "      <th>ln_errorBalanceOrig</th>\n",
       "      <th>ln_errorBalanceDest</th>\n",
       "      <th>type_transfer</th>\n",
       "      <th>type_name</th>\n",
       "    </tr>\n",
       "  </thead>\n",
       "  <tbody>\n",
       "    <tr>\n",
       "      <th>88009</th>\n",
       "      <td>0.00</td>\n",
       "      <td>0.00</td>\n",
       "      <td>8602348.84</td>\n",
       "      <td>8671976.24</td>\n",
       "      <td>11.150928</td>\n",
       "      <td>11.150928</td>\n",
       "      <td>0.000000</td>\n",
       "      <td>0</td>\n",
       "      <td>0</td>\n",
       "    </tr>\n",
       "    <tr>\n",
       "      <th>3557945</th>\n",
       "      <td>63569.00</td>\n",
       "      <td>0.00</td>\n",
       "      <td>0.00</td>\n",
       "      <td>149294.68</td>\n",
       "      <td>11.913684</td>\n",
       "      <td>11.358919</td>\n",
       "      <td>0.000000</td>\n",
       "      <td>0</td>\n",
       "      <td>0</td>\n",
       "    </tr>\n",
       "    <tr>\n",
       "      <th>5540034</th>\n",
       "      <td>0.00</td>\n",
       "      <td>0.00</td>\n",
       "      <td>-1.00</td>\n",
       "      <td>-1.00</td>\n",
       "      <td>10.318795</td>\n",
       "      <td>10.318795</td>\n",
       "      <td>10.318795</td>\n",
       "      <td>1</td>\n",
       "      <td>1</td>\n",
       "    </tr>\n",
       "    <tr>\n",
       "      <th>1097429</th>\n",
       "      <td>0.00</td>\n",
       "      <td>0.00</td>\n",
       "      <td>-1.00</td>\n",
       "      <td>-1.00</td>\n",
       "      <td>10.227963</td>\n",
       "      <td>10.227963</td>\n",
       "      <td>10.227963</td>\n",
       "      <td>1</td>\n",
       "      <td>1</td>\n",
       "    </tr>\n",
       "    <tr>\n",
       "      <th>646751</th>\n",
       "      <td>4201549.21</td>\n",
       "      <td>4409779.03</td>\n",
       "      <td>316289.70</td>\n",
       "      <td>108059.88</td>\n",
       "      <td>12.246402</td>\n",
       "      <td>12.939547</td>\n",
       "      <td>12.939547</td>\n",
       "      <td>2</td>\n",
       "      <td>0</td>\n",
       "    </tr>\n",
       "  </tbody>\n",
       "</table>\n",
       "</div>"
      ],
      "text/plain": [
       "         oldbalanceOrg  newbalanceOrig  oldbalanceDest  newbalanceDest  \\\n",
       "88009             0.00            0.00      8602348.84      8671976.24   \n",
       "3557945       63569.00            0.00            0.00       149294.68   \n",
       "5540034           0.00            0.00           -1.00           -1.00   \n",
       "1097429           0.00            0.00           -1.00           -1.00   \n",
       "646751      4201549.21      4409779.03       316289.70       108059.88   \n",
       "\n",
       "         ln_amount  ln_errorBalanceOrig  ln_errorBalanceDest  type_transfer  \\\n",
       "88009    11.150928            11.150928             0.000000              0   \n",
       "3557945  11.913684            11.358919             0.000000              0   \n",
       "5540034  10.318795            10.318795            10.318795              1   \n",
       "1097429  10.227963            10.227963            10.227963              1   \n",
       "646751   12.246402            12.939547            12.939547              2   \n",
       "\n",
       "         type_name  \n",
       "88009            0  \n",
       "3557945          0  \n",
       "5540034          1  \n",
       "1097429          1  \n",
       "646751           0  "
      ]
     },
     "execution_count": 79,
     "metadata": {},
     "output_type": "execute_result"
    }
   ],
   "source": [
    "X.head()"
   ]
  },
  {
   "cell_type": "code",
   "execution_count": 80,
   "metadata": {},
   "outputs": [],
   "source": [
    "# dividing into training and testing"
   ]
  },
  {
   "cell_type": "code",
   "execution_count": 81,
   "metadata": {},
   "outputs": [],
   "source": [
    "X_train, X_test, y_train, y_test = train_test_split(X, y, test_size = 0.20, random_state = 0, stratify = y)"
   ]
  },
  {
   "cell_type": "code",
   "execution_count": 82,
   "metadata": {},
   "outputs": [
    {
     "data": {
      "text/plain": [
       "False"
      ]
     },
     "execution_count": 82,
     "metadata": {},
     "output_type": "execute_result"
    }
   ],
   "source": [
    "X.isnull().values.any()"
   ]
  },
  {
   "cell_type": "code",
   "execution_count": null,
   "metadata": {
    "scrolled": true
   },
   "outputs": [],
   "source": [
    "cols=[\"oldbalanceOrg\",\"newbalanceOrig\",\"oldbalanceDest\",\"newbalanceDest\",\"ln_amount\",\"ln_errorBalanceOrig\",\"ln_errorBalanceDest\"]\n",
    "for c in cols:\n",
    "    ss = StandardScaler()\n",
    "    ss.fit(X_train.loc[:,str(c)].values.reshape(-1,1))\n",
    "    transformed1 = ss.transform(X_train.loc[:,str(c)].values.reshape(-1,1))\n",
    "    print(transformed1.shape)\n",
    "    X_train[\"scaled_\"+str(c)] = transformed1\n",
    "    X_train.drop(c,axis=1,inplace=True)\n",
    "    transformed2 = ss.transform(X_test.loc[:,str(c)].values.reshape(-1,1))\n",
    "    X_test[\"scaled_\"+str(c)] = transformed2\n",
    "    X_test.drop(c,axis=1,inplace=True)\n",
    "    "
   ]
  },
  {
   "cell_type": "code",
   "execution_count": 84,
   "metadata": {},
   "outputs": [
    {
     "data": {
      "text/html": [
       "<div>\n",
       "<style scoped>\n",
       "    .dataframe tbody tr th:only-of-type {\n",
       "        vertical-align: middle;\n",
       "    }\n",
       "\n",
       "    .dataframe tbody tr th {\n",
       "        vertical-align: top;\n",
       "    }\n",
       "\n",
       "    .dataframe thead th {\n",
       "        text-align: right;\n",
       "    }\n",
       "</style>\n",
       "<table border=\"1\" class=\"dataframe\">\n",
       "  <thead>\n",
       "    <tr style=\"text-align: right;\">\n",
       "      <th></th>\n",
       "      <th>type_transfer</th>\n",
       "      <th>type_name</th>\n",
       "      <th>scaled_oldbalanceOrg</th>\n",
       "      <th>scaled_newbalanceOrig</th>\n",
       "      <th>scaled_oldbalanceDest</th>\n",
       "      <th>scaled_newbalanceDest</th>\n",
       "      <th>scaled_ln_amount</th>\n",
       "      <th>scaled_ln_errorBalanceOrig</th>\n",
       "      <th>scaled_ln_errorBalanceDest</th>\n",
       "    </tr>\n",
       "  </thead>\n",
       "  <tbody>\n",
       "    <tr>\n",
       "      <th>6037051</th>\n",
       "      <td>0</td>\n",
       "      <td>0</td>\n",
       "      <td>-0.303450</td>\n",
       "      <td>-0.281956</td>\n",
       "      <td>-0.144127</td>\n",
       "      <td>-0.153723</td>\n",
       "      <td>0.165922</td>\n",
       "      <td>0.568628</td>\n",
       "      <td>-1.087746</td>\n",
       "    </tr>\n",
       "    <tr>\n",
       "      <th>3999924</th>\n",
       "      <td>0</td>\n",
       "      <td>0</td>\n",
       "      <td>-0.303960</td>\n",
       "      <td>-0.281956</td>\n",
       "      <td>-0.050936</td>\n",
       "      <td>-0.023459</td>\n",
       "      <td>0.767283</td>\n",
       "      <td>0.788869</td>\n",
       "      <td>-1.087746</td>\n",
       "    </tr>\n",
       "    <tr>\n",
       "      <th>6194797</th>\n",
       "      <td>3</td>\n",
       "      <td>0</td>\n",
       "      <td>0.133850</td>\n",
       "      <td>-0.281956</td>\n",
       "      <td>-0.308519</td>\n",
       "      <td>-0.323733</td>\n",
       "      <td>1.616743</td>\n",
       "      <td>-1.576486</td>\n",
       "      <td>1.510104</td>\n",
       "    </tr>\n",
       "    <tr>\n",
       "      <th>580217</th>\n",
       "      <td>0</td>\n",
       "      <td>0</td>\n",
       "      <td>-0.303960</td>\n",
       "      <td>-0.281956</td>\n",
       "      <td>-0.248970</td>\n",
       "      <td>0.059103</td>\n",
       "      <td>0.271052</td>\n",
       "      <td>0.610026</td>\n",
       "      <td>-1.087746</td>\n",
       "    </tr>\n",
       "    <tr>\n",
       "      <th>1302959</th>\n",
       "      <td>2</td>\n",
       "      <td>0</td>\n",
       "      <td>6.033835</td>\n",
       "      <td>6.289040</td>\n",
       "      <td>0.656706</td>\n",
       "      <td>0.502178</td>\n",
       "      <td>0.554512</td>\n",
       "      <td>0.843732</td>\n",
       "      <td>1.265746</td>\n",
       "    </tr>\n",
       "  </tbody>\n",
       "</table>\n",
       "</div>"
      ],
      "text/plain": [
       "         type_transfer  type_name  scaled_oldbalanceOrg  \\\n",
       "6037051              0          0             -0.303450   \n",
       "3999924              0          0             -0.303960   \n",
       "6194797              3          0              0.133850   \n",
       "580217               0          0             -0.303960   \n",
       "1302959              2          0              6.033835   \n",
       "\n",
       "         scaled_newbalanceOrig  scaled_oldbalanceDest  scaled_newbalanceDest  \\\n",
       "6037051              -0.281956              -0.144127              -0.153723   \n",
       "3999924              -0.281956              -0.050936              -0.023459   \n",
       "6194797              -0.281956              -0.308519              -0.323733   \n",
       "580217               -0.281956              -0.248970               0.059103   \n",
       "1302959               6.289040               0.656706               0.502178   \n",
       "\n",
       "         scaled_ln_amount  scaled_ln_errorBalanceOrig  \\\n",
       "6037051          0.165922                    0.568628   \n",
       "3999924          0.767283                    0.788869   \n",
       "6194797          1.616743                   -1.576486   \n",
       "580217           0.271052                    0.610026   \n",
       "1302959          0.554512                    0.843732   \n",
       "\n",
       "         scaled_ln_errorBalanceDest  \n",
       "6037051                   -1.087746  \n",
       "3999924                   -1.087746  \n",
       "6194797                    1.510104  \n",
       "580217                    -1.087746  \n",
       "1302959                    1.265746  "
      ]
     },
     "execution_count": 84,
     "metadata": {},
     "output_type": "execute_result"
    }
   ],
   "source": [
    "X_train.head()"
   ]
  },
  {
   "cell_type": "markdown",
   "metadata": {},
   "source": [
    "#### 1. Random Undersample"
   ]
  },
  {
   "cell_type": "code",
   "execution_count": 44,
   "metadata": {},
   "outputs": [
    {
     "name": "stdout",
     "output_type": "stream",
     "text": [
      "Counter({0: 6570, 1: 6570})\n"
     ]
    }
   ],
   "source": [
    "undersample = RandomUnderSampler(sampling_strategy='majority')\n",
    "# fit and apply the transform\n",
    "all_dataset[\"X_train_undersample_dataset2\"], all_dataset[\"y_train_undersample_dataset2\"] = undersample.fit_resample(X_train, y_train)\n",
    "# summarize class distribution\n",
    "print(Counter(all_dataset[\"y_train_undersample_dataset2\"]))"
   ]
  },
  {
   "cell_type": "code",
   "execution_count": 45,
   "metadata": {},
   "outputs": [
    {
     "name": "stdout",
     "output_type": "stream",
     "text": [
      "Random Undersample dataset 2 RCF Completed\n",
      "Random Undersample dataset 2 Random Forest Selection Completed\n",
      "Random Undersample dataset 2 Forward feature selection Completed\n"
     ]
    }
   ],
   "source": [
    "training_testing_function(all_dataset[\"X_train_undersample_dataset2\"],all_dataset[\"y_train_undersample_dataset2\"],\"Random Undersample dataset 2\")"
   ]
  },
  {
   "cell_type": "markdown",
   "metadata": {},
   "source": [
    "#### 2. Instance Hardness Threshold"
   ]
  },
  {
   "cell_type": "code",
   "execution_count": 46,
   "metadata": {},
   "outputs": [],
   "source": [
    "from imblearn.under_sampling import InstanceHardnessThreshold"
   ]
  },
  {
   "cell_type": "code",
   "execution_count": 47,
   "metadata": {},
   "outputs": [
    {
     "name": "stdout",
     "output_type": "stream",
     "text": [
      "Resampled dataset shape Counter({0: 158431, 1: 6570})\n"
     ]
    }
   ],
   "source": [
    "iht = InstanceHardnessThreshold(sampling_strategy='majority', random_state=42)\n",
    "all_dataset[\"X_train_res_dataset2\"], all_dataset[\"y_train_res_dataset2\"] = iht.fit_resample(X_train, y_train)\n",
    "print('Resampled dataset shape %s' % Counter(all_dataset[\"y_train_res_dataset2\"]))"
   ]
  },
  {
   "cell_type": "code",
   "execution_count": 48,
   "metadata": {},
   "outputs": [
    {
     "name": "stdout",
     "output_type": "stream",
     "text": [
      "IHT dataset 2 RCF Completed\n",
      "IHT dataset 2 Random Forest Selection Completed\n",
      "IHT dataset 2 Forward feature selection Completed\n"
     ]
    }
   ],
   "source": [
    "training_testing_function(all_dataset[\"X_train_res_dataset2\"],all_dataset[\"y_train_res_dataset2\"],\"IHT dataset 2\")"
   ]
  },
  {
   "cell_type": "markdown",
   "metadata": {},
   "source": [
    "#### 3. Cluster Centroid"
   ]
  },
  {
   "cell_type": "code",
   "execution_count": 46,
   "metadata": {},
   "outputs": [
    {
     "data": {
      "text/plain": [
       "0    160000\n",
       "1      6570\n",
       "Name: isFraud, dtype: int64"
      ]
     },
     "execution_count": 46,
     "metadata": {},
     "output_type": "execute_result"
    }
   ],
   "source": [
    "y_train.value_counts()"
   ]
  },
  {
   "cell_type": "code",
   "execution_count": 47,
   "metadata": {},
   "outputs": [],
   "source": [
    "from imblearn.under_sampling import ClusterCentroids"
   ]
  },
  {
   "cell_type": "code",
   "execution_count": 85,
   "metadata": {},
   "outputs": [],
   "source": [
    "all_dataset[\"X_cluster_centroids_dataset2\"],all_dataset[\"y_cluster_centroids_dataset2\"]  = ClusterCentroids().fit_resample(X_train,y_train)"
   ]
  },
  {
   "cell_type": "code",
   "execution_count": 86,
   "metadata": {},
   "outputs": [
    {
     "name": "stdout",
     "output_type": "stream",
     "text": [
      "Cluster centroids dataset 2 RCF Completed\n",
      "Cluster centroids dataset 2 Random Forest Selection Completed\n",
      "Cluster centroids dataset 2 Forward feature selection Completed\n"
     ]
    }
   ],
   "source": [
    "training_testing_function(all_dataset[\"X_cluster_centroids_dataset2\"],all_dataset[\"y_cluster_centroids_dataset2\"],\"Cluster centroids dataset 2\")"
   ]
  },
  {
   "cell_type": "code",
   "execution_count": 87,
   "metadata": {},
   "outputs": [
    {
     "data": {
      "text/plain": [
       "[('Tomek Links dataset 2 RCF',\n",
       "  0.9974785678265254,\n",
       "  0.9689073141841872,\n",
       "  0.996644750456482,\n",
       "  array([[39902,    98],\n",
       "         [    7,  1636]], dtype=int64),\n",
       "  '              precision    recall  f1-score   support\\n\\n           0       1.00      1.00      1.00     40000\\n           1       0.94      1.00      0.97      1643\\n\\n    accuracy                           1.00     41643\\n   macro avg       0.97      1.00      0.98     41643\\nweighted avg       1.00      1.00      1.00     41643\\n'),\n",
       " ('Tomek Links dataset 2 Random Forest  Selection',\n",
       "  0.9997358499627789,\n",
       "  0.9966432712847115,\n",
       "  0.9969442863664029,\n",
       "  array([[39999,     1],\n",
       "         [   10,  1633]], dtype=int64),\n",
       "  '              precision    recall  f1-score   support\\n\\n           0       1.00      1.00      1.00     40000\\n           1       1.00      0.99      1.00      1643\\n\\n    accuracy                           1.00     41643\\n   macro avg       1.00      1.00      1.00     41643\\nweighted avg       1.00      1.00      1.00     41643\\n'),\n",
       " ('Tomek Links dataset 2 Forward feature selection',\n",
       "  0.9972864587085465,\n",
       "  0.9666174298375183,\n",
       "  0.9965447504564819,\n",
       "  array([[39894,   106],\n",
       "         [    7,  1636]], dtype=int64),\n",
       "  '              precision    recall  f1-score   support\\n\\n           0       1.00      1.00      1.00     40000\\n           1       0.94      1.00      0.97      1643\\n\\n    accuracy                           1.00     41643\\n   macro avg       0.97      1.00      0.98     41643\\nweighted avg       1.00      1.00      1.00     41643\\n'),\n",
       " ('Cluster centroids dataset 2 RCF',\n",
       "  0.9684886568405489,\n",
       "  0.8279515640766902,\n",
       "  0.9823913572732806,\n",
       "  array([[19320,   680],\n",
       "         [    2,  1641]], dtype=int64),\n",
       "  '              precision    recall  f1-score   support\\n\\n           0       1.00      0.97      0.98     20000\\n           1       0.71      1.00      0.83      1643\\n\\n    accuracy                           0.97     21643\\n   macro avg       0.85      0.98      0.91     21643\\nweighted avg       0.98      0.97      0.97     21643\\n'),\n",
       " ('Cluster centroids dataset 2 Random Forest  Selection',\n",
       "  0.9474194889802707,\n",
       "  0.7425339366515837,\n",
       "  0.9709913572732807,\n",
       "  array([[18864,  1136],\n",
       "         [    2,  1641]], dtype=int64),\n",
       "  '              precision    recall  f1-score   support\\n\\n           0       1.00      0.94      0.97     20000\\n           1       0.59      1.00      0.74      1643\\n\\n    accuracy                           0.95     21643\\n   macro avg       0.80      0.97      0.86     21643\\nweighted avg       0.97      0.95      0.95     21643\\n'),\n",
       " ('Cluster centroids dataset 2 Forward feature selection',\n",
       "  0.9767592293120178,\n",
       "  0.8669664110023804,\n",
       "  0.9863077145465611,\n",
       "  array([[19501,   499],\n",
       "         [    4,  1639]], dtype=int64),\n",
       "  '              precision    recall  f1-score   support\\n\\n           0       1.00      0.98      0.99     20000\\n           1       0.77      1.00      0.87      1643\\n\\n    accuracy                           0.98     21643\\n   macro avg       0.88      0.99      0.93     21643\\nweighted avg       0.98      0.98      0.98     21643\\n')]"
      ]
     },
     "execution_count": 87,
     "metadata": {},
     "output_type": "execute_result"
    }
   ],
   "source": [
    "all_results"
   ]
  },
  {
   "cell_type": "markdown",
   "metadata": {},
   "source": [
    "#### 4. Near Miss"
   ]
  },
  {
   "cell_type": "code",
   "execution_count": 49,
   "metadata": {},
   "outputs": [],
   "source": [
    "from imblearn.under_sampling import NearMiss"
   ]
  },
  {
   "cell_type": "code",
   "execution_count": 50,
   "metadata": {},
   "outputs": [
    {
     "name": "stdout",
     "output_type": "stream",
     "text": [
      "Near Miss dataset 2 RCF Completed\n",
      "Near Miss dataset 2 Random Forest Selection Completed\n"
     ]
    },
    {
     "name": "stderr",
     "output_type": "stream",
     "text": [
      "C:\\Users\\Anuj\\Miniconda3\\envs\\condaenv\\lib\\site-packages\\sklearn\\feature_selection\\_univariate_selection.py:115: UserWarning: Features [1] are constant.\n",
      "  UserWarning)\n",
      "C:\\Users\\Anuj\\Miniconda3\\envs\\condaenv\\lib\\site-packages\\sklearn\\feature_selection\\_univariate_selection.py:116: RuntimeWarning: invalid value encountered in true_divide\n",
      "  f = msb / msw\n"
     ]
    },
    {
     "name": "stdout",
     "output_type": "stream",
     "text": [
      "Near Miss dataset 2 Forward feature selection Completed\n"
     ]
    }
   ],
   "source": [
    "all_dataset['X_near_miss_dataset2'],all_dataset['y_near_miss_dataset2'] = NearMiss().fit_resample(X_train,y_train)\n",
    "training_testing_function(all_dataset['X_near_miss_dataset2'],all_dataset['y_near_miss_dataset2'],\"Near Miss dataset 2\")"
   ]
  },
  {
   "cell_type": "code",
   "execution_count": 67,
   "metadata": {},
   "outputs": [
    {
     "data": {
      "text/plain": [
       "array([[0],\n",
       "       [0],\n",
       "       [0],\n",
       "       ...,\n",
       "       [1],\n",
       "       [1],\n",
       "       [1]], dtype=int64)"
      ]
     },
     "execution_count": 67,
     "metadata": {},
     "output_type": "execute_result"
    }
   ],
   "source": [
    "all_dataset['y_near_miss_dataset2'].values"
   ]
  },
  {
   "cell_type": "code",
   "execution_count": null,
   "metadata": {},
   "outputs": [],
   "source": [
    "all_results"
   ]
  },
  {
   "cell_type": "markdown",
   "metadata": {},
   "source": [
    "#### 5. One Sided Selection"
   ]
  },
  {
   "cell_type": "code",
   "execution_count": 51,
   "metadata": {},
   "outputs": [],
   "source": [
    "from imblearn.under_sampling import OneSidedSelection"
   ]
  },
  {
   "cell_type": "code",
   "execution_count": 52,
   "metadata": {},
   "outputs": [
    {
     "name": "stdout",
     "output_type": "stream",
     "text": [
      "One Sided Selection dataset 2 RCF Completed\n",
      "One Sided Selection dataset 2 Random Forest Selection Completed\n",
      "One Sided Selection dataset 2 Forward feature selection Completed\n"
     ]
    }
   ],
   "source": [
    "all_dataset['X_one_sided_selection_dataset2'],all_dataset['y_one_sided_selection_dataset2'] = OneSidedSelection().fit_resample(X_train,y_train)\n",
    "training_testing_function(all_dataset['X_one_sided_selection_dataset2'],all_dataset['y_one_sided_selection_dataset2'],\"One Sided Selection dataset 2\")"
   ]
  },
  {
   "cell_type": "code",
   "execution_count": 72,
   "metadata": {},
   "outputs": [
    {
     "data": {
      "text/plain": [
       "[('Near Miss dataset 2 RCF',\n",
       "  0.4844511682635737,\n",
       "  0.12095156205216395,\n",
       "  0.6831951536822884),\n",
       " ('Near Miss dataset 2 Random Forest  Selection',\n",
       "  0.33410176980524936,\n",
       "  0.09609492144207575,\n",
       "  0.6040571895922093),\n",
       " ('Near Miss dataset 2 Forward feature selection',\n",
       "  0.3651514059986072,\n",
       "  0.10392163508795717,\n",
       "  0.6374371500304321),\n",
       " ('Near Miss dataset 2 RCF',\n",
       "  0.4844511682635737,\n",
       "  0.12095156205216395,\n",
       "  0.6831951536822884),\n",
       " ('Near Miss dataset 2 Random Forest  Selection',\n",
       "  0.331844487668996,\n",
       "  0.09580137787599116,\n",
       "  0.6028821895922094),\n",
       " ('Near Miss dataset 2 Forward feature selection',\n",
       "  0.3651514059986072,\n",
       "  0.10392163508795717,\n",
       "  0.6374371500304321),\n",
       " ('One Sided Selection dataset 2 RCF',\n",
       "  0.9965420358763778,\n",
       "  0.9573712255772646,\n",
       "  0.9906126445526475),\n",
       " ('One Sided Selection dataset 2 Random Forest  Selection',\n",
       "  0.9981749633791994,\n",
       "  0.977245508982036,\n",
       "  0.9958399650030433),\n",
       " ('One Sided Selection dataset 2 Forward feature selection',\n",
       "  0.9970943495905674,\n",
       "  0.9642540620384046,\n",
       "  0.9952774650030433)]"
      ]
     },
     "execution_count": 72,
     "metadata": {},
     "output_type": "execute_result"
    }
   ],
   "source": [
    "all_results"
   ]
  },
  {
   "cell_type": "markdown",
   "metadata": {},
   "source": [
    "#### 6. Tomek Links"
   ]
  },
  {
   "cell_type": "code",
   "execution_count": 41,
   "metadata": {},
   "outputs": [],
   "source": [
    "from imblearn.under_sampling import TomekLinks"
   ]
  },
  {
   "cell_type": "code",
   "execution_count": 42,
   "metadata": {},
   "outputs": [],
   "source": [
    "all_dataset['X_tomek_links_dataset2'],all_dataset['y_tomek_links_dataset2'] = TomekLinks().fit_resample(X_train,y_train)\n"
   ]
  },
  {
   "cell_type": "code",
   "execution_count": 43,
   "metadata": {},
   "outputs": [
    {
     "name": "stdout",
     "output_type": "stream",
     "text": [
      "Tomek Links dataset 2 RCF Completed\n",
      "Tomek Links dataset 2 Random Forest Selection Completed\n",
      "Tomek Links dataset 2 Forward feature selection Completed\n"
     ]
    }
   ],
   "source": [
    "training_testing_function(all_dataset['X_tomek_links_dataset2'],all_dataset['y_tomek_links_dataset2'],\"Tomek Links dataset 2\")"
   ]
  },
  {
   "cell_type": "code",
   "execution_count": 44,
   "metadata": {},
   "outputs": [
    {
     "data": {
      "text/plain": [
       "[('Tomek Links dataset 2 RCF',\n",
       "  0.9974785678265254,\n",
       "  0.9689073141841872,\n",
       "  0.996644750456482,\n",
       "  array([[39902,    98],\n",
       "         [    7,  1636]], dtype=int64),\n",
       "  '              precision    recall  f1-score   support\\n\\n           0       1.00      1.00      1.00     40000\\n           1       0.94      1.00      0.97      1643\\n\\n    accuracy                           1.00     41643\\n   macro avg       0.97      1.00      0.98     41643\\nweighted avg       1.00      1.00      1.00     41643\\n'),\n",
       " ('Tomek Links dataset 2 Random Forest  Selection',\n",
       "  0.9997358499627789,\n",
       "  0.9966432712847115,\n",
       "  0.9969442863664029,\n",
       "  array([[39999,     1],\n",
       "         [   10,  1633]], dtype=int64),\n",
       "  '              precision    recall  f1-score   support\\n\\n           0       1.00      1.00      1.00     40000\\n           1       1.00      0.99      1.00      1643\\n\\n    accuracy                           1.00     41643\\n   macro avg       1.00      1.00      1.00     41643\\nweighted avg       1.00      1.00      1.00     41643\\n'),\n",
       " ('Tomek Links dataset 2 Forward feature selection',\n",
       "  0.9972864587085465,\n",
       "  0.9666174298375183,\n",
       "  0.9965447504564819,\n",
       "  array([[39894,   106],\n",
       "         [    7,  1636]], dtype=int64),\n",
       "  '              precision    recall  f1-score   support\\n\\n           0       1.00      1.00      1.00     40000\\n           1       0.94      1.00      0.97      1643\\n\\n    accuracy                           1.00     41643\\n   macro avg       0.97      1.00      0.98     41643\\nweighted avg       1.00      1.00      1.00     41643\\n')]"
      ]
     },
     "execution_count": 44,
     "metadata": {},
     "output_type": "execute_result"
    }
   ],
   "source": [
    "all_results"
   ]
  },
  {
   "cell_type": "markdown",
   "metadata": {},
   "source": [
    "### Oversampling data"
   ]
  },
  {
   "cell_type": "markdown",
   "metadata": {},
   "source": [
    "#### 1. Random Oversampling"
   ]
  },
  {
   "cell_type": "code",
   "execution_count": 54,
   "metadata": {},
   "outputs": [
    {
     "name": "stdout",
     "output_type": "stream",
     "text": [
      "[(0, 160000), (1, 160000)]\n"
     ]
    }
   ],
   "source": [
    "ros = RandomOverSampler(random_state=0)\n",
    "all_dataset[\"X_train_random_oversampled_dataset2\"], all_dataset[\"y_train_random_oversampled_dataset2\"] = ros.fit_resample(X_train, y_train)\n",
    "\n",
    "print(sorted(Counter(all_dataset[\"y_train_random_oversampled_dataset2\"]).items()))"
   ]
  },
  {
   "cell_type": "code",
   "execution_count": 55,
   "metadata": {},
   "outputs": [
    {
     "name": "stdout",
     "output_type": "stream",
     "text": [
      "Random Oversampled dataset2 RCF Completed\n",
      "Random Oversampled dataset2 Random Forest Selection Completed\n",
      "Random Oversampled dataset2 Forward feature selection Completed\n"
     ]
    }
   ],
   "source": [
    "training_testing_function(all_dataset[\"X_train_random_oversampled_dataset2\"],all_dataset[\"y_train_random_oversampled_dataset2\"],\"Random Oversampled dataset2\")"
   ]
  },
  {
   "cell_type": "markdown",
   "metadata": {},
   "source": [
    "#### 2. SMOTE"
   ]
  },
  {
   "cell_type": "code",
   "execution_count": 56,
   "metadata": {},
   "outputs": [
    {
     "name": "stdout",
     "output_type": "stream",
     "text": [
      "[(0, 160000), (1, 160000)]\n"
     ]
    }
   ],
   "source": [
    "from imblearn.over_sampling import SMOTE, ADASYN\n",
    "all_dataset[\"X_smote_dataset2\"], all_dataset[\"y_smote_dataset2\"] = SMOTE().fit_resample(X_train, y_train)\n",
    "print(sorted(Counter(all_dataset[\"y_smote_dataset2\"]).items()))\n",
    "\n"
   ]
  },
  {
   "cell_type": "code",
   "execution_count": 57,
   "metadata": {},
   "outputs": [
    {
     "name": "stdout",
     "output_type": "stream",
     "text": [
      "SMOTE dataset2 RCF Completed\n",
      "SMOTE dataset2 Random Forest Selection Completed\n",
      "SMOTE dataset2 Forward feature selection Completed\n"
     ]
    }
   ],
   "source": [
    "training_testing_function(all_dataset['X_smote_dataset2'],all_dataset['y_smote_dataset2'],\"SMOTE dataset2\")"
   ]
  },
  {
   "cell_type": "markdown",
   "metadata": {},
   "source": [
    "#### 3. ADASYN"
   ]
  },
  {
   "cell_type": "code",
   "execution_count": 58,
   "metadata": {},
   "outputs": [
    {
     "name": "stdout",
     "output_type": "stream",
     "text": [
      "[(0, 160000), (1, 160038)]\n"
     ]
    }
   ],
   "source": [
    "all_dataset['X_adasyn_dataset2'],all_dataset['y_adasyn_dataset2'] = ADASYN().fit_resample(X_train, y_train)\n",
    "print(sorted(Counter(all_dataset[\"y_adasyn_dataset2\"]).items()))"
   ]
  },
  {
   "cell_type": "code",
   "execution_count": 59,
   "metadata": {},
   "outputs": [
    {
     "name": "stdout",
     "output_type": "stream",
     "text": [
      "ADASYN dataset2 RCF Completed\n",
      "ADASYN dataset2 Random Forest Selection Completed\n",
      "ADASYN dataset2 Forward feature selection Completed\n"
     ]
    }
   ],
   "source": [
    "training_testing_function(all_dataset['X_adasyn_dataset2'],all_dataset['y_adasyn_dataset2'],\"ADASYN dataset2\")"
   ]
  },
  {
   "cell_type": "markdown",
   "metadata": {},
   "source": [
    "#### 4. Variations of SMOTE"
   ]
  },
  {
   "cell_type": "code",
   "execution_count": 60,
   "metadata": {},
   "outputs": [],
   "source": [
    "from imblearn.over_sampling import BorderlineSMOTE,SVMSMOTE,KMeansSMOTE"
   ]
  },
  {
   "cell_type": "code",
   "execution_count": 61,
   "metadata": {},
   "outputs": [
    {
     "name": "stdout",
     "output_type": "stream",
     "text": [
      "Borderline SMOTE dataset2 RCF Completed\n",
      "Borderline SMOTE dataset2 Random Forest Selection Completed\n",
      "Borderline SMOTE dataset2 Forward feature selection Completed\n",
      "SVM SMOTE dataset2 RCF Completed\n",
      "SVM SMOTE dataset2 Random Forest Selection Completed\n",
      "SVM SMOTE dataset2 Forward feature selection Completed\n"
     ]
    }
   ],
   "source": [
    "all_dataset[\"X_borderline_smote_dataset2\"],all_dataset[\"y_borderline_smote_dataset2\"] = BorderlineSMOTE().fit_resample(X_train,y_train)\n",
    "all_dataset[\"X_svm_smote_dataset2\"],all_dataset[\"y_svm_smote_dataset2\"] = SVMSMOTE().fit_resample(X_train,y_train)\n",
    "\n",
    "# X_kmeans_smote,y_kmeans_smote = KMeansSMOTE().fit_resample(X_train,y_train)\n",
    "\n",
    "\n",
    "# all_dataset[\"X_kmeans_smote\"],all_dataset[\"y_kmeans_smote\"]= X_kmeans_smote,y_kmeans_smote\n",
    "\n",
    "training_testing_function(all_dataset[\"X_borderline_smote_dataset2\"],all_dataset[\"y_borderline_smote_dataset2\"],\"Borderline SMOTE dataset2\")\n",
    "training_testing_function(all_dataset[\"X_svm_smote_dataset2\"],all_dataset[\"y_svm_smote_dataset2\"],\"SVM SMOTE dataset2\")\n",
    "\n",
    "# training_testing_function(all_dataset[\"X_kmeans_smote\"],all_dataset[\"y_kmeans_smote\"],\"KMeans SMOTE\")\n",
    "\n"
   ]
  },
  {
   "cell_type": "markdown",
   "metadata": {},
   "source": [
    "### Combination of Undersampling and Oversampling"
   ]
  },
  {
   "cell_type": "markdown",
   "metadata": {},
   "source": [
    "#### 1. SMOTETomek"
   ]
  },
  {
   "cell_type": "code",
   "execution_count": 62,
   "metadata": {},
   "outputs": [],
   "source": [
    "from imblearn.combine import SMOTETomek"
   ]
  },
  {
   "cell_type": "code",
   "execution_count": 63,
   "metadata": {},
   "outputs": [
    {
     "name": "stdout",
     "output_type": "stream",
     "text": [
      "SMOTE Tomek dataset2 RCF Completed\n",
      "SMOTE Tomek dataset2 Random Forest Selection Completed\n",
      "SMOTE Tomek dataset2 Forward feature selection Completed\n"
     ]
    }
   ],
   "source": [
    "all_dataset['X_smote_tomek_dataset2'],all_dataset['y_smote_tomek_dataset2'] = SMOTETomek().fit_resample(X_train,y_train)\n",
    "training_testing_function(all_dataset['X_smote_tomek_dataset2'],all_dataset['y_smote_tomek_dataset2'],\"SMOTE Tomek dataset2\")"
   ]
  },
  {
   "cell_type": "code",
   "execution_count": 64,
   "metadata": {},
   "outputs": [
    {
     "data": {
      "text/plain": [
       "[('Random Undersample dataset 2 RCF',\n",
       "  0.986864539058185,\n",
       "  0.8568437581784872,\n",
       "  0.9914115718198417,\n",
       "  array([[39459,   541],\n",
       "         [    6,  1637]], dtype=int64),\n",
       "  '              precision    recall  f1-score   support\\n\\n           0       1.00      0.99      0.99     40000\\n           1       0.75      1.00      0.86      1643\\n\\n    accuracy                           0.99     41643\\n   macro avg       0.88      0.99      0.92     41643\\nweighted avg       0.99      0.99      0.99     41643\\n'),\n",
       " ('Random Undersample dataset 2 Random Forest  Selection',\n",
       "  0.9992555771678313,\n",
       "  0.9906145927944293,\n",
       "  0.9975697504564819,\n",
       "  array([[39976,    24],\n",
       "         [    7,  1636]], dtype=int64),\n",
       "  '              precision    recall  f1-score   support\\n\\n           0       1.00      1.00      1.00     40000\\n           1       0.99      1.00      0.99      1643\\n\\n    accuracy                           1.00     41643\\n   macro avg       0.99      1.00      1.00     41643\\nweighted avg       1.00      1.00      1.00     41643\\n'),\n",
       " ('Random Undersample dataset 2 Forward feature selection',\n",
       "  0.9859039934682899,\n",
       "  0.847888053899974,\n",
       "  0.990619750456482,\n",
       "  array([[39420,   580],\n",
       "         [    7,  1636]], dtype=int64),\n",
       "  '              precision    recall  f1-score   support\\n\\n           0       1.00      0.99      0.99     40000\\n           1       0.74      1.00      0.85      1643\\n\\n    accuracy                           0.99     41643\\n   macro avg       0.87      0.99      0.92     41643\\nweighted avg       0.99      0.99      0.99     41643\\n'),\n",
       " ('IHT dataset 2 RCF',\n",
       "  0.9972864587085465,\n",
       "  0.9666174298375183,\n",
       "  0.9965447504564819,\n",
       "  array([[39894,   106],\n",
       "         [    7,  1636]], dtype=int64),\n",
       "  '              precision    recall  f1-score   support\\n\\n           0       1.00      1.00      1.00     40000\\n           1       0.94      1.00      0.97      1643\\n\\n    accuracy                           1.00     41643\\n   macro avg       0.97      1.00      0.98     41643\\nweighted avg       1.00      1.00      1.00     41643\\n'),\n",
       " ('IHT dataset 2 Random Forest  Selection',\n",
       "  0.9996878226832842,\n",
       "  0.9960353766392194,\n",
       "  0.9969192863664029,\n",
       "  array([[39997,     3],\n",
       "         [   10,  1633]], dtype=int64),\n",
       "  '              precision    recall  f1-score   support\\n\\n           0       1.00      1.00      1.00     40000\\n           1       1.00      0.99      1.00      1643\\n\\n    accuracy                           1.00     41643\\n   macro avg       1.00      1.00      1.00     41643\\nweighted avg       1.00      1.00      1.00     41643\\n'),\n",
       " ('IHT dataset 2 Forward feature selection',\n",
       "  0.9969502677520832,\n",
       "  0.9626360694321858,\n",
       "  0.9963697504564819,\n",
       "  array([[39880,   120],\n",
       "         [    7,  1636]], dtype=int64),\n",
       "  '              precision    recall  f1-score   support\\n\\n           0       1.00      1.00      1.00     40000\\n           1       0.93      1.00      0.96      1643\\n\\n    accuracy                           1.00     41643\\n   macro avg       0.97      1.00      0.98     41643\\nweighted avg       1.00      1.00      1.00     41643\\n'),\n",
       " ('Near Miss dataset 2 RCF',\n",
       "  0.47501380784285474,\n",
       "  0.13038981702466187,\n",
       "  0.725557714546561,\n",
       "  array([[18142, 21858],\n",
       "         [    4,  1639]], dtype=int64),\n",
       "  '              precision    recall  f1-score   support\\n\\n           0       1.00      0.45      0.62     40000\\n           1       0.07      1.00      0.13      1643\\n\\n    accuracy                           0.48     41643\\n   macro avg       0.53      0.73      0.38     41643\\nweighted avg       0.96      0.48      0.60     41643\\n'),\n",
       " ('Near Miss dataset 2 Random Forest  Selection',\n",
       "  0.35816343683212065,\n",
       "  0.10936354548483838,\n",
       "  0.6653163572732806,\n",
       "  array([[13274, 26726],\n",
       "         [    2,  1641]], dtype=int64),\n",
       "  '              precision    recall  f1-score   support\\n\\n           0       1.00      0.33      0.50     40000\\n           1       0.06      1.00      0.11      1643\\n\\n    accuracy                           0.36     41643\\n   macro avg       0.53      0.67      0.30     41643\\nweighted avg       0.96      0.36      0.48     41643\\n'),\n",
       " ('Near Miss dataset 2 Forward feature selection',\n",
       "  0.3024037653387124,\n",
       "  0.10034066274388356,\n",
       "  0.6301631086427267,\n",
       "  array([[10973, 29027],\n",
       "         [   23,  1620]], dtype=int64),\n",
       "  '              precision    recall  f1-score   support\\n\\n           0       1.00      0.27      0.43     40000\\n           1       0.05      0.99      0.10      1643\\n\\n    accuracy                           0.30     41643\\n   macro avg       0.53      0.63      0.27     41643\\nweighted avg       0.96      0.30      0.42     41643\\n'),\n",
       " ('One Sided Selection dataset 2 RCF',\n",
       "  0.9976226496650097,\n",
       "  0.970631859982201,\n",
       "  0.996719750456482,\n",
       "  array([[39908,    92],\n",
       "         [    7,  1636]], dtype=int64),\n",
       "  '              precision    recall  f1-score   support\\n\\n           0       1.00      1.00      1.00     40000\\n           1       0.95      1.00      0.97      1643\\n\\n    accuracy                           1.00     41643\\n   macro avg       0.97      1.00      0.98     41643\\nweighted avg       1.00      1.00      1.00     41643\\n'),\n",
       " ('One Sided Selection dataset 2 Random Forest  Selection',\n",
       "  0.9997598636025262,\n",
       "  0.996947496947497,\n",
       "  0.996956786366403,\n",
       "  array([[40000,     0],\n",
       "         [   10,  1633]], dtype=int64),\n",
       "  '              precision    recall  f1-score   support\\n\\n           0       1.00      1.00      1.00     40000\\n           1       1.00      0.99      1.00      1643\\n\\n    accuracy                           1.00     41643\\n   macro avg       1.00      1.00      1.00     41643\\nweighted avg       1.00      1.00      1.00     41643\\n'),\n",
       " ('One Sided Selection dataset 2 Forward feature selection',\n",
       "  0.9969982950315779,\n",
       "  0.9631594459180666,\n",
       "  0.9958111077297626,\n",
       "  array([[39884,   116],\n",
       "         [    9,  1634]], dtype=int64),\n",
       "  '              precision    recall  f1-score   support\\n\\n           0       1.00      1.00      1.00     40000\\n           1       0.93      0.99      0.96      1643\\n\\n    accuracy                           1.00     41643\\n   macro avg       0.97      1.00      0.98     41643\\nweighted avg       1.00      1.00      1.00     41643\\n'),\n",
       " ('Random Oversampled dataset2 RCF',\n",
       "  0.9946929856158298,\n",
       "  0.9367306040652733,\n",
       "  0.995194750456482,\n",
       "  array([[39786,   214],\n",
       "         [    7,  1636]], dtype=int64),\n",
       "  '              precision    recall  f1-score   support\\n\\n           0       1.00      0.99      1.00     40000\\n           1       0.88      1.00      0.94      1643\\n\\n    accuracy                           0.99     41643\\n   macro avg       0.94      1.00      0.97     41643\\nweighted avg       1.00      0.99      0.99     41643\\n'),\n",
       " ('Random Oversampled dataset2 Random Forest  Selection',\n",
       "  0.9998078908820209,\n",
       "  0.9975609756097561,\n",
       "  0.997857250456482,\n",
       "  array([[39999,     1],\n",
       "         [    7,  1636]], dtype=int64),\n",
       "  '              precision    recall  f1-score   support\\n\\n           0       1.00      1.00      1.00     40000\\n           1       1.00      1.00      1.00      1643\\n\\n    accuracy                           1.00     41643\\n   macro avg       1.00      1.00      1.00     41643\\nweighted avg       1.00      1.00      1.00     41643\\n'),\n",
       " ('Random Oversampled dataset2 Forward feature selection',\n",
       "  0.9934202627092188,\n",
       "  0.922686230248307,\n",
       "  0.9942404290931224,\n",
       "  array([[39734,   266],\n",
       "         [    8,  1635]], dtype=int64),\n",
       "  '              precision    recall  f1-score   support\\n\\n           0       1.00      0.99      1.00     40000\\n           1       0.86      1.00      0.92      1643\\n\\n    accuracy                           0.99     41643\\n   macro avg       0.93      0.99      0.96     41643\\nweighted avg       0.99      0.99      0.99     41643\\n'),\n",
       " ('SMOTE dataset2 RCF',\n",
       "  0.9903945441010494,\n",
       "  0.8911268372346217,\n",
       "  0.9932490718198418,\n",
       "  array([[39606,   394],\n",
       "         [    6,  1637]], dtype=int64),\n",
       "  '              precision    recall  f1-score   support\\n\\n           0       1.00      0.99      0.99     40000\\n           1       0.81      1.00      0.89      1643\\n\\n    accuracy                           0.99     41643\\n   macro avg       0.90      0.99      0.94     41643\\nweighted avg       0.99      0.99      0.99     41643\\n'),\n",
       " ('SMOTE dataset2 Random Forest  Selection',\n",
       "  0.9997838772422736,\n",
       "  0.9972602739726028,\n",
       "  0.9984283931832015,\n",
       "  array([[39996,     4],\n",
       "         [    5,  1638]], dtype=int64),\n",
       "  '              precision    recall  f1-score   support\\n\\n           0       1.00      1.00      1.00     40000\\n           1       1.00      1.00      1.00      1643\\n\\n    accuracy                           1.00     41643\\n   macro avg       1.00      1.00      1.00     41643\\nweighted avg       1.00      1.00      1.00     41643\\n'),\n",
       " ('SMOTE dataset2 Forward feature selection',\n",
       "  0.9997598636025262,\n",
       "  0.9969549330085262,\n",
       "  0.9981240718198418,\n",
       "  array([[39996,     4],\n",
       "         [    6,  1637]], dtype=int64),\n",
       "  '              precision    recall  f1-score   support\\n\\n           0       1.00      1.00      1.00     40000\\n           1       1.00      1.00      1.00      1643\\n\\n    accuracy                           1.00     41643\\n   macro avg       1.00      1.00      1.00     41643\\nweighted avg       1.00      1.00      1.00     41643\\n'),\n",
       " ('ADASYN dataset2 RCF',\n",
       "  0.9849194342386476,\n",
       "  0.8392217101894521,\n",
       "  0.9909827145465612,\n",
       "  array([[39376,   624],\n",
       "         [    4,  1639]], dtype=int64),\n",
       "  '              precision    recall  f1-score   support\\n\\n           0       1.00      0.98      0.99     40000\\n           1       0.72      1.00      0.84      1643\\n\\n    accuracy                           0.98     41643\\n   macro avg       0.86      0.99      0.92     41643\\nweighted avg       0.99      0.98      0.99     41643\\n'),\n",
       " ('ADASYN dataset2 Random Forest  Selection',\n",
       "  0.9963259131186514,\n",
       "  0.9553805774278216,\n",
       "  0.9966283931832015,\n",
       "  array([[39852,   148],\n",
       "         [    5,  1638]], dtype=int64),\n",
       "  '              precision    recall  f1-score   support\\n\\n           0       1.00      1.00      1.00     40000\\n           1       0.92      1.00      0.96      1643\\n\\n    accuracy                           1.00     41643\\n   macro avg       0.96      1.00      0.98     41643\\nweighted avg       1.00      1.00      1.00     41643\\n'),\n",
       " ('ADASYN dataset2 Forward feature selection',\n",
       "  0.9525250342194367,\n",
       "  0.6235002856598744,\n",
       "  0.9735365718198419,\n",
       "  array([[38029,  1971],\n",
       "         [    6,  1637]], dtype=int64),\n",
       "  '              precision    recall  f1-score   support\\n\\n           0       1.00      0.95      0.97     40000\\n           1       0.45      1.00      0.62      1643\\n\\n    accuracy                           0.95     41643\\n   macro avg       0.73      0.97      0.80     41643\\nweighted avg       0.98      0.95      0.96     41643\\n'),\n",
       " ('Borderline SMOTE dataset2 RCF',\n",
       "  0.9922676080013447,\n",
       "  0.9104062326099054,\n",
       "  0.993932250456482,\n",
       "  array([[39685,   315],\n",
       "         [    7,  1636]], dtype=int64),\n",
       "  '              precision    recall  f1-score   support\\n\\n           0       1.00      0.99      1.00     40000\\n           1       0.84      1.00      0.91      1643\\n\\n    accuracy                           0.99     41643\\n   macro avg       0.92      0.99      0.95     41643\\nweighted avg       0.99      0.99      0.99     41643\\n'),\n",
       " ('Borderline SMOTE dataset2 Random Forest  Selection',\n",
       "  0.9998078908820209,\n",
       "  0.9975609756097561,\n",
       "  0.997857250456482,\n",
       "  array([[39999,     1],\n",
       "         [    7,  1636]], dtype=int64),\n",
       "  '              precision    recall  f1-score   support\\n\\n           0       1.00      1.00      1.00     40000\\n           1       1.00      1.00      1.00      1643\\n\\n    accuracy                           1.00     41643\\n   macro avg       1.00      1.00      1.00     41643\\nweighted avg       1.00      1.00      1.00     41643\\n'),\n",
       " ('Borderline SMOTE dataset2 Forward feature selection',\n",
       "  0.9998319045217684,\n",
       "  0.9978652028057334,\n",
       "  0.997869750456482,\n",
       "  array([[40000,     0],\n",
       "         [    7,  1636]], dtype=int64),\n",
       "  '              precision    recall  f1-score   support\\n\\n           0       1.00      1.00      1.00     40000\\n           1       1.00      1.00      1.00      1643\\n\\n    accuracy                           1.00     41643\\n   macro avg       1.00      1.00      1.00     41643\\nweighted avg       1.00      1.00      1.00     41643\\n'),\n",
       " ('SVM SMOTE dataset2 RCF',\n",
       "  0.9909708714549864,\n",
       "  0.8969298245614035,\n",
       "  0.9932572504564819,\n",
       "  array([[39631,   369],\n",
       "         [    7,  1636]], dtype=int64),\n",
       "  '              precision    recall  f1-score   support\\n\\n           0       1.00      0.99      1.00     40000\\n           1       0.82      1.00      0.90      1643\\n\\n    accuracy                           0.99     41643\\n   macro avg       0.91      0.99      0.95     41643\\nweighted avg       0.99      0.99      0.99     41643\\n'),\n",
       " ('SVM SMOTE dataset2 Random Forest  Selection',\n",
       "  0.9997598636025262,\n",
       "  0.9969530773918341,\n",
       "  0.9978322504564819,\n",
       "  array([[39997,     3],\n",
       "         [    7,  1636]], dtype=int64),\n",
       "  '              precision    recall  f1-score   support\\n\\n           0       1.00      1.00      1.00     40000\\n           1       1.00      1.00      1.00      1643\\n\\n    accuracy                           1.00     41643\\n   macro avg       1.00      1.00      1.00     41643\\nweighted avg       1.00      1.00      1.00     41643\\n'),\n",
       " ('SVM SMOTE dataset2 Forward feature selection',\n",
       "  0.95963307158466,\n",
       "  0.6607467204843591,\n",
       "  0.9772365718198417,\n",
       "  array([[38325,  1675],\n",
       "         [    6,  1637]], dtype=int64),\n",
       "  '              precision    recall  f1-score   support\\n\\n           0       1.00      0.96      0.98     40000\\n           1       0.49      1.00      0.66      1643\\n\\n    accuracy                           0.96     41643\\n   macro avg       0.75      0.98      0.82     41643\\nweighted avg       0.98      0.96      0.97     41643\\n'),\n",
       " ('SMOTE Tomek dataset2 RCF',\n",
       "  0.9915712124486709,\n",
       "  0.9031724137931034,\n",
       "  0.9938615718198418,\n",
       "  array([[39655,   345],\n",
       "         [    6,  1637]], dtype=int64),\n",
       "  '              precision    recall  f1-score   support\\n\\n           0       1.00      0.99      1.00     40000\\n           1       0.83      1.00      0.90      1643\\n\\n    accuracy                           0.99     41643\\n   macro avg       0.91      0.99      0.95     41643\\nweighted avg       0.99      0.99      0.99     41643\\n'),\n",
       " ('SMOTE Tomek dataset2 Random Forest  Selection',\n",
       "  0.9996878226832842,\n",
       "  0.9960402071276272,\n",
       "  0.9975029290931223,\n",
       "  array([[39995,     5],\n",
       "         [    8,  1635]], dtype=int64),\n",
       "  '              precision    recall  f1-score   support\\n\\n           0       1.00      1.00      1.00     40000\\n           1       1.00      1.00      1.00      1643\\n\\n    accuracy                           1.00     41643\\n   macro avg       1.00      1.00      1.00     41643\\nweighted avg       1.00      1.00      1.00     41643\\n'),\n",
       " ('SMOTE Tomek dataset2 Forward feature selection',\n",
       "  0.9997838772422736,\n",
       "  0.9972586049345111,\n",
       "  0.9981365718198417,\n",
       "  array([[39997,     3],\n",
       "         [    6,  1637]], dtype=int64),\n",
       "  '              precision    recall  f1-score   support\\n\\n           0       1.00      1.00      1.00     40000\\n           1       1.00      1.00      1.00      1643\\n\\n    accuracy                           1.00     41643\\n   macro avg       1.00      1.00      1.00     41643\\nweighted avg       1.00      1.00      1.00     41643\\n')]"
      ]
     },
     "execution_count": 64,
     "metadata": {},
     "output_type": "execute_result"
    }
   ],
   "source": [
    "all_results"
   ]
  },
  {
   "cell_type": "code",
   "execution_count": 75,
   "metadata": {},
   "outputs": [
    {
     "data": {
      "text/plain": [
       "[('Borderline SMOTE dataset2 Forward feature selection',\n",
       "  0.9998319045217684,\n",
       "  0.9978652028057334,\n",
       "  0.997869750456482,\n",
       "  array([[40000,     0],\n",
       "         [    7,  1636]], dtype=int64),\n",
       "  '              precision    recall  f1-score   support\\n\\n           0       1.00      1.00      1.00     40000\\n           1       1.00      1.00      1.00      1643\\n\\n    accuracy                           1.00     41643\\n   macro avg       1.00      1.00      1.00     41643\\nweighted avg       1.00      1.00      1.00     41643\\n'),\n",
       " ('Random Oversampled dataset2 Random Forest  Selection',\n",
       "  0.9998078908820209,\n",
       "  0.9975609756097561,\n",
       "  0.997857250456482,\n",
       "  array([[39999,     1],\n",
       "         [    7,  1636]], dtype=int64),\n",
       "  '              precision    recall  f1-score   support\\n\\n           0       1.00      1.00      1.00     40000\\n           1       1.00      1.00      1.00      1643\\n\\n    accuracy                           1.00     41643\\n   macro avg       1.00      1.00      1.00     41643\\nweighted avg       1.00      1.00      1.00     41643\\n'),\n",
       " ('Borderline SMOTE dataset2 Random Forest  Selection',\n",
       "  0.9998078908820209,\n",
       "  0.9975609756097561,\n",
       "  0.997857250456482,\n",
       "  array([[39999,     1],\n",
       "         [    7,  1636]], dtype=int64),\n",
       "  '              precision    recall  f1-score   support\\n\\n           0       1.00      1.00      1.00     40000\\n           1       1.00      1.00      1.00      1643\\n\\n    accuracy                           1.00     41643\\n   macro avg       1.00      1.00      1.00     41643\\nweighted avg       1.00      1.00      1.00     41643\\n')]"
      ]
     },
     "execution_count": 75,
     "metadata": {},
     "output_type": "execute_result"
    }
   ],
   "source": [
    "top_3 = sorted(all_results,key=lambda x: x[2],reverse=True)[:3]\n",
    "top_3"
   ]
  },
  {
   "cell_type": "markdown",
   "metadata": {},
   "source": [
    "### Confusion matrix of top 3 performers"
   ]
  },
  {
   "cell_type": "markdown",
   "metadata": {},
   "source": [
    "1. Borderline SMOTE dataset2 Forward feature selection"
   ]
  },
  {
   "cell_type": "code",
   "execution_count": 85,
   "metadata": {},
   "outputs": [
    {
     "data": {
      "image/png": "[encoded data removed]",
      "text/plain": [
       "<Figure size 576x432 with 2 Axes>"
      ]
     },
     "metadata": {
      "needs_background": "light"
     },
     "output_type": "display_data"
    }
   ],
   "source": [
    "cf_matrix = top_3[0][4]\n",
    "\n",
    "group_names = ['True Neg','False Pos','False Neg','True Pos']\n",
    "group_counts = [\"{0:0.0f}\".format(value) for value in\n",
    "                cf_matrix.flatten()]\n",
    "\n",
    "labels = [f\"{v1}\\n{v2}\" for v1, v2 in\n",
    "          zip(group_names,group_counts)]\n",
    "labels = np.asarray(labels).reshape(2,2)\n",
    "plt.figure(figsize=(8,6))\n",
    "plt.title(\"Confusion matrix for Borderline SMOTE using Forward feature selection\")\n",
    "sns.heatmap(cf_matrix, annot=labels, fmt='', cmap='Blues')\n",
    "plt.show();"
   ]
  },
  {
   "cell_type": "markdown",
   "metadata": {},
   "source": [
    "Classification report"
   ]
  },
  {
   "cell_type": "code",
   "execution_count": 87,
   "metadata": {},
   "outputs": [
    {
     "name": "stdout",
     "output_type": "stream",
     "text": [
      "              precision    recall  f1-score   support\n",
      "\n",
      "           0       1.00      1.00      1.00     40000\n",
      "           1       1.00      1.00      1.00      1643\n",
      "\n",
      "    accuracy                           1.00     41643\n",
      "   macro avg       1.00      1.00      1.00     41643\n",
      "weighted avg       1.00      1.00      1.00     41643\n",
      "\n"
     ]
    }
   ],
   "source": [
    "print(top_3[0][5])"
   ]
  },
  {
   "cell_type": "markdown",
   "metadata": {},
   "source": [
    "2. Random Oversampled dataset2 Random Forest  Selection"
   ]
  },
  {
   "cell_type": "code",
   "execution_count": 88,
   "metadata": {},
   "outputs": [
    {
     "data": {
      "image/png": "[encoded data removed]",
      "text/plain": [
       "<Figure size 576x432 with 2 Axes>"
      ]
     },
     "metadata": {
      "needs_background": "light"
     },
     "output_type": "display_data"
    }
   ],
   "source": [
    "cf_matrix = top_3[1][4]\n",
    "\n",
    "group_names = ['True Neg','False Pos','False Neg','True Pos']\n",
    "group_counts = [\"{0:0.0f}\".format(value) for value in\n",
    "                cf_matrix.flatten()]\n",
    "\n",
    "labels = [f\"{v1}\\n{v2}\" for v1, v2 in\n",
    "          zip(group_names,group_counts)]\n",
    "labels = np.asarray(labels).reshape(2,2)\n",
    "plt.figure(figsize=(8,6))\n",
    "plt.title(\"Confusion matrix for Random Oversampled dataset2 Random Forest Selection\")\n",
    "sns.heatmap(cf_matrix, annot=labels, fmt='', cmap='Blues')\n",
    "plt.show();"
   ]
  },
  {
   "cell_type": "markdown",
   "metadata": {},
   "source": [
    "Classification report"
   ]
  },
  {
   "cell_type": "code",
   "execution_count": 89,
   "metadata": {},
   "outputs": [
    {
     "name": "stdout",
     "output_type": "stream",
     "text": [
      "              precision    recall  f1-score   support\n",
      "\n",
      "           0       1.00      1.00      1.00     40000\n",
      "           1       1.00      1.00      1.00      1643\n",
      "\n",
      "    accuracy                           1.00     41643\n",
      "   macro avg       1.00      1.00      1.00     41643\n",
      "weighted avg       1.00      1.00      1.00     41643\n",
      "\n"
     ]
    }
   ],
   "source": [
    "print(top_3[1][5])"
   ]
  },
  {
   "cell_type": "markdown",
   "metadata": {},
   "source": [
    "3. Borderline SMOTE dataset2 Random Forest  Selection"
   ]
  },
  {
   "cell_type": "code",
   "execution_count": 90,
   "metadata": {},
   "outputs": [
    {
     "data": {
      "image/png": "[encoded data removed]",
      "text/plain": [
       "<Figure size 576x432 with 2 Axes>"
      ]
     },
     "metadata": {
      "needs_background": "light"
     },
     "output_type": "display_data"
    }
   ],
   "source": [
    "cf_matrix = top_3[2][4]\n",
    "\n",
    "group_names = ['True Neg','False Pos','False Neg','True Pos']\n",
    "group_counts = [\"{0:0.0f}\".format(value) for value in\n",
    "                cf_matrix.flatten()]\n",
    "\n",
    "labels = [f\"{v1}\\n{v2}\" for v1, v2 in\n",
    "          zip(group_names,group_counts)]\n",
    "labels = np.asarray(labels).reshape(2,2)\n",
    "plt.figure(figsize=(8,6))\n",
    "plt.title(\"Confusion matrix for Borderline SMOTE dataset2 Random Forest Selection\")\n",
    "sns.heatmap(cf_matrix, annot=labels, fmt='', cmap='Blues')\n",
    "plt.show();"
   ]
  },
  {
   "cell_type": "markdown",
   "metadata": {},
   "source": [
    "Classification report"
   ]
  },
  {
   "cell_type": "code",
   "execution_count": 91,
   "metadata": {},
   "outputs": [
    {
     "name": "stdout",
     "output_type": "stream",
     "text": [
      "              precision    recall  f1-score   support\n",
      "\n",
      "           0       1.00      1.00      1.00     40000\n",
      "           1       1.00      1.00      1.00      1643\n",
      "\n",
      "    accuracy                           1.00     41643\n",
      "   macro avg       1.00      1.00      1.00     41643\n",
      "weighted avg       1.00      1.00      1.00     41643\n",
      "\n"
     ]
    }
   ],
   "source": [
    "print(top_3[2][5])"
   ]
  },
  {
   "cell_type": "code",
   "execution_count": 92,
   "metadata": {},
   "outputs": [
    {
     "data": {
      "text/plain": [
       "[('Random Undersample dataset 2 RCF',\n",
       "  0.986864539058185,\n",
       "  0.8568437581784872,\n",
       "  0.9914115718198417,\n",
       "  array([[39459,   541],\n",
       "         [    6,  1637]], dtype=int64),\n",
       "  '              precision    recall  f1-score   support\\n\\n           0       1.00      0.99      0.99     40000\\n           1       0.75      1.00      0.86      1643\\n\\n    accuracy                           0.99     41643\\n   macro avg       0.88      0.99      0.92     41643\\nweighted avg       0.99      0.99      0.99     41643\\n'),\n",
       " ('Random Undersample dataset 2 Random Forest  Selection',\n",
       "  0.9992555771678313,\n",
       "  0.9906145927944293,\n",
       "  0.9975697504564819,\n",
       "  array([[39976,    24],\n",
       "         [    7,  1636]], dtype=int64),\n",
       "  '              precision    recall  f1-score   support\\n\\n           0       1.00      1.00      1.00     40000\\n           1       0.99      1.00      0.99      1643\\n\\n    accuracy                           1.00     41643\\n   macro avg       0.99      1.00      1.00     41643\\nweighted avg       1.00      1.00      1.00     41643\\n'),\n",
       " ('Random Undersample dataset 2 Forward feature selection',\n",
       "  0.9859039934682899,\n",
       "  0.847888053899974,\n",
       "  0.990619750456482,\n",
       "  array([[39420,   580],\n",
       "         [    7,  1636]], dtype=int64),\n",
       "  '              precision    recall  f1-score   support\\n\\n           0       1.00      0.99      0.99     40000\\n           1       0.74      1.00      0.85      1643\\n\\n    accuracy                           0.99     41643\\n   macro avg       0.87      0.99      0.92     41643\\nweighted avg       0.99      0.99      0.99     41643\\n'),\n",
       " ('IHT dataset 2 RCF',\n",
       "  0.9972864587085465,\n",
       "  0.9666174298375183,\n",
       "  0.9965447504564819,\n",
       "  array([[39894,   106],\n",
       "         [    7,  1636]], dtype=int64),\n",
       "  '              precision    recall  f1-score   support\\n\\n           0       1.00      1.00      1.00     40000\\n           1       0.94      1.00      0.97      1643\\n\\n    accuracy                           1.00     41643\\n   macro avg       0.97      1.00      0.98     41643\\nweighted avg       1.00      1.00      1.00     41643\\n'),\n",
       " ('IHT dataset 2 Random Forest  Selection',\n",
       "  0.9996878226832842,\n",
       "  0.9960353766392194,\n",
       "  0.9969192863664029,\n",
       "  array([[39997,     3],\n",
       "         [   10,  1633]], dtype=int64),\n",
       "  '              precision    recall  f1-score   support\\n\\n           0       1.00      1.00      1.00     40000\\n           1       1.00      0.99      1.00      1643\\n\\n    accuracy                           1.00     41643\\n   macro avg       1.00      1.00      1.00     41643\\nweighted avg       1.00      1.00      1.00     41643\\n'),\n",
       " ('IHT dataset 2 Forward feature selection',\n",
       "  0.9969502677520832,\n",
       "  0.9626360694321858,\n",
       "  0.9963697504564819,\n",
       "  array([[39880,   120],\n",
       "         [    7,  1636]], dtype=int64),\n",
       "  '              precision    recall  f1-score   support\\n\\n           0       1.00      1.00      1.00     40000\\n           1       0.93      1.00      0.96      1643\\n\\n    accuracy                           1.00     41643\\n   macro avg       0.97      1.00      0.98     41643\\nweighted avg       1.00      1.00      1.00     41643\\n'),\n",
       " ('Near Miss dataset 2 RCF',\n",
       "  0.47501380784285474,\n",
       "  0.13038981702466187,\n",
       "  0.725557714546561,\n",
       "  array([[18142, 21858],\n",
       "         [    4,  1639]], dtype=int64),\n",
       "  '              precision    recall  f1-score   support\\n\\n           0       1.00      0.45      0.62     40000\\n           1       0.07      1.00      0.13      1643\\n\\n    accuracy                           0.48     41643\\n   macro avg       0.53      0.73      0.38     41643\\nweighted avg       0.96      0.48      0.60     41643\\n'),\n",
       " ('Near Miss dataset 2 Random Forest  Selection',\n",
       "  0.35816343683212065,\n",
       "  0.10936354548483838,\n",
       "  0.6653163572732806,\n",
       "  array([[13274, 26726],\n",
       "         [    2,  1641]], dtype=int64),\n",
       "  '              precision    recall  f1-score   support\\n\\n           0       1.00      0.33      0.50     40000\\n           1       0.06      1.00      0.11      1643\\n\\n    accuracy                           0.36     41643\\n   macro avg       0.53      0.67      0.30     41643\\nweighted avg       0.96      0.36      0.48     41643\\n'),\n",
       " ('Near Miss dataset 2 Forward feature selection',\n",
       "  0.3024037653387124,\n",
       "  0.10034066274388356,\n",
       "  0.6301631086427267,\n",
       "  array([[10973, 29027],\n",
       "         [   23,  1620]], dtype=int64),\n",
       "  '              precision    recall  f1-score   support\\n\\n           0       1.00      0.27      0.43     40000\\n           1       0.05      0.99      0.10      1643\\n\\n    accuracy                           0.30     41643\\n   macro avg       0.53      0.63      0.27     41643\\nweighted avg       0.96      0.30      0.42     41643\\n'),\n",
       " ('One Sided Selection dataset 2 RCF',\n",
       "  0.9976226496650097,\n",
       "  0.970631859982201,\n",
       "  0.996719750456482,\n",
       "  array([[39908,    92],\n",
       "         [    7,  1636]], dtype=int64),\n",
       "  '              precision    recall  f1-score   support\\n\\n           0       1.00      1.00      1.00     40000\\n           1       0.95      1.00      0.97      1643\\n\\n    accuracy                           1.00     41643\\n   macro avg       0.97      1.00      0.98     41643\\nweighted avg       1.00      1.00      1.00     41643\\n'),\n",
       " ('One Sided Selection dataset 2 Random Forest  Selection',\n",
       "  0.9997598636025262,\n",
       "  0.996947496947497,\n",
       "  0.996956786366403,\n",
       "  array([[40000,     0],\n",
       "         [   10,  1633]], dtype=int64),\n",
       "  '              precision    recall  f1-score   support\\n\\n           0       1.00      1.00      1.00     40000\\n           1       1.00      0.99      1.00      1643\\n\\n    accuracy                           1.00     41643\\n   macro avg       1.00      1.00      1.00     41643\\nweighted avg       1.00      1.00      1.00     41643\\n'),\n",
       " ('One Sided Selection dataset 2 Forward feature selection',\n",
       "  0.9969982950315779,\n",
       "  0.9631594459180666,\n",
       "  0.9958111077297626,\n",
       "  array([[39884,   116],\n",
       "         [    9,  1634]], dtype=int64),\n",
       "  '              precision    recall  f1-score   support\\n\\n           0       1.00      1.00      1.00     40000\\n           1       0.93      0.99      0.96      1643\\n\\n    accuracy                           1.00     41643\\n   macro avg       0.97      1.00      0.98     41643\\nweighted avg       1.00      1.00      1.00     41643\\n'),\n",
       " ('Random Oversampled dataset2 RCF',\n",
       "  0.9946929856158298,\n",
       "  0.9367306040652733,\n",
       "  0.995194750456482,\n",
       "  array([[39786,   214],\n",
       "         [    7,  1636]], dtype=int64),\n",
       "  '              precision    recall  f1-score   support\\n\\n           0       1.00      0.99      1.00     40000\\n           1       0.88      1.00      0.94      1643\\n\\n    accuracy                           0.99     41643\\n   macro avg       0.94      1.00      0.97     41643\\nweighted avg       1.00      0.99      0.99     41643\\n'),\n",
       " ('Random Oversampled dataset2 Random Forest  Selection',\n",
       "  0.9998078908820209,\n",
       "  0.9975609756097561,\n",
       "  0.997857250456482,\n",
       "  array([[39999,     1],\n",
       "         [    7,  1636]], dtype=int64),\n",
       "  '              precision    recall  f1-score   support\\n\\n           0       1.00      1.00      1.00     40000\\n           1       1.00      1.00      1.00      1643\\n\\n    accuracy                           1.00     41643\\n   macro avg       1.00      1.00      1.00     41643\\nweighted avg       1.00      1.00      1.00     41643\\n'),\n",
       " ('Random Oversampled dataset2 Forward feature selection',\n",
       "  0.9934202627092188,\n",
       "  0.922686230248307,\n",
       "  0.9942404290931224,\n",
       "  array([[39734,   266],\n",
       "         [    8,  1635]], dtype=int64),\n",
       "  '              precision    recall  f1-score   support\\n\\n           0       1.00      0.99      1.00     40000\\n           1       0.86      1.00      0.92      1643\\n\\n    accuracy                           0.99     41643\\n   macro avg       0.93      0.99      0.96     41643\\nweighted avg       0.99      0.99      0.99     41643\\n'),\n",
       " ('SMOTE dataset2 RCF',\n",
       "  0.9903945441010494,\n",
       "  0.8911268372346217,\n",
       "  0.9932490718198418,\n",
       "  array([[39606,   394],\n",
       "         [    6,  1637]], dtype=int64),\n",
       "  '              precision    recall  f1-score   support\\n\\n           0       1.00      0.99      0.99     40000\\n           1       0.81      1.00      0.89      1643\\n\\n    accuracy                           0.99     41643\\n   macro avg       0.90      0.99      0.94     41643\\nweighted avg       0.99      0.99      0.99     41643\\n'),\n",
       " ('SMOTE dataset2 Random Forest  Selection',\n",
       "  0.9997838772422736,\n",
       "  0.9972602739726028,\n",
       "  0.9984283931832015,\n",
       "  array([[39996,     4],\n",
       "         [    5,  1638]], dtype=int64),\n",
       "  '              precision    recall  f1-score   support\\n\\n           0       1.00      1.00      1.00     40000\\n           1       1.00      1.00      1.00      1643\\n\\n    accuracy                           1.00     41643\\n   macro avg       1.00      1.00      1.00     41643\\nweighted avg       1.00      1.00      1.00     41643\\n'),\n",
       " ('SMOTE dataset2 Forward feature selection',\n",
       "  0.9997598636025262,\n",
       "  0.9969549330085262,\n",
       "  0.9981240718198418,\n",
       "  array([[39996,     4],\n",
       "         [    6,  1637]], dtype=int64),\n",
       "  '              precision    recall  f1-score   support\\n\\n           0       1.00      1.00      1.00     40000\\n           1       1.00      1.00      1.00      1643\\n\\n    accuracy                           1.00     41643\\n   macro avg       1.00      1.00      1.00     41643\\nweighted avg       1.00      1.00      1.00     41643\\n'),\n",
       " ('ADASYN dataset2 RCF',\n",
       "  0.9849194342386476,\n",
       "  0.8392217101894521,\n",
       "  0.9909827145465612,\n",
       "  array([[39376,   624],\n",
       "         [    4,  1639]], dtype=int64),\n",
       "  '              precision    recall  f1-score   support\\n\\n           0       1.00      0.98      0.99     40000\\n           1       0.72      1.00      0.84      1643\\n\\n    accuracy                           0.98     41643\\n   macro avg       0.86      0.99      0.92     41643\\nweighted avg       0.99      0.98      0.99     41643\\n'),\n",
       " ('ADASYN dataset2 Random Forest  Selection',\n",
       "  0.9963259131186514,\n",
       "  0.9553805774278216,\n",
       "  0.9966283931832015,\n",
       "  array([[39852,   148],\n",
       "         [    5,  1638]], dtype=int64),\n",
       "  '              precision    recall  f1-score   support\\n\\n           0       1.00      1.00      1.00     40000\\n           1       0.92      1.00      0.96      1643\\n\\n    accuracy                           1.00     41643\\n   macro avg       0.96      1.00      0.98     41643\\nweighted avg       1.00      1.00      1.00     41643\\n'),\n",
       " ('ADASYN dataset2 Forward feature selection',\n",
       "  0.9525250342194367,\n",
       "  0.6235002856598744,\n",
       "  0.9735365718198419,\n",
       "  array([[38029,  1971],\n",
       "         [    6,  1637]], dtype=int64),\n",
       "  '              precision    recall  f1-score   support\\n\\n           0       1.00      0.95      0.97     40000\\n           1       0.45      1.00      0.62      1643\\n\\n    accuracy                           0.95     41643\\n   macro avg       0.73      0.97      0.80     41643\\nweighted avg       0.98      0.95      0.96     41643\\n'),\n",
       " ('Borderline SMOTE dataset2 RCF',\n",
       "  0.9922676080013447,\n",
       "  0.9104062326099054,\n",
       "  0.993932250456482,\n",
       "  array([[39685,   315],\n",
       "         [    7,  1636]], dtype=int64),\n",
       "  '              precision    recall  f1-score   support\\n\\n           0       1.00      0.99      1.00     40000\\n           1       0.84      1.00      0.91      1643\\n\\n    accuracy                           0.99     41643\\n   macro avg       0.92      0.99      0.95     41643\\nweighted avg       0.99      0.99      0.99     41643\\n'),\n",
       " ('Borderline SMOTE dataset2 Random Forest  Selection',\n",
       "  0.9998078908820209,\n",
       "  0.9975609756097561,\n",
       "  0.997857250456482,\n",
       "  array([[39999,     1],\n",
       "         [    7,  1636]], dtype=int64),\n",
       "  '              precision    recall  f1-score   support\\n\\n           0       1.00      1.00      1.00     40000\\n           1       1.00      1.00      1.00      1643\\n\\n    accuracy                           1.00     41643\\n   macro avg       1.00      1.00      1.00     41643\\nweighted avg       1.00      1.00      1.00     41643\\n'),\n",
       " ('Borderline SMOTE dataset2 Forward feature selection',\n",
       "  0.9998319045217684,\n",
       "  0.9978652028057334,\n",
       "  0.997869750456482,\n",
       "  array([[40000,     0],\n",
       "         [    7,  1636]], dtype=int64),\n",
       "  '              precision    recall  f1-score   support\\n\\n           0       1.00      1.00      1.00     40000\\n           1       1.00      1.00      1.00      1643\\n\\n    accuracy                           1.00     41643\\n   macro avg       1.00      1.00      1.00     41643\\nweighted avg       1.00      1.00      1.00     41643\\n'),\n",
       " ('SVM SMOTE dataset2 RCF',\n",
       "  0.9909708714549864,\n",
       "  0.8969298245614035,\n",
       "  0.9932572504564819,\n",
       "  array([[39631,   369],\n",
       "         [    7,  1636]], dtype=int64),\n",
       "  '              precision    recall  f1-score   support\\n\\n           0       1.00      0.99      1.00     40000\\n           1       0.82      1.00      0.90      1643\\n\\n    accuracy                           0.99     41643\\n   macro avg       0.91      0.99      0.95     41643\\nweighted avg       0.99      0.99      0.99     41643\\n'),\n",
       " ('SVM SMOTE dataset2 Random Forest  Selection',\n",
       "  0.9997598636025262,\n",
       "  0.9969530773918341,\n",
       "  0.9978322504564819,\n",
       "  array([[39997,     3],\n",
       "         [    7,  1636]], dtype=int64),\n",
       "  '              precision    recall  f1-score   support\\n\\n           0       1.00      1.00      1.00     40000\\n           1       1.00      1.00      1.00      1643\\n\\n    accuracy                           1.00     41643\\n   macro avg       1.00      1.00      1.00     41643\\nweighted avg       1.00      1.00      1.00     41643\\n'),\n",
       " ('SVM SMOTE dataset2 Forward feature selection',\n",
       "  0.95963307158466,\n",
       "  0.6607467204843591,\n",
       "  0.9772365718198417,\n",
       "  array([[38325,  1675],\n",
       "         [    6,  1637]], dtype=int64),\n",
       "  '              precision    recall  f1-score   support\\n\\n           0       1.00      0.96      0.98     40000\\n           1       0.49      1.00      0.66      1643\\n\\n    accuracy                           0.96     41643\\n   macro avg       0.75      0.98      0.82     41643\\nweighted avg       0.98      0.96      0.97     41643\\n'),\n",
       " ('SMOTE Tomek dataset2 RCF',\n",
       "  0.9915712124486709,\n",
       "  0.9031724137931034,\n",
       "  0.9938615718198418,\n",
       "  array([[39655,   345],\n",
       "         [    6,  1637]], dtype=int64),\n",
       "  '              precision    recall  f1-score   support\\n\\n           0       1.00      0.99      1.00     40000\\n           1       0.83      1.00      0.90      1643\\n\\n    accuracy                           0.99     41643\\n   macro avg       0.91      0.99      0.95     41643\\nweighted avg       0.99      0.99      0.99     41643\\n'),\n",
       " ('SMOTE Tomek dataset2 Random Forest  Selection',\n",
       "  0.9996878226832842,\n",
       "  0.9960402071276272,\n",
       "  0.9975029290931223,\n",
       "  array([[39995,     5],\n",
       "         [    8,  1635]], dtype=int64),\n",
       "  '              precision    recall  f1-score   support\\n\\n           0       1.00      1.00      1.00     40000\\n           1       1.00      1.00      1.00      1643\\n\\n    accuracy                           1.00     41643\\n   macro avg       1.00      1.00      1.00     41643\\nweighted avg       1.00      1.00      1.00     41643\\n'),\n",
       " ('SMOTE Tomek dataset2 Forward feature selection',\n",
       "  0.9997838772422736,\n",
       "  0.9972586049345111,\n",
       "  0.9981365718198417,\n",
       "  array([[39997,     3],\n",
       "         [    6,  1637]], dtype=int64),\n",
       "  '              precision    recall  f1-score   support\\n\\n           0       1.00      1.00      1.00     40000\\n           1       1.00      1.00      1.00      1643\\n\\n    accuracy                           1.00     41643\\n   macro avg       1.00      1.00      1.00     41643\\nweighted avg       1.00      1.00      1.00     41643\\n')]"
      ]
     },
     "execution_count": 92,
     "metadata": {},
     "output_type": "execute_result"
    }
   ],
   "source": [
    "all_results"
   ]
  },
  {
   "cell_type": "code",
   "execution_count": null,
   "metadata": {},
   "outputs": [],
   "source": []
  }
 ],
 "metadata": {
  "kernelspec": {
   "display_name": "Python 3",
   "language": "python",
   "name": "python3"
  },
  "language_info": {
   "codemirror_mode": {
    "name": "ipython",
    "version": 3
   },
   "file_extension": ".py",
   "mimetype": "text/x-python",
   "name": "python",
   "nbconvert_exporter": "python",
   "pygments_lexer": "ipython3",
   "version": "3.7.3"
  }
 },
 "nbformat": 4,
 "nbformat_minor": 2
}
