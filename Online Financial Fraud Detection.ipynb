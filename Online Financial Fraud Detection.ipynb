{
 "cells": [
  {
   "cell_type": "markdown",
   "metadata": {},
   "source": [
    "### Importing necessary libraries"
   ]
  },
  {
   "cell_type": "code",
   "execution_count": 1,
   "metadata": {},
   "outputs": [],
   "source": [
    "import numpy as np\n",
    "import pandas as pd\n",
    "\n",
    "from imblearn.under_sampling import RandomUnderSampler\n",
    "from sklearn.svm import SVC \n",
    "from sklearn.naive_bayes import GaussianNB \n",
    "from sklearn import tree\n",
    "from sklearn.model_selection import cross_val_score\n",
    "from sklearn.neighbors import KNeighborsClassifier\n",
    "from sklearn.linear_model import LogisticRegression\n",
    "from sklearn.ensemble import VotingClassifier\n",
    "from sklearn.ensemble import RandomForestClassifier\n",
    "from sklearn import metrics\n",
    "from collections import Counter\n",
    "from sklearn.model_selection import train_test_split\n",
    "from sklearn.preprocessing import RobustScaler,StandardScaler\n",
    "from imblearn.over_sampling import RandomOverSampler\n",
    "from mlxtend.feature_selection import SequentialFeatureSelector as sfs\n",
    "from sklearn.feature_selection import SelectKBest\n",
    "from sklearn.feature_selection import f_classif\n",
    "from sklearn.model_selection import cross_val_score\n",
    "from sklearn.model_selection import RepeatedStratifiedKFold\n",
    "from xgboost import XGBClassifier\n",
    "import seaborn as sns\n",
    "import matplotlib.pyplot as plt\n",
    "import smote_variants as sv"
   ]
  },
  {
   "cell_type": "code",
   "execution_count": 2,
   "metadata": {},
   "outputs": [],
   "source": [
    "pd.options.mode.chained_assignment = None  # default='warn'"
   ]
  },
  {
   "cell_type": "markdown",
   "metadata": {},
   "source": [
    "### Working with dataset 1 : European credit card transactions dataset  by Machine Learning group of University of Brussels"
   ]
  },
  {
   "cell_type": "code",
   "execution_count": 4,
   "metadata": {},
   "outputs": [
    {
     "name": "stdout",
     "output_type": "stream",
     "text": [
      "percentage of fraudulent data instances: 0.1727485630620034\n",
      "percentage of normal data instances: 99.827251436938\n",
      "(199364, 30) (199364,)\n",
      "0    199020\n",
      "1       344\n",
      "Name: Class, dtype: int64\n"
     ]
    }
   ],
   "source": [
    "data = pd.read_csv(\"creditcard.csv\")\n",
    "\n",
    "data.head()\n",
    "\n",
    "data['Class'].value_counts()\n",
    "\n",
    "len(data['Class'])\n",
    "\n",
    "print(\"percentage of fraudulent data instances: {}\".format(data['Class'].value_counts()[1] *100 /len(data['Class'])))\n",
    "print(\"percentage of normal data instances: {}\".format(data['Class'].value_counts()[0] *100 /len(data['Class'])))\n",
    "\n",
    "# Rescaling the data\n",
    "\n",
    "\n",
    "\n",
    "rs = RobustScaler()\n",
    "\n",
    "data['scaled_amount'] = rs.fit_transform(data['Amount'].values.reshape(-1, 1))\n",
    "data['scaled_time'] = rs.fit_transform(data['Time'].values.reshape(-1, 1))\n",
    "\n",
    "data.drop(['Amount', 'Time'], axis = 1, inplace = True)\n",
    "\n",
    "\n",
    "\n",
    "X = data.drop(['Class'], axis = 1)\n",
    "y = data['Class']\n",
    "\n",
    "X_train, X_test, y_train, y_test = train_test_split(X, y, test_size = 0.30, random_state = 0, \n",
    "                                                    stratify = y)\n",
    "\n",
    "print(X_train.shape, y_train.shape)\n",
    "print(y_train.value_counts())\n",
    "\n"
   ]
  },
  {
   "cell_type": "code",
   "execution_count": 6,
   "metadata": {},
   "outputs": [],
   "source": [
    "all_dataset=dict()"
   ]
  },
  {
   "cell_type": "code",
   "execution_count": 7,
   "metadata": {},
   "outputs": [],
   "source": [
    "all_results=[]"
   ]
  },
  {
   "cell_type": "code",
   "execution_count": 9,
   "metadata": {},
   "outputs": [],
   "source": [
    " def training_testing_function(X,y,name):\n",
    "        \n",
    "        #removing highly correlated features\n",
    "        corr = X.corr()\n",
    "        columns = np.full((corr.shape[0],), True, dtype=bool)\n",
    "        for i in range(corr.shape[0]):\n",
    "            for j in range(i+1, corr.shape[0]):\n",
    "                if abs(corr.iloc[i,j]) > 0.5:\n",
    "                    if columns[j]:\n",
    "                        columns[j] = False\n",
    "        selected_columns = X.columns[columns]\n",
    "        X1 = X[selected_columns]\n",
    "        \n",
    "\n",
    "        # Train LogisticRegression Model\n",
    "        LGR_Classifier = LogisticRegression(multi_class='auto', random_state=1,solver='lbfgs',max_iter=200)\n",
    "        LGR_Classifier.fit(X1, y.values.ravel())\n",
    "\n",
    "        # Train Gaussian Naive Baye Model\n",
    "        GNB_Classifier = GaussianNB()\n",
    "        GNB_Classifier.fit(X1,y.values.ravel())\n",
    "\n",
    "        # Train Decision Tree Model\n",
    "        DTC_Classifier = tree.DecisionTreeClassifier(criterion='entropy', random_state=0)\n",
    "        DTC_Classifier.fit(X1, y.values.ravel());\n",
    "        \n",
    "        XGB_Classifier = XGBClassifier(scale_pos_weight=500)\n",
    "        XGB_Classifier.fit(X1,y.values.ravel())\n",
    "        \n",
    "        \n",
    "\n",
    "        ## Train combined model (This method combines all the individual models above)\n",
    "        combined_model = [('Naive Baye Classifier', GNB_Classifier), \n",
    "                         ('Decision Tree Classifier', DTC_Classifier), \n",
    "                         ('LogisticRegression', LGR_Classifier),\n",
    "                          ('Gradient Boosting Classifier', XGB_Classifier)\n",
    "                        ]\n",
    "        VC =  VotingClassifier(estimators = combined_model,voting = 'soft')\n",
    "        VC.fit(X1, y.values.ravel());\n",
    "\n",
    "        models = [('Naive Baye Classifier', GNB_Classifier), \n",
    "                         ('Decision Tree Classifier', DTC_Classifier), \n",
    "                         ('LogisticRegression', LGR_Classifier),\n",
    "                          ('Gradient Boosting Classifier', XGB_Classifier),\n",
    "                  ('VotingClassifier', VC)]\n",
    "\n",
    "        for i, v in models:\n",
    "            accuracy = metrics.accuracy_score(y_test.values.ravel(), v.predict(X_test[selected_columns]))\n",
    "            f1 = metrics.f1_score(y_test.values.ravel(),v.predict(X_test[selected_columns]))\n",
    "            auc_score = metrics.roc_auc_score(y_test.values.ravel(),v.predict(X_test[selected_columns]))\n",
    "            confusion_matrix = metrics.confusion_matrix(y_test.values.ravel(), v.predict(X_test[selected_columns]))\n",
    "            classification = metrics.classification_report(y_test.values.ravel(), v.predict(X_test[selected_columns]))\n",
    "\n",
    "            \n",
    "            all_results.append((name+\" \"+i+str(\" RCF\"),accuracy,f1,auc_score,confusion_matrix,classification)) #RCF = Removing correlated features\n",
    "            print(\"{} Completed\".format(name +\" \"+i+str(\" RCF\")))\n",
    "        \n",
    "        \n",
    "        \n",
    "        \n",
    "      \n",
    "\n",
    "        rfc = RandomForestClassifier();\n",
    "\n",
    "        # fit random forest classifier on the training set\n",
    "        rfc.fit(X, y.values.ravel());\n",
    "        # extract important features\n",
    "        score = np.round(rfc.feature_importances_,3)\n",
    "\n",
    "        importances = pd.DataFrame({'feature':X.columns,'importance':score})\n",
    "        importances = importances.sort_values('importance',ascending=False).set_index('feature')\n",
    "\n",
    "        min_features=min(len(importances),20)\n",
    "        \n",
    "        final_features=list(importances[:20].index)\n",
    "\n",
    "        X2=X[final_features]\n",
    "\n",
    "    \n",
    "\n",
    "        # Train LogisticRegression Model\n",
    "        LGR_Classifier = LogisticRegression(multi_class='auto', random_state=1,solver='lbfgs',max_iter=200)\n",
    "        LGR_Classifier.fit(X2, y.values.ravel())\n",
    "\n",
    "        # Train Gaussian Naive Baye Model\n",
    "        GNB_Classifier = GaussianNB()\n",
    "        GNB_Classifier.fit(X2, y.values.ravel())\n",
    "\n",
    "        # Train Decision Tree Model\n",
    "        DTC_Classifier = tree.DecisionTreeClassifier(criterion='entropy', random_state=0)\n",
    "        DTC_Classifier.fit(X2, y.values.ravel())\n",
    "        \n",
    "        XGB_Classifier = XGBClassifier(scale_pos_weight=500)\n",
    "        XGB_Classifier.fit(X2,y.values.ravel())\n",
    "\n",
    "        ## Train comvined model (This method combines all the individual models)\n",
    "        combined_model = [('Naive Baye Classifier', GNB_Classifier), \n",
    "                         ('Decision Tree Classifier', DTC_Classifier), \n",
    "                         ('LogisticRegression', LGR_Classifier),\n",
    "                        ('Gradient Boosting Classifier', XGB_Classifier)\n",
    "                        ]\n",
    "        VC =  VotingClassifier(estimators = combined_model,voting = 'soft')\n",
    "        VC.fit(X2, y.values.ravel());\n",
    "\n",
    "        models = [('Naive Baye Classifier', GNB_Classifier), \n",
    "                         ('Decision Tree Classifier', DTC_Classifier), \n",
    "                         ('LogisticRegression', LGR_Classifier),\n",
    "                          ('Gradient Boosting Classifier', XGB_Classifier),\n",
    "                  ('VotingClassifier', VC)]\n",
    "\n",
    "        for i, v in models:\n",
    "            accuracy = metrics.accuracy_score(y_test.values.ravel(), v.predict(X_test[final_features]))\n",
    "            confusion_matrix = metrics.confusion_matrix(y_test.values.ravel(), v.predict(X_test[final_features]))\n",
    "            classification = metrics.classification_report(y_test.values.ravel(), v.predict(X_test[final_features]))\n",
    "            f1 = metrics.f1_score(y_test.values.ravel(),v.predict(X_test[final_features]))\n",
    "            auc_score = metrics.roc_auc_score(y_test.values.ravel(),v.predict(X_test[final_features]))\n",
    "        \n",
    "            all_results.append((name+\" \"+i+str(\" Random Forest  Selection\"),accuracy,f1,auc_score,confusion_matrix,classification))\n",
    "            print(\"{} Completed\".format(name+\" \"+i+str(\" Random Forest Selection\")))\n",
    "        \n",
    "        if len(X_train.columns) > 10:\n",
    "            n = 10\n",
    "        else:\n",
    "            n=5\n",
    "            \n",
    "        fs = SelectKBest(score_func=f_classif, k=n)\n",
    "        # apply feature selection\n",
    "        fs.fit(X, y)\n",
    "        X3 = fs.transform(X)\n",
    "        X3_test = fs.transform(X_test)\n",
    "\n",
    "                  \n",
    "\n",
    "        # Train LogisticRegression Model\n",
    "        LGR_Classifier = LogisticRegression(multi_class='auto', random_state=1,solver='lbfgs',max_iter=200)\n",
    "        LGR_Classifier.fit(X3, y.values.ravel());\n",
    "\n",
    "        # Train Gaussian Naive Baye Model\n",
    "        GNB_Classifier = GaussianNB()\n",
    "        GNB_Classifier.fit(X3, y.values.ravel())\n",
    "\n",
    "        # Train Decision Tree Model\n",
    "        DTC_Classifier = tree.DecisionTreeClassifier(criterion='entropy', random_state=0)\n",
    "        DTC_Classifier.fit(X3, y.values.ravel());\n",
    "        \n",
    "        XGB_Classifier = XGBClassifier(scale_pos_weight=500)\n",
    "        XGB_Classifier.fit(X3,y.values.ravel())\n",
    "\n",
    "        ## Train combined model (This method combines all the individual models)\n",
    "        combined_model = [('Naive Baye Classifier', GNB_Classifier), \n",
    "                         ('Decision Tree Classifier', DTC_Classifier), \n",
    "                         ('LogisticRegression', LGR_Classifier),\n",
    "                         ('Gradient Boosting Classifier', XGB_Classifier)\n",
    "                        ]\n",
    "        VC =  VotingClassifier(estimators = combined_model,voting = 'soft')\n",
    "        VC.fit(X3, y.values.ravel());\n",
    "        \n",
    "        models = [('Naive Baye Classifier', GNB_Classifier), \n",
    "                         ('Decision Tree Classifier', DTC_Classifier), \n",
    "                         ('LogisticRegression', LGR_Classifier),\n",
    "                          ('Gradient Boosting Classifier', XGB_Classifier),\n",
    "                  ('VotingClassifier', VC)]\n",
    "\n",
    "        for i, v in models:\n",
    "            accuracy = metrics.accuracy_score(y_test.values.ravel(), v.predict(X3_test))\n",
    "            confusion_matrix = metrics.confusion_matrix(y_test.values.ravel(), v.predict(X3_test))\n",
    "            classification = metrics.classification_report(y_test.values.ravel(), v.predict(X3_test))\n",
    "            f1 = metrics.f1_score(y_test.values.ravel(),v.predict(X3_test))\n",
    "            auc_score = metrics.roc_auc_score(y_test.values.ravel(),v.predict(X3_test))\n",
    "        \n",
    "            all_results.append((name+\" \"+i+str(\" Forward feature selection\"),accuracy,f1,auc_score,confusion_matrix,classification))\n",
    "            print(\"{} Completed\".format(name+\" \"+i+str(\" Forward feature selection\")))\n"
   ]
  },
  {
   "cell_type": "markdown",
   "metadata": {},
   "source": [
    "#### 1. Random Undersample"
   ]
  },
  {
   "cell_type": "code",
   "execution_count": 10,
   "metadata": {},
   "outputs": [
    {
     "name": "stdout",
     "output_type": "stream",
     "text": [
      "Counter({0: 344, 1: 344})\n"
     ]
    }
   ],
   "source": [
    "undersample = RandomUnderSampler(sampling_strategy='majority')\n",
    "# fit and apply the transform\n",
    "all_dataset[\"X_train_undersample\"], all_dataset[\"y_train_undersample\"] = undersample.fit_resample(X_train, y_train)\n",
    "# summarize class distribution\n",
    "print(Counter(all_dataset[\"y_train_undersample\"]))"
   ]
  },
  {
   "cell_type": "code",
   "execution_count": 11,
   "metadata": {},
   "outputs": [
    {
     "name": "stdout",
     "output_type": "stream",
     "text": [
      "Random Undersample Naive Baye Classifier RCF Completed\n",
      "Random Undersample Decision Tree Classifier RCF Completed\n",
      "Random Undersample LogisticRegression RCF Completed\n",
      "Random Undersample Gradient Boosting Classifier RCF Completed\n",
      "Random Undersample VotingClassifier RCF Completed\n",
      "Random Undersample Naive Baye Classifier Random Forest Selection Completed\n",
      "Random Undersample Decision Tree Classifier Random Forest Selection Completed\n",
      "Random Undersample LogisticRegression Random Forest Selection Completed\n",
      "Random Undersample Gradient Boosting Classifier Random Forest Selection Completed\n",
      "Random Undersample VotingClassifier Random Forest Selection Completed\n",
      "Random Undersample Naive Baye Classifier Forward feature selection Completed\n",
      "Random Undersample Decision Tree Classifier Forward feature selection Completed\n",
      "Random Undersample LogisticRegression Forward feature selection Completed\n",
      "Random Undersample Gradient Boosting Classifier Forward feature selection Completed\n",
      "Random Undersample VotingClassifier Forward feature selection Completed\n"
     ]
    }
   ],
   "source": [
    "training_testing_function(all_dataset[\"X_train_undersample\"],all_dataset[\"y_train_undersample\"],\"Random Undersample\")"
   ]
  },
  {
   "cell_type": "markdown",
   "metadata": {},
   "source": [
    "#### 2. Instance Hardness Threshold"
   ]
  },
  {
   "cell_type": "code",
   "execution_count": 12,
   "metadata": {},
   "outputs": [],
   "source": [
    "from imblearn.under_sampling import InstanceHardnessThreshold"
   ]
  },
  {
   "cell_type": "code",
   "execution_count": 13,
   "metadata": {},
   "outputs": [
    {
     "name": "stdout",
     "output_type": "stream",
     "text": [
      "Resampled dataset shape Counter({0: 194512, 1: 344})\n"
     ]
    }
   ],
   "source": [
    "iht = InstanceHardnessThreshold(sampling_strategy='majority', random_state=42)\n",
    "all_dataset[\"X_train_res\"], all_dataset[\"y_train_res\"] = iht.fit_resample(X_train, y_train)\n",
    "print('Resampled dataset shape %s' % Counter(all_dataset[\"y_train_res\"]))"
   ]
  },
  {
   "cell_type": "code",
   "execution_count": 14,
   "metadata": {
    "scrolled": true
   },
   "outputs": [
    {
     "name": "stdout",
     "output_type": "stream",
     "text": [
      "IHT Naive Baye Classifier RCF Completed\n",
      "IHT Decision Tree Classifier RCF Completed\n",
      "IHT LogisticRegression RCF Completed\n",
      "IHT Gradient Boosting Classifier RCF Completed\n",
      "IHT VotingClassifier RCF Completed\n",
      "IHT Naive Baye Classifier Random Forest Selection Completed\n",
      "IHT Decision Tree Classifier Random Forest Selection Completed\n",
      "IHT LogisticRegression Random Forest Selection Completed\n",
      "IHT Gradient Boosting Classifier Random Forest Selection Completed\n",
      "IHT VotingClassifier Random Forest Selection Completed\n",
      "IHT Naive Baye Classifier Forward feature selection Completed\n",
      "IHT Decision Tree Classifier Forward feature selection Completed\n",
      "IHT LogisticRegression Forward feature selection Completed\n",
      "IHT Gradient Boosting Classifier Forward feature selection Completed\n",
      "IHT VotingClassifier Forward feature selection Completed\n"
     ]
    }
   ],
   "source": [
    "training_testing_function(all_dataset[\"X_train_res\"],all_dataset[\"y_train_res\"],\"IHT\")"
   ]
  },
  {
   "cell_type": "markdown",
   "metadata": {},
   "source": [
    "#### 3. Cluster Centroid"
   ]
  },
  {
   "cell_type": "code",
   "execution_count": 15,
   "metadata": {},
   "outputs": [],
   "source": [
    "from imblearn.under_sampling import ClusterCentroids"
   ]
  },
  {
   "cell_type": "code",
   "execution_count": 16,
   "metadata": {},
   "outputs": [],
   "source": [
    "all_dataset[\"X_cluster_centroids\"],all_dataset[\"y_cluster_centroids\"]  = ClusterCentroids().fit_resample(X_train,y_train)"
   ]
  },
  {
   "cell_type": "code",
   "execution_count": 17,
   "metadata": {},
   "outputs": [
    {
     "name": "stdout",
     "output_type": "stream",
     "text": [
      "Cluster centroids Naive Baye Classifier RCF Completed\n",
      "Cluster centroids Decision Tree Classifier RCF Completed\n",
      "Cluster centroids LogisticRegression RCF Completed\n",
      "Cluster centroids Gradient Boosting Classifier RCF Completed\n",
      "Cluster centroids VotingClassifier RCF Completed\n",
      "Cluster centroids Naive Baye Classifier Random Forest Selection Completed\n",
      "Cluster centroids Decision Tree Classifier Random Forest Selection Completed\n",
      "Cluster centroids LogisticRegression Random Forest Selection Completed\n",
      "Cluster centroids Gradient Boosting Classifier Random Forest Selection Completed\n",
      "Cluster centroids VotingClassifier Random Forest Selection Completed\n",
      "Cluster centroids Naive Baye Classifier Forward feature selection Completed\n",
      "Cluster centroids Decision Tree Classifier Forward feature selection Completed\n",
      "Cluster centroids LogisticRegression Forward feature selection Completed\n",
      "Cluster centroids Gradient Boosting Classifier Forward feature selection Completed\n",
      "Cluster centroids VotingClassifier Forward feature selection Completed\n"
     ]
    }
   ],
   "source": [
    "training_testing_function(all_dataset[\"X_cluster_centroids\"],all_dataset[\"y_cluster_centroids\"],\"Cluster centroids\")"
   ]
  },
  {
   "cell_type": "markdown",
   "metadata": {},
   "source": [
    "#### 4. Near Miss"
   ]
  },
  {
   "cell_type": "code",
   "execution_count": 18,
   "metadata": {},
   "outputs": [],
   "source": [
    "from imblearn.under_sampling import NearMiss"
   ]
  },
  {
   "cell_type": "code",
   "execution_count": 19,
   "metadata": {},
   "outputs": [
    {
     "name": "stdout",
     "output_type": "stream",
     "text": [
      "Near Miss Naive Baye Classifier RCF Completed\n",
      "Near Miss Decision Tree Classifier RCF Completed\n",
      "Near Miss LogisticRegression RCF Completed\n",
      "Near Miss Gradient Boosting Classifier RCF Completed\n",
      "Near Miss VotingClassifier RCF Completed\n",
      "Near Miss Naive Baye Classifier Random Forest Selection Completed\n",
      "Near Miss Decision Tree Classifier Random Forest Selection Completed\n",
      "Near Miss LogisticRegression Random Forest Selection Completed\n",
      "Near Miss Gradient Boosting Classifier Random Forest Selection Completed\n",
      "Near Miss VotingClassifier Random Forest Selection Completed\n",
      "Near Miss Naive Baye Classifier Forward feature selection Completed\n",
      "Near Miss Decision Tree Classifier Forward feature selection Completed\n",
      "Near Miss LogisticRegression Forward feature selection Completed\n",
      "Near Miss Gradient Boosting Classifier Forward feature selection Completed\n",
      "Near Miss VotingClassifier Forward feature selection Completed\n"
     ]
    }
   ],
   "source": [
    "all_dataset['X_near_miss'],all_dataset['y_near_miss'] = NearMiss().fit_resample(X_train,y_train)\n",
    "training_testing_function(all_dataset['X_near_miss'],all_dataset['y_near_miss'],\"Near Miss\")"
   ]
  },
  {
   "cell_type": "markdown",
   "metadata": {},
   "source": [
    "#### 5. One Sided Selection"
   ]
  },
  {
   "cell_type": "code",
   "execution_count": 20,
   "metadata": {},
   "outputs": [],
   "source": [
    "from imblearn.under_sampling import OneSidedSelection"
   ]
  },
  {
   "cell_type": "code",
   "execution_count": 21,
   "metadata": {},
   "outputs": [
    {
     "name": "stdout",
     "output_type": "stream",
     "text": [
      "One Sided Selection Naive Baye Classifier RCF Completed\n",
      "One Sided Selection Decision Tree Classifier RCF Completed\n",
      "One Sided Selection LogisticRegression RCF Completed\n",
      "One Sided Selection Gradient Boosting Classifier RCF Completed\n",
      "One Sided Selection VotingClassifier RCF Completed\n",
      "One Sided Selection Naive Baye Classifier Random Forest Selection Completed\n",
      "One Sided Selection Decision Tree Classifier Random Forest Selection Completed\n",
      "One Sided Selection LogisticRegression Random Forest Selection Completed\n",
      "One Sided Selection Gradient Boosting Classifier Random Forest Selection Completed\n",
      "One Sided Selection VotingClassifier Random Forest Selection Completed\n",
      "One Sided Selection Naive Baye Classifier Forward feature selection Completed\n",
      "One Sided Selection Decision Tree Classifier Forward feature selection Completed\n",
      "One Sided Selection LogisticRegression Forward feature selection Completed\n",
      "One Sided Selection Gradient Boosting Classifier Forward feature selection Completed\n",
      "One Sided Selection VotingClassifier Forward feature selection Completed\n"
     ]
    }
   ],
   "source": [
    "all_dataset['X_one_sided_selection'],all_dataset['y_one_sided_selection'] = OneSidedSelection().fit_resample(X_train,y_train)\n",
    "training_testing_function(all_dataset['X_one_sided_selection'],all_dataset['y_one_sided_selection'],\"One Sided Selection\")"
   ]
  },
  {
   "cell_type": "markdown",
   "metadata": {},
   "source": [
    "#### 6. Tomek Links"
   ]
  },
  {
   "cell_type": "code",
   "execution_count": 22,
   "metadata": {},
   "outputs": [],
   "source": [
    "from imblearn.under_sampling import TomekLinks"
   ]
  },
  {
   "cell_type": "code",
   "execution_count": 23,
   "metadata": {},
   "outputs": [],
   "source": [
    "all_dataset['X_tomek_links'],all_dataset['y_tomek_links'] = TomekLinks().fit_resample(X_train,y_train)\n"
   ]
  },
  {
   "cell_type": "code",
   "execution_count": 24,
   "metadata": {},
   "outputs": [
    {
     "name": "stdout",
     "output_type": "stream",
     "text": [
      "Tomek Links Naive Baye Classifier RCF Completed\n",
      "Tomek Links Decision Tree Classifier RCF Completed\n",
      "Tomek Links LogisticRegression RCF Completed\n",
      "Tomek Links Gradient Boosting Classifier RCF Completed\n",
      "Tomek Links VotingClassifier RCF Completed\n",
      "Tomek Links Naive Baye Classifier Random Forest Selection Completed\n",
      "Tomek Links Decision Tree Classifier Random Forest Selection Completed\n",
      "Tomek Links LogisticRegression Random Forest Selection Completed\n",
      "Tomek Links Gradient Boosting Classifier Random Forest Selection Completed\n",
      "Tomek Links VotingClassifier Random Forest Selection Completed\n",
      "Tomek Links Naive Baye Classifier Forward feature selection Completed\n",
      "Tomek Links Decision Tree Classifier Forward feature selection Completed\n",
      "Tomek Links LogisticRegression Forward feature selection Completed\n",
      "Tomek Links Gradient Boosting Classifier Forward feature selection Completed\n",
      "Tomek Links VotingClassifier Forward feature selection Completed\n"
     ]
    }
   ],
   "source": [
    "training_testing_function(all_dataset['X_tomek_links'],all_dataset['y_tomek_links'],\"Tomek Links\")"
   ]
  },
  {
   "cell_type": "markdown",
   "metadata": {},
   "source": [
    "### Oversampling data"
   ]
  },
  {
   "cell_type": "markdown",
   "metadata": {},
   "source": [
    "#### 1. Random Oversampling"
   ]
  },
  {
   "cell_type": "code",
   "execution_count": 25,
   "metadata": {},
   "outputs": [
    {
     "name": "stdout",
     "output_type": "stream",
     "text": [
      "[(0, 199020), (1, 199020)]\n"
     ]
    }
   ],
   "source": [
    "ros = RandomOverSampler(random_state=0)\n",
    "all_dataset[\"X_train_random_oversampled\"], all_dataset[\"y_train_random_oversampled\"] = ros.fit_resample(X_train, y_train)\n",
    "from collections import Counter\n",
    "print(sorted(Counter(all_dataset[\"y_train_random_oversampled\"]).items()))"
   ]
  },
  {
   "cell_type": "code",
   "execution_count": 26,
   "metadata": {},
   "outputs": [
    {
     "name": "stdout",
     "output_type": "stream",
     "text": [
      "Random Oversampled Naive Baye Classifier RCF Completed\n",
      "Random Oversampled Decision Tree Classifier RCF Completed\n",
      "Random Oversampled LogisticRegression RCF Completed\n",
      "Random Oversampled Gradient Boosting Classifier RCF Completed\n",
      "Random Oversampled VotingClassifier RCF Completed\n",
      "Random Oversampled Naive Baye Classifier Random Forest Selection Completed\n",
      "Random Oversampled Decision Tree Classifier Random Forest Selection Completed\n",
      "Random Oversampled LogisticRegression Random Forest Selection Completed\n",
      "Random Oversampled Gradient Boosting Classifier Random Forest Selection Completed\n",
      "Random Oversampled VotingClassifier Random Forest Selection Completed\n",
      "Random Oversampled Naive Baye Classifier Forward feature selection Completed\n",
      "Random Oversampled Decision Tree Classifier Forward feature selection Completed\n",
      "Random Oversampled LogisticRegression Forward feature selection Completed\n",
      "Random Oversampled Gradient Boosting Classifier Forward feature selection Completed\n",
      "Random Oversampled VotingClassifier Forward feature selection Completed\n"
     ]
    }
   ],
   "source": [
    "training_testing_function(all_dataset[\"X_train_random_oversampled\"],all_dataset[\"y_train_random_oversampled\"],\"Random Oversampled\")"
   ]
  },
  {
   "cell_type": "markdown",
   "metadata": {},
   "source": [
    "#### 2. SMOTE"
   ]
  },
  {
   "cell_type": "code",
   "execution_count": 27,
   "metadata": {},
   "outputs": [
    {
     "name": "stdout",
     "output_type": "stream",
     "text": [
      "[(0, 199020), (1, 199020)]\n"
     ]
    }
   ],
   "source": [
    "from imblearn.over_sampling import SMOTE, ADASYN\n",
    "all_dataset[\"X_smote\"], all_dataset[\"y_smote\"] = SMOTE(sampling_strategy='minority').fit_resample(X_train, y_train)\n",
    "print(sorted(Counter(all_dataset[\"y_smote\"]).items()))\n",
    "\n"
   ]
  },
  {
   "cell_type": "code",
   "execution_count": 28,
   "metadata": {},
   "outputs": [
    {
     "name": "stdout",
     "output_type": "stream",
     "text": [
      "SMOTE Naive Baye Classifier RCF Completed\n",
      "SMOTE Decision Tree Classifier RCF Completed\n",
      "SMOTE LogisticRegression RCF Completed\n",
      "SMOTE Gradient Boosting Classifier RCF Completed\n",
      "SMOTE VotingClassifier RCF Completed\n",
      "SMOTE Naive Baye Classifier Random Forest Selection Completed\n",
      "SMOTE Decision Tree Classifier Random Forest Selection Completed\n",
      "SMOTE LogisticRegression Random Forest Selection Completed\n",
      "SMOTE Gradient Boosting Classifier Random Forest Selection Completed\n",
      "SMOTE VotingClassifier Random Forest Selection Completed\n",
      "SMOTE Naive Baye Classifier Forward feature selection Completed\n",
      "SMOTE Decision Tree Classifier Forward feature selection Completed\n",
      "SMOTE LogisticRegression Forward feature selection Completed\n",
      "SMOTE Gradient Boosting Classifier Forward feature selection Completed\n",
      "SMOTE VotingClassifier Forward feature selection Completed\n"
     ]
    }
   ],
   "source": [
    "training_testing_function(all_dataset['X_smote'],all_dataset['y_smote'],\"SMOTE\")"
   ]
  },
  {
   "cell_type": "markdown",
   "metadata": {},
   "source": [
    "#### 3. ADASYN"
   ]
  },
  {
   "cell_type": "code",
   "execution_count": 29,
   "metadata": {},
   "outputs": [
    {
     "name": "stdout",
     "output_type": "stream",
     "text": [
      "[(0, 199020), (1, 199023)]\n"
     ]
    }
   ],
   "source": [
    "all_dataset['X_adasyn'],all_dataset['y_adasyn'] = ADASYN().fit_resample(X_train, y_train)\n",
    "print(sorted(Counter(all_dataset[\"y_adasyn\"]).items()))"
   ]
  },
  {
   "cell_type": "code",
   "execution_count": 30,
   "metadata": {},
   "outputs": [
    {
     "name": "stdout",
     "output_type": "stream",
     "text": [
      "ADASYN Naive Baye Classifier RCF Completed\n",
      "ADASYN Decision Tree Classifier RCF Completed\n",
      "ADASYN LogisticRegression RCF Completed\n",
      "ADASYN Gradient Boosting Classifier RCF Completed\n",
      "ADASYN VotingClassifier RCF Completed\n",
      "ADASYN Naive Baye Classifier Random Forest Selection Completed\n",
      "ADASYN Decision Tree Classifier Random Forest Selection Completed\n",
      "ADASYN LogisticRegression Random Forest Selection Completed\n",
      "ADASYN Gradient Boosting Classifier Random Forest Selection Completed\n",
      "ADASYN VotingClassifier Random Forest Selection Completed\n",
      "ADASYN Naive Baye Classifier Forward feature selection Completed\n",
      "ADASYN Decision Tree Classifier Forward feature selection Completed\n",
      "ADASYN LogisticRegression Forward feature selection Completed\n",
      "ADASYN Gradient Boosting Classifier Forward feature selection Completed\n",
      "ADASYN VotingClassifier Forward feature selection Completed\n"
     ]
    }
   ],
   "source": [
    "training_testing_function(all_dataset['X_adasyn'],all_dataset['y_adasyn'],\"ADASYN\")"
   ]
  },
  {
   "cell_type": "markdown",
   "metadata": {},
   "source": [
    "#### 4. Variations of SMOTE"
   ]
  },
  {
   "cell_type": "code",
   "execution_count": 31,
   "metadata": {},
   "outputs": [],
   "source": [
    "from imblearn.over_sampling import BorderlineSMOTE,SVMSMOTE"
   ]
  },
  {
   "cell_type": "code",
   "execution_count": 32,
   "metadata": {},
   "outputs": [
    {
     "name": "stdout",
     "output_type": "stream",
     "text": [
      "Borderline SMOTE Naive Baye Classifier RCF Completed\n",
      "Borderline SMOTE Decision Tree Classifier RCF Completed\n",
      "Borderline SMOTE LogisticRegression RCF Completed\n",
      "Borderline SMOTE Gradient Boosting Classifier RCF Completed\n",
      "Borderline SMOTE VotingClassifier RCF Completed\n",
      "Borderline SMOTE Naive Baye Classifier Random Forest Selection Completed\n",
      "Borderline SMOTE Decision Tree Classifier Random Forest Selection Completed\n",
      "Borderline SMOTE LogisticRegression Random Forest Selection Completed\n",
      "Borderline SMOTE Gradient Boosting Classifier Random Forest Selection Completed\n",
      "Borderline SMOTE VotingClassifier Random Forest Selection Completed\n",
      "Borderline SMOTE Naive Baye Classifier Forward feature selection Completed\n",
      "Borderline SMOTE Decision Tree Classifier Forward feature selection Completed\n",
      "Borderline SMOTE LogisticRegression Forward feature selection Completed\n",
      "Borderline SMOTE Gradient Boosting Classifier Forward feature selection Completed\n",
      "Borderline SMOTE VotingClassifier Forward feature selection Completed\n",
      "SVM SMOTE Naive Baye Classifier RCF Completed\n",
      "SVM SMOTE Decision Tree Classifier RCF Completed\n",
      "SVM SMOTE LogisticRegression RCF Completed\n",
      "SVM SMOTE Gradient Boosting Classifier RCF Completed\n",
      "SVM SMOTE VotingClassifier RCF Completed\n",
      "SVM SMOTE Naive Baye Classifier Random Forest Selection Completed\n",
      "SVM SMOTE Decision Tree Classifier Random Forest Selection Completed\n",
      "SVM SMOTE LogisticRegression Random Forest Selection Completed\n",
      "SVM SMOTE Gradient Boosting Classifier Random Forest Selection Completed\n",
      "SVM SMOTE VotingClassifier Random Forest Selection Completed\n",
      "SVM SMOTE Naive Baye Classifier Forward feature selection Completed\n",
      "SVM SMOTE Decision Tree Classifier Forward feature selection Completed\n",
      "SVM SMOTE LogisticRegression Forward feature selection Completed\n",
      "SVM SMOTE Gradient Boosting Classifier Forward feature selection Completed\n",
      "SVM SMOTE VotingClassifier Forward feature selection Completed\n"
     ]
    }
   ],
   "source": [
    "all_dataset[\"X_borderline_smote\"],all_dataset[\"y_borderline_smote\"] = BorderlineSMOTE().fit_resample(X_train,y_train)\n",
    "all_dataset[\"X_svm_smote\"],all_dataset[\"y_svm_smote\"] = SVMSMOTE().fit_resample(X_train,y_train)\n",
    "\n",
    "# X_kmeans_smote,y_kmeans_smote = KMeansSMOTE().fit_resample(X_train,y_train)\n",
    "\n",
    "\n",
    "# all_dataset[\"X_kmeans_smote\"],all_dataset[\"y_kmeans_smote\"]= X_kmeans_smote,y_kmeans_smote\n",
    "\n",
    "training_testing_function(all_dataset[\"X_borderline_smote\"],all_dataset[\"y_borderline_smote\"],\"Borderline SMOTE\")\n",
    "training_testing_function(all_dataset[\"X_svm_smote\"],all_dataset[\"y_svm_smote\"],\"SVM SMOTE\")\n",
    "\n",
    "# training_testing_function(all_dataset[\"X_kmeans_smote\"],all_dataset[\"y_kmeans_smote\"],\"KMeans SMOTE\")\n",
    "\n"
   ]
  },
  {
   "cell_type": "markdown",
   "metadata": {},
   "source": [
    "### Combination of Undersampling and Oversampling"
   ]
  },
  {
   "cell_type": "markdown",
   "metadata": {},
   "source": [
    "#### 1. SMOTETomek"
   ]
  },
  {
   "cell_type": "code",
   "execution_count": 33,
   "metadata": {},
   "outputs": [],
   "source": [
    "from imblearn.combine import SMOTETomek"
   ]
  },
  {
   "cell_type": "code",
   "execution_count": 34,
   "metadata": {},
   "outputs": [
    {
     "name": "stdout",
     "output_type": "stream",
     "text": [
      "SMOTE Tomek Naive Baye Classifier RCF Completed\n",
      "SMOTE Tomek Decision Tree Classifier RCF Completed\n",
      "SMOTE Tomek LogisticRegression RCF Completed\n",
      "SMOTE Tomek Gradient Boosting Classifier RCF Completed\n",
      "SMOTE Tomek VotingClassifier RCF Completed\n",
      "SMOTE Tomek Naive Baye Classifier Random Forest Selection Completed\n",
      "SMOTE Tomek Decision Tree Classifier Random Forest Selection Completed\n",
      "SMOTE Tomek LogisticRegression Random Forest Selection Completed\n",
      "SMOTE Tomek Gradient Boosting Classifier Random Forest Selection Completed\n",
      "SMOTE Tomek VotingClassifier Random Forest Selection Completed\n",
      "SMOTE Tomek Naive Baye Classifier Forward feature selection Completed\n",
      "SMOTE Tomek Decision Tree Classifier Forward feature selection Completed\n",
      "SMOTE Tomek LogisticRegression Forward feature selection Completed\n",
      "SMOTE Tomek Gradient Boosting Classifier Forward feature selection Completed\n",
      "SMOTE Tomek VotingClassifier Forward feature selection Completed\n"
     ]
    }
   ],
   "source": [
    "all_dataset['X_smote_tomek'],all_dataset['y_smote_tomek'] = SMOTETomek().fit_resample(X_train,y_train)\n",
    "training_testing_function(all_dataset['X_smote_tomek'],all_dataset['y_smote_tomek'],\"SMOTE Tomek\")"
   ]
  },
  {
   "cell_type": "code",
   "execution_count": null,
   "metadata": {},
   "outputs": [],
   "source": [
    "all_results"
   ]
  },
  {
   "cell_type": "code",
   "execution_count": 311,
   "metadata": {},
   "outputs": [],
   "source": [
    "for a,b,c,d,e,f in all_results:\n",
    "    all_names.append(a)\n",
    "    all_accuracies.append(b)\n",
    "    all_f1.append(c)\n",
    "\n",
    "all_names = pd.Series(all_names)\n",
    "all_accuracies = pd.Series(all_accuracies)\n",
    "all_f1= pd.Series(all_f1)\n",
    "result = pd.DataFrame({'Technqiue':all_names,'Accuracy':all_accuracies,'F1-score':all_f1})"
   ]
  },
  {
   "cell_type": "code",
   "execution_count": 314,
   "metadata": {},
   "outputs": [],
   "source": [
    "result.to_csv('all_result.csv',index=False)"
   ]
  },
  {
   "cell_type": "markdown",
   "metadata": {},
   "source": [
    "### Top 3 dataset-1 results wrt f1 score"
   ]
  },
  {
   "cell_type": "code",
   "execution_count": null,
   "metadata": {},
   "outputs": [],
   "source": [
    "top_3 = sorted(all_results, key=lambda x: x[2], reverse=True)[:3]\n",
    "top_3"
   ]
  },
  {
   "cell_type": "markdown",
   "metadata": {},
   "source": [
    "1. One Sided Selection Gradient Boosting Classifier RCF"
   ]
  },
  {
   "cell_type": "code",
   "execution_count": 171,
   "metadata": {},
   "outputs": [
    {
     "data": {
      "image/png": "[encoded data removed]",
      "text/plain": [
       "<Figure size 576x432 with 2 Axes>"
      ]
     },
     "metadata": {
      "needs_background": "light"
     },
     "output_type": "display_data"
    }
   ],
   "source": [
    "cf_matrix = top_3[0][4]\n",
    "\n",
    "group_names = ['True Neg','False Pos','False Neg','True Pos']\n",
    "group_counts = [\"{0:0.0f}\".format(value) for value in\n",
    "                cf_matrix.flatten()]\n",
    "\n",
    "labels = [f\"{v1}\\n{v2}\" for v1, v2 in\n",
    "          zip(group_names,group_counts)]\n",
    "labels = np.asarray(labels).reshape(2,2)\n",
    "plt.figure(figsize=(8,6))\n",
    "plt.title(\"Confusion matrix for One Sided Selection Gradient Boosting Classifier RCF\")\n",
    "sns.heatmap(cf_matrix, annot=labels, fmt='', cmap='Blues')\n",
    "plt.show();"
   ]
  },
  {
   "cell_type": "markdown",
   "metadata": {},
   "source": [
    "Classification report"
   ]
  },
  {
   "cell_type": "code",
   "execution_count": 205,
   "metadata": {},
   "outputs": [
    {
     "name": "stdout",
     "output_type": "stream",
     "text": [
      "              precision    recall  f1-score   support\n",
      "\n",
      "           0       1.00      1.00      1.00     85295\n",
      "           1       0.94      0.80      0.87       148\n",
      "\n",
      "    accuracy                           1.00     85443\n",
      "   macro avg       0.97      0.90      0.93     85443\n",
      "weighted avg       1.00      1.00      1.00     85443\n",
      "\n"
     ]
    }
   ],
   "source": [
    "print(top_3[0][5])"
   ]
  },
  {
   "cell_type": "markdown",
   "metadata": {},
   "source": [
    "2. Tomek Links Gradient Boosting Classifier RCF"
   ]
  },
  {
   "cell_type": "code",
   "execution_count": 202,
   "metadata": {},
   "outputs": [
    {
     "data": {
      "image/png": "[encoded data removed]",
      "text/plain": [
       "<Figure size 576x432 with 2 Axes>"
      ]
     },
     "metadata": {
      "needs_background": "light"
     },
     "output_type": "display_data"
    }
   ],
   "source": [
    "cf_matrix = top_3[1][4]\n",
    "\n",
    "group_names = ['True Neg','False Pos','False Neg','True Pos']\n",
    "group_counts = [\"{0:0.0f}\".format(value) for value in\n",
    "                cf_matrix.flatten()]\n",
    "\n",
    "labels = [f\"{v1}\\n{v2}\" for v1, v2 in\n",
    "          zip(group_names,group_counts)]\n",
    "labels = np.asarray(labels).reshape(2,2)\n",
    "plt.figure(figsize=(8,6))\n",
    "plt.title(\"Confusion matrix for Tomek Links Gradient Boosting Classifier RCF\")\n",
    "sns.heatmap(cf_matrix, annot=labels, fmt='', cmap='Blues')\n",
    "plt.show();"
   ]
  },
  {
   "cell_type": "markdown",
   "metadata": {},
   "source": [
    "Classification report"
   ]
  },
  {
   "cell_type": "code",
   "execution_count": 206,
   "metadata": {},
   "outputs": [
    {
     "name": "stdout",
     "output_type": "stream",
     "text": [
      "              precision    recall  f1-score   support\n",
      "\n",
      "           0       1.00      1.00      1.00     85295\n",
      "           1       0.95      0.79      0.86       148\n",
      "\n",
      "    accuracy                           1.00     85443\n",
      "   macro avg       0.98      0.90      0.93     85443\n",
      "weighted avg       1.00      1.00      1.00     85443\n",
      "\n"
     ]
    }
   ],
   "source": [
    "print(top_3[1][5])"
   ]
  },
  {
   "cell_type": "markdown",
   "metadata": {},
   "source": [
    "3. One Sided Selection Gradient Boosting Classifier Random Forest  Selection"
   ]
  },
  {
   "cell_type": "code",
   "execution_count": 126,
   "metadata": {},
   "outputs": [
    {
     "data": {
      "image/png": "[encoded data removed]",
      "text/plain": [
       "<Figure size 576x432 with 2 Axes>"
      ]
     },
     "metadata": {
      "needs_background": "light"
     },
     "output_type": "display_data"
    }
   ],
   "source": [
    "cf_matrix = top_3[2][4]\n",
    "\n",
    "group_names = ['True Neg','False Pos','False Neg','True Pos']\n",
    "group_counts = [\"{0:0.0f}\".format(value) for value in\n",
    "                cf_matrix.flatten()]\n",
    "\n",
    "labels = [f\"{v1}\\n{v2}\" for v1, v2 in\n",
    "          zip(group_names,group_counts)]\n",
    "labels = np.asarray(labels).reshape(2,2)\n",
    "plt.figure(figsize=(8,6))\n",
    "plt.title(\"Confusion matrix for One Sided Selection Gradient Boosting Classifier Random Forest  Selection\")\n",
    "sns.heatmap(cf_matrix, annot=labels, fmt='', cmap='Blues')\n",
    "plt.show();"
   ]
  },
  {
   "cell_type": "markdown",
   "metadata": {},
   "source": [
    "Classification report"
   ]
  },
  {
   "cell_type": "code",
   "execution_count": 207,
   "metadata": {},
   "outputs": [
    {
     "name": "stdout",
     "output_type": "stream",
     "text": [
      "              precision    recall  f1-score   support\n",
      "\n",
      "           0       1.00      1.00      1.00     85295\n",
      "           1       0.91      0.80      0.85       148\n",
      "\n",
      "    accuracy                           1.00     85443\n",
      "   macro avg       0.96      0.90      0.93     85443\n",
      "weighted avg       1.00      1.00      1.00     85443\n",
      "\n"
     ]
    }
   ],
   "source": [
    "print(top_3[2][5])"
   ]
  },
  {
   "cell_type": "markdown",
   "metadata": {},
   "source": [
    "### Working with dataset 2 - Synthetic dataset generated by the PaySim mobile money simulator"
   ]
  },
  {
   "cell_type": "code",
   "execution_count": 61,
   "metadata": {
    "scrolled": true
   },
   "outputs": [
    {
     "data": {
      "text/html": [
       "<div>\n",
       "<style scoped>\n",
       "    .dataframe tbody tr th:only-of-type {\n",
       "        vertical-align: middle;\n",
       "    }\n",
       "\n",
       "    .dataframe tbody tr th {\n",
       "        vertical-align: top;\n",
       "    }\n",
       "\n",
       "    .dataframe thead th {\n",
       "        text-align: right;\n",
       "    }\n",
       "</style>\n",
       "<table border=\"1\" class=\"dataframe\">\n",
       "  <thead>\n",
       "    <tr style=\"text-align: right;\">\n",
       "      <th></th>\n",
       "      <th>step</th>\n",
       "      <th>type</th>\n",
       "      <th>amount</th>\n",
       "      <th>nameOrig</th>\n",
       "      <th>oldbalanceOrg</th>\n",
       "      <th>newbalanceOrig</th>\n",
       "      <th>nameDest</th>\n",
       "      <th>oldbalanceDest</th>\n",
       "      <th>newbalanceDest</th>\n",
       "      <th>isFraud</th>\n",
       "      <th>isFlaggedFraud</th>\n",
       "    </tr>\n",
       "  </thead>\n",
       "  <tbody>\n",
       "    <tr>\n",
       "      <th>0</th>\n",
       "      <td>1</td>\n",
       "      <td>PAYMENT</td>\n",
       "      <td>9839.64</td>\n",
       "      <td>C1231006815</td>\n",
       "      <td>170136.0</td>\n",
       "      <td>160296.36</td>\n",
       "      <td>M1979787155</td>\n",
       "      <td>0.0</td>\n",
       "      <td>0.0</td>\n",
       "      <td>0</td>\n",
       "      <td>0</td>\n",
       "    </tr>\n",
       "    <tr>\n",
       "      <th>1</th>\n",
       "      <td>1</td>\n",
       "      <td>PAYMENT</td>\n",
       "      <td>1864.28</td>\n",
       "      <td>C1666544295</td>\n",
       "      <td>21249.0</td>\n",
       "      <td>19384.72</td>\n",
       "      <td>M2044282225</td>\n",
       "      <td>0.0</td>\n",
       "      <td>0.0</td>\n",
       "      <td>0</td>\n",
       "      <td>0</td>\n",
       "    </tr>\n",
       "    <tr>\n",
       "      <th>2</th>\n",
       "      <td>1</td>\n",
       "      <td>TRANSFER</td>\n",
       "      <td>181.00</td>\n",
       "      <td>C1305486145</td>\n",
       "      <td>181.0</td>\n",
       "      <td>0.00</td>\n",
       "      <td>C553264065</td>\n",
       "      <td>0.0</td>\n",
       "      <td>0.0</td>\n",
       "      <td>1</td>\n",
       "      <td>0</td>\n",
       "    </tr>\n",
       "    <tr>\n",
       "      <th>3</th>\n",
       "      <td>1</td>\n",
       "      <td>CASH_OUT</td>\n",
       "      <td>181.00</td>\n",
       "      <td>C840083671</td>\n",
       "      <td>181.0</td>\n",
       "      <td>0.00</td>\n",
       "      <td>C38997010</td>\n",
       "      <td>21182.0</td>\n",
       "      <td>0.0</td>\n",
       "      <td>1</td>\n",
       "      <td>0</td>\n",
       "    </tr>\n",
       "    <tr>\n",
       "      <th>4</th>\n",
       "      <td>1</td>\n",
       "      <td>PAYMENT</td>\n",
       "      <td>11668.14</td>\n",
       "      <td>C2048537720</td>\n",
       "      <td>41554.0</td>\n",
       "      <td>29885.86</td>\n",
       "      <td>M1230701703</td>\n",
       "      <td>0.0</td>\n",
       "      <td>0.0</td>\n",
       "      <td>0</td>\n",
       "      <td>0</td>\n",
       "    </tr>\n",
       "  </tbody>\n",
       "</table>\n",
       "</div>"
      ],
      "text/plain": [
       "   step      type    amount     nameOrig  oldbalanceOrg  newbalanceOrig  \\\n",
       "0     1   PAYMENT   9839.64  C1231006815       170136.0       160296.36   \n",
       "1     1   PAYMENT   1864.28  C1666544295        21249.0        19384.72   \n",
       "2     1  TRANSFER    181.00  C1305486145          181.0            0.00   \n",
       "3     1  CASH_OUT    181.00   C840083671          181.0            0.00   \n",
       "4     1   PAYMENT  11668.14  C2048537720        41554.0        29885.86   \n",
       "\n",
       "      nameDest  oldbalanceDest  newbalanceDest  isFraud  isFlaggedFraud  \n",
       "0  M1979787155             0.0             0.0        0               0  \n",
       "1  M2044282225             0.0             0.0        0               0  \n",
       "2   C553264065             0.0             0.0        1               0  \n",
       "3    C38997010         21182.0             0.0        1               0  \n",
       "4  M1230701703             0.0             0.0        0               0  "
      ]
     },
     "execution_count": 61,
     "metadata": {},
     "output_type": "execute_result"
    }
   ],
   "source": [
    "dataset2 = pd.read_csv(\"dataset2.csv\")\n",
    "dataset2.head()"
   ]
  },
  {
   "cell_type": "code",
   "execution_count": 62,
   "metadata": {},
   "outputs": [
    {
     "data": {
      "text/plain": [
       "(6362620, 11)"
      ]
     },
     "execution_count": 62,
     "metadata": {},
     "output_type": "execute_result"
    }
   ],
   "source": [
    "dataset2.shape"
   ]
  },
  {
   "cell_type": "code",
   "execution_count": 63,
   "metadata": {},
   "outputs": [
    {
     "data": {
      "text/plain": [
       "False"
      ]
     },
     "execution_count": 63,
     "metadata": {},
     "output_type": "execute_result"
    }
   ],
   "source": [
    "dataset2.isnull().values.any()"
   ]
  },
  {
   "cell_type": "code",
   "execution_count": 64,
   "metadata": {},
   "outputs": [],
   "source": [
    "dataset2.drop(\"isFlaggedFraud\",axis=1,inplace=True)\n"
   ]
  },
  {
   "cell_type": "code",
   "execution_count": 65,
   "metadata": {},
   "outputs": [],
   "source": [
    "all_zero=list(dataset2.loc[dataset2[\"isFraud\"]==0].index)"
   ]
  },
  {
   "cell_type": "markdown",
   "metadata": {},
   "source": [
    "#### Since the actual dataset contains around 60 lacs datapoints, we'll use 10 lacs (non-fraud) out of it for our project. We'll keep the fraud ones as it is"
   ]
  },
  {
   "cell_type": "code",
   "execution_count": 66,
   "metadata": {},
   "outputs": [],
   "source": [
    "sample_zero = np.random.choice(all_zero,1000000,replace=False)"
   ]
  },
  {
   "cell_type": "code",
   "execution_count": 67,
   "metadata": {},
   "outputs": [],
   "source": [
    "all_one=list(dataset2.loc[dataset2[\"isFraud\"]==1].index)"
   ]
  },
  {
   "cell_type": "code",
   "execution_count": 68,
   "metadata": {},
   "outputs": [],
   "source": [
    "selected_sample = np.concatenate([sample_zero,all_one])"
   ]
  },
  {
   "cell_type": "code",
   "execution_count": 69,
   "metadata": {},
   "outputs": [
    {
     "data": {
      "text/plain": [
       "1008213"
      ]
     },
     "execution_count": 69,
     "metadata": {},
     "output_type": "execute_result"
    }
   ],
   "source": [
    "len(selected_sample)"
   ]
  },
  {
   "cell_type": "code",
   "execution_count": 70,
   "metadata": {},
   "outputs": [],
   "source": [
    "new_dataset2 = dataset2.loc[selected_sample]"
   ]
  },
  {
   "cell_type": "code",
   "execution_count": 71,
   "metadata": {},
   "outputs": [
    {
     "data": {
      "text/html": [
       "<div>\n",
       "<style scoped>\n",
       "    .dataframe tbody tr th:only-of-type {\n",
       "        vertical-align: middle;\n",
       "    }\n",
       "\n",
       "    .dataframe tbody tr th {\n",
       "        vertical-align: top;\n",
       "    }\n",
       "\n",
       "    .dataframe thead th {\n",
       "        text-align: right;\n",
       "    }\n",
       "</style>\n",
       "<table border=\"1\" class=\"dataframe\">\n",
       "  <thead>\n",
       "    <tr style=\"text-align: right;\">\n",
       "      <th></th>\n",
       "      <th>step</th>\n",
       "      <th>type</th>\n",
       "      <th>amount</th>\n",
       "      <th>nameOrig</th>\n",
       "      <th>oldbalanceOrg</th>\n",
       "      <th>newbalanceOrig</th>\n",
       "      <th>nameDest</th>\n",
       "      <th>oldbalanceDest</th>\n",
       "      <th>newbalanceDest</th>\n",
       "      <th>isFraud</th>\n",
       "    </tr>\n",
       "  </thead>\n",
       "  <tbody>\n",
       "    <tr>\n",
       "      <th>792161</th>\n",
       "      <td>40</td>\n",
       "      <td>CASH_IN</td>\n",
       "      <td>167893.17</td>\n",
       "      <td>C1482429291</td>\n",
       "      <td>2657271.44</td>\n",
       "      <td>2825164.61</td>\n",
       "      <td>C294651482</td>\n",
       "      <td>1925303.76</td>\n",
       "      <td>1757410.59</td>\n",
       "      <td>0</td>\n",
       "    </tr>\n",
       "    <tr>\n",
       "      <th>5309528</th>\n",
       "      <td>373</td>\n",
       "      <td>CASH_OUT</td>\n",
       "      <td>419927.92</td>\n",
       "      <td>C1890321370</td>\n",
       "      <td>21218.00</td>\n",
       "      <td>0.00</td>\n",
       "      <td>C730701416</td>\n",
       "      <td>0.00</td>\n",
       "      <td>419927.92</td>\n",
       "      <td>0</td>\n",
       "    </tr>\n",
       "    <tr>\n",
       "      <th>971150</th>\n",
       "      <td>44</td>\n",
       "      <td>CASH_OUT</td>\n",
       "      <td>23433.12</td>\n",
       "      <td>C856112743</td>\n",
       "      <td>96857.00</td>\n",
       "      <td>73423.88</td>\n",
       "      <td>C1746550777</td>\n",
       "      <td>93246.71</td>\n",
       "      <td>116679.83</td>\n",
       "      <td>0</td>\n",
       "    </tr>\n",
       "    <tr>\n",
       "      <th>2546292</th>\n",
       "      <td>206</td>\n",
       "      <td>TRANSFER</td>\n",
       "      <td>189426.65</td>\n",
       "      <td>C1304663969</td>\n",
       "      <td>0.00</td>\n",
       "      <td>0.00</td>\n",
       "      <td>C449702174</td>\n",
       "      <td>2152239.28</td>\n",
       "      <td>2341665.93</td>\n",
       "      <td>0</td>\n",
       "    </tr>\n",
       "    <tr>\n",
       "      <th>4711943</th>\n",
       "      <td>332</td>\n",
       "      <td>CASH_IN</td>\n",
       "      <td>94723.40</td>\n",
       "      <td>C1076225702</td>\n",
       "      <td>15949506.91</td>\n",
       "      <td>16044230.32</td>\n",
       "      <td>C736564605</td>\n",
       "      <td>883358.12</td>\n",
       "      <td>788634.72</td>\n",
       "      <td>0</td>\n",
       "    </tr>\n",
       "  </tbody>\n",
       "</table>\n",
       "</div>"
      ],
      "text/plain": [
       "         step      type     amount     nameOrig  oldbalanceOrg  \\\n",
       "792161     40   CASH_IN  167893.17  C1482429291     2657271.44   \n",
       "5309528   373  CASH_OUT  419927.92  C1890321370       21218.00   \n",
       "971150     44  CASH_OUT   23433.12   C856112743       96857.00   \n",
       "2546292   206  TRANSFER  189426.65  C1304663969           0.00   \n",
       "4711943   332   CASH_IN   94723.40  C1076225702    15949506.91   \n",
       "\n",
       "         newbalanceOrig     nameDest  oldbalanceDest  newbalanceDest  isFraud  \n",
       "792161       2825164.61   C294651482      1925303.76      1757410.59        0  \n",
       "5309528            0.00   C730701416            0.00       419927.92        0  \n",
       "971150         73423.88  C1746550777        93246.71       116679.83        0  \n",
       "2546292            0.00   C449702174      2152239.28      2341665.93        0  \n",
       "4711943     16044230.32   C736564605       883358.12       788634.72        0  "
      ]
     },
     "execution_count": 71,
     "metadata": {},
     "output_type": "execute_result"
    }
   ],
   "source": [
    "new_dataset2.head()"
   ]
  },
  {
   "cell_type": "code",
   "execution_count": 72,
   "metadata": {},
   "outputs": [],
   "source": [
    "y=new_dataset2['isFraud']\n",
    "new_dataset2.drop('isFraud',axis=1,inplace=True)\n",
    "X=new_dataset2"
   ]
  },
  {
   "cell_type": "markdown",
   "metadata": {},
   "source": [
    "Since the destination account balances as zero is a strong indicator of fraud, we do not impute the account balance (before the transaction is made) with a statistic or from a distribution with a subsequent adjustment for the amount transacted. Doing so would remove this indicator of fraud and make fraudulent transactions appear genuine. Instead,what we'll do is we replace the value of 0 with -1 which will be more useful to a suitable machine learning (ML) algorithm to detect fraud."
   ]
  },
  {
   "cell_type": "code",
   "execution_count": 73,
   "metadata": {},
   "outputs": [],
   "source": [
    "X.loc[(X.oldbalanceDest == 0) & (X.newbalanceDest == 0) & (X.amount != 0), ['oldbalanceDest', 'newbalanceDest']] = - 1"
   ]
  },
  {
   "cell_type": "markdown",
   "metadata": {},
   "source": [
    "Zero balances could be a strong differentiator between fraudulent and genuine transactions. Getting motivated by this, we create 2 new features  recording errors in the originating and destination accounts for each transaction. These new features might be important in obtaining the best performance from the ML algorithm that we will finally use."
   ]
  },
  {
   "cell_type": "code",
   "execution_count": 74,
   "metadata": {},
   "outputs": [],
   "source": [
    "X['errorbalanceOrg'] = X.newbalanceOrig + X.amount - X.oldbalanceOrg\n",
    "X['errorbalanceDest'] = X.oldbalanceDest + X.amount - X.newbalanceDest"
   ]
  },
  {
   "cell_type": "markdown",
   "metadata": {},
   "source": [
    "We've observed that log transformation on features provided better results"
   ]
  },
  {
   "cell_type": "code",
   "execution_count": 75,
   "metadata": {},
   "outputs": [],
   "source": [
    "# log transformed amount\n",
    "X['ln_amount'] = np.log1p(X['amount'])"
   ]
  },
  {
   "cell_type": "code",
   "execution_count": 76,
   "metadata": {},
   "outputs": [],
   "source": [
    "# correcting few negative errors\n",
    "X['errorbalanceOrg'] = X['errorbalanceOrg'].apply(lambda x: 0 if x < 0 else x)\n",
    "\n",
    "# log transformed origin account balance error\n",
    "X['ln_errorBalanceOrig'] = np.log1p(X['errorbalanceOrg'])"
   ]
  },
  {
   "cell_type": "code",
   "execution_count": 77,
   "metadata": {},
   "outputs": [],
   "source": [
    "X['errorbalanceDest'] = X['errorbalanceDest'].apply(lambda x: 0 if x < 0 else x)\n",
    "\n",
    "# log transformed origin account balance error\n",
    "X['ln_errorBalanceDest'] = np.log1p(X['errorbalanceDest'])"
   ]
  },
  {
   "cell_type": "code",
   "execution_count": 78,
   "metadata": {},
   "outputs": [
    {
     "data": {
      "text/plain": [
       "CASH_OUT    355635\n",
       "PAYMENT     338178\n",
       "CASH_IN     220661\n",
       "TRANSFER     87195\n",
       "DEBIT         6544\n",
       "Name: type, dtype: int64"
      ]
     },
     "execution_count": 78,
     "metadata": {},
     "output_type": "execute_result"
    }
   ],
   "source": [
    "X[\"type\"].value_counts()"
   ]
  },
  {
   "cell_type": "code",
   "execution_count": 79,
   "metadata": {},
   "outputs": [],
   "source": [
    "X[\"type_transfer\"]=X[\"type\"].replace({'CASH_OUT':0,'PAYMENT':1,'CASH_IN':2,'TRANSFER':3,'DEBIT':4})"
   ]
  },
  {
   "cell_type": "code",
   "execution_count": 80,
   "metadata": {},
   "outputs": [],
   "source": [
    "X.drop(\"type\",axis=1,inplace=True)"
   ]
  },
  {
   "cell_type": "code",
   "execution_count": 81,
   "metadata": {},
   "outputs": [
    {
     "data": {
      "text/html": [
       "<div>\n",
       "<style scoped>\n",
       "    .dataframe tbody tr th:only-of-type {\n",
       "        vertical-align: middle;\n",
       "    }\n",
       "\n",
       "    .dataframe tbody tr th {\n",
       "        vertical-align: top;\n",
       "    }\n",
       "\n",
       "    .dataframe thead th {\n",
       "        text-align: right;\n",
       "    }\n",
       "</style>\n",
       "<table border=\"1\" class=\"dataframe\">\n",
       "  <thead>\n",
       "    <tr style=\"text-align: right;\">\n",
       "      <th></th>\n",
       "      <th>step</th>\n",
       "      <th>amount</th>\n",
       "      <th>nameOrig</th>\n",
       "      <th>oldbalanceOrg</th>\n",
       "      <th>newbalanceOrig</th>\n",
       "      <th>nameDest</th>\n",
       "      <th>oldbalanceDest</th>\n",
       "      <th>newbalanceDest</th>\n",
       "      <th>errorbalanceOrg</th>\n",
       "      <th>errorbalanceDest</th>\n",
       "      <th>ln_amount</th>\n",
       "      <th>ln_errorBalanceOrig</th>\n",
       "      <th>ln_errorBalanceDest</th>\n",
       "      <th>type_transfer</th>\n",
       "    </tr>\n",
       "  </thead>\n",
       "  <tbody>\n",
       "    <tr>\n",
       "      <th>792161</th>\n",
       "      <td>40</td>\n",
       "      <td>167893.17</td>\n",
       "      <td>C1482429291</td>\n",
       "      <td>2657271.44</td>\n",
       "      <td>2825164.61</td>\n",
       "      <td>C294651482</td>\n",
       "      <td>1925303.76</td>\n",
       "      <td>1757410.59</td>\n",
       "      <td>335786.34</td>\n",
       "      <td>335786.34</td>\n",
       "      <td>12.031089</td>\n",
       "      <td>12.724233</td>\n",
       "      <td>12.724233</td>\n",
       "      <td>2</td>\n",
       "    </tr>\n",
       "    <tr>\n",
       "      <th>5309528</th>\n",
       "      <td>373</td>\n",
       "      <td>419927.92</td>\n",
       "      <td>C1890321370</td>\n",
       "      <td>21218.00</td>\n",
       "      <td>0.00</td>\n",
       "      <td>C730701416</td>\n",
       "      <td>0.00</td>\n",
       "      <td>419927.92</td>\n",
       "      <td>398709.92</td>\n",
       "      <td>0.00</td>\n",
       "      <td>12.947841</td>\n",
       "      <td>12.895992</td>\n",
       "      <td>0.000000</td>\n",
       "      <td>0</td>\n",
       "    </tr>\n",
       "    <tr>\n",
       "      <th>971150</th>\n",
       "      <td>44</td>\n",
       "      <td>23433.12</td>\n",
       "      <td>C856112743</td>\n",
       "      <td>96857.00</td>\n",
       "      <td>73423.88</td>\n",
       "      <td>C1746550777</td>\n",
       "      <td>93246.71</td>\n",
       "      <td>116679.83</td>\n",
       "      <td>0.00</td>\n",
       "      <td>0.00</td>\n",
       "      <td>10.061948</td>\n",
       "      <td>0.000000</td>\n",
       "      <td>0.000000</td>\n",
       "      <td>0</td>\n",
       "    </tr>\n",
       "    <tr>\n",
       "      <th>2546292</th>\n",
       "      <td>206</td>\n",
       "      <td>189426.65</td>\n",
       "      <td>C1304663969</td>\n",
       "      <td>0.00</td>\n",
       "      <td>0.00</td>\n",
       "      <td>C449702174</td>\n",
       "      <td>2152239.28</td>\n",
       "      <td>2341665.93</td>\n",
       "      <td>189426.65</td>\n",
       "      <td>0.00</td>\n",
       "      <td>12.151762</td>\n",
       "      <td>12.151762</td>\n",
       "      <td>0.000000</td>\n",
       "      <td>3</td>\n",
       "    </tr>\n",
       "    <tr>\n",
       "      <th>4711943</th>\n",
       "      <td>332</td>\n",
       "      <td>94723.40</td>\n",
       "      <td>C1076225702</td>\n",
       "      <td>15949506.91</td>\n",
       "      <td>16044230.32</td>\n",
       "      <td>C736564605</td>\n",
       "      <td>883358.12</td>\n",
       "      <td>788634.72</td>\n",
       "      <td>189446.81</td>\n",
       "      <td>189446.80</td>\n",
       "      <td>11.458727</td>\n",
       "      <td>12.151869</td>\n",
       "      <td>12.151869</td>\n",
       "      <td>2</td>\n",
       "    </tr>\n",
       "  </tbody>\n",
       "</table>\n",
       "</div>"
      ],
      "text/plain": [
       "         step     amount     nameOrig  oldbalanceOrg  newbalanceOrig  \\\n",
       "792161     40  167893.17  C1482429291     2657271.44      2825164.61   \n",
       "5309528   373  419927.92  C1890321370       21218.00            0.00   \n",
       "971150     44   23433.12   C856112743       96857.00        73423.88   \n",
       "2546292   206  189426.65  C1304663969           0.00            0.00   \n",
       "4711943   332   94723.40  C1076225702    15949506.91     16044230.32   \n",
       "\n",
       "            nameDest  oldbalanceDest  newbalanceDest  errorbalanceOrg  \\\n",
       "792161    C294651482      1925303.76      1757410.59        335786.34   \n",
       "5309528   C730701416            0.00       419927.92        398709.92   \n",
       "971150   C1746550777        93246.71       116679.83             0.00   \n",
       "2546292   C449702174      2152239.28      2341665.93        189426.65   \n",
       "4711943   C736564605       883358.12       788634.72        189446.81   \n",
       "\n",
       "         errorbalanceDest  ln_amount  ln_errorBalanceOrig  \\\n",
       "792161          335786.34  12.031089            12.724233   \n",
       "5309528              0.00  12.947841            12.895992   \n",
       "971150               0.00  10.061948             0.000000   \n",
       "2546292              0.00  12.151762            12.151762   \n",
       "4711943         189446.80  11.458727            12.151869   \n",
       "\n",
       "         ln_errorBalanceDest  type_transfer  \n",
       "792161             12.724233              2  \n",
       "5309528             0.000000              0  \n",
       "971150              0.000000              0  \n",
       "2546292             0.000000              3  \n",
       "4711943            12.151869              2  "
      ]
     },
     "execution_count": 81,
     "metadata": {},
     "output_type": "execute_result"
    }
   ],
   "source": [
    "X.head()"
   ]
  },
  {
   "cell_type": "code",
   "execution_count": 82,
   "metadata": {},
   "outputs": [],
   "source": [
    "X.drop([\"amount\",\"errorbalanceOrg\",\"errorbalanceDest\"],axis=1,inplace=True)\n"
   ]
  },
  {
   "cell_type": "code",
   "execution_count": 83,
   "metadata": {},
   "outputs": [],
   "source": [
    "X[\"type_name\"]=X.step"
   ]
  },
  {
   "cell_type": "code",
   "execution_count": 84,
   "metadata": {},
   "outputs": [],
   "source": [
    "X.loc[(X.nameOrig.str.contains(\"C\")) & (X.nameDest.str.contains(\"C\")),\"type_name\"]=0\n",
    "X.loc[(X.nameOrig.str.contains(\"C\")) & (X.nameDest.str.contains(\"M\")),\"type_name\"]=1\n",
    "X.loc[(X.nameOrig.str.contains(\"M\")) & (X.nameDest.str.contains(\"C\")),\"type_name\"]=2\n",
    "X.loc[(X.nameOrig.str.contains(\"M\")) & (X.nameDest.str.contains(\"M\")),\"type_name\"]=3"
   ]
  },
  {
   "cell_type": "code",
   "execution_count": 85,
   "metadata": {},
   "outputs": [],
   "source": [
    "X.drop([\"nameOrig\",\"nameDest\"],axis=1,inplace=True)"
   ]
  },
  {
   "cell_type": "code",
   "execution_count": 86,
   "metadata": {},
   "outputs": [
    {
     "data": {
      "text/html": [
       "<div>\n",
       "<style scoped>\n",
       "    .dataframe tbody tr th:only-of-type {\n",
       "        vertical-align: middle;\n",
       "    }\n",
       "\n",
       "    .dataframe tbody tr th {\n",
       "        vertical-align: top;\n",
       "    }\n",
       "\n",
       "    .dataframe thead th {\n",
       "        text-align: right;\n",
       "    }\n",
       "</style>\n",
       "<table border=\"1\" class=\"dataframe\">\n",
       "  <thead>\n",
       "    <tr style=\"text-align: right;\">\n",
       "      <th></th>\n",
       "      <th>step</th>\n",
       "      <th>oldbalanceOrg</th>\n",
       "      <th>newbalanceOrig</th>\n",
       "      <th>oldbalanceDest</th>\n",
       "      <th>newbalanceDest</th>\n",
       "      <th>ln_amount</th>\n",
       "      <th>ln_errorBalanceOrig</th>\n",
       "      <th>ln_errorBalanceDest</th>\n",
       "      <th>type_transfer</th>\n",
       "      <th>type_name</th>\n",
       "    </tr>\n",
       "  </thead>\n",
       "  <tbody>\n",
       "    <tr>\n",
       "      <th>792161</th>\n",
       "      <td>40</td>\n",
       "      <td>2657271.44</td>\n",
       "      <td>2825164.61</td>\n",
       "      <td>1925303.76</td>\n",
       "      <td>1757410.59</td>\n",
       "      <td>12.031089</td>\n",
       "      <td>12.724233</td>\n",
       "      <td>12.724233</td>\n",
       "      <td>2</td>\n",
       "      <td>0</td>\n",
       "    </tr>\n",
       "    <tr>\n",
       "      <th>5309528</th>\n",
       "      <td>373</td>\n",
       "      <td>21218.00</td>\n",
       "      <td>0.00</td>\n",
       "      <td>0.00</td>\n",
       "      <td>419927.92</td>\n",
       "      <td>12.947841</td>\n",
       "      <td>12.895992</td>\n",
       "      <td>0.000000</td>\n",
       "      <td>0</td>\n",
       "      <td>0</td>\n",
       "    </tr>\n",
       "    <tr>\n",
       "      <th>971150</th>\n",
       "      <td>44</td>\n",
       "      <td>96857.00</td>\n",
       "      <td>73423.88</td>\n",
       "      <td>93246.71</td>\n",
       "      <td>116679.83</td>\n",
       "      <td>10.061948</td>\n",
       "      <td>0.000000</td>\n",
       "      <td>0.000000</td>\n",
       "      <td>0</td>\n",
       "      <td>0</td>\n",
       "    </tr>\n",
       "    <tr>\n",
       "      <th>2546292</th>\n",
       "      <td>206</td>\n",
       "      <td>0.00</td>\n",
       "      <td>0.00</td>\n",
       "      <td>2152239.28</td>\n",
       "      <td>2341665.93</td>\n",
       "      <td>12.151762</td>\n",
       "      <td>12.151762</td>\n",
       "      <td>0.000000</td>\n",
       "      <td>3</td>\n",
       "      <td>0</td>\n",
       "    </tr>\n",
       "    <tr>\n",
       "      <th>4711943</th>\n",
       "      <td>332</td>\n",
       "      <td>15949506.91</td>\n",
       "      <td>16044230.32</td>\n",
       "      <td>883358.12</td>\n",
       "      <td>788634.72</td>\n",
       "      <td>11.458727</td>\n",
       "      <td>12.151869</td>\n",
       "      <td>12.151869</td>\n",
       "      <td>2</td>\n",
       "      <td>0</td>\n",
       "    </tr>\n",
       "  </tbody>\n",
       "</table>\n",
       "</div>"
      ],
      "text/plain": [
       "         step  oldbalanceOrg  newbalanceOrig  oldbalanceDest  newbalanceDest  \\\n",
       "792161     40     2657271.44      2825164.61      1925303.76      1757410.59   \n",
       "5309528   373       21218.00            0.00            0.00       419927.92   \n",
       "971150     44       96857.00        73423.88        93246.71       116679.83   \n",
       "2546292   206           0.00            0.00      2152239.28      2341665.93   \n",
       "4711943   332    15949506.91     16044230.32       883358.12       788634.72   \n",
       "\n",
       "         ln_amount  ln_errorBalanceOrig  ln_errorBalanceDest  type_transfer  \\\n",
       "792161   12.031089            12.724233            12.724233              2   \n",
       "5309528  12.947841            12.895992             0.000000              0   \n",
       "971150   10.061948             0.000000             0.000000              0   \n",
       "2546292  12.151762            12.151762             0.000000              3   \n",
       "4711943  11.458727            12.151869            12.151869              2   \n",
       "\n",
       "         type_name  \n",
       "792161           0  \n",
       "5309528          0  \n",
       "971150           0  \n",
       "2546292          0  \n",
       "4711943          0  "
      ]
     },
     "execution_count": 86,
     "metadata": {},
     "output_type": "execute_result"
    }
   ],
   "source": [
    "X.head()"
   ]
  },
  {
   "cell_type": "code",
   "execution_count": 87,
   "metadata": {},
   "outputs": [],
   "source": [
    "#first proceed without step column\n",
    "step_col = X.step\n",
    "X.drop(\"step\",axis=1,inplace=True)\n"
   ]
  },
  {
   "cell_type": "code",
   "execution_count": 88,
   "metadata": {},
   "outputs": [
    {
     "data": {
      "text/html": [
       "<div>\n",
       "<style scoped>\n",
       "    .dataframe tbody tr th:only-of-type {\n",
       "        vertical-align: middle;\n",
       "    }\n",
       "\n",
       "    .dataframe tbody tr th {\n",
       "        vertical-align: top;\n",
       "    }\n",
       "\n",
       "    .dataframe thead th {\n",
       "        text-align: right;\n",
       "    }\n",
       "</style>\n",
       "<table border=\"1\" class=\"dataframe\">\n",
       "  <thead>\n",
       "    <tr style=\"text-align: right;\">\n",
       "      <th></th>\n",
       "      <th>oldbalanceOrg</th>\n",
       "      <th>newbalanceOrig</th>\n",
       "      <th>oldbalanceDest</th>\n",
       "      <th>newbalanceDest</th>\n",
       "      <th>ln_amount</th>\n",
       "      <th>ln_errorBalanceOrig</th>\n",
       "      <th>ln_errorBalanceDest</th>\n",
       "      <th>type_transfer</th>\n",
       "      <th>type_name</th>\n",
       "    </tr>\n",
       "  </thead>\n",
       "  <tbody>\n",
       "    <tr>\n",
       "      <th>792161</th>\n",
       "      <td>2657271.44</td>\n",
       "      <td>2825164.61</td>\n",
       "      <td>1925303.76</td>\n",
       "      <td>1757410.59</td>\n",
       "      <td>12.031089</td>\n",
       "      <td>12.724233</td>\n",
       "      <td>12.724233</td>\n",
       "      <td>2</td>\n",
       "      <td>0</td>\n",
       "    </tr>\n",
       "    <tr>\n",
       "      <th>5309528</th>\n",
       "      <td>21218.00</td>\n",
       "      <td>0.00</td>\n",
       "      <td>0.00</td>\n",
       "      <td>419927.92</td>\n",
       "      <td>12.947841</td>\n",
       "      <td>12.895992</td>\n",
       "      <td>0.000000</td>\n",
       "      <td>0</td>\n",
       "      <td>0</td>\n",
       "    </tr>\n",
       "    <tr>\n",
       "      <th>971150</th>\n",
       "      <td>96857.00</td>\n",
       "      <td>73423.88</td>\n",
       "      <td>93246.71</td>\n",
       "      <td>116679.83</td>\n",
       "      <td>10.061948</td>\n",
       "      <td>0.000000</td>\n",
       "      <td>0.000000</td>\n",
       "      <td>0</td>\n",
       "      <td>0</td>\n",
       "    </tr>\n",
       "    <tr>\n",
       "      <th>2546292</th>\n",
       "      <td>0.00</td>\n",
       "      <td>0.00</td>\n",
       "      <td>2152239.28</td>\n",
       "      <td>2341665.93</td>\n",
       "      <td>12.151762</td>\n",
       "      <td>12.151762</td>\n",
       "      <td>0.000000</td>\n",
       "      <td>3</td>\n",
       "      <td>0</td>\n",
       "    </tr>\n",
       "    <tr>\n",
       "      <th>4711943</th>\n",
       "      <td>15949506.91</td>\n",
       "      <td>16044230.32</td>\n",
       "      <td>883358.12</td>\n",
       "      <td>788634.72</td>\n",
       "      <td>11.458727</td>\n",
       "      <td>12.151869</td>\n",
       "      <td>12.151869</td>\n",
       "      <td>2</td>\n",
       "      <td>0</td>\n",
       "    </tr>\n",
       "  </tbody>\n",
       "</table>\n",
       "</div>"
      ],
      "text/plain": [
       "         oldbalanceOrg  newbalanceOrig  oldbalanceDest  newbalanceDest  \\\n",
       "792161      2657271.44      2825164.61      1925303.76      1757410.59   \n",
       "5309528       21218.00            0.00            0.00       419927.92   \n",
       "971150        96857.00        73423.88        93246.71       116679.83   \n",
       "2546292           0.00            0.00      2152239.28      2341665.93   \n",
       "4711943    15949506.91     16044230.32       883358.12       788634.72   \n",
       "\n",
       "         ln_amount  ln_errorBalanceOrig  ln_errorBalanceDest  type_transfer  \\\n",
       "792161   12.031089            12.724233            12.724233              2   \n",
       "5309528  12.947841            12.895992             0.000000              0   \n",
       "971150   10.061948             0.000000             0.000000              0   \n",
       "2546292  12.151762            12.151762             0.000000              3   \n",
       "4711943  11.458727            12.151869            12.151869              2   \n",
       "\n",
       "         type_name  \n",
       "792161           0  \n",
       "5309528          0  \n",
       "971150           0  \n",
       "2546292          0  \n",
       "4711943          0  "
      ]
     },
     "execution_count": 88,
     "metadata": {},
     "output_type": "execute_result"
    }
   ],
   "source": [
    "X.head()"
   ]
  },
  {
   "cell_type": "code",
   "execution_count": 89,
   "metadata": {},
   "outputs": [],
   "source": [
    "# dividing into training and testing"
   ]
  },
  {
   "cell_type": "code",
   "execution_count": 90,
   "metadata": {},
   "outputs": [],
   "source": [
    "X_train, X_test, y_train, y_test = train_test_split(X, y, test_size = 0.20, random_state = 0, stratify = y)"
   ]
  },
  {
   "cell_type": "code",
   "execution_count": 91,
   "metadata": {},
   "outputs": [
    {
     "data": {
      "text/plain": [
       "False"
      ]
     },
     "execution_count": 91,
     "metadata": {},
     "output_type": "execute_result"
    }
   ],
   "source": [
    "X.isnull().values.any()"
   ]
  },
  {
   "cell_type": "code",
   "execution_count": 92,
   "metadata": {
    "scrolled": true
   },
   "outputs": [
    {
     "name": "stdout",
     "output_type": "stream",
     "text": [
      "(806570, 1)\n",
      "(806570, 1)\n",
      "(806570, 1)\n",
      "(806570, 1)\n",
      "(806570, 1)\n",
      "(806570, 1)\n",
      "(806570, 1)\n"
     ]
    }
   ],
   "source": [
    "cols=[\"oldbalanceOrg\",\"newbalanceOrig\",\"oldbalanceDest\",\"newbalanceDest\",\"ln_amount\",\"ln_errorBalanceOrig\",\"ln_errorBalanceDest\"]\n",
    "for c in cols:\n",
    "    ss = StandardScaler()\n",
    "    ss.fit(X_train.loc[:,str(c)].values.reshape(-1,1))\n",
    "    transformed1 = ss.transform(X_train.loc[:,str(c)].values.reshape(-1,1))\n",
    "    print(transformed1.shape)\n",
    "    X_train[\"scaled_\"+str(c)] = transformed1\n",
    "    X_train.drop(c,axis=1,inplace=True)\n",
    "    transformed2 = ss.transform(X_test.loc[:,str(c)].values.reshape(-1,1))\n",
    "    X_test[\"scaled_\"+str(c)] = transformed2\n",
    "    X_test.drop(c,axis=1,inplace=True)\n",
    "    "
   ]
  },
  {
   "cell_type": "markdown",
   "metadata": {},
   "source": [
    "#### 1. Random Undersample"
   ]
  },
  {
   "cell_type": "code",
   "execution_count": 93,
   "metadata": {},
   "outputs": [
    {
     "name": "stdout",
     "output_type": "stream",
     "text": [
      "Counter({0: 6570, 1: 6570})\n"
     ]
    }
   ],
   "source": [
    "undersample = RandomUnderSampler(sampling_strategy='majority')\n",
    "# fit and apply the transform\n",
    "all_dataset[\"X_train_undersample_dataset2\"], all_dataset[\"y_train_undersample_dataset2\"] = undersample.fit_resample(X_train, y_train)\n",
    "# summarize class distribution\n",
    "print(Counter(all_dataset[\"y_train_undersample_dataset2\"]))"
   ]
  },
  {
   "cell_type": "code",
   "execution_count": null,
   "metadata": {},
   "outputs": [],
   "source": [
    "training_testing_function(all_dataset[\"X_train_undersample_dataset2\"],all_dataset[\"y_train_undersample_dataset2\"],\"Random Undersample dataset 2\")"
   ]
  },
  {
   "cell_type": "markdown",
   "metadata": {},
   "source": [
    "#### 2. Instance Hardness Threshold"
   ]
  },
  {
   "cell_type": "code",
   "execution_count": 98,
   "metadata": {},
   "outputs": [],
   "source": [
    "from imblearn.under_sampling import InstanceHardnessThreshold"
   ]
  },
  {
   "cell_type": "code",
   "execution_count": 99,
   "metadata": {},
   "outputs": [
    {
     "name": "stdout",
     "output_type": "stream",
     "text": [
      "Resampled dataset shape Counter({0: 798005, 1: 6570})\n"
     ]
    }
   ],
   "source": [
    "iht = InstanceHardnessThreshold(sampling_strategy='majority', random_state=42)\n",
    "all_dataset[\"X_train_res_dataset2\"], all_dataset[\"y_train_res_dataset2\"] = iht.fit_resample(X_train, y_train)\n",
    "print('Resampled dataset shape %s' % Counter(all_dataset[\"y_train_res_dataset2\"]))"
   ]
  },
  {
   "cell_type": "code",
   "execution_count": null,
   "metadata": {},
   "outputs": [],
   "source": [
    "training_testing_function(all_dataset[\"X_train_res_dataset2\"],all_dataset[\"y_train_res_dataset2\"],\"IHT dataset 2\")"
   ]
  },
  {
   "cell_type": "markdown",
   "metadata": {},
   "source": [
    "#### 3. Cluster Centroid"
   ]
  },
  {
   "cell_type": "code",
   "execution_count": 101,
   "metadata": {},
   "outputs": [],
   "source": [
    "from imblearn.under_sampling import ClusterCentroids"
   ]
  },
  {
   "cell_type": "code",
   "execution_count": 360,
   "metadata": {},
   "outputs": [],
   "source": [
    "all_dataset[\"X_cluster_centroids_dataset2\"],all_dataset[\"y_cluster_centroids_dataset2\"]  = ClusterCentroids().fit_resample(X_train,y_train)"
   ]
  },
  {
   "cell_type": "code",
   "execution_count": null,
   "metadata": {},
   "outputs": [],
   "source": [
    "training_testing_function(all_dataset[\"X_cluster_centroids_dataset2\"],all_dataset[\"y_cluster_centroids_dataset2\"],\"Cluster centroids dataset 2\")"
   ]
  },
  {
   "cell_type": "markdown",
   "metadata": {},
   "source": [
    "#### 4. Near Miss"
   ]
  },
  {
   "cell_type": "code",
   "execution_count": 101,
   "metadata": {},
   "outputs": [],
   "source": [
    "from imblearn.under_sampling import NearMiss"
   ]
  },
  {
   "cell_type": "code",
   "execution_count": null,
   "metadata": {},
   "outputs": [],
   "source": [
    "all_dataset['X_near_miss_dataset2'],all_dataset['y_near_miss_dataset2'] = NearMiss().fit_resample(X_train,y_train)\n",
    "training_testing_function(all_dataset['X_near_miss_dataset2'],all_dataset['y_near_miss_dataset2'],\"Near Miss dataset 2\")"
   ]
  },
  {
   "cell_type": "markdown",
   "metadata": {},
   "source": [
    "#### 5. One Sided Selection"
   ]
  },
  {
   "cell_type": "code",
   "execution_count": 103,
   "metadata": {},
   "outputs": [],
   "source": [
    "from imblearn.under_sampling import OneSidedSelection"
   ]
  },
  {
   "cell_type": "code",
   "execution_count": null,
   "metadata": {},
   "outputs": [],
   "source": [
    "all_dataset['X_one_sided_selection_dataset2'],all_dataset['y_one_sided_selection_dataset2'] = OneSidedSelection().fit_resample(X_train,y_train)\n",
    "training_testing_function(all_dataset['X_one_sided_selection_dataset2'],all_dataset['y_one_sided_selection_dataset2'],\"One Sided Selection dataset 2\")"
   ]
  },
  {
   "cell_type": "markdown",
   "metadata": {},
   "source": [
    "#### 6. Tomek Links"
   ]
  },
  {
   "cell_type": "code",
   "execution_count": 105,
   "metadata": {},
   "outputs": [],
   "source": [
    "from imblearn.under_sampling import TomekLinks"
   ]
  },
  {
   "cell_type": "code",
   "execution_count": 106,
   "metadata": {},
   "outputs": [],
   "source": [
    "all_dataset['X_tomek_links_dataset2'],all_dataset['y_tomek_links_dataset2'] = TomekLinks().fit_resample(X_train,y_train)\n"
   ]
  },
  {
   "cell_type": "code",
   "execution_count": null,
   "metadata": {},
   "outputs": [],
   "source": [
    "training_testing_function(all_dataset['X_tomek_links_dataset2'],all_dataset['y_tomek_links_dataset2'],\"Tomek Links dataset 2\")"
   ]
  },
  {
   "cell_type": "markdown",
   "metadata": {},
   "source": [
    "### Oversampling data"
   ]
  },
  {
   "cell_type": "markdown",
   "metadata": {},
   "source": [
    "#### 1. Random Oversampling"
   ]
  },
  {
   "cell_type": "code",
   "execution_count": 108,
   "metadata": {},
   "outputs": [
    {
     "name": "stdout",
     "output_type": "stream",
     "text": [
      "[(0, 800000), (1, 800000)]\n"
     ]
    }
   ],
   "source": [
    "ros = RandomOverSampler(random_state=0)\n",
    "all_dataset[\"X_train_random_oversampled_dataset2\"], all_dataset[\"y_train_random_oversampled_dataset2\"] = ros.fit_resample(X_train, y_train)\n",
    "\n",
    "print(sorted(Counter(all_dataset[\"y_train_random_oversampled_dataset2\"]).items()))"
   ]
  },
  {
   "cell_type": "code",
   "execution_count": null,
   "metadata": {},
   "outputs": [],
   "source": [
    "training_testing_function(all_dataset[\"X_train_random_oversampled_dataset2\"],all_dataset[\"y_train_random_oversampled_dataset2\"],\"Random Oversampled dataset2\")"
   ]
  },
  {
   "cell_type": "markdown",
   "metadata": {},
   "source": [
    "#### 2. SMOTE"
   ]
  },
  {
   "cell_type": "code",
   "execution_count": 110,
   "metadata": {},
   "outputs": [
    {
     "name": "stdout",
     "output_type": "stream",
     "text": [
      "[(0, 800000), (1, 800000)]\n"
     ]
    }
   ],
   "source": [
    "from imblearn.over_sampling import SMOTE, ADASYN\n",
    "all_dataset[\"X_smote_dataset2\"], all_dataset[\"y_smote_dataset2\"] = SMOTE().fit_resample(X_train, y_train)\n",
    "print(sorted(Counter(all_dataset[\"y_smote_dataset2\"]).items()))\n",
    "\n"
   ]
  },
  {
   "cell_type": "code",
   "execution_count": null,
   "metadata": {},
   "outputs": [],
   "source": [
    "training_testing_function(all_dataset['X_smote_dataset2'],all_dataset['y_smote_dataset2'],\"SMOTE dataset2\")"
   ]
  },
  {
   "cell_type": "markdown",
   "metadata": {},
   "source": [
    "#### 3. ADASYN"
   ]
  },
  {
   "cell_type": "code",
   "execution_count": 112,
   "metadata": {},
   "outputs": [
    {
     "name": "stdout",
     "output_type": "stream",
     "text": [
      "[(0, 800000), (1, 800090)]\n"
     ]
    }
   ],
   "source": [
    "all_dataset['X_adasyn_dataset2'],all_dataset['y_adasyn_dataset2'] = ADASYN().fit_resample(X_train, y_train)\n",
    "print(sorted(Counter(all_dataset[\"y_adasyn_dataset2\"]).items()))"
   ]
  },
  {
   "cell_type": "code",
   "execution_count": null,
   "metadata": {},
   "outputs": [],
   "source": [
    "training_testing_function(all_dataset['X_adasyn_dataset2'],all_dataset['y_adasyn_dataset2'],\"ADASYN dataset2\")"
   ]
  },
  {
   "cell_type": "markdown",
   "metadata": {},
   "source": [
    "#### 4. Variations of SMOTE"
   ]
  },
  {
   "cell_type": "code",
   "execution_count": 114,
   "metadata": {},
   "outputs": [],
   "source": [
    "from imblearn.over_sampling import BorderlineSMOTE,SVMSMOTE,KMeansSMOTE"
   ]
  },
  {
   "cell_type": "code",
   "execution_count": null,
   "metadata": {},
   "outputs": [],
   "source": [
    "all_dataset[\"X_borderline_smote_dataset2\"],all_dataset[\"y_borderline_smote_dataset2\"] = BorderlineSMOTE().fit_resample(X_train,y_train)\n",
    "all_dataset[\"X_svm_smote_dataset2\"],all_dataset[\"y_svm_smote_dataset2\"] = SVMSMOTE().fit_resample(X_train,y_train)\n",
    "\n",
    "\n",
    "\n",
    "training_testing_function(all_dataset[\"X_borderline_smote_dataset2\"],all_dataset[\"y_borderline_smote_dataset2\"],\"Borderline SMOTE dataset2\")\n",
    "training_testing_function(all_dataset[\"X_svm_smote_dataset2\"],all_dataset[\"y_svm_smote_dataset2\"],\"SVM SMOTE dataset2\")\n",
    "\n",
    "\n"
   ]
  },
  {
   "cell_type": "markdown",
   "metadata": {},
   "source": [
    "### Combination of Undersampling and Oversampling"
   ]
  },
  {
   "cell_type": "markdown",
   "metadata": {},
   "source": [
    "#### 1. SMOTETomek"
   ]
  },
  {
   "cell_type": "code",
   "execution_count": 116,
   "metadata": {},
   "outputs": [],
   "source": [
    "from imblearn.combine import SMOTETomek"
   ]
  },
  {
   "cell_type": "code",
   "execution_count": null,
   "metadata": {},
   "outputs": [],
   "source": [
    "all_dataset['X_smote_tomek_dataset2'],all_dataset['y_smote_tomek_dataset2'] = SMOTETomek().fit_resample(X_train,y_train)\n",
    "training_testing_function(all_dataset['X_smote_tomek_dataset2'],all_dataset['y_smote_tomek_dataset2'],\"SMOTE Tomek dataset2\")"
   ]
  },
  {
   "cell_type": "code",
   "execution_count": 118,
   "metadata": {},
   "outputs": [
    {
     "data": {
      "text/plain": [
       "[('Borderline SMOTE dataset2 VotingClassifier Random Forest  Selection',\n",
       "  0.9999801629612731,\n",
       "  0.9987812309567338,\n",
       "  0.9987827145465611,\n",
       "  array([[200000,      0],\n",
       "         [     4,   1639]], dtype=int64),\n",
       "  '              precision    recall  f1-score   support\\n\\n           0       1.00      1.00      1.00    200000\\n           1       1.00      1.00      1.00      1643\\n\\n    accuracy                           1.00    201643\\n   macro avg       1.00      1.00      1.00    201643\\nweighted avg       1.00      1.00      1.00    201643\\n'),\n",
       " ('Tomek Links dataset 2 Gradient Boosting Classifier Random Forest  Selection',\n",
       "  0.9999702444419097,\n",
       "  0.9981729598051157,\n",
       "  0.9987777145465611,\n",
       "  array([[199998,      2],\n",
       "         [     4,   1639]], dtype=int64),\n",
       "  '              precision    recall  f1-score   support\\n\\n           0       1.00      1.00      1.00    200000\\n           1       1.00      1.00      1.00      1643\\n\\n    accuracy                           1.00    201643\\n   macro avg       1.00      1.00      1.00    201643\\nweighted avg       1.00      1.00      1.00    201643\\n'),\n",
       " ('Borderline SMOTE dataset2 Gradient Boosting Classifier Random Forest  Selection',\n",
       "  0.9999702444419097,\n",
       "  0.9981729598051157,\n",
       "  0.9987777145465611,\n",
       "  array([[199998,      2],\n",
       "         [     4,   1639]], dtype=int64),\n",
       "  '              precision    recall  f1-score   support\\n\\n           0       1.00      1.00      1.00    200000\\n           1       1.00      1.00      1.00      1643\\n\\n    accuracy                           1.00    201643\\n   macro avg       1.00      1.00      1.00    201643\\nweighted avg       1.00      1.00      1.00    201643\\n')]"
      ]
     },
     "execution_count": 118,
     "metadata": {},
     "output_type": "execute_result"
    }
   ],
   "source": [
    "top_3 = sorted(all_results,key=lambda x: x[2],reverse=True)[:3]\n",
    "top_3"
   ]
  },
  {
   "cell_type": "code",
   "execution_count": 119,
   "metadata": {},
   "outputs": [],
   "source": [
    "name,acc,f1=[],[],[]\n",
    "for a,b,c,d,e,f in all_results:\n",
    "    name.append(a)\n",
    "    acc.append(b)\n",
    "    f1.append(c)\n",
    "\n",
    "cc_result=pd.DataFrame({'name':name,'acc':acc,'f1':f1})\n",
    "cc_result.to_csv(\"dataset2_results.csv\",index=False)\n",
    "    "
   ]
  },
  {
   "cell_type": "markdown",
   "metadata": {},
   "source": [
    "### Confusion matrix of top 3 performers"
   ]
  },
  {
   "cell_type": "markdown",
   "metadata": {},
   "source": [
    "1. Borderline SMOTE dataset2 VotingClassifier Random Forest  Selection"
   ]
  },
  {
   "cell_type": "code",
   "execution_count": 120,
   "metadata": {},
   "outputs": [
    {
     "data": {
      "image/png": "[encoded data removed]",
      "text/plain": [
       "<Figure size 576x432 with 2 Axes>"
      ]
     },
     "metadata": {
      "needs_background": "light"
     },
     "output_type": "display_data"
    }
   ],
   "source": [
    "cf_matrix = top_3[0][4]\n",
    "\n",
    "group_names = ['True Neg','False Pos','False Neg','True Pos']\n",
    "group_counts = [\"{0:0.0f}\".format(value) for value in\n",
    "                cf_matrix.flatten()]\n",
    "\n",
    "labels = [f\"{v1}\\n{v2}\" for v1, v2 in\n",
    "          zip(group_names,group_counts)]\n",
    "labels = np.asarray(labels).reshape(2,2)\n",
    "plt.figure(figsize=(8,6))\n",
    "plt.title(\"Confusion matrix for Borderline SMOTE dataset2 VotingClassifier Random Forest  Selection\")\n",
    "sns.heatmap(cf_matrix, annot=labels, fmt='', cmap='Blues')\n",
    "plt.show();"
   ]
  },
  {
   "cell_type": "markdown",
   "metadata": {},
   "source": [
    "Classification report"
   ]
  },
  {
   "cell_type": "code",
   "execution_count": 121,
   "metadata": {},
   "outputs": [
    {
     "name": "stdout",
     "output_type": "stream",
     "text": [
      "              precision    recall  f1-score   support\n",
      "\n",
      "           0       1.00      1.00      1.00    200000\n",
      "           1       1.00      1.00      1.00      1643\n",
      "\n",
      "    accuracy                           1.00    201643\n",
      "   macro avg       1.00      1.00      1.00    201643\n",
      "weighted avg       1.00      1.00      1.00    201643\n",
      "\n"
     ]
    }
   ],
   "source": [
    "print(top_3[0][5])"
   ]
  },
  {
   "cell_type": "markdown",
   "metadata": {},
   "source": [
    "2. Tomek Links dataset 2 Gradient Boosting Classifier Random Forest  Selection"
   ]
  },
  {
   "cell_type": "code",
   "execution_count": 122,
   "metadata": {},
   "outputs": [
    {
     "data": {
      "image/png": "[encoded data removed]",
      "text/plain": [
       "<Figure size 576x432 with 2 Axes>"
      ]
     },
     "metadata": {
      "needs_background": "light"
     },
     "output_type": "display_data"
    }
   ],
   "source": [
    "cf_matrix = top_3[1][4]\n",
    "\n",
    "group_names = ['True Neg','False Pos','False Neg','True Pos']\n",
    "group_counts = [\"{0:0.0f}\".format(value) for value in\n",
    "                cf_matrix.flatten()]\n",
    "\n",
    "labels = [f\"{v1}\\n{v2}\" for v1, v2 in\n",
    "          zip(group_names,group_counts)]\n",
    "labels = np.asarray(labels).reshape(2,2)\n",
    "plt.figure(figsize=(8,6))\n",
    "plt.title(\"Confusion matrix for Tomek Links dataset 2 Gradient Boosting Classifier Random Forest  Selection\")\n",
    "sns.heatmap(cf_matrix, annot=labels, fmt='', cmap='Blues')\n",
    "plt.show();"
   ]
  },
  {
   "cell_type": "markdown",
   "metadata": {},
   "source": [
    "Classification report"
   ]
  },
  {
   "cell_type": "code",
   "execution_count": 123,
   "metadata": {},
   "outputs": [
    {
     "name": "stdout",
     "output_type": "stream",
     "text": [
      "              precision    recall  f1-score   support\n",
      "\n",
      "           0       1.00      1.00      1.00    200000\n",
      "           1       1.00      1.00      1.00      1643\n",
      "\n",
      "    accuracy                           1.00    201643\n",
      "   macro avg       1.00      1.00      1.00    201643\n",
      "weighted avg       1.00      1.00      1.00    201643\n",
      "\n"
     ]
    }
   ],
   "source": [
    "print(top_3[1][5])"
   ]
  },
  {
   "cell_type": "markdown",
   "metadata": {},
   "source": [
    "3. Borderline SMOTE dataset2 Gradient Boosting Classifier Random Forest  Selection"
   ]
  },
  {
   "cell_type": "code",
   "execution_count": 124,
   "metadata": {},
   "outputs": [
    {
     "data": {
      "image/png": "[encoded data removed]",
      "text/plain": [
       "<Figure size 576x432 with 2 Axes>"
      ]
     },
     "metadata": {
      "needs_background": "light"
     },
     "output_type": "display_data"
    }
   ],
   "source": [
    "cf_matrix = top_3[2][4]\n",
    "\n",
    "group_names = ['True Neg','False Pos','False Neg','True Pos']\n",
    "group_counts = [\"{0:0.0f}\".format(value) for value in\n",
    "                cf_matrix.flatten()]\n",
    "\n",
    "labels = [f\"{v1}\\n{v2}\" for v1, v2 in\n",
    "          zip(group_names,group_counts)]\n",
    "labels = np.asarray(labels).reshape(2,2)\n",
    "plt.figure(figsize=(8,6))\n",
    "plt.title(\"Confusion matrix for Borderline SMOTE dataset2 Gradient Boosting Classifier Random Forest  Selection\")\n",
    "sns.heatmap(cf_matrix, annot=labels, fmt='', cmap='Blues')\n",
    "plt.show();"
   ]
  },
  {
   "cell_type": "markdown",
   "metadata": {},
   "source": [
    "Classification report"
   ]
  },
  {
   "cell_type": "code",
   "execution_count": 125,
   "metadata": {},
   "outputs": [
    {
     "name": "stdout",
     "output_type": "stream",
     "text": [
      "              precision    recall  f1-score   support\n",
      "\n",
      "           0       1.00      1.00      1.00    200000\n",
      "           1       1.00      1.00      1.00      1643\n",
      "\n",
      "    accuracy                           1.00    201643\n",
      "   macro avg       1.00      1.00      1.00    201643\n",
      "weighted avg       1.00      1.00      1.00    201643\n",
      "\n"
     ]
    }
   ],
   "source": [
    "print(top_3[2][5])"
   ]
  },
  {
   "cell_type": "code",
   "execution_count": null,
   "metadata": {},
   "outputs": [],
   "source": []
  }
 ],
 "metadata": {
  "kernelspec": {
   "display_name": "Python 3",
   "language": "python",
   "name": "python3"
  },
  "language_info": {
   "codemirror_mode": {
    "name": "ipython",
    "version": 3
   },
   "file_extension": ".py",
   "mimetype": "text/x-python",
   "name": "python",
   "nbconvert_exporter": "python",
   "pygments_lexer": "ipython3",
   "version": "3.7.3"
  }
 },
 "nbformat": 4,
 "nbformat_minor": 2
}
